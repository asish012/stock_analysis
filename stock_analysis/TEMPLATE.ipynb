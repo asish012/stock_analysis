{
 "cells": [
  {
   "cell_type": "markdown",
   "metadata": {},
   "source": [
    "# Import headers"
   ]
  },
  {
   "cell_type": "code",
   "execution_count": null,
   "metadata": {},
   "outputs": [],
   "source": [
    "import numpy as np\n",
    "import pandas as pd\n",
    "import plotly.express as px\n",
    "import matplotlib as mpl \n",
    "import matplotlib.pyplot as plt\n",
    "import seaborn as sns\n",
    "sns.set(rc={'figure.figsize':(11, 4)})\n",
    "\n",
    "%matplotlib inline"
   ]
  },
  {
   "cell_type": "markdown",
   "metadata": {},
   "source": [
    "# {Inputs}"
   ]
  },
  {
   "cell_type": "code",
   "execution_count": null,
   "metadata": {},
   "outputs": [],
   "source": [
    "ticker = ''\n",
    "\n",
    "eps_ttm             = 0                # {yahoo finance}\n",
    "pred_5y_growth_rate = 0                # {yahoo finance}\n",
    "hist_5y_growth_rate = 0                # {yahoo finance}\n",
    "my_est_growth_rate  = 0                # your own prediction\n",
    "pe_ratio_current    = 0                # {msn money}\n",
    "pe_ratio_5y_high    = 0                # {msn money}\n",
    "pe_ratio_5y_low     = 0                # {msn money}\n",
    "\n",
    "fv_morning_star     = 0                # {morning star}\n",
    "\n",
    "pe_ratio_5y_avg    = (pe_ratio_5y_high + pe_ratio_5y_low) / 2\n",
    "pe_ratio_rule_1    = 2*hist_5y_growth_rate # Rule #1\n",
    "est_pe_ratio       = min(pe_ratio_rule_1, pe_ratio_5y_avg)\n",
    "\n",
    "string_len = 31\n",
    "print('{:{prec}}: {}\\n'.format('Current PE', pe_ratio_current, prec=string_len))\n",
    "\n",
    "print('{:{prec}}: {}'.format('Past 5yrs avg PE', pe_ratio_5y_avg, prec=string_len))\n",
    "print('{:{prec}}: {}'.format('PE from Historical growth rate', pe_ratio_rule_1, prec=string_len))\n",
    "print('{:{prec}}: {} {}\\n'.format('Estimated PE', est_pe_ratio, ' (Used for predicting fair value)', prec=string_len))\n",
    "\n",
    "print('{:{prec}}: {}'.format('Historical growth rate', hist_5y_growth_rate, prec=string_len))\n",
    "print('{:{prec}}: {}'.format('Analysts predicted growth rate', pred_5y_growth_rate, prec=string_len))\n",
    "print('{:{prec}}: {}'.format('Custom predicted growth rate', my_est_growth_rate, prec=string_len))"
   ]
  },
  {
   "cell_type": "markdown",
   "metadata": {},
   "source": [
    "# Estimate future intrinsic value \n",
    "**based on last 5 years avg pe ratio and estimated future eps**"
   ]
  },
  {
   "cell_type": "code",
   "execution_count": null,
   "metadata": {},
   "outputs": [],
   "source": [
    "# estimate future eps (for 10 years) based on current_eps and estimated_growth_rate\n",
    "# future_eps = current_eps + (current_eps * growth_rate)\n",
    "\n",
    "years_to_estimate_eps = 10 - 1 # first year is already known\n",
    "est_eps_list   = [eps_ttm]\n",
    "\n",
    "est_eps                             = eps_ttm\n",
    "est_eps_my_growth_rate              = eps_ttm\n",
    "est_eps_analysts_growth_rate        = eps_ttm\n",
    "\n",
    "est_value_list                      = [eps_ttm * est_pe_ratio]\n",
    "est_value_my_growth_rate_list       = [eps_ttm * est_pe_ratio]\n",
    "est_value_analysts_growth_rate_list = [eps_ttm * est_pe_ratio]\n",
    "\n",
    "for i in range(years_to_estimate_eps):\n",
    "    est_eps = est_eps + (est_eps * hist_5y_growth_rate/100)\n",
    "    est_eps_list.append(round(est_eps, 2))\n",
    "    est_value_list.append(round(est_eps * est_pe_ratio, 2))\n",
    "    \n",
    "    est_eps_my_growth_rate = est_eps_my_growth_rate + (est_eps_my_growth_rate * my_est_growth_rate/100)\n",
    "    est_value_my_growth_rate_list.append(round(est_eps_my_growth_rate * est_pe_ratio, 2))\n",
    "\n",
    "    est_eps_analysts_growth_rate = est_eps_analysts_growth_rate + (est_eps_analysts_growth_rate * pred_5y_growth_rate/100)\n",
    "    est_value_analysts_growth_rate_list.append(round(est_eps_analysts_growth_rate * est_pe_ratio, 2))\n",
    "\n",
    "est_eps_series = pd.Series(est_eps_list, name='Est EPS', index=range(1,11))\n",
    "est_value_series = pd.Series(est_value_list, name='Est Fair Value', index=range(1,11))\n",
    "est_value_my_growth_rate_series = pd.Series(est_value_my_growth_rate_list, name='Est Fair Value (My Growth Rate)', index=range(1,11))\n",
    "\n",
    "estimated_price_df = pd.DataFrame([est_eps_series, est_value_series, est_value_my_growth_rate_series]).T\n",
    "# estimated_price_df"
   ]
  },
  {
   "cell_type": "markdown",
   "metadata": {},
   "source": [
    "# Read fundamentals"
   ]
  },
  {
   "cell_type": "code",
   "execution_count": null,
   "metadata": {},
   "outputs": [],
   "source": [
    "df = pd.read_csv('data/{}.csv'.format(ticker), sep='|', parse_dates=True, index_col=0, header=None).T\n",
    "df['Year'] = pd.to_datetime(df['Year'].astype('int32'), format='%Y', yearfirst=False)\n",
    "df.set_index('Year', inplace=True)\n",
    "\n",
    "df.head()"
   ]
  },
  {
   "cell_type": "markdown",
   "metadata": {},
   "source": [
    "# Inspect the datatypes"
   ]
  },
  {
   "cell_type": "code",
   "execution_count": null,
   "metadata": {},
   "outputs": [],
   "source": [
    "# df.dtypes"
   ]
  },
  {
   "cell_type": "markdown",
   "metadata": {},
   "source": [
    "# Draw charts fn()"
   ]
  },
  {
   "cell_type": "code",
   "execution_count": null,
   "metadata": {},
   "outputs": [],
   "source": [
    "def draw_chart(data, columns, title, mark_green_zone=(False, 15), draw_mean=False):\n",
    "    fig, ax = plt.subplots(1,1, figsize=(16,8))\n",
    "    ax.set_title(title)\n",
    "    fig.tight_layout()\n",
    "    \n",
    "    for c in columns:\n",
    "        plt.plot(data[c], marker='o', linestyle='-', label=c)\n",
    "\n",
    "    if mark_green_zone[0]:\n",
    "        ax.axhspan(ymin=0, ymax=mark_green_zone[1], color='green', fill=True, alpha=.1)\n",
    "        \n",
    "    if draw_mean:\n",
    "        plt.plot(df[columns].mean(1), marker=',', linestyle='--', label='Average Growth', color='gray')\n",
    "\n",
    "    ax.legend()\n",
    "    plt.show()"
   ]
  },
  {
   "cell_type": "markdown",
   "metadata": {},
   "source": [
    "# Fundamentals"
   ]
  },
  {
   "cell_type": "code",
   "execution_count": null,
   "metadata": {
    "scrolled": false
   },
   "outputs": [],
   "source": [
    "columns = ['Revenue Growth',\n",
    "           'EPS Growth',\n",
    "           'Free Cash Flow Growth',\n",
    "           'Equity Growth']\n",
    "\n",
    "# print('All 4 growth rates should be >15%')\n",
    "\n",
    "print(df[columns])\n",
    "\n",
    "draw_chart(df, columns, title='Growth Year over Year %', mark_green_zone=(True, 15), draw_mean=True)"
   ]
  },
  {
   "cell_type": "markdown",
   "metadata": {},
   "source": [
    "# Returns"
   ]
  },
  {
   "cell_type": "code",
   "execution_count": null,
   "metadata": {},
   "outputs": [],
   "source": [
    "columns = ['Return on Invested Capital',\n",
    "           'Return on Assets',\n",
    "           'Return on Equity']\n",
    "\n",
    "draw_chart(df, columns, title='Returns', mark_green_zone=(True, 10), draw_mean=True)\n",
    "\n",
    "# ROIC: should be >10%\n",
    "# ROE : should be +ve"
   ]
  },
  {
   "cell_type": "markdown",
   "metadata": {},
   "source": [
    "# PE"
   ]
  },
  {
   "cell_type": "code",
   "execution_count": null,
   "metadata": {},
   "outputs": [],
   "source": [
    "columns = ['Price-to-Earnings']\n",
    "\n",
    "print(df[columns])\n",
    "draw_chart(df, columns, title='PE Ratio', mark_green_zone=(True, 20))\n",
    "\n",
    "# PE ratio: Lower is better. Compare with competators.\n",
    "# EPS     : Should be +ve"
   ]
  },
  {
   "cell_type": "markdown",
   "metadata": {},
   "source": [
    "# Market Cap"
   ]
  },
  {
   "cell_type": "code",
   "execution_count": null,
   "metadata": {},
   "outputs": [],
   "source": [
    "columns = ['Market Capitalization']\n",
    "draw_chart(df, columns, title='Market Cap')"
   ]
  },
  {
   "cell_type": "markdown",
   "metadata": {},
   "source": [
    "# Estimated Fair Value"
   ]
  },
  {
   "cell_type": "code",
   "execution_count": null,
   "metadata": {},
   "outputs": [],
   "source": [
    "columns = ['Est EPS', 'Est Fair Value', 'Est Fair Value (My Growth Rate)']\n",
    "print(estimated_price_df)\n",
    "draw_chart(estimated_price_df, columns, title='Estimated Fair Value')"
   ]
  },
  {
   "cell_type": "code",
   "execution_count": null,
   "metadata": {},
   "outputs": [],
   "source": [
    "columns = ['Revenue Growth',\n",
    "           'EPS Growth',\n",
    "           'Free Cash Flow Growth',\n",
    "           'Equity Growth']\n",
    "df[columns].mean(1)[-1]"
   ]
  },
  {
   "cell_type": "markdown",
   "metadata": {},
   "source": [
    "# Look at some numbers"
   ]
  },
  {
   "cell_type": "code",
   "execution_count": null,
   "metadata": {},
   "outputs": [],
   "source": [
    "# At buying point, current PE should be less than\n",
    "# - historical average PE\n",
    "# - 2x analysts 5y growth rate prediction {yahoo finance}\n",
    "# - 2x historical equity growth rate      {}\n",
    "# - 2x last years average growth rate (revenue, equity, fcf, eps)\n",
    "\n",
    "columns = ['Revenue Growth',\n",
    "           'EPS Growth',\n",
    "           'Free Cash Flow Growth',\n",
    "           'Equity Growth']\n",
    "\n",
    "string_len = 33\n",
    "print('{:{prec}}: {}\\n'.format('Current PE', pe_ratio_current, prec=string_len))\n",
    "\n",
    "print('{:{prec}}: {}'.format('Historical avg PE', pe_ratio_5y_avg, prec=string_len))\n",
    "print('{:{prec}}: {}'.format('Historical Growth Rate', hist_5y_growth_rate, prec=string_len))\n",
    "print('{:{prec}}: {}'.format('Predicted Growth Rate', pred_5y_growth_rate, prec=string_len))\n",
    "print('{:{prec}}: {}'.format('Historical Equity Growth Rate', df['Equity Growth'].mean(), prec=string_len))\n",
    "print('{:{prec}}: {}'.format('Last Years Avg Growth Rate', df[columns].mean(1)[-1], prec=string_len))"
   ]
  },
  {
   "cell_type": "markdown",
   "metadata": {},
   "source": [
    "# Fair Value prediction"
   ]
  },
  {
   "cell_type": "code",
   "execution_count": null,
   "metadata": {},
   "outputs": [],
   "source": [
    "fv_historic_pe = round(eps_ttm * pe_ratio_5y_avg, 2)\n",
    "fv_historic_growth = round(eps_ttm * (2*hist_5y_growth_rate), 2)\n",
    "fv_analysts_prediction = round(eps_ttm * (2*pred_5y_growth_rate), 2)\n",
    "\n",
    "string_len = 47\n",
    "print('{:{prec}}: {}'.format('Fair Value (Morning Star)', fv_morning_star, prec=string_len))\n",
    "print('{:{prec}}: {}'.format('Fair Value (Historic Avg PE (msn))', fv_historic_pe, prec=string_len))\n",
    "print('{:{prec}}: {}'.format('Fair Value (Historic Growth (yahoo))', fv_historic_growth, prec=string_len))\n",
    "print('{:{prec}}: {}'.format('Fair Value (Analysts predicted Growth (yahoo))', fv_analysts_prediction, prec=string_len))"
   ]
  },
  {
   "cell_type": "markdown",
   "metadata": {},
   "source": [
    "# Verdict: Bye bellow {0}"
   ]
  },
  {
   "cell_type": "code",
   "execution_count": null,
   "metadata": {},
   "outputs": [],
   "source": []
  }
 ],
 "metadata": {
  "kernelspec": {
   "display_name": "Python 3",
   "language": "python",
   "name": "python3"
  },
  "language_info": {
   "codemirror_mode": {
    "name": "ipython",
    "version": 3
   },
   "file_extension": ".py",
   "mimetype": "text/x-python",
   "name": "python",
   "nbconvert_exporter": "python",
   "pygments_lexer": "ipython3",
   "version": "3.6.5"
  }
 },
 "nbformat": 4,
 "nbformat_minor": 2
}
