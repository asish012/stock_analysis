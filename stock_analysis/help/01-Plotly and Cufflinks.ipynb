{
 "cells": [
  {
   "cell_type": "markdown",
   "metadata": {},
   "source": [
    "___\n",
    "\n",
    "<a href='http://www.pieriandata.com'> <img src='../Pierian_Data_Logo.png' /></a>\n",
    "___\n",
    "# Plotly and Cufflinks"
   ]
  },
  {
   "cell_type": "markdown",
   "metadata": {},
   "source": [
    "Plotly is a library that allows you to create interactive plots that you can use in dashboards or websites (you can save them as html files or static images).\n",
    "\n",
    "## Installation\n",
    "\n",
    "In order for this all to work, you'll need to install plotly and cufflinks to call plots directly off of a pandas dataframe. These libraries are not currently available through **conda** but are available through **pip**. Install the libraries at your command line/terminal using:\n",
    "\n",
    "    pip install plotly\n",
    "    pip install cufflinks\n",
    "\n",
    "** NOTE: Make sure you only have one installation of Python on your computer when you do this, otherwise the installation may not work. **\n",
    "\n",
    "## Imports and Set-up"
   ]
  },
  {
   "cell_type": "code",
   "execution_count": 1,
   "metadata": {},
   "outputs": [],
   "source": [
    "import pandas as pd\n",
    "import numpy as np\n",
    "%matplotlib inline"
   ]
  },
  {
   "cell_type": "code",
   "execution_count": 2,
   "metadata": {},
   "outputs": [
    {
     "name": "stdout",
     "output_type": "stream",
     "text": [
      "4.4.1\n"
     ]
    }
   ],
   "source": [
    "from plotly import __version__\n",
    "from plotly.offline import download_plotlyjs, init_notebook_mode, plot, iplot\n",
    "\n",
    "print(__version__) # requires version >= 1.9.0"
   ]
  },
  {
   "cell_type": "code",
   "execution_count": 3,
   "metadata": {},
   "outputs": [],
   "source": [
    "import cufflinks as cf"
   ]
  },
  {
   "cell_type": "code",
   "execution_count": 4,
   "metadata": {},
   "outputs": [
    {
     "data": {
      "text/html": [
       "        <script type=\"text/javascript\">\n",
       "        window.PlotlyConfig = {MathJaxConfig: 'local'};\n",
       "        if (window.MathJax) {MathJax.Hub.Config({SVG: {font: \"STIX-Web\"}});}\n",
       "        if (typeof require !== 'undefined') {\n",
       "        require.undef(\"plotly\");\n",
       "        requirejs.config({\n",
       "            paths: {\n",
       "                'plotly': ['https://cdn.plot.ly/plotly-latest.min']\n",
       "            }\n",
       "        });\n",
       "        require(['plotly'], function(Plotly) {\n",
       "            window._Plotly = Plotly;\n",
       "        });\n",
       "        }\n",
       "        </script>\n",
       "        "
      ]
     },
     "metadata": {},
     "output_type": "display_data"
    }
   ],
   "source": [
    "# For Notebooks\n",
    "init_notebook_mode(connected=True)"
   ]
  },
  {
   "cell_type": "code",
   "execution_count": 5,
   "metadata": {},
   "outputs": [
    {
     "data": {
      "text/html": [
       "        <script type=\"text/javascript\">\n",
       "        window.PlotlyConfig = {MathJaxConfig: 'local'};\n",
       "        if (window.MathJax) {MathJax.Hub.Config({SVG: {font: \"STIX-Web\"}});}\n",
       "        if (typeof require !== 'undefined') {\n",
       "        require.undef(\"plotly\");\n",
       "        requirejs.config({\n",
       "            paths: {\n",
       "                'plotly': ['https://cdn.plot.ly/plotly-latest.min']\n",
       "            }\n",
       "        });\n",
       "        require(['plotly'], function(Plotly) {\n",
       "            window._Plotly = Plotly;\n",
       "        });\n",
       "        }\n",
       "        </script>\n",
       "        "
      ]
     },
     "metadata": {},
     "output_type": "display_data"
    }
   ],
   "source": [
    "# For offline use\n",
    "cf.go_offline()"
   ]
  },
  {
   "cell_type": "markdown",
   "metadata": {},
   "source": [
    "### Fake Data"
   ]
  },
  {
   "cell_type": "code",
   "execution_count": 6,
   "metadata": {},
   "outputs": [],
   "source": [
    "df = pd.DataFrame(np.random.randn(100,4),columns='A B C D'.split())"
   ]
  },
  {
   "cell_type": "code",
   "execution_count": 7,
   "metadata": {},
   "outputs": [
    {
     "data": {
      "text/html": [
       "<div>\n",
       "<style scoped>\n",
       "    .dataframe tbody tr th:only-of-type {\n",
       "        vertical-align: middle;\n",
       "    }\n",
       "\n",
       "    .dataframe tbody tr th {\n",
       "        vertical-align: top;\n",
       "    }\n",
       "\n",
       "    .dataframe thead th {\n",
       "        text-align: right;\n",
       "    }\n",
       "</style>\n",
       "<table border=\"1\" class=\"dataframe\">\n",
       "  <thead>\n",
       "    <tr style=\"text-align: right;\">\n",
       "      <th></th>\n",
       "      <th>A</th>\n",
       "      <th>B</th>\n",
       "      <th>C</th>\n",
       "      <th>D</th>\n",
       "    </tr>\n",
       "  </thead>\n",
       "  <tbody>\n",
       "    <tr>\n",
       "      <th>0</th>\n",
       "      <td>0.636508</td>\n",
       "      <td>-1.699160</td>\n",
       "      <td>1.901838</td>\n",
       "      <td>-0.975037</td>\n",
       "    </tr>\n",
       "    <tr>\n",
       "      <th>1</th>\n",
       "      <td>-0.473760</td>\n",
       "      <td>0.101952</td>\n",
       "      <td>0.066189</td>\n",
       "      <td>0.445645</td>\n",
       "    </tr>\n",
       "    <tr>\n",
       "      <th>2</th>\n",
       "      <td>-0.493194</td>\n",
       "      <td>-0.715193</td>\n",
       "      <td>-0.690792</td>\n",
       "      <td>-0.046902</td>\n",
       "    </tr>\n",
       "    <tr>\n",
       "      <th>3</th>\n",
       "      <td>-1.002163</td>\n",
       "      <td>-0.057582</td>\n",
       "      <td>-0.678702</td>\n",
       "      <td>-0.467017</td>\n",
       "    </tr>\n",
       "    <tr>\n",
       "      <th>4</th>\n",
       "      <td>-1.390695</td>\n",
       "      <td>-0.739884</td>\n",
       "      <td>1.662624</td>\n",
       "      <td>-0.177194</td>\n",
       "    </tr>\n",
       "  </tbody>\n",
       "</table>\n",
       "</div>"
      ],
      "text/plain": [
       "          A         B         C         D\n",
       "0  0.636508 -1.699160  1.901838 -0.975037\n",
       "1 -0.473760  0.101952  0.066189  0.445645\n",
       "2 -0.493194 -0.715193 -0.690792 -0.046902\n",
       "3 -1.002163 -0.057582 -0.678702 -0.467017\n",
       "4 -1.390695 -0.739884  1.662624 -0.177194"
      ]
     },
     "execution_count": 7,
     "metadata": {},
     "output_type": "execute_result"
    }
   ],
   "source": [
    "df.head()"
   ]
  },
  {
   "cell_type": "code",
   "execution_count": 8,
   "metadata": {},
   "outputs": [],
   "source": [
    "df2 = pd.DataFrame({'Category':['A','B','C'],'Values':[32,43,50]})"
   ]
  },
  {
   "cell_type": "code",
   "execution_count": 9,
   "metadata": {},
   "outputs": [
    {
     "data": {
      "text/html": [
       "<div>\n",
       "<style scoped>\n",
       "    .dataframe tbody tr th:only-of-type {\n",
       "        vertical-align: middle;\n",
       "    }\n",
       "\n",
       "    .dataframe tbody tr th {\n",
       "        vertical-align: top;\n",
       "    }\n",
       "\n",
       "    .dataframe thead th {\n",
       "        text-align: right;\n",
       "    }\n",
       "</style>\n",
       "<table border=\"1\" class=\"dataframe\">\n",
       "  <thead>\n",
       "    <tr style=\"text-align: right;\">\n",
       "      <th></th>\n",
       "      <th>Category</th>\n",
       "      <th>Values</th>\n",
       "    </tr>\n",
       "  </thead>\n",
       "  <tbody>\n",
       "    <tr>\n",
       "      <th>0</th>\n",
       "      <td>A</td>\n",
       "      <td>32</td>\n",
       "    </tr>\n",
       "    <tr>\n",
       "      <th>1</th>\n",
       "      <td>B</td>\n",
       "      <td>43</td>\n",
       "    </tr>\n",
       "    <tr>\n",
       "      <th>2</th>\n",
       "      <td>C</td>\n",
       "      <td>50</td>\n",
       "    </tr>\n",
       "  </tbody>\n",
       "</table>\n",
       "</div>"
      ],
      "text/plain": [
       "  Category  Values\n",
       "0        A      32\n",
       "1        B      43\n",
       "2        C      50"
      ]
     },
     "execution_count": 9,
     "metadata": {},
     "output_type": "execute_result"
    }
   ],
   "source": [
    "df2.head()"
   ]
  },
  {
   "cell_type": "markdown",
   "metadata": {},
   "source": [
    "## Using Cufflinks and iplot()\n",
    "\n",
    "* scatter\n",
    "* bar\n",
    "* box\n",
    "* spread\n",
    "* ratio\n",
    "* heatmap\n",
    "* surface\n",
    "* histogram\n",
    "* bubble"
   ]
  },
  {
   "cell_type": "markdown",
   "metadata": {},
   "source": [
    "## Scatter"
   ]
  },
  {
   "cell_type": "code",
   "execution_count": 10,
   "metadata": {},
   "outputs": [
    {
     "data": {
      "application/vnd.plotly.v1+json": {
       "config": {
        "linkText": "Export to plot.ly",
        "plotlyServerURL": "https://plot.ly",
        "showLink": true
       },
       "data": [
        {
         "line": {
          "color": "rgba(255, 153, 51, 1.0)",
          "dash": "solid",
          "shape": "linear",
          "width": 1.3
         },
         "marker": {
          "size": 10,
          "symbol": "circle"
         },
         "mode": "markers",
         "name": "B",
         "text": "",
         "type": "scatter",
         "x": [
          0.6365076909941588,
          -0.4737602015567025,
          -0.4931937653649986,
          -1.002162685929863,
          -1.390694581240618,
          0.2624767228460955,
          0.06342727286886606,
          0.34217472462690585,
          2.961132768508034,
          -0.8620975059326305,
          0.4553717205546613,
          1.267344265809088,
          0.5574464676557171,
          1.7650668089058499,
          -0.6602427071795416,
          0.2578219133046646,
          -0.17263289964841197,
          -0.11238959064405796,
          0.8695860480867245,
          0.40840660774229726,
          -1.0684251725049163,
          -0.9785793326058884,
          0.5931279441105388,
          -0.5737552603070895,
          0.9117283650804772,
          0.6474425728966579,
          -0.5038442677636253,
          -1.1008455274698403,
          0.6251097854408026,
          0.9860855829234931,
          -0.3519782030631685,
          0.2043298737212113,
          -0.6511487116247198,
          -0.47613929479990535,
          -1.1726127112294482,
          1.5612251685295533,
          0.4022976345568017,
          1.1566765718193304,
          0.031117966223119534,
          -0.865882402029834,
          -0.5233903441757728,
          -1.0054595647259312,
          -0.11632633713897635,
          -0.5384467568825115,
          0.4677278114296954,
          0.5387522859610423,
          0.5311214184901931,
          0.8542591407697975,
          -0.9803545984510883,
          1.3106925029212348,
          -0.19232021685687745,
          -0.14569136160329985,
          -0.7146824851366995,
          -0.4786817591587508,
          0.7235332743737379,
          -0.41712017043221844,
          -1.6019352807092222,
          -0.9343856342604369,
          0.7247039771128864,
          0.7123562356757894,
          0.7120993540271149,
          -0.5936962306733344,
          -1.0826130603973108,
          0.5248478277685283,
          -0.26026561529029024,
          1.9453734300618395,
          1.5188109407529324,
          0.14475730152800026,
          -1.6548732265850479,
          0.6418646400314986,
          -0.7004102844625567,
          0.7719183108008424,
          2.108988390018506,
          0.12790582165533965,
          -0.2526413569711868,
          -1.6127100179913447,
          -0.5658126567820971,
          -0.5211460165079267,
          -0.013759130888993939,
          -0.950487694184885,
          1.4552606561594668,
          0.5982889285689689,
          -0.1538747388728679,
          0.5353219782660327,
          -1.072228923525188,
          0.6752160523044004,
          0.24625540085408443,
          0.6505484803196946,
          0.4229194966060065,
          -1.0724186747068731,
          -0.16874383355845157,
          -0.0940723852561799,
          0.37650510210813215,
          0.767056661576872,
          -0.4656164665448851,
          -1.9626738276966944,
          1.0248645009802317,
          1.379185464478099,
          -0.4591747868219548,
          -1.447144900286262
         ],
         "y": [
          -1.699160123201898,
          0.10195242313344324,
          -0.715193282859542,
          -0.05758164445290634,
          -0.7398838201640815,
          -0.9753799755866359,
          0.8183654763925532,
          0.1486272764042706,
          0.6221571419621349,
          -0.37471837838608657,
          1.9241212173882782,
          -1.9260174834904287,
          0.32772542746581956,
          -0.09062108554739637,
          -0.6222192316499369,
          0.4104827707197747,
          -1.4767599860217084,
          0.31680009657810904,
          0.5841423976591886,
          -1.3363186893647179,
          -1.481470205733003,
          1.2913557909132023,
          -0.15965674908185673,
          -0.10885642874825817,
          2.0613253401745855,
          0.038873891107819594,
          -1.5572032020558468,
          -0.5267363266605407,
          1.052086043605771,
          0.4837147591298685,
          -1.4485465294093376,
          -1.1363178025139544,
          0.2901075938884033,
          0.012764228316333356,
          0.02544130910202635,
          -0.15285526945192568,
          -0.8437747538133651,
          -1.1579133835179825,
          0.522936718836919,
          -1.4418531014659357,
          0.7713240245097688,
          1.1488990205107918,
          1.1101684578089406,
          -0.4050508092025551,
          -1.6736673382534208,
          -1.5296412988754375,
          -1.1170745972955312,
          0.13781739088902767,
          1.7624413863232378,
          0.015527063547979406,
          0.15625436224519249,
          -0.04377516577352025,
          0.32170087033653894,
          -1.7352479949718995,
          0.18631362955611921,
          -0.7761396929349504,
          0.4184915730119552,
          0.7679017692501251,
          0.3516066556924101,
          2.5166163139814217,
          -0.19150616919534597,
          -0.34422152499462955,
          -1.1932959160998728,
          -1.8523321507164985,
          -0.27312156355546313,
          -0.22788721727855377,
          0.512958656095611,
          0.23772762819035506,
          0.18044282339924814,
          1.1796934451453305,
          -0.5964857390108925,
          -0.27841196090719744,
          -0.8782503319309752,
          0.2736168298650118,
          -0.086012008879998,
          -0.2697772277356776,
          -0.8559941288110947,
          0.7505650594336027,
          0.5084568806815066,
          -0.20824438201256085,
          -0.16081498584325604,
          -1.1191291600558322,
          -1.9035185519084472,
          -1.8106091203457362,
          0.3006649895466276,
          1.3198926705225342,
          -1.5284218485847,
          -1.4851131995836924,
          0.7097055112534987,
          -0.03900819833655198,
          -1.1649509319624074,
          -0.7128547871284446,
          0.7432408339507162,
          0.22267418896844912,
          0.8093301395612484,
          1.1075428522852886,
          -0.8891409413426854,
          0.7674768130934316,
          0.17700574880002642,
          1.2579022924495926
         ]
        }
       ],
       "layout": {
        "legend": {
         "bgcolor": "#F5F6F9",
         "font": {
          "color": "#4D5663"
         }
        },
        "paper_bgcolor": "#F5F6F9",
        "plot_bgcolor": "#F5F6F9",
        "template": {
         "data": {
          "bar": [
           {
            "error_x": {
             "color": "#2a3f5f"
            },
            "error_y": {
             "color": "#2a3f5f"
            },
            "marker": {
             "line": {
              "color": "#E5ECF6",
              "width": 0.5
             }
            },
            "type": "bar"
           }
          ],
          "barpolar": [
           {
            "marker": {
             "line": {
              "color": "#E5ECF6",
              "width": 0.5
             }
            },
            "type": "barpolar"
           }
          ],
          "carpet": [
           {
            "aaxis": {
             "endlinecolor": "#2a3f5f",
             "gridcolor": "white",
             "linecolor": "white",
             "minorgridcolor": "white",
             "startlinecolor": "#2a3f5f"
            },
            "baxis": {
             "endlinecolor": "#2a3f5f",
             "gridcolor": "white",
             "linecolor": "white",
             "minorgridcolor": "white",
             "startlinecolor": "#2a3f5f"
            },
            "type": "carpet"
           }
          ],
          "choropleth": [
           {
            "colorbar": {
             "outlinewidth": 0,
             "ticks": ""
            },
            "type": "choropleth"
           }
          ],
          "contour": [
           {
            "colorbar": {
             "outlinewidth": 0,
             "ticks": ""
            },
            "colorscale": [
             [
              0,
              "#0d0887"
             ],
             [
              0.1111111111111111,
              "#46039f"
             ],
             [
              0.2222222222222222,
              "#7201a8"
             ],
             [
              0.3333333333333333,
              "#9c179e"
             ],
             [
              0.4444444444444444,
              "#bd3786"
             ],
             [
              0.5555555555555556,
              "#d8576b"
             ],
             [
              0.6666666666666666,
              "#ed7953"
             ],
             [
              0.7777777777777778,
              "#fb9f3a"
             ],
             [
              0.8888888888888888,
              "#fdca26"
             ],
             [
              1,
              "#f0f921"
             ]
            ],
            "type": "contour"
           }
          ],
          "contourcarpet": [
           {
            "colorbar": {
             "outlinewidth": 0,
             "ticks": ""
            },
            "type": "contourcarpet"
           }
          ],
          "heatmap": [
           {
            "colorbar": {
             "outlinewidth": 0,
             "ticks": ""
            },
            "colorscale": [
             [
              0,
              "#0d0887"
             ],
             [
              0.1111111111111111,
              "#46039f"
             ],
             [
              0.2222222222222222,
              "#7201a8"
             ],
             [
              0.3333333333333333,
              "#9c179e"
             ],
             [
              0.4444444444444444,
              "#bd3786"
             ],
             [
              0.5555555555555556,
              "#d8576b"
             ],
             [
              0.6666666666666666,
              "#ed7953"
             ],
             [
              0.7777777777777778,
              "#fb9f3a"
             ],
             [
              0.8888888888888888,
              "#fdca26"
             ],
             [
              1,
              "#f0f921"
             ]
            ],
            "type": "heatmap"
           }
          ],
          "heatmapgl": [
           {
            "colorbar": {
             "outlinewidth": 0,
             "ticks": ""
            },
            "colorscale": [
             [
              0,
              "#0d0887"
             ],
             [
              0.1111111111111111,
              "#46039f"
             ],
             [
              0.2222222222222222,
              "#7201a8"
             ],
             [
              0.3333333333333333,
              "#9c179e"
             ],
             [
              0.4444444444444444,
              "#bd3786"
             ],
             [
              0.5555555555555556,
              "#d8576b"
             ],
             [
              0.6666666666666666,
              "#ed7953"
             ],
             [
              0.7777777777777778,
              "#fb9f3a"
             ],
             [
              0.8888888888888888,
              "#fdca26"
             ],
             [
              1,
              "#f0f921"
             ]
            ],
            "type": "heatmapgl"
           }
          ],
          "histogram": [
           {
            "marker": {
             "colorbar": {
              "outlinewidth": 0,
              "ticks": ""
             }
            },
            "type": "histogram"
           }
          ],
          "histogram2d": [
           {
            "colorbar": {
             "outlinewidth": 0,
             "ticks": ""
            },
            "colorscale": [
             [
              0,
              "#0d0887"
             ],
             [
              0.1111111111111111,
              "#46039f"
             ],
             [
              0.2222222222222222,
              "#7201a8"
             ],
             [
              0.3333333333333333,
              "#9c179e"
             ],
             [
              0.4444444444444444,
              "#bd3786"
             ],
             [
              0.5555555555555556,
              "#d8576b"
             ],
             [
              0.6666666666666666,
              "#ed7953"
             ],
             [
              0.7777777777777778,
              "#fb9f3a"
             ],
             [
              0.8888888888888888,
              "#fdca26"
             ],
             [
              1,
              "#f0f921"
             ]
            ],
            "type": "histogram2d"
           }
          ],
          "histogram2dcontour": [
           {
            "colorbar": {
             "outlinewidth": 0,
             "ticks": ""
            },
            "colorscale": [
             [
              0,
              "#0d0887"
             ],
             [
              0.1111111111111111,
              "#46039f"
             ],
             [
              0.2222222222222222,
              "#7201a8"
             ],
             [
              0.3333333333333333,
              "#9c179e"
             ],
             [
              0.4444444444444444,
              "#bd3786"
             ],
             [
              0.5555555555555556,
              "#d8576b"
             ],
             [
              0.6666666666666666,
              "#ed7953"
             ],
             [
              0.7777777777777778,
              "#fb9f3a"
             ],
             [
              0.8888888888888888,
              "#fdca26"
             ],
             [
              1,
              "#f0f921"
             ]
            ],
            "type": "histogram2dcontour"
           }
          ],
          "mesh3d": [
           {
            "colorbar": {
             "outlinewidth": 0,
             "ticks": ""
            },
            "type": "mesh3d"
           }
          ],
          "parcoords": [
           {
            "line": {
             "colorbar": {
              "outlinewidth": 0,
              "ticks": ""
             }
            },
            "type": "parcoords"
           }
          ],
          "pie": [
           {
            "automargin": true,
            "type": "pie"
           }
          ],
          "scatter": [
           {
            "marker": {
             "colorbar": {
              "outlinewidth": 0,
              "ticks": ""
             }
            },
            "type": "scatter"
           }
          ],
          "scatter3d": [
           {
            "line": {
             "colorbar": {
              "outlinewidth": 0,
              "ticks": ""
             }
            },
            "marker": {
             "colorbar": {
              "outlinewidth": 0,
              "ticks": ""
             }
            },
            "type": "scatter3d"
           }
          ],
          "scattercarpet": [
           {
            "marker": {
             "colorbar": {
              "outlinewidth": 0,
              "ticks": ""
             }
            },
            "type": "scattercarpet"
           }
          ],
          "scattergeo": [
           {
            "marker": {
             "colorbar": {
              "outlinewidth": 0,
              "ticks": ""
             }
            },
            "type": "scattergeo"
           }
          ],
          "scattergl": [
           {
            "marker": {
             "colorbar": {
              "outlinewidth": 0,
              "ticks": ""
             }
            },
            "type": "scattergl"
           }
          ],
          "scattermapbox": [
           {
            "marker": {
             "colorbar": {
              "outlinewidth": 0,
              "ticks": ""
             }
            },
            "type": "scattermapbox"
           }
          ],
          "scatterpolar": [
           {
            "marker": {
             "colorbar": {
              "outlinewidth": 0,
              "ticks": ""
             }
            },
            "type": "scatterpolar"
           }
          ],
          "scatterpolargl": [
           {
            "marker": {
             "colorbar": {
              "outlinewidth": 0,
              "ticks": ""
             }
            },
            "type": "scatterpolargl"
           }
          ],
          "scatterternary": [
           {
            "marker": {
             "colorbar": {
              "outlinewidth": 0,
              "ticks": ""
             }
            },
            "type": "scatterternary"
           }
          ],
          "surface": [
           {
            "colorbar": {
             "outlinewidth": 0,
             "ticks": ""
            },
            "colorscale": [
             [
              0,
              "#0d0887"
             ],
             [
              0.1111111111111111,
              "#46039f"
             ],
             [
              0.2222222222222222,
              "#7201a8"
             ],
             [
              0.3333333333333333,
              "#9c179e"
             ],
             [
              0.4444444444444444,
              "#bd3786"
             ],
             [
              0.5555555555555556,
              "#d8576b"
             ],
             [
              0.6666666666666666,
              "#ed7953"
             ],
             [
              0.7777777777777778,
              "#fb9f3a"
             ],
             [
              0.8888888888888888,
              "#fdca26"
             ],
             [
              1,
              "#f0f921"
             ]
            ],
            "type": "surface"
           }
          ],
          "table": [
           {
            "cells": {
             "fill": {
              "color": "#EBF0F8"
             },
             "line": {
              "color": "white"
             }
            },
            "header": {
             "fill": {
              "color": "#C8D4E3"
             },
             "line": {
              "color": "white"
             }
            },
            "type": "table"
           }
          ]
         },
         "layout": {
          "annotationdefaults": {
           "arrowcolor": "#2a3f5f",
           "arrowhead": 0,
           "arrowwidth": 1
          },
          "coloraxis": {
           "colorbar": {
            "outlinewidth": 0,
            "ticks": ""
           }
          },
          "colorscale": {
           "diverging": [
            [
             0,
             "#8e0152"
            ],
            [
             0.1,
             "#c51b7d"
            ],
            [
             0.2,
             "#de77ae"
            ],
            [
             0.3,
             "#f1b6da"
            ],
            [
             0.4,
             "#fde0ef"
            ],
            [
             0.5,
             "#f7f7f7"
            ],
            [
             0.6,
             "#e6f5d0"
            ],
            [
             0.7,
             "#b8e186"
            ],
            [
             0.8,
             "#7fbc41"
            ],
            [
             0.9,
             "#4d9221"
            ],
            [
             1,
             "#276419"
            ]
           ],
           "sequential": [
            [
             0,
             "#0d0887"
            ],
            [
             0.1111111111111111,
             "#46039f"
            ],
            [
             0.2222222222222222,
             "#7201a8"
            ],
            [
             0.3333333333333333,
             "#9c179e"
            ],
            [
             0.4444444444444444,
             "#bd3786"
            ],
            [
             0.5555555555555556,
             "#d8576b"
            ],
            [
             0.6666666666666666,
             "#ed7953"
            ],
            [
             0.7777777777777778,
             "#fb9f3a"
            ],
            [
             0.8888888888888888,
             "#fdca26"
            ],
            [
             1,
             "#f0f921"
            ]
           ],
           "sequentialminus": [
            [
             0,
             "#0d0887"
            ],
            [
             0.1111111111111111,
             "#46039f"
            ],
            [
             0.2222222222222222,
             "#7201a8"
            ],
            [
             0.3333333333333333,
             "#9c179e"
            ],
            [
             0.4444444444444444,
             "#bd3786"
            ],
            [
             0.5555555555555556,
             "#d8576b"
            ],
            [
             0.6666666666666666,
             "#ed7953"
            ],
            [
             0.7777777777777778,
             "#fb9f3a"
            ],
            [
             0.8888888888888888,
             "#fdca26"
            ],
            [
             1,
             "#f0f921"
            ]
           ]
          },
          "colorway": [
           "#636efa",
           "#EF553B",
           "#00cc96",
           "#ab63fa",
           "#FFA15A",
           "#19d3f3",
           "#FF6692",
           "#B6E880",
           "#FF97FF",
           "#FECB52"
          ],
          "font": {
           "color": "#2a3f5f"
          },
          "geo": {
           "bgcolor": "white",
           "lakecolor": "white",
           "landcolor": "#E5ECF6",
           "showlakes": true,
           "showland": true,
           "subunitcolor": "white"
          },
          "hoverlabel": {
           "align": "left"
          },
          "hovermode": "closest",
          "mapbox": {
           "style": "light"
          },
          "paper_bgcolor": "white",
          "plot_bgcolor": "#E5ECF6",
          "polar": {
           "angularaxis": {
            "gridcolor": "white",
            "linecolor": "white",
            "ticks": ""
           },
           "bgcolor": "#E5ECF6",
           "radialaxis": {
            "gridcolor": "white",
            "linecolor": "white",
            "ticks": ""
           }
          },
          "scene": {
           "xaxis": {
            "backgroundcolor": "#E5ECF6",
            "gridcolor": "white",
            "gridwidth": 2,
            "linecolor": "white",
            "showbackground": true,
            "ticks": "",
            "zerolinecolor": "white"
           },
           "yaxis": {
            "backgroundcolor": "#E5ECF6",
            "gridcolor": "white",
            "gridwidth": 2,
            "linecolor": "white",
            "showbackground": true,
            "ticks": "",
            "zerolinecolor": "white"
           },
           "zaxis": {
            "backgroundcolor": "#E5ECF6",
            "gridcolor": "white",
            "gridwidth": 2,
            "linecolor": "white",
            "showbackground": true,
            "ticks": "",
            "zerolinecolor": "white"
           }
          },
          "shapedefaults": {
           "line": {
            "color": "#2a3f5f"
           }
          },
          "ternary": {
           "aaxis": {
            "gridcolor": "white",
            "linecolor": "white",
            "ticks": ""
           },
           "baxis": {
            "gridcolor": "white",
            "linecolor": "white",
            "ticks": ""
           },
           "bgcolor": "#E5ECF6",
           "caxis": {
            "gridcolor": "white",
            "linecolor": "white",
            "ticks": ""
           }
          },
          "title": {
           "x": 0.05
          },
          "xaxis": {
           "automargin": true,
           "gridcolor": "white",
           "linecolor": "white",
           "ticks": "",
           "title": {
            "standoff": 15
           },
           "zerolinecolor": "white",
           "zerolinewidth": 2
          },
          "yaxis": {
           "automargin": true,
           "gridcolor": "white",
           "linecolor": "white",
           "ticks": "",
           "title": {
            "standoff": 15
           },
           "zerolinecolor": "white",
           "zerolinewidth": 2
          }
         }
        },
        "title": {
         "font": {
          "color": "#4D5663"
         }
        },
        "xaxis": {
         "gridcolor": "#E1E5ED",
         "showgrid": true,
         "tickfont": {
          "color": "#4D5663"
         },
         "title": {
          "font": {
           "color": "#4D5663"
          },
          "text": ""
         },
         "zerolinecolor": "#E1E5ED"
        },
        "yaxis": {
         "gridcolor": "#E1E5ED",
         "showgrid": true,
         "tickfont": {
          "color": "#4D5663"
         },
         "title": {
          "font": {
           "color": "#4D5663"
          },
          "text": ""
         },
         "zerolinecolor": "#E1E5ED"
        }
       }
      },
      "text/html": [
       "<div>\n",
       "        \n",
       "        \n",
       "            <div id=\"69e9d99e-f0a5-41ac-bdec-7c548aea875f\" class=\"plotly-graph-div\" style=\"height:525px; width:100%;\"></div>\n",
       "            <script type=\"text/javascript\">\n",
       "                require([\"plotly\"], function(Plotly) {\n",
       "                    window.PLOTLYENV=window.PLOTLYENV || {};\n",
       "                    window.PLOTLYENV.BASE_URL='https://plot.ly';\n",
       "                    \n",
       "                if (document.getElementById(\"69e9d99e-f0a5-41ac-bdec-7c548aea875f\")) {\n",
       "                    Plotly.newPlot(\n",
       "                        '69e9d99e-f0a5-41ac-bdec-7c548aea875f',\n",
       "                        [{\"line\": {\"color\": \"rgba(255, 153, 51, 1.0)\", \"dash\": \"solid\", \"shape\": \"linear\", \"width\": 1.3}, \"marker\": {\"size\": 10, \"symbol\": \"circle\"}, \"mode\": \"markers\", \"name\": \"B\", \"text\": \"\", \"type\": \"scatter\", \"x\": [0.6365076909941588, -0.4737602015567025, -0.4931937653649986, -1.002162685929863, -1.390694581240618, 0.2624767228460955, 0.06342727286886606, 0.34217472462690585, 2.961132768508034, -0.8620975059326305, 0.4553717205546613, 1.267344265809088, 0.5574464676557171, 1.7650668089058499, -0.6602427071795416, 0.2578219133046646, -0.17263289964841197, -0.11238959064405796, 0.8695860480867245, 0.40840660774229726, -1.0684251725049163, -0.9785793326058884, 0.5931279441105388, -0.5737552603070895, 0.9117283650804772, 0.6474425728966579, -0.5038442677636253, -1.1008455274698403, 0.6251097854408026, 0.9860855829234931, -0.3519782030631685, 0.2043298737212113, -0.6511487116247198, -0.47613929479990535, -1.1726127112294482, 1.5612251685295533, 0.4022976345568017, 1.1566765718193304, 0.031117966223119534, -0.865882402029834, -0.5233903441757728, -1.0054595647259312, -0.11632633713897635, -0.5384467568825115, 0.4677278114296954, 0.5387522859610423, 0.5311214184901931, 0.8542591407697975, -0.9803545984510883, 1.3106925029212348, -0.19232021685687745, -0.14569136160329985, -0.7146824851366995, -0.4786817591587508, 0.7235332743737379, -0.41712017043221844, -1.6019352807092222, -0.9343856342604369, 0.7247039771128864, 0.7123562356757894, 0.7120993540271149, -0.5936962306733344, -1.0826130603973108, 0.5248478277685283, -0.26026561529029024, 1.9453734300618395, 1.5188109407529324, 0.14475730152800026, -1.6548732265850479, 0.6418646400314986, -0.7004102844625567, 0.7719183108008424, 2.108988390018506, 0.12790582165533965, -0.2526413569711868, -1.6127100179913447, -0.5658126567820971, -0.5211460165079267, -0.013759130888993939, -0.950487694184885, 1.4552606561594668, 0.5982889285689689, -0.1538747388728679, 0.5353219782660327, -1.072228923525188, 0.6752160523044004, 0.24625540085408443, 0.6505484803196946, 0.4229194966060065, -1.0724186747068731, -0.16874383355845157, -0.0940723852561799, 0.37650510210813215, 0.767056661576872, -0.4656164665448851, -1.9626738276966944, 1.0248645009802317, 1.379185464478099, -0.4591747868219548, -1.447144900286262], \"y\": [-1.699160123201898, 0.10195242313344324, -0.715193282859542, -0.05758164445290634, -0.7398838201640815, -0.9753799755866359, 0.8183654763925532, 0.1486272764042706, 0.6221571419621349, -0.37471837838608657, 1.9241212173882782, -1.9260174834904287, 0.32772542746581956, -0.09062108554739637, -0.6222192316499369, 0.4104827707197747, -1.4767599860217084, 0.31680009657810904, 0.5841423976591886, -1.3363186893647179, -1.481470205733003, 1.2913557909132023, -0.15965674908185673, -0.10885642874825817, 2.0613253401745855, 0.038873891107819594, -1.5572032020558468, -0.5267363266605407, 1.052086043605771, 0.4837147591298685, -1.4485465294093376, -1.1363178025139544, 0.2901075938884033, 0.012764228316333356, 0.02544130910202635, -0.15285526945192568, -0.8437747538133651, -1.1579133835179825, 0.522936718836919, -1.4418531014659357, 0.7713240245097688, 1.1488990205107918, 1.1101684578089406, -0.4050508092025551, -1.6736673382534208, -1.5296412988754375, -1.1170745972955312, 0.13781739088902767, 1.7624413863232378, 0.015527063547979406, 0.15625436224519249, -0.04377516577352025, 0.32170087033653894, -1.7352479949718995, 0.18631362955611921, -0.7761396929349504, 0.4184915730119552, 0.7679017692501251, 0.3516066556924101, 2.5166163139814217, -0.19150616919534597, -0.34422152499462955, -1.1932959160998728, -1.8523321507164985, -0.27312156355546313, -0.22788721727855377, 0.512958656095611, 0.23772762819035506, 0.18044282339924814, 1.1796934451453305, -0.5964857390108925, -0.27841196090719744, -0.8782503319309752, 0.2736168298650118, -0.086012008879998, -0.2697772277356776, -0.8559941288110947, 0.7505650594336027, 0.5084568806815066, -0.20824438201256085, -0.16081498584325604, -1.1191291600558322, -1.9035185519084472, -1.8106091203457362, 0.3006649895466276, 1.3198926705225342, -1.5284218485847, -1.4851131995836924, 0.7097055112534987, -0.03900819833655198, -1.1649509319624074, -0.7128547871284446, 0.7432408339507162, 0.22267418896844912, 0.8093301395612484, 1.1075428522852886, -0.8891409413426854, 0.7674768130934316, 0.17700574880002642, 1.2579022924495926]}],\n",
       "                        {\"legend\": {\"bgcolor\": \"#F5F6F9\", \"font\": {\"color\": \"#4D5663\"}}, \"paper_bgcolor\": \"#F5F6F9\", \"plot_bgcolor\": \"#F5F6F9\", \"template\": {\"data\": {\"bar\": [{\"error_x\": {\"color\": \"#2a3f5f\"}, \"error_y\": {\"color\": \"#2a3f5f\"}, \"marker\": {\"line\": {\"color\": \"#E5ECF6\", \"width\": 0.5}}, \"type\": \"bar\"}], \"barpolar\": [{\"marker\": {\"line\": {\"color\": \"#E5ECF6\", \"width\": 0.5}}, \"type\": \"barpolar\"}], \"carpet\": [{\"aaxis\": {\"endlinecolor\": \"#2a3f5f\", \"gridcolor\": \"white\", \"linecolor\": \"white\", \"minorgridcolor\": \"white\", \"startlinecolor\": \"#2a3f5f\"}, \"baxis\": {\"endlinecolor\": \"#2a3f5f\", \"gridcolor\": \"white\", \"linecolor\": \"white\", \"minorgridcolor\": \"white\", \"startlinecolor\": \"#2a3f5f\"}, \"type\": \"carpet\"}], \"choropleth\": [{\"colorbar\": {\"outlinewidth\": 0, \"ticks\": \"\"}, \"type\": \"choropleth\"}], \"contour\": [{\"colorbar\": {\"outlinewidth\": 0, \"ticks\": \"\"}, \"colorscale\": [[0.0, \"#0d0887\"], [0.1111111111111111, \"#46039f\"], [0.2222222222222222, \"#7201a8\"], [0.3333333333333333, \"#9c179e\"], [0.4444444444444444, \"#bd3786\"], [0.5555555555555556, \"#d8576b\"], [0.6666666666666666, \"#ed7953\"], [0.7777777777777778, \"#fb9f3a\"], [0.8888888888888888, \"#fdca26\"], [1.0, \"#f0f921\"]], \"type\": \"contour\"}], \"contourcarpet\": [{\"colorbar\": {\"outlinewidth\": 0, \"ticks\": \"\"}, \"type\": \"contourcarpet\"}], \"heatmap\": [{\"colorbar\": {\"outlinewidth\": 0, \"ticks\": \"\"}, \"colorscale\": [[0.0, \"#0d0887\"], [0.1111111111111111, \"#46039f\"], [0.2222222222222222, \"#7201a8\"], [0.3333333333333333, \"#9c179e\"], [0.4444444444444444, \"#bd3786\"], [0.5555555555555556, \"#d8576b\"], [0.6666666666666666, \"#ed7953\"], [0.7777777777777778, \"#fb9f3a\"], [0.8888888888888888, \"#fdca26\"], [1.0, \"#f0f921\"]], \"type\": \"heatmap\"}], \"heatmapgl\": [{\"colorbar\": {\"outlinewidth\": 0, \"ticks\": \"\"}, \"colorscale\": [[0.0, \"#0d0887\"], [0.1111111111111111, \"#46039f\"], [0.2222222222222222, \"#7201a8\"], [0.3333333333333333, \"#9c179e\"], [0.4444444444444444, \"#bd3786\"], [0.5555555555555556, \"#d8576b\"], [0.6666666666666666, \"#ed7953\"], [0.7777777777777778, \"#fb9f3a\"], [0.8888888888888888, \"#fdca26\"], [1.0, \"#f0f921\"]], \"type\": \"heatmapgl\"}], \"histogram\": [{\"marker\": {\"colorbar\": {\"outlinewidth\": 0, \"ticks\": \"\"}}, \"type\": \"histogram\"}], \"histogram2d\": [{\"colorbar\": {\"outlinewidth\": 0, \"ticks\": \"\"}, \"colorscale\": [[0.0, \"#0d0887\"], [0.1111111111111111, \"#46039f\"], [0.2222222222222222, \"#7201a8\"], [0.3333333333333333, \"#9c179e\"], [0.4444444444444444, \"#bd3786\"], [0.5555555555555556, \"#d8576b\"], [0.6666666666666666, \"#ed7953\"], [0.7777777777777778, \"#fb9f3a\"], [0.8888888888888888, \"#fdca26\"], [1.0, \"#f0f921\"]], \"type\": \"histogram2d\"}], \"histogram2dcontour\": [{\"colorbar\": {\"outlinewidth\": 0, \"ticks\": \"\"}, \"colorscale\": [[0.0, \"#0d0887\"], [0.1111111111111111, \"#46039f\"], [0.2222222222222222, \"#7201a8\"], [0.3333333333333333, \"#9c179e\"], [0.4444444444444444, \"#bd3786\"], [0.5555555555555556, \"#d8576b\"], [0.6666666666666666, \"#ed7953\"], [0.7777777777777778, \"#fb9f3a\"], [0.8888888888888888, \"#fdca26\"], [1.0, \"#f0f921\"]], \"type\": \"histogram2dcontour\"}], \"mesh3d\": [{\"colorbar\": {\"outlinewidth\": 0, \"ticks\": \"\"}, \"type\": \"mesh3d\"}], \"parcoords\": [{\"line\": {\"colorbar\": {\"outlinewidth\": 0, \"ticks\": \"\"}}, \"type\": \"parcoords\"}], \"pie\": [{\"automargin\": true, \"type\": \"pie\"}], \"scatter\": [{\"marker\": {\"colorbar\": {\"outlinewidth\": 0, \"ticks\": \"\"}}, \"type\": \"scatter\"}], \"scatter3d\": [{\"line\": {\"colorbar\": {\"outlinewidth\": 0, \"ticks\": \"\"}}, \"marker\": {\"colorbar\": {\"outlinewidth\": 0, \"ticks\": \"\"}}, \"type\": \"scatter3d\"}], \"scattercarpet\": [{\"marker\": {\"colorbar\": {\"outlinewidth\": 0, \"ticks\": \"\"}}, \"type\": \"scattercarpet\"}], \"scattergeo\": [{\"marker\": {\"colorbar\": {\"outlinewidth\": 0, \"ticks\": \"\"}}, \"type\": \"scattergeo\"}], \"scattergl\": [{\"marker\": {\"colorbar\": {\"outlinewidth\": 0, \"ticks\": \"\"}}, \"type\": \"scattergl\"}], \"scattermapbox\": [{\"marker\": {\"colorbar\": {\"outlinewidth\": 0, \"ticks\": \"\"}}, \"type\": \"scattermapbox\"}], \"scatterpolar\": [{\"marker\": {\"colorbar\": {\"outlinewidth\": 0, \"ticks\": \"\"}}, \"type\": \"scatterpolar\"}], \"scatterpolargl\": [{\"marker\": {\"colorbar\": {\"outlinewidth\": 0, \"ticks\": \"\"}}, \"type\": \"scatterpolargl\"}], \"scatterternary\": [{\"marker\": {\"colorbar\": {\"outlinewidth\": 0, \"ticks\": \"\"}}, \"type\": \"scatterternary\"}], \"surface\": [{\"colorbar\": {\"outlinewidth\": 0, \"ticks\": \"\"}, \"colorscale\": [[0.0, \"#0d0887\"], [0.1111111111111111, \"#46039f\"], [0.2222222222222222, \"#7201a8\"], [0.3333333333333333, \"#9c179e\"], [0.4444444444444444, \"#bd3786\"], [0.5555555555555556, \"#d8576b\"], [0.6666666666666666, \"#ed7953\"], [0.7777777777777778, \"#fb9f3a\"], [0.8888888888888888, \"#fdca26\"], [1.0, \"#f0f921\"]], \"type\": \"surface\"}], \"table\": [{\"cells\": {\"fill\": {\"color\": \"#EBF0F8\"}, \"line\": {\"color\": \"white\"}}, \"header\": {\"fill\": {\"color\": \"#C8D4E3\"}, \"line\": {\"color\": \"white\"}}, \"type\": \"table\"}]}, \"layout\": {\"annotationdefaults\": {\"arrowcolor\": \"#2a3f5f\", \"arrowhead\": 0, \"arrowwidth\": 1}, \"coloraxis\": {\"colorbar\": {\"outlinewidth\": 0, \"ticks\": \"\"}}, \"colorscale\": {\"diverging\": [[0, \"#8e0152\"], [0.1, \"#c51b7d\"], [0.2, \"#de77ae\"], [0.3, \"#f1b6da\"], [0.4, \"#fde0ef\"], [0.5, \"#f7f7f7\"], [0.6, \"#e6f5d0\"], [0.7, \"#b8e186\"], [0.8, \"#7fbc41\"], [0.9, \"#4d9221\"], [1, \"#276419\"]], \"sequential\": [[0.0, \"#0d0887\"], [0.1111111111111111, \"#46039f\"], [0.2222222222222222, \"#7201a8\"], [0.3333333333333333, \"#9c179e\"], [0.4444444444444444, \"#bd3786\"], [0.5555555555555556, \"#d8576b\"], [0.6666666666666666, \"#ed7953\"], [0.7777777777777778, \"#fb9f3a\"], [0.8888888888888888, \"#fdca26\"], [1.0, \"#f0f921\"]], \"sequentialminus\": [[0.0, \"#0d0887\"], [0.1111111111111111, \"#46039f\"], [0.2222222222222222, \"#7201a8\"], [0.3333333333333333, \"#9c179e\"], [0.4444444444444444, \"#bd3786\"], [0.5555555555555556, \"#d8576b\"], [0.6666666666666666, \"#ed7953\"], [0.7777777777777778, \"#fb9f3a\"], [0.8888888888888888, \"#fdca26\"], [1.0, \"#f0f921\"]]}, \"colorway\": [\"#636efa\", \"#EF553B\", \"#00cc96\", \"#ab63fa\", \"#FFA15A\", \"#19d3f3\", \"#FF6692\", \"#B6E880\", \"#FF97FF\", \"#FECB52\"], \"font\": {\"color\": \"#2a3f5f\"}, \"geo\": {\"bgcolor\": \"white\", \"lakecolor\": \"white\", \"landcolor\": \"#E5ECF6\", \"showlakes\": true, \"showland\": true, \"subunitcolor\": \"white\"}, \"hoverlabel\": {\"align\": \"left\"}, \"hovermode\": \"closest\", \"mapbox\": {\"style\": \"light\"}, \"paper_bgcolor\": \"white\", \"plot_bgcolor\": \"#E5ECF6\", \"polar\": {\"angularaxis\": {\"gridcolor\": \"white\", \"linecolor\": \"white\", \"ticks\": \"\"}, \"bgcolor\": \"#E5ECF6\", \"radialaxis\": {\"gridcolor\": \"white\", \"linecolor\": \"white\", \"ticks\": \"\"}}, \"scene\": {\"xaxis\": {\"backgroundcolor\": \"#E5ECF6\", \"gridcolor\": \"white\", \"gridwidth\": 2, \"linecolor\": \"white\", \"showbackground\": true, \"ticks\": \"\", \"zerolinecolor\": \"white\"}, \"yaxis\": {\"backgroundcolor\": \"#E5ECF6\", \"gridcolor\": \"white\", \"gridwidth\": 2, \"linecolor\": \"white\", \"showbackground\": true, \"ticks\": \"\", \"zerolinecolor\": \"white\"}, \"zaxis\": {\"backgroundcolor\": \"#E5ECF6\", \"gridcolor\": \"white\", \"gridwidth\": 2, \"linecolor\": \"white\", \"showbackground\": true, \"ticks\": \"\", \"zerolinecolor\": \"white\"}}, \"shapedefaults\": {\"line\": {\"color\": \"#2a3f5f\"}}, \"ternary\": {\"aaxis\": {\"gridcolor\": \"white\", \"linecolor\": \"white\", \"ticks\": \"\"}, \"baxis\": {\"gridcolor\": \"white\", \"linecolor\": \"white\", \"ticks\": \"\"}, \"bgcolor\": \"#E5ECF6\", \"caxis\": {\"gridcolor\": \"white\", \"linecolor\": \"white\", \"ticks\": \"\"}}, \"title\": {\"x\": 0.05}, \"xaxis\": {\"automargin\": true, \"gridcolor\": \"white\", \"linecolor\": \"white\", \"ticks\": \"\", \"title\": {\"standoff\": 15}, \"zerolinecolor\": \"white\", \"zerolinewidth\": 2}, \"yaxis\": {\"automargin\": true, \"gridcolor\": \"white\", \"linecolor\": \"white\", \"ticks\": \"\", \"title\": {\"standoff\": 15}, \"zerolinecolor\": \"white\", \"zerolinewidth\": 2}}}, \"title\": {\"font\": {\"color\": \"#4D5663\"}}, \"xaxis\": {\"gridcolor\": \"#E1E5ED\", \"showgrid\": true, \"tickfont\": {\"color\": \"#4D5663\"}, \"title\": {\"font\": {\"color\": \"#4D5663\"}, \"text\": \"\"}, \"zerolinecolor\": \"#E1E5ED\"}, \"yaxis\": {\"gridcolor\": \"#E1E5ED\", \"showgrid\": true, \"tickfont\": {\"color\": \"#4D5663\"}, \"title\": {\"font\": {\"color\": \"#4D5663\"}, \"text\": \"\"}, \"zerolinecolor\": \"#E1E5ED\"}},\n",
       "                        {\"showLink\": true, \"linkText\": \"Export to plot.ly\", \"plotlyServerURL\": \"https://plot.ly\", \"responsive\": true}\n",
       "                    ).then(function(){\n",
       "                            \n",
       "var gd = document.getElementById('69e9d99e-f0a5-41ac-bdec-7c548aea875f');\n",
       "var x = new MutationObserver(function (mutations, observer) {{\n",
       "        var display = window.getComputedStyle(gd).display;\n",
       "        if (!display || display === 'none') {{\n",
       "            console.log([gd, 'removed!']);\n",
       "            Plotly.purge(gd);\n",
       "            observer.disconnect();\n",
       "        }}\n",
       "}});\n",
       "\n",
       "// Listen for the removal of the full notebook cells\n",
       "var notebookContainer = gd.closest('#notebook-container');\n",
       "if (notebookContainer) {{\n",
       "    x.observe(notebookContainer, {childList: true});\n",
       "}}\n",
       "\n",
       "// Listen for the clearing of the current output cell\n",
       "var outputEl = gd.closest('.output');\n",
       "if (outputEl) {{\n",
       "    x.observe(outputEl, {childList: true});\n",
       "}}\n",
       "\n",
       "                        })\n",
       "                };\n",
       "                });\n",
       "            </script>\n",
       "        </div>"
      ]
     },
     "metadata": {},
     "output_type": "display_data"
    }
   ],
   "source": [
    "df.iplot(kind='scatter',x='A',y='B',mode='markers',size=10)"
   ]
  },
  {
   "cell_type": "markdown",
   "metadata": {},
   "source": [
    "## Bar Plots"
   ]
  },
  {
   "cell_type": "code",
   "execution_count": 11,
   "metadata": {},
   "outputs": [
    {
     "data": {
      "application/vnd.plotly.v1+json": {
       "config": {
        "linkText": "Export to plot.ly",
        "plotlyServerURL": "https://plot.ly",
        "showLink": true
       },
       "data": [
        {
         "marker": {
          "color": "rgba(255, 153, 51, 0.6)",
          "line": {
           "color": "rgba(255, 153, 51, 1.0)",
           "width": 1
          }
         },
         "name": "Values",
         "orientation": "v",
         "text": "",
         "type": "bar",
         "x": [
          "A",
          "B",
          "C"
         ],
         "y": [
          32,
          43,
          50
         ]
        }
       ],
       "layout": {
        "legend": {
         "bgcolor": "#F5F6F9",
         "font": {
          "color": "#4D5663"
         }
        },
        "paper_bgcolor": "#F5F6F9",
        "plot_bgcolor": "#F5F6F9",
        "template": {
         "data": {
          "bar": [
           {
            "error_x": {
             "color": "#2a3f5f"
            },
            "error_y": {
             "color": "#2a3f5f"
            },
            "marker": {
             "line": {
              "color": "#E5ECF6",
              "width": 0.5
             }
            },
            "type": "bar"
           }
          ],
          "barpolar": [
           {
            "marker": {
             "line": {
              "color": "#E5ECF6",
              "width": 0.5
             }
            },
            "type": "barpolar"
           }
          ],
          "carpet": [
           {
            "aaxis": {
             "endlinecolor": "#2a3f5f",
             "gridcolor": "white",
             "linecolor": "white",
             "minorgridcolor": "white",
             "startlinecolor": "#2a3f5f"
            },
            "baxis": {
             "endlinecolor": "#2a3f5f",
             "gridcolor": "white",
             "linecolor": "white",
             "minorgridcolor": "white",
             "startlinecolor": "#2a3f5f"
            },
            "type": "carpet"
           }
          ],
          "choropleth": [
           {
            "colorbar": {
             "outlinewidth": 0,
             "ticks": ""
            },
            "type": "choropleth"
           }
          ],
          "contour": [
           {
            "colorbar": {
             "outlinewidth": 0,
             "ticks": ""
            },
            "colorscale": [
             [
              0,
              "#0d0887"
             ],
             [
              0.1111111111111111,
              "#46039f"
             ],
             [
              0.2222222222222222,
              "#7201a8"
             ],
             [
              0.3333333333333333,
              "#9c179e"
             ],
             [
              0.4444444444444444,
              "#bd3786"
             ],
             [
              0.5555555555555556,
              "#d8576b"
             ],
             [
              0.6666666666666666,
              "#ed7953"
             ],
             [
              0.7777777777777778,
              "#fb9f3a"
             ],
             [
              0.8888888888888888,
              "#fdca26"
             ],
             [
              1,
              "#f0f921"
             ]
            ],
            "type": "contour"
           }
          ],
          "contourcarpet": [
           {
            "colorbar": {
             "outlinewidth": 0,
             "ticks": ""
            },
            "type": "contourcarpet"
           }
          ],
          "heatmap": [
           {
            "colorbar": {
             "outlinewidth": 0,
             "ticks": ""
            },
            "colorscale": [
             [
              0,
              "#0d0887"
             ],
             [
              0.1111111111111111,
              "#46039f"
             ],
             [
              0.2222222222222222,
              "#7201a8"
             ],
             [
              0.3333333333333333,
              "#9c179e"
             ],
             [
              0.4444444444444444,
              "#bd3786"
             ],
             [
              0.5555555555555556,
              "#d8576b"
             ],
             [
              0.6666666666666666,
              "#ed7953"
             ],
             [
              0.7777777777777778,
              "#fb9f3a"
             ],
             [
              0.8888888888888888,
              "#fdca26"
             ],
             [
              1,
              "#f0f921"
             ]
            ],
            "type": "heatmap"
           }
          ],
          "heatmapgl": [
           {
            "colorbar": {
             "outlinewidth": 0,
             "ticks": ""
            },
            "colorscale": [
             [
              0,
              "#0d0887"
             ],
             [
              0.1111111111111111,
              "#46039f"
             ],
             [
              0.2222222222222222,
              "#7201a8"
             ],
             [
              0.3333333333333333,
              "#9c179e"
             ],
             [
              0.4444444444444444,
              "#bd3786"
             ],
             [
              0.5555555555555556,
              "#d8576b"
             ],
             [
              0.6666666666666666,
              "#ed7953"
             ],
             [
              0.7777777777777778,
              "#fb9f3a"
             ],
             [
              0.8888888888888888,
              "#fdca26"
             ],
             [
              1,
              "#f0f921"
             ]
            ],
            "type": "heatmapgl"
           }
          ],
          "histogram": [
           {
            "marker": {
             "colorbar": {
              "outlinewidth": 0,
              "ticks": ""
             }
            },
            "type": "histogram"
           }
          ],
          "histogram2d": [
           {
            "colorbar": {
             "outlinewidth": 0,
             "ticks": ""
            },
            "colorscale": [
             [
              0,
              "#0d0887"
             ],
             [
              0.1111111111111111,
              "#46039f"
             ],
             [
              0.2222222222222222,
              "#7201a8"
             ],
             [
              0.3333333333333333,
              "#9c179e"
             ],
             [
              0.4444444444444444,
              "#bd3786"
             ],
             [
              0.5555555555555556,
              "#d8576b"
             ],
             [
              0.6666666666666666,
              "#ed7953"
             ],
             [
              0.7777777777777778,
              "#fb9f3a"
             ],
             [
              0.8888888888888888,
              "#fdca26"
             ],
             [
              1,
              "#f0f921"
             ]
            ],
            "type": "histogram2d"
           }
          ],
          "histogram2dcontour": [
           {
            "colorbar": {
             "outlinewidth": 0,
             "ticks": ""
            },
            "colorscale": [
             [
              0,
              "#0d0887"
             ],
             [
              0.1111111111111111,
              "#46039f"
             ],
             [
              0.2222222222222222,
              "#7201a8"
             ],
             [
              0.3333333333333333,
              "#9c179e"
             ],
             [
              0.4444444444444444,
              "#bd3786"
             ],
             [
              0.5555555555555556,
              "#d8576b"
             ],
             [
              0.6666666666666666,
              "#ed7953"
             ],
             [
              0.7777777777777778,
              "#fb9f3a"
             ],
             [
              0.8888888888888888,
              "#fdca26"
             ],
             [
              1,
              "#f0f921"
             ]
            ],
            "type": "histogram2dcontour"
           }
          ],
          "mesh3d": [
           {
            "colorbar": {
             "outlinewidth": 0,
             "ticks": ""
            },
            "type": "mesh3d"
           }
          ],
          "parcoords": [
           {
            "line": {
             "colorbar": {
              "outlinewidth": 0,
              "ticks": ""
             }
            },
            "type": "parcoords"
           }
          ],
          "pie": [
           {
            "automargin": true,
            "type": "pie"
           }
          ],
          "scatter": [
           {
            "marker": {
             "colorbar": {
              "outlinewidth": 0,
              "ticks": ""
             }
            },
            "type": "scatter"
           }
          ],
          "scatter3d": [
           {
            "line": {
             "colorbar": {
              "outlinewidth": 0,
              "ticks": ""
             }
            },
            "marker": {
             "colorbar": {
              "outlinewidth": 0,
              "ticks": ""
             }
            },
            "type": "scatter3d"
           }
          ],
          "scattercarpet": [
           {
            "marker": {
             "colorbar": {
              "outlinewidth": 0,
              "ticks": ""
             }
            },
            "type": "scattercarpet"
           }
          ],
          "scattergeo": [
           {
            "marker": {
             "colorbar": {
              "outlinewidth": 0,
              "ticks": ""
             }
            },
            "type": "scattergeo"
           }
          ],
          "scattergl": [
           {
            "marker": {
             "colorbar": {
              "outlinewidth": 0,
              "ticks": ""
             }
            },
            "type": "scattergl"
           }
          ],
          "scattermapbox": [
           {
            "marker": {
             "colorbar": {
              "outlinewidth": 0,
              "ticks": ""
             }
            },
            "type": "scattermapbox"
           }
          ],
          "scatterpolar": [
           {
            "marker": {
             "colorbar": {
              "outlinewidth": 0,
              "ticks": ""
             }
            },
            "type": "scatterpolar"
           }
          ],
          "scatterpolargl": [
           {
            "marker": {
             "colorbar": {
              "outlinewidth": 0,
              "ticks": ""
             }
            },
            "type": "scatterpolargl"
           }
          ],
          "scatterternary": [
           {
            "marker": {
             "colorbar": {
              "outlinewidth": 0,
              "ticks": ""
             }
            },
            "type": "scatterternary"
           }
          ],
          "surface": [
           {
            "colorbar": {
             "outlinewidth": 0,
             "ticks": ""
            },
            "colorscale": [
             [
              0,
              "#0d0887"
             ],
             [
              0.1111111111111111,
              "#46039f"
             ],
             [
              0.2222222222222222,
              "#7201a8"
             ],
             [
              0.3333333333333333,
              "#9c179e"
             ],
             [
              0.4444444444444444,
              "#bd3786"
             ],
             [
              0.5555555555555556,
              "#d8576b"
             ],
             [
              0.6666666666666666,
              "#ed7953"
             ],
             [
              0.7777777777777778,
              "#fb9f3a"
             ],
             [
              0.8888888888888888,
              "#fdca26"
             ],
             [
              1,
              "#f0f921"
             ]
            ],
            "type": "surface"
           }
          ],
          "table": [
           {
            "cells": {
             "fill": {
              "color": "#EBF0F8"
             },
             "line": {
              "color": "white"
             }
            },
            "header": {
             "fill": {
              "color": "#C8D4E3"
             },
             "line": {
              "color": "white"
             }
            },
            "type": "table"
           }
          ]
         },
         "layout": {
          "annotationdefaults": {
           "arrowcolor": "#2a3f5f",
           "arrowhead": 0,
           "arrowwidth": 1
          },
          "coloraxis": {
           "colorbar": {
            "outlinewidth": 0,
            "ticks": ""
           }
          },
          "colorscale": {
           "diverging": [
            [
             0,
             "#8e0152"
            ],
            [
             0.1,
             "#c51b7d"
            ],
            [
             0.2,
             "#de77ae"
            ],
            [
             0.3,
             "#f1b6da"
            ],
            [
             0.4,
             "#fde0ef"
            ],
            [
             0.5,
             "#f7f7f7"
            ],
            [
             0.6,
             "#e6f5d0"
            ],
            [
             0.7,
             "#b8e186"
            ],
            [
             0.8,
             "#7fbc41"
            ],
            [
             0.9,
             "#4d9221"
            ],
            [
             1,
             "#276419"
            ]
           ],
           "sequential": [
            [
             0,
             "#0d0887"
            ],
            [
             0.1111111111111111,
             "#46039f"
            ],
            [
             0.2222222222222222,
             "#7201a8"
            ],
            [
             0.3333333333333333,
             "#9c179e"
            ],
            [
             0.4444444444444444,
             "#bd3786"
            ],
            [
             0.5555555555555556,
             "#d8576b"
            ],
            [
             0.6666666666666666,
             "#ed7953"
            ],
            [
             0.7777777777777778,
             "#fb9f3a"
            ],
            [
             0.8888888888888888,
             "#fdca26"
            ],
            [
             1,
             "#f0f921"
            ]
           ],
           "sequentialminus": [
            [
             0,
             "#0d0887"
            ],
            [
             0.1111111111111111,
             "#46039f"
            ],
            [
             0.2222222222222222,
             "#7201a8"
            ],
            [
             0.3333333333333333,
             "#9c179e"
            ],
            [
             0.4444444444444444,
             "#bd3786"
            ],
            [
             0.5555555555555556,
             "#d8576b"
            ],
            [
             0.6666666666666666,
             "#ed7953"
            ],
            [
             0.7777777777777778,
             "#fb9f3a"
            ],
            [
             0.8888888888888888,
             "#fdca26"
            ],
            [
             1,
             "#f0f921"
            ]
           ]
          },
          "colorway": [
           "#636efa",
           "#EF553B",
           "#00cc96",
           "#ab63fa",
           "#FFA15A",
           "#19d3f3",
           "#FF6692",
           "#B6E880",
           "#FF97FF",
           "#FECB52"
          ],
          "font": {
           "color": "#2a3f5f"
          },
          "geo": {
           "bgcolor": "white",
           "lakecolor": "white",
           "landcolor": "#E5ECF6",
           "showlakes": true,
           "showland": true,
           "subunitcolor": "white"
          },
          "hoverlabel": {
           "align": "left"
          },
          "hovermode": "closest",
          "mapbox": {
           "style": "light"
          },
          "paper_bgcolor": "white",
          "plot_bgcolor": "#E5ECF6",
          "polar": {
           "angularaxis": {
            "gridcolor": "white",
            "linecolor": "white",
            "ticks": ""
           },
           "bgcolor": "#E5ECF6",
           "radialaxis": {
            "gridcolor": "white",
            "linecolor": "white",
            "ticks": ""
           }
          },
          "scene": {
           "xaxis": {
            "backgroundcolor": "#E5ECF6",
            "gridcolor": "white",
            "gridwidth": 2,
            "linecolor": "white",
            "showbackground": true,
            "ticks": "",
            "zerolinecolor": "white"
           },
           "yaxis": {
            "backgroundcolor": "#E5ECF6",
            "gridcolor": "white",
            "gridwidth": 2,
            "linecolor": "white",
            "showbackground": true,
            "ticks": "",
            "zerolinecolor": "white"
           },
           "zaxis": {
            "backgroundcolor": "#E5ECF6",
            "gridcolor": "white",
            "gridwidth": 2,
            "linecolor": "white",
            "showbackground": true,
            "ticks": "",
            "zerolinecolor": "white"
           }
          },
          "shapedefaults": {
           "line": {
            "color": "#2a3f5f"
           }
          },
          "ternary": {
           "aaxis": {
            "gridcolor": "white",
            "linecolor": "white",
            "ticks": ""
           },
           "baxis": {
            "gridcolor": "white",
            "linecolor": "white",
            "ticks": ""
           },
           "bgcolor": "#E5ECF6",
           "caxis": {
            "gridcolor": "white",
            "linecolor": "white",
            "ticks": ""
           }
          },
          "title": {
           "x": 0.05
          },
          "xaxis": {
           "automargin": true,
           "gridcolor": "white",
           "linecolor": "white",
           "ticks": "",
           "title": {
            "standoff": 15
           },
           "zerolinecolor": "white",
           "zerolinewidth": 2
          },
          "yaxis": {
           "automargin": true,
           "gridcolor": "white",
           "linecolor": "white",
           "ticks": "",
           "title": {
            "standoff": 15
           },
           "zerolinecolor": "white",
           "zerolinewidth": 2
          }
         }
        },
        "title": {
         "font": {
          "color": "#4D5663"
         }
        },
        "xaxis": {
         "gridcolor": "#E1E5ED",
         "showgrid": true,
         "tickfont": {
          "color": "#4D5663"
         },
         "title": {
          "font": {
           "color": "#4D5663"
          },
          "text": ""
         },
         "zerolinecolor": "#E1E5ED"
        },
        "yaxis": {
         "gridcolor": "#E1E5ED",
         "showgrid": true,
         "tickfont": {
          "color": "#4D5663"
         },
         "title": {
          "font": {
           "color": "#4D5663"
          },
          "text": ""
         },
         "zerolinecolor": "#E1E5ED"
        }
       }
      },
      "text/html": [
       "<div>\n",
       "        \n",
       "        \n",
       "            <div id=\"d269d454-023b-4060-9b47-f49d8bbfb3d4\" class=\"plotly-graph-div\" style=\"height:525px; width:100%;\"></div>\n",
       "            <script type=\"text/javascript\">\n",
       "                require([\"plotly\"], function(Plotly) {\n",
       "                    window.PLOTLYENV=window.PLOTLYENV || {};\n",
       "                    window.PLOTLYENV.BASE_URL='https://plot.ly';\n",
       "                    \n",
       "                if (document.getElementById(\"d269d454-023b-4060-9b47-f49d8bbfb3d4\")) {\n",
       "                    Plotly.newPlot(\n",
       "                        'd269d454-023b-4060-9b47-f49d8bbfb3d4',\n",
       "                        [{\"marker\": {\"color\": \"rgba(255, 153, 51, 0.6)\", \"line\": {\"color\": \"rgba(255, 153, 51, 1.0)\", \"width\": 1}}, \"name\": \"Values\", \"orientation\": \"v\", \"text\": \"\", \"type\": \"bar\", \"x\": [\"A\", \"B\", \"C\"], \"y\": [32, 43, 50]}],\n",
       "                        {\"legend\": {\"bgcolor\": \"#F5F6F9\", \"font\": {\"color\": \"#4D5663\"}}, \"paper_bgcolor\": \"#F5F6F9\", \"plot_bgcolor\": \"#F5F6F9\", \"template\": {\"data\": {\"bar\": [{\"error_x\": {\"color\": \"#2a3f5f\"}, \"error_y\": {\"color\": \"#2a3f5f\"}, \"marker\": {\"line\": {\"color\": \"#E5ECF6\", \"width\": 0.5}}, \"type\": \"bar\"}], \"barpolar\": [{\"marker\": {\"line\": {\"color\": \"#E5ECF6\", \"width\": 0.5}}, \"type\": \"barpolar\"}], \"carpet\": [{\"aaxis\": {\"endlinecolor\": \"#2a3f5f\", \"gridcolor\": \"white\", \"linecolor\": \"white\", \"minorgridcolor\": \"white\", \"startlinecolor\": \"#2a3f5f\"}, \"baxis\": {\"endlinecolor\": \"#2a3f5f\", \"gridcolor\": \"white\", \"linecolor\": \"white\", \"minorgridcolor\": \"white\", \"startlinecolor\": \"#2a3f5f\"}, \"type\": \"carpet\"}], \"choropleth\": [{\"colorbar\": {\"outlinewidth\": 0, \"ticks\": \"\"}, \"type\": \"choropleth\"}], \"contour\": [{\"colorbar\": {\"outlinewidth\": 0, \"ticks\": \"\"}, \"colorscale\": [[0.0, \"#0d0887\"], [0.1111111111111111, \"#46039f\"], [0.2222222222222222, \"#7201a8\"], [0.3333333333333333, \"#9c179e\"], [0.4444444444444444, \"#bd3786\"], [0.5555555555555556, \"#d8576b\"], [0.6666666666666666, \"#ed7953\"], [0.7777777777777778, \"#fb9f3a\"], [0.8888888888888888, \"#fdca26\"], [1.0, \"#f0f921\"]], \"type\": \"contour\"}], \"contourcarpet\": [{\"colorbar\": {\"outlinewidth\": 0, \"ticks\": \"\"}, \"type\": \"contourcarpet\"}], \"heatmap\": [{\"colorbar\": {\"outlinewidth\": 0, \"ticks\": \"\"}, \"colorscale\": [[0.0, \"#0d0887\"], [0.1111111111111111, \"#46039f\"], [0.2222222222222222, \"#7201a8\"], [0.3333333333333333, \"#9c179e\"], [0.4444444444444444, \"#bd3786\"], [0.5555555555555556, \"#d8576b\"], [0.6666666666666666, \"#ed7953\"], [0.7777777777777778, \"#fb9f3a\"], [0.8888888888888888, \"#fdca26\"], [1.0, \"#f0f921\"]], \"type\": \"heatmap\"}], \"heatmapgl\": [{\"colorbar\": {\"outlinewidth\": 0, \"ticks\": \"\"}, \"colorscale\": [[0.0, \"#0d0887\"], [0.1111111111111111, \"#46039f\"], [0.2222222222222222, \"#7201a8\"], [0.3333333333333333, \"#9c179e\"], [0.4444444444444444, \"#bd3786\"], [0.5555555555555556, \"#d8576b\"], [0.6666666666666666, \"#ed7953\"], [0.7777777777777778, \"#fb9f3a\"], [0.8888888888888888, \"#fdca26\"], [1.0, \"#f0f921\"]], \"type\": \"heatmapgl\"}], \"histogram\": [{\"marker\": {\"colorbar\": {\"outlinewidth\": 0, \"ticks\": \"\"}}, \"type\": \"histogram\"}], \"histogram2d\": [{\"colorbar\": {\"outlinewidth\": 0, \"ticks\": \"\"}, \"colorscale\": [[0.0, \"#0d0887\"], [0.1111111111111111, \"#46039f\"], [0.2222222222222222, \"#7201a8\"], [0.3333333333333333, \"#9c179e\"], [0.4444444444444444, \"#bd3786\"], [0.5555555555555556, \"#d8576b\"], [0.6666666666666666, \"#ed7953\"], [0.7777777777777778, \"#fb9f3a\"], [0.8888888888888888, \"#fdca26\"], [1.0, \"#f0f921\"]], \"type\": \"histogram2d\"}], \"histogram2dcontour\": [{\"colorbar\": {\"outlinewidth\": 0, \"ticks\": \"\"}, \"colorscale\": [[0.0, \"#0d0887\"], [0.1111111111111111, \"#46039f\"], [0.2222222222222222, \"#7201a8\"], [0.3333333333333333, \"#9c179e\"], [0.4444444444444444, \"#bd3786\"], [0.5555555555555556, \"#d8576b\"], [0.6666666666666666, \"#ed7953\"], [0.7777777777777778, \"#fb9f3a\"], [0.8888888888888888, \"#fdca26\"], [1.0, \"#f0f921\"]], \"type\": \"histogram2dcontour\"}], \"mesh3d\": [{\"colorbar\": {\"outlinewidth\": 0, \"ticks\": \"\"}, \"type\": \"mesh3d\"}], \"parcoords\": [{\"line\": {\"colorbar\": {\"outlinewidth\": 0, \"ticks\": \"\"}}, \"type\": \"parcoords\"}], \"pie\": [{\"automargin\": true, \"type\": \"pie\"}], \"scatter\": [{\"marker\": {\"colorbar\": {\"outlinewidth\": 0, \"ticks\": \"\"}}, \"type\": \"scatter\"}], \"scatter3d\": [{\"line\": {\"colorbar\": {\"outlinewidth\": 0, \"ticks\": \"\"}}, \"marker\": {\"colorbar\": {\"outlinewidth\": 0, \"ticks\": \"\"}}, \"type\": \"scatter3d\"}], \"scattercarpet\": [{\"marker\": {\"colorbar\": {\"outlinewidth\": 0, \"ticks\": \"\"}}, \"type\": \"scattercarpet\"}], \"scattergeo\": [{\"marker\": {\"colorbar\": {\"outlinewidth\": 0, \"ticks\": \"\"}}, \"type\": \"scattergeo\"}], \"scattergl\": [{\"marker\": {\"colorbar\": {\"outlinewidth\": 0, \"ticks\": \"\"}}, \"type\": \"scattergl\"}], \"scattermapbox\": [{\"marker\": {\"colorbar\": {\"outlinewidth\": 0, \"ticks\": \"\"}}, \"type\": \"scattermapbox\"}], \"scatterpolar\": [{\"marker\": {\"colorbar\": {\"outlinewidth\": 0, \"ticks\": \"\"}}, \"type\": \"scatterpolar\"}], \"scatterpolargl\": [{\"marker\": {\"colorbar\": {\"outlinewidth\": 0, \"ticks\": \"\"}}, \"type\": \"scatterpolargl\"}], \"scatterternary\": [{\"marker\": {\"colorbar\": {\"outlinewidth\": 0, \"ticks\": \"\"}}, \"type\": \"scatterternary\"}], \"surface\": [{\"colorbar\": {\"outlinewidth\": 0, \"ticks\": \"\"}, \"colorscale\": [[0.0, \"#0d0887\"], [0.1111111111111111, \"#46039f\"], [0.2222222222222222, \"#7201a8\"], [0.3333333333333333, \"#9c179e\"], [0.4444444444444444, \"#bd3786\"], [0.5555555555555556, \"#d8576b\"], [0.6666666666666666, \"#ed7953\"], [0.7777777777777778, \"#fb9f3a\"], [0.8888888888888888, \"#fdca26\"], [1.0, \"#f0f921\"]], \"type\": \"surface\"}], \"table\": [{\"cells\": {\"fill\": {\"color\": \"#EBF0F8\"}, \"line\": {\"color\": \"white\"}}, \"header\": {\"fill\": {\"color\": \"#C8D4E3\"}, \"line\": {\"color\": \"white\"}}, \"type\": \"table\"}]}, \"layout\": {\"annotationdefaults\": {\"arrowcolor\": \"#2a3f5f\", \"arrowhead\": 0, \"arrowwidth\": 1}, \"coloraxis\": {\"colorbar\": {\"outlinewidth\": 0, \"ticks\": \"\"}}, \"colorscale\": {\"diverging\": [[0, \"#8e0152\"], [0.1, \"#c51b7d\"], [0.2, \"#de77ae\"], [0.3, \"#f1b6da\"], [0.4, \"#fde0ef\"], [0.5, \"#f7f7f7\"], [0.6, \"#e6f5d0\"], [0.7, \"#b8e186\"], [0.8, \"#7fbc41\"], [0.9, \"#4d9221\"], [1, \"#276419\"]], \"sequential\": [[0.0, \"#0d0887\"], [0.1111111111111111, \"#46039f\"], [0.2222222222222222, \"#7201a8\"], [0.3333333333333333, \"#9c179e\"], [0.4444444444444444, \"#bd3786\"], [0.5555555555555556, \"#d8576b\"], [0.6666666666666666, \"#ed7953\"], [0.7777777777777778, \"#fb9f3a\"], [0.8888888888888888, \"#fdca26\"], [1.0, \"#f0f921\"]], \"sequentialminus\": [[0.0, \"#0d0887\"], [0.1111111111111111, \"#46039f\"], [0.2222222222222222, \"#7201a8\"], [0.3333333333333333, \"#9c179e\"], [0.4444444444444444, \"#bd3786\"], [0.5555555555555556, \"#d8576b\"], [0.6666666666666666, \"#ed7953\"], [0.7777777777777778, \"#fb9f3a\"], [0.8888888888888888, \"#fdca26\"], [1.0, \"#f0f921\"]]}, \"colorway\": [\"#636efa\", \"#EF553B\", \"#00cc96\", \"#ab63fa\", \"#FFA15A\", \"#19d3f3\", \"#FF6692\", \"#B6E880\", \"#FF97FF\", \"#FECB52\"], \"font\": {\"color\": \"#2a3f5f\"}, \"geo\": {\"bgcolor\": \"white\", \"lakecolor\": \"white\", \"landcolor\": \"#E5ECF6\", \"showlakes\": true, \"showland\": true, \"subunitcolor\": \"white\"}, \"hoverlabel\": {\"align\": \"left\"}, \"hovermode\": \"closest\", \"mapbox\": {\"style\": \"light\"}, \"paper_bgcolor\": \"white\", \"plot_bgcolor\": \"#E5ECF6\", \"polar\": {\"angularaxis\": {\"gridcolor\": \"white\", \"linecolor\": \"white\", \"ticks\": \"\"}, \"bgcolor\": \"#E5ECF6\", \"radialaxis\": {\"gridcolor\": \"white\", \"linecolor\": \"white\", \"ticks\": \"\"}}, \"scene\": {\"xaxis\": {\"backgroundcolor\": \"#E5ECF6\", \"gridcolor\": \"white\", \"gridwidth\": 2, \"linecolor\": \"white\", \"showbackground\": true, \"ticks\": \"\", \"zerolinecolor\": \"white\"}, \"yaxis\": {\"backgroundcolor\": \"#E5ECF6\", \"gridcolor\": \"white\", \"gridwidth\": 2, \"linecolor\": \"white\", \"showbackground\": true, \"ticks\": \"\", \"zerolinecolor\": \"white\"}, \"zaxis\": {\"backgroundcolor\": \"#E5ECF6\", \"gridcolor\": \"white\", \"gridwidth\": 2, \"linecolor\": \"white\", \"showbackground\": true, \"ticks\": \"\", \"zerolinecolor\": \"white\"}}, \"shapedefaults\": {\"line\": {\"color\": \"#2a3f5f\"}}, \"ternary\": {\"aaxis\": {\"gridcolor\": \"white\", \"linecolor\": \"white\", \"ticks\": \"\"}, \"baxis\": {\"gridcolor\": \"white\", \"linecolor\": \"white\", \"ticks\": \"\"}, \"bgcolor\": \"#E5ECF6\", \"caxis\": {\"gridcolor\": \"white\", \"linecolor\": \"white\", \"ticks\": \"\"}}, \"title\": {\"x\": 0.05}, \"xaxis\": {\"automargin\": true, \"gridcolor\": \"white\", \"linecolor\": \"white\", \"ticks\": \"\", \"title\": {\"standoff\": 15}, \"zerolinecolor\": \"white\", \"zerolinewidth\": 2}, \"yaxis\": {\"automargin\": true, \"gridcolor\": \"white\", \"linecolor\": \"white\", \"ticks\": \"\", \"title\": {\"standoff\": 15}, \"zerolinecolor\": \"white\", \"zerolinewidth\": 2}}}, \"title\": {\"font\": {\"color\": \"#4D5663\"}}, \"xaxis\": {\"gridcolor\": \"#E1E5ED\", \"showgrid\": true, \"tickfont\": {\"color\": \"#4D5663\"}, \"title\": {\"font\": {\"color\": \"#4D5663\"}, \"text\": \"\"}, \"zerolinecolor\": \"#E1E5ED\"}, \"yaxis\": {\"gridcolor\": \"#E1E5ED\", \"showgrid\": true, \"tickfont\": {\"color\": \"#4D5663\"}, \"title\": {\"font\": {\"color\": \"#4D5663\"}, \"text\": \"\"}, \"zerolinecolor\": \"#E1E5ED\"}},\n",
       "                        {\"showLink\": true, \"linkText\": \"Export to plot.ly\", \"plotlyServerURL\": \"https://plot.ly\", \"responsive\": true}\n",
       "                    ).then(function(){\n",
       "                            \n",
       "var gd = document.getElementById('d269d454-023b-4060-9b47-f49d8bbfb3d4');\n",
       "var x = new MutationObserver(function (mutations, observer) {{\n",
       "        var display = window.getComputedStyle(gd).display;\n",
       "        if (!display || display === 'none') {{\n",
       "            console.log([gd, 'removed!']);\n",
       "            Plotly.purge(gd);\n",
       "            observer.disconnect();\n",
       "        }}\n",
       "}});\n",
       "\n",
       "// Listen for the removal of the full notebook cells\n",
       "var notebookContainer = gd.closest('#notebook-container');\n",
       "if (notebookContainer) {{\n",
       "    x.observe(notebookContainer, {childList: true});\n",
       "}}\n",
       "\n",
       "// Listen for the clearing of the current output cell\n",
       "var outputEl = gd.closest('.output');\n",
       "if (outputEl) {{\n",
       "    x.observe(outputEl, {childList: true});\n",
       "}}\n",
       "\n",
       "                        })\n",
       "                };\n",
       "                });\n",
       "            </script>\n",
       "        </div>"
      ]
     },
     "metadata": {},
     "output_type": "display_data"
    }
   ],
   "source": [
    "df2.iplot(kind='bar',x='Category',y='Values')"
   ]
  },
  {
   "cell_type": "code",
   "execution_count": 12,
   "metadata": {},
   "outputs": [
    {
     "data": {
      "application/vnd.plotly.v1+json": {
       "config": {
        "linkText": "Export to plot.ly",
        "plotlyServerURL": "https://plot.ly",
        "showLink": true
       },
       "data": [
        {
         "marker": {
          "color": "rgba(255, 153, 51, 0.6)",
          "line": {
           "color": "rgba(255, 153, 51, 1.0)",
           "width": 1
          }
         },
         "name": "None",
         "orientation": "v",
         "text": "",
         "type": "bar",
         "x": [
          "A",
          "B",
          "C",
          "D"
         ],
         "y": [
          100,
          100,
          100,
          100
         ]
        }
       ],
       "layout": {
        "legend": {
         "bgcolor": "#F5F6F9",
         "font": {
          "color": "#4D5663"
         }
        },
        "paper_bgcolor": "#F5F6F9",
        "plot_bgcolor": "#F5F6F9",
        "template": {
         "data": {
          "bar": [
           {
            "error_x": {
             "color": "#2a3f5f"
            },
            "error_y": {
             "color": "#2a3f5f"
            },
            "marker": {
             "line": {
              "color": "#E5ECF6",
              "width": 0.5
             }
            },
            "type": "bar"
           }
          ],
          "barpolar": [
           {
            "marker": {
             "line": {
              "color": "#E5ECF6",
              "width": 0.5
             }
            },
            "type": "barpolar"
           }
          ],
          "carpet": [
           {
            "aaxis": {
             "endlinecolor": "#2a3f5f",
             "gridcolor": "white",
             "linecolor": "white",
             "minorgridcolor": "white",
             "startlinecolor": "#2a3f5f"
            },
            "baxis": {
             "endlinecolor": "#2a3f5f",
             "gridcolor": "white",
             "linecolor": "white",
             "minorgridcolor": "white",
             "startlinecolor": "#2a3f5f"
            },
            "type": "carpet"
           }
          ],
          "choropleth": [
           {
            "colorbar": {
             "outlinewidth": 0,
             "ticks": ""
            },
            "type": "choropleth"
           }
          ],
          "contour": [
           {
            "colorbar": {
             "outlinewidth": 0,
             "ticks": ""
            },
            "colorscale": [
             [
              0,
              "#0d0887"
             ],
             [
              0.1111111111111111,
              "#46039f"
             ],
             [
              0.2222222222222222,
              "#7201a8"
             ],
             [
              0.3333333333333333,
              "#9c179e"
             ],
             [
              0.4444444444444444,
              "#bd3786"
             ],
             [
              0.5555555555555556,
              "#d8576b"
             ],
             [
              0.6666666666666666,
              "#ed7953"
             ],
             [
              0.7777777777777778,
              "#fb9f3a"
             ],
             [
              0.8888888888888888,
              "#fdca26"
             ],
             [
              1,
              "#f0f921"
             ]
            ],
            "type": "contour"
           }
          ],
          "contourcarpet": [
           {
            "colorbar": {
             "outlinewidth": 0,
             "ticks": ""
            },
            "type": "contourcarpet"
           }
          ],
          "heatmap": [
           {
            "colorbar": {
             "outlinewidth": 0,
             "ticks": ""
            },
            "colorscale": [
             [
              0,
              "#0d0887"
             ],
             [
              0.1111111111111111,
              "#46039f"
             ],
             [
              0.2222222222222222,
              "#7201a8"
             ],
             [
              0.3333333333333333,
              "#9c179e"
             ],
             [
              0.4444444444444444,
              "#bd3786"
             ],
             [
              0.5555555555555556,
              "#d8576b"
             ],
             [
              0.6666666666666666,
              "#ed7953"
             ],
             [
              0.7777777777777778,
              "#fb9f3a"
             ],
             [
              0.8888888888888888,
              "#fdca26"
             ],
             [
              1,
              "#f0f921"
             ]
            ],
            "type": "heatmap"
           }
          ],
          "heatmapgl": [
           {
            "colorbar": {
             "outlinewidth": 0,
             "ticks": ""
            },
            "colorscale": [
             [
              0,
              "#0d0887"
             ],
             [
              0.1111111111111111,
              "#46039f"
             ],
             [
              0.2222222222222222,
              "#7201a8"
             ],
             [
              0.3333333333333333,
              "#9c179e"
             ],
             [
              0.4444444444444444,
              "#bd3786"
             ],
             [
              0.5555555555555556,
              "#d8576b"
             ],
             [
              0.6666666666666666,
              "#ed7953"
             ],
             [
              0.7777777777777778,
              "#fb9f3a"
             ],
             [
              0.8888888888888888,
              "#fdca26"
             ],
             [
              1,
              "#f0f921"
             ]
            ],
            "type": "heatmapgl"
           }
          ],
          "histogram": [
           {
            "marker": {
             "colorbar": {
              "outlinewidth": 0,
              "ticks": ""
             }
            },
            "type": "histogram"
           }
          ],
          "histogram2d": [
           {
            "colorbar": {
             "outlinewidth": 0,
             "ticks": ""
            },
            "colorscale": [
             [
              0,
              "#0d0887"
             ],
             [
              0.1111111111111111,
              "#46039f"
             ],
             [
              0.2222222222222222,
              "#7201a8"
             ],
             [
              0.3333333333333333,
              "#9c179e"
             ],
             [
              0.4444444444444444,
              "#bd3786"
             ],
             [
              0.5555555555555556,
              "#d8576b"
             ],
             [
              0.6666666666666666,
              "#ed7953"
             ],
             [
              0.7777777777777778,
              "#fb9f3a"
             ],
             [
              0.8888888888888888,
              "#fdca26"
             ],
             [
              1,
              "#f0f921"
             ]
            ],
            "type": "histogram2d"
           }
          ],
          "histogram2dcontour": [
           {
            "colorbar": {
             "outlinewidth": 0,
             "ticks": ""
            },
            "colorscale": [
             [
              0,
              "#0d0887"
             ],
             [
              0.1111111111111111,
              "#46039f"
             ],
             [
              0.2222222222222222,
              "#7201a8"
             ],
             [
              0.3333333333333333,
              "#9c179e"
             ],
             [
              0.4444444444444444,
              "#bd3786"
             ],
             [
              0.5555555555555556,
              "#d8576b"
             ],
             [
              0.6666666666666666,
              "#ed7953"
             ],
             [
              0.7777777777777778,
              "#fb9f3a"
             ],
             [
              0.8888888888888888,
              "#fdca26"
             ],
             [
              1,
              "#f0f921"
             ]
            ],
            "type": "histogram2dcontour"
           }
          ],
          "mesh3d": [
           {
            "colorbar": {
             "outlinewidth": 0,
             "ticks": ""
            },
            "type": "mesh3d"
           }
          ],
          "parcoords": [
           {
            "line": {
             "colorbar": {
              "outlinewidth": 0,
              "ticks": ""
             }
            },
            "type": "parcoords"
           }
          ],
          "pie": [
           {
            "automargin": true,
            "type": "pie"
           }
          ],
          "scatter": [
           {
            "marker": {
             "colorbar": {
              "outlinewidth": 0,
              "ticks": ""
             }
            },
            "type": "scatter"
           }
          ],
          "scatter3d": [
           {
            "line": {
             "colorbar": {
              "outlinewidth": 0,
              "ticks": ""
             }
            },
            "marker": {
             "colorbar": {
              "outlinewidth": 0,
              "ticks": ""
             }
            },
            "type": "scatter3d"
           }
          ],
          "scattercarpet": [
           {
            "marker": {
             "colorbar": {
              "outlinewidth": 0,
              "ticks": ""
             }
            },
            "type": "scattercarpet"
           }
          ],
          "scattergeo": [
           {
            "marker": {
             "colorbar": {
              "outlinewidth": 0,
              "ticks": ""
             }
            },
            "type": "scattergeo"
           }
          ],
          "scattergl": [
           {
            "marker": {
             "colorbar": {
              "outlinewidth": 0,
              "ticks": ""
             }
            },
            "type": "scattergl"
           }
          ],
          "scattermapbox": [
           {
            "marker": {
             "colorbar": {
              "outlinewidth": 0,
              "ticks": ""
             }
            },
            "type": "scattermapbox"
           }
          ],
          "scatterpolar": [
           {
            "marker": {
             "colorbar": {
              "outlinewidth": 0,
              "ticks": ""
             }
            },
            "type": "scatterpolar"
           }
          ],
          "scatterpolargl": [
           {
            "marker": {
             "colorbar": {
              "outlinewidth": 0,
              "ticks": ""
             }
            },
            "type": "scatterpolargl"
           }
          ],
          "scatterternary": [
           {
            "marker": {
             "colorbar": {
              "outlinewidth": 0,
              "ticks": ""
             }
            },
            "type": "scatterternary"
           }
          ],
          "surface": [
           {
            "colorbar": {
             "outlinewidth": 0,
             "ticks": ""
            },
            "colorscale": [
             [
              0,
              "#0d0887"
             ],
             [
              0.1111111111111111,
              "#46039f"
             ],
             [
              0.2222222222222222,
              "#7201a8"
             ],
             [
              0.3333333333333333,
              "#9c179e"
             ],
             [
              0.4444444444444444,
              "#bd3786"
             ],
             [
              0.5555555555555556,
              "#d8576b"
             ],
             [
              0.6666666666666666,
              "#ed7953"
             ],
             [
              0.7777777777777778,
              "#fb9f3a"
             ],
             [
              0.8888888888888888,
              "#fdca26"
             ],
             [
              1,
              "#f0f921"
             ]
            ],
            "type": "surface"
           }
          ],
          "table": [
           {
            "cells": {
             "fill": {
              "color": "#EBF0F8"
             },
             "line": {
              "color": "white"
             }
            },
            "header": {
             "fill": {
              "color": "#C8D4E3"
             },
             "line": {
              "color": "white"
             }
            },
            "type": "table"
           }
          ]
         },
         "layout": {
          "annotationdefaults": {
           "arrowcolor": "#2a3f5f",
           "arrowhead": 0,
           "arrowwidth": 1
          },
          "coloraxis": {
           "colorbar": {
            "outlinewidth": 0,
            "ticks": ""
           }
          },
          "colorscale": {
           "diverging": [
            [
             0,
             "#8e0152"
            ],
            [
             0.1,
             "#c51b7d"
            ],
            [
             0.2,
             "#de77ae"
            ],
            [
             0.3,
             "#f1b6da"
            ],
            [
             0.4,
             "#fde0ef"
            ],
            [
             0.5,
             "#f7f7f7"
            ],
            [
             0.6,
             "#e6f5d0"
            ],
            [
             0.7,
             "#b8e186"
            ],
            [
             0.8,
             "#7fbc41"
            ],
            [
             0.9,
             "#4d9221"
            ],
            [
             1,
             "#276419"
            ]
           ],
           "sequential": [
            [
             0,
             "#0d0887"
            ],
            [
             0.1111111111111111,
             "#46039f"
            ],
            [
             0.2222222222222222,
             "#7201a8"
            ],
            [
             0.3333333333333333,
             "#9c179e"
            ],
            [
             0.4444444444444444,
             "#bd3786"
            ],
            [
             0.5555555555555556,
             "#d8576b"
            ],
            [
             0.6666666666666666,
             "#ed7953"
            ],
            [
             0.7777777777777778,
             "#fb9f3a"
            ],
            [
             0.8888888888888888,
             "#fdca26"
            ],
            [
             1,
             "#f0f921"
            ]
           ],
           "sequentialminus": [
            [
             0,
             "#0d0887"
            ],
            [
             0.1111111111111111,
             "#46039f"
            ],
            [
             0.2222222222222222,
             "#7201a8"
            ],
            [
             0.3333333333333333,
             "#9c179e"
            ],
            [
             0.4444444444444444,
             "#bd3786"
            ],
            [
             0.5555555555555556,
             "#d8576b"
            ],
            [
             0.6666666666666666,
             "#ed7953"
            ],
            [
             0.7777777777777778,
             "#fb9f3a"
            ],
            [
             0.8888888888888888,
             "#fdca26"
            ],
            [
             1,
             "#f0f921"
            ]
           ]
          },
          "colorway": [
           "#636efa",
           "#EF553B",
           "#00cc96",
           "#ab63fa",
           "#FFA15A",
           "#19d3f3",
           "#FF6692",
           "#B6E880",
           "#FF97FF",
           "#FECB52"
          ],
          "font": {
           "color": "#2a3f5f"
          },
          "geo": {
           "bgcolor": "white",
           "lakecolor": "white",
           "landcolor": "#E5ECF6",
           "showlakes": true,
           "showland": true,
           "subunitcolor": "white"
          },
          "hoverlabel": {
           "align": "left"
          },
          "hovermode": "closest",
          "mapbox": {
           "style": "light"
          },
          "paper_bgcolor": "white",
          "plot_bgcolor": "#E5ECF6",
          "polar": {
           "angularaxis": {
            "gridcolor": "white",
            "linecolor": "white",
            "ticks": ""
           },
           "bgcolor": "#E5ECF6",
           "radialaxis": {
            "gridcolor": "white",
            "linecolor": "white",
            "ticks": ""
           }
          },
          "scene": {
           "xaxis": {
            "backgroundcolor": "#E5ECF6",
            "gridcolor": "white",
            "gridwidth": 2,
            "linecolor": "white",
            "showbackground": true,
            "ticks": "",
            "zerolinecolor": "white"
           },
           "yaxis": {
            "backgroundcolor": "#E5ECF6",
            "gridcolor": "white",
            "gridwidth": 2,
            "linecolor": "white",
            "showbackground": true,
            "ticks": "",
            "zerolinecolor": "white"
           },
           "zaxis": {
            "backgroundcolor": "#E5ECF6",
            "gridcolor": "white",
            "gridwidth": 2,
            "linecolor": "white",
            "showbackground": true,
            "ticks": "",
            "zerolinecolor": "white"
           }
          },
          "shapedefaults": {
           "line": {
            "color": "#2a3f5f"
           }
          },
          "ternary": {
           "aaxis": {
            "gridcolor": "white",
            "linecolor": "white",
            "ticks": ""
           },
           "baxis": {
            "gridcolor": "white",
            "linecolor": "white",
            "ticks": ""
           },
           "bgcolor": "#E5ECF6",
           "caxis": {
            "gridcolor": "white",
            "linecolor": "white",
            "ticks": ""
           }
          },
          "title": {
           "x": 0.05
          },
          "xaxis": {
           "automargin": true,
           "gridcolor": "white",
           "linecolor": "white",
           "ticks": "",
           "title": {
            "standoff": 15
           },
           "zerolinecolor": "white",
           "zerolinewidth": 2
          },
          "yaxis": {
           "automargin": true,
           "gridcolor": "white",
           "linecolor": "white",
           "ticks": "",
           "title": {
            "standoff": 15
           },
           "zerolinecolor": "white",
           "zerolinewidth": 2
          }
         }
        },
        "title": {
         "font": {
          "color": "#4D5663"
         }
        },
        "xaxis": {
         "gridcolor": "#E1E5ED",
         "showgrid": true,
         "tickfont": {
          "color": "#4D5663"
         },
         "title": {
          "font": {
           "color": "#4D5663"
          },
          "text": ""
         },
         "zerolinecolor": "#E1E5ED"
        },
        "yaxis": {
         "gridcolor": "#E1E5ED",
         "showgrid": true,
         "tickfont": {
          "color": "#4D5663"
         },
         "title": {
          "font": {
           "color": "#4D5663"
          },
          "text": ""
         },
         "zerolinecolor": "#E1E5ED"
        }
       }
      },
      "text/html": [
       "<div>\n",
       "        \n",
       "        \n",
       "            <div id=\"93023d50-0589-4a45-83f3-ce7b0bbc5967\" class=\"plotly-graph-div\" style=\"height:525px; width:100%;\"></div>\n",
       "            <script type=\"text/javascript\">\n",
       "                require([\"plotly\"], function(Plotly) {\n",
       "                    window.PLOTLYENV=window.PLOTLYENV || {};\n",
       "                    window.PLOTLYENV.BASE_URL='https://plot.ly';\n",
       "                    \n",
       "                if (document.getElementById(\"93023d50-0589-4a45-83f3-ce7b0bbc5967\")) {\n",
       "                    Plotly.newPlot(\n",
       "                        '93023d50-0589-4a45-83f3-ce7b0bbc5967',\n",
       "                        [{\"marker\": {\"color\": \"rgba(255, 153, 51, 0.6)\", \"line\": {\"color\": \"rgba(255, 153, 51, 1.0)\", \"width\": 1}}, \"name\": \"None\", \"orientation\": \"v\", \"text\": \"\", \"type\": \"bar\", \"x\": [\"A\", \"B\", \"C\", \"D\"], \"y\": [100, 100, 100, 100]}],\n",
       "                        {\"legend\": {\"bgcolor\": \"#F5F6F9\", \"font\": {\"color\": \"#4D5663\"}}, \"paper_bgcolor\": \"#F5F6F9\", \"plot_bgcolor\": \"#F5F6F9\", \"template\": {\"data\": {\"bar\": [{\"error_x\": {\"color\": \"#2a3f5f\"}, \"error_y\": {\"color\": \"#2a3f5f\"}, \"marker\": {\"line\": {\"color\": \"#E5ECF6\", \"width\": 0.5}}, \"type\": \"bar\"}], \"barpolar\": [{\"marker\": {\"line\": {\"color\": \"#E5ECF6\", \"width\": 0.5}}, \"type\": \"barpolar\"}], \"carpet\": [{\"aaxis\": {\"endlinecolor\": \"#2a3f5f\", \"gridcolor\": \"white\", \"linecolor\": \"white\", \"minorgridcolor\": \"white\", \"startlinecolor\": \"#2a3f5f\"}, \"baxis\": {\"endlinecolor\": \"#2a3f5f\", \"gridcolor\": \"white\", \"linecolor\": \"white\", \"minorgridcolor\": \"white\", \"startlinecolor\": \"#2a3f5f\"}, \"type\": \"carpet\"}], \"choropleth\": [{\"colorbar\": {\"outlinewidth\": 0, \"ticks\": \"\"}, \"type\": \"choropleth\"}], \"contour\": [{\"colorbar\": {\"outlinewidth\": 0, \"ticks\": \"\"}, \"colorscale\": [[0.0, \"#0d0887\"], [0.1111111111111111, \"#46039f\"], [0.2222222222222222, \"#7201a8\"], [0.3333333333333333, \"#9c179e\"], [0.4444444444444444, \"#bd3786\"], [0.5555555555555556, \"#d8576b\"], [0.6666666666666666, \"#ed7953\"], [0.7777777777777778, \"#fb9f3a\"], [0.8888888888888888, \"#fdca26\"], [1.0, \"#f0f921\"]], \"type\": \"contour\"}], \"contourcarpet\": [{\"colorbar\": {\"outlinewidth\": 0, \"ticks\": \"\"}, \"type\": \"contourcarpet\"}], \"heatmap\": [{\"colorbar\": {\"outlinewidth\": 0, \"ticks\": \"\"}, \"colorscale\": [[0.0, \"#0d0887\"], [0.1111111111111111, \"#46039f\"], [0.2222222222222222, \"#7201a8\"], [0.3333333333333333, \"#9c179e\"], [0.4444444444444444, \"#bd3786\"], [0.5555555555555556, \"#d8576b\"], [0.6666666666666666, \"#ed7953\"], [0.7777777777777778, \"#fb9f3a\"], [0.8888888888888888, \"#fdca26\"], [1.0, \"#f0f921\"]], \"type\": \"heatmap\"}], \"heatmapgl\": [{\"colorbar\": {\"outlinewidth\": 0, \"ticks\": \"\"}, \"colorscale\": [[0.0, \"#0d0887\"], [0.1111111111111111, \"#46039f\"], [0.2222222222222222, \"#7201a8\"], [0.3333333333333333, \"#9c179e\"], [0.4444444444444444, \"#bd3786\"], [0.5555555555555556, \"#d8576b\"], [0.6666666666666666, \"#ed7953\"], [0.7777777777777778, \"#fb9f3a\"], [0.8888888888888888, \"#fdca26\"], [1.0, \"#f0f921\"]], \"type\": \"heatmapgl\"}], \"histogram\": [{\"marker\": {\"colorbar\": {\"outlinewidth\": 0, \"ticks\": \"\"}}, \"type\": \"histogram\"}], \"histogram2d\": [{\"colorbar\": {\"outlinewidth\": 0, \"ticks\": \"\"}, \"colorscale\": [[0.0, \"#0d0887\"], [0.1111111111111111, \"#46039f\"], [0.2222222222222222, \"#7201a8\"], [0.3333333333333333, \"#9c179e\"], [0.4444444444444444, \"#bd3786\"], [0.5555555555555556, \"#d8576b\"], [0.6666666666666666, \"#ed7953\"], [0.7777777777777778, \"#fb9f3a\"], [0.8888888888888888, \"#fdca26\"], [1.0, \"#f0f921\"]], \"type\": \"histogram2d\"}], \"histogram2dcontour\": [{\"colorbar\": {\"outlinewidth\": 0, \"ticks\": \"\"}, \"colorscale\": [[0.0, \"#0d0887\"], [0.1111111111111111, \"#46039f\"], [0.2222222222222222, \"#7201a8\"], [0.3333333333333333, \"#9c179e\"], [0.4444444444444444, \"#bd3786\"], [0.5555555555555556, \"#d8576b\"], [0.6666666666666666, \"#ed7953\"], [0.7777777777777778, \"#fb9f3a\"], [0.8888888888888888, \"#fdca26\"], [1.0, \"#f0f921\"]], \"type\": \"histogram2dcontour\"}], \"mesh3d\": [{\"colorbar\": {\"outlinewidth\": 0, \"ticks\": \"\"}, \"type\": \"mesh3d\"}], \"parcoords\": [{\"line\": {\"colorbar\": {\"outlinewidth\": 0, \"ticks\": \"\"}}, \"type\": \"parcoords\"}], \"pie\": [{\"automargin\": true, \"type\": \"pie\"}], \"scatter\": [{\"marker\": {\"colorbar\": {\"outlinewidth\": 0, \"ticks\": \"\"}}, \"type\": \"scatter\"}], \"scatter3d\": [{\"line\": {\"colorbar\": {\"outlinewidth\": 0, \"ticks\": \"\"}}, \"marker\": {\"colorbar\": {\"outlinewidth\": 0, \"ticks\": \"\"}}, \"type\": \"scatter3d\"}], \"scattercarpet\": [{\"marker\": {\"colorbar\": {\"outlinewidth\": 0, \"ticks\": \"\"}}, \"type\": \"scattercarpet\"}], \"scattergeo\": [{\"marker\": {\"colorbar\": {\"outlinewidth\": 0, \"ticks\": \"\"}}, \"type\": \"scattergeo\"}], \"scattergl\": [{\"marker\": {\"colorbar\": {\"outlinewidth\": 0, \"ticks\": \"\"}}, \"type\": \"scattergl\"}], \"scattermapbox\": [{\"marker\": {\"colorbar\": {\"outlinewidth\": 0, \"ticks\": \"\"}}, \"type\": \"scattermapbox\"}], \"scatterpolar\": [{\"marker\": {\"colorbar\": {\"outlinewidth\": 0, \"ticks\": \"\"}}, \"type\": \"scatterpolar\"}], \"scatterpolargl\": [{\"marker\": {\"colorbar\": {\"outlinewidth\": 0, \"ticks\": \"\"}}, \"type\": \"scatterpolargl\"}], \"scatterternary\": [{\"marker\": {\"colorbar\": {\"outlinewidth\": 0, \"ticks\": \"\"}}, \"type\": \"scatterternary\"}], \"surface\": [{\"colorbar\": {\"outlinewidth\": 0, \"ticks\": \"\"}, \"colorscale\": [[0.0, \"#0d0887\"], [0.1111111111111111, \"#46039f\"], [0.2222222222222222, \"#7201a8\"], [0.3333333333333333, \"#9c179e\"], [0.4444444444444444, \"#bd3786\"], [0.5555555555555556, \"#d8576b\"], [0.6666666666666666, \"#ed7953\"], [0.7777777777777778, \"#fb9f3a\"], [0.8888888888888888, \"#fdca26\"], [1.0, \"#f0f921\"]], \"type\": \"surface\"}], \"table\": [{\"cells\": {\"fill\": {\"color\": \"#EBF0F8\"}, \"line\": {\"color\": \"white\"}}, \"header\": {\"fill\": {\"color\": \"#C8D4E3\"}, \"line\": {\"color\": \"white\"}}, \"type\": \"table\"}]}, \"layout\": {\"annotationdefaults\": {\"arrowcolor\": \"#2a3f5f\", \"arrowhead\": 0, \"arrowwidth\": 1}, \"coloraxis\": {\"colorbar\": {\"outlinewidth\": 0, \"ticks\": \"\"}}, \"colorscale\": {\"diverging\": [[0, \"#8e0152\"], [0.1, \"#c51b7d\"], [0.2, \"#de77ae\"], [0.3, \"#f1b6da\"], [0.4, \"#fde0ef\"], [0.5, \"#f7f7f7\"], [0.6, \"#e6f5d0\"], [0.7, \"#b8e186\"], [0.8, \"#7fbc41\"], [0.9, \"#4d9221\"], [1, \"#276419\"]], \"sequential\": [[0.0, \"#0d0887\"], [0.1111111111111111, \"#46039f\"], [0.2222222222222222, \"#7201a8\"], [0.3333333333333333, \"#9c179e\"], [0.4444444444444444, \"#bd3786\"], [0.5555555555555556, \"#d8576b\"], [0.6666666666666666, \"#ed7953\"], [0.7777777777777778, \"#fb9f3a\"], [0.8888888888888888, \"#fdca26\"], [1.0, \"#f0f921\"]], \"sequentialminus\": [[0.0, \"#0d0887\"], [0.1111111111111111, \"#46039f\"], [0.2222222222222222, \"#7201a8\"], [0.3333333333333333, \"#9c179e\"], [0.4444444444444444, \"#bd3786\"], [0.5555555555555556, \"#d8576b\"], [0.6666666666666666, \"#ed7953\"], [0.7777777777777778, \"#fb9f3a\"], [0.8888888888888888, \"#fdca26\"], [1.0, \"#f0f921\"]]}, \"colorway\": [\"#636efa\", \"#EF553B\", \"#00cc96\", \"#ab63fa\", \"#FFA15A\", \"#19d3f3\", \"#FF6692\", \"#B6E880\", \"#FF97FF\", \"#FECB52\"], \"font\": {\"color\": \"#2a3f5f\"}, \"geo\": {\"bgcolor\": \"white\", \"lakecolor\": \"white\", \"landcolor\": \"#E5ECF6\", \"showlakes\": true, \"showland\": true, \"subunitcolor\": \"white\"}, \"hoverlabel\": {\"align\": \"left\"}, \"hovermode\": \"closest\", \"mapbox\": {\"style\": \"light\"}, \"paper_bgcolor\": \"white\", \"plot_bgcolor\": \"#E5ECF6\", \"polar\": {\"angularaxis\": {\"gridcolor\": \"white\", \"linecolor\": \"white\", \"ticks\": \"\"}, \"bgcolor\": \"#E5ECF6\", \"radialaxis\": {\"gridcolor\": \"white\", \"linecolor\": \"white\", \"ticks\": \"\"}}, \"scene\": {\"xaxis\": {\"backgroundcolor\": \"#E5ECF6\", \"gridcolor\": \"white\", \"gridwidth\": 2, \"linecolor\": \"white\", \"showbackground\": true, \"ticks\": \"\", \"zerolinecolor\": \"white\"}, \"yaxis\": {\"backgroundcolor\": \"#E5ECF6\", \"gridcolor\": \"white\", \"gridwidth\": 2, \"linecolor\": \"white\", \"showbackground\": true, \"ticks\": \"\", \"zerolinecolor\": \"white\"}, \"zaxis\": {\"backgroundcolor\": \"#E5ECF6\", \"gridcolor\": \"white\", \"gridwidth\": 2, \"linecolor\": \"white\", \"showbackground\": true, \"ticks\": \"\", \"zerolinecolor\": \"white\"}}, \"shapedefaults\": {\"line\": {\"color\": \"#2a3f5f\"}}, \"ternary\": {\"aaxis\": {\"gridcolor\": \"white\", \"linecolor\": \"white\", \"ticks\": \"\"}, \"baxis\": {\"gridcolor\": \"white\", \"linecolor\": \"white\", \"ticks\": \"\"}, \"bgcolor\": \"#E5ECF6\", \"caxis\": {\"gridcolor\": \"white\", \"linecolor\": \"white\", \"ticks\": \"\"}}, \"title\": {\"x\": 0.05}, \"xaxis\": {\"automargin\": true, \"gridcolor\": \"white\", \"linecolor\": \"white\", \"ticks\": \"\", \"title\": {\"standoff\": 15}, \"zerolinecolor\": \"white\", \"zerolinewidth\": 2}, \"yaxis\": {\"automargin\": true, \"gridcolor\": \"white\", \"linecolor\": \"white\", \"ticks\": \"\", \"title\": {\"standoff\": 15}, \"zerolinecolor\": \"white\", \"zerolinewidth\": 2}}}, \"title\": {\"font\": {\"color\": \"#4D5663\"}}, \"xaxis\": {\"gridcolor\": \"#E1E5ED\", \"showgrid\": true, \"tickfont\": {\"color\": \"#4D5663\"}, \"title\": {\"font\": {\"color\": \"#4D5663\"}, \"text\": \"\"}, \"zerolinecolor\": \"#E1E5ED\"}, \"yaxis\": {\"gridcolor\": \"#E1E5ED\", \"showgrid\": true, \"tickfont\": {\"color\": \"#4D5663\"}, \"title\": {\"font\": {\"color\": \"#4D5663\"}, \"text\": \"\"}, \"zerolinecolor\": \"#E1E5ED\"}},\n",
       "                        {\"showLink\": true, \"linkText\": \"Export to plot.ly\", \"plotlyServerURL\": \"https://plot.ly\", \"responsive\": true}\n",
       "                    ).then(function(){\n",
       "                            \n",
       "var gd = document.getElementById('93023d50-0589-4a45-83f3-ce7b0bbc5967');\n",
       "var x = new MutationObserver(function (mutations, observer) {{\n",
       "        var display = window.getComputedStyle(gd).display;\n",
       "        if (!display || display === 'none') {{\n",
       "            console.log([gd, 'removed!']);\n",
       "            Plotly.purge(gd);\n",
       "            observer.disconnect();\n",
       "        }}\n",
       "}});\n",
       "\n",
       "// Listen for the removal of the full notebook cells\n",
       "var notebookContainer = gd.closest('#notebook-container');\n",
       "if (notebookContainer) {{\n",
       "    x.observe(notebookContainer, {childList: true});\n",
       "}}\n",
       "\n",
       "// Listen for the clearing of the current output cell\n",
       "var outputEl = gd.closest('.output');\n",
       "if (outputEl) {{\n",
       "    x.observe(outputEl, {childList: true});\n",
       "}}\n",
       "\n",
       "                        })\n",
       "                };\n",
       "                });\n",
       "            </script>\n",
       "        </div>"
      ]
     },
     "metadata": {},
     "output_type": "display_data"
    }
   ],
   "source": [
    "df.count().iplot(kind='bar')"
   ]
  },
  {
   "cell_type": "markdown",
   "metadata": {},
   "source": [
    "## Boxplots"
   ]
  },
  {
   "cell_type": "code",
   "execution_count": 13,
   "metadata": {},
   "outputs": [
    {
     "data": {
      "application/vnd.plotly.v1+json": {
       "config": {
        "linkText": "Export to plot.ly",
        "plotlyServerURL": "https://plot.ly",
        "showLink": true
       },
       "data": [
        {
         "boxpoints": false,
         "line": {
          "width": 1.3
         },
         "marker": {
          "color": "rgba(255, 153, 51, 1.0)"
         },
         "name": "A",
         "orientation": "v",
         "type": "box",
         "y": [
          0.6365076909941588,
          -0.4737602015567025,
          -0.4931937653649986,
          -1.002162685929863,
          -1.390694581240618,
          0.2624767228460955,
          0.06342727286886606,
          0.34217472462690585,
          2.961132768508034,
          -0.8620975059326305,
          0.4553717205546613,
          1.267344265809088,
          0.5574464676557171,
          1.7650668089058499,
          -0.6602427071795416,
          0.2578219133046646,
          -0.17263289964841197,
          -0.11238959064405796,
          0.8695860480867245,
          0.40840660774229726,
          -1.0684251725049163,
          -0.9785793326058884,
          0.5931279441105388,
          -0.5737552603070895,
          0.9117283650804772,
          0.6474425728966579,
          -0.5038442677636253,
          -1.1008455274698403,
          0.6251097854408026,
          0.9860855829234931,
          -0.3519782030631685,
          0.2043298737212113,
          -0.6511487116247198,
          -0.47613929479990535,
          -1.1726127112294482,
          1.5612251685295533,
          0.4022976345568017,
          1.1566765718193304,
          0.031117966223119534,
          -0.865882402029834,
          -0.5233903441757728,
          -1.0054595647259312,
          -0.11632633713897635,
          -0.5384467568825115,
          0.4677278114296954,
          0.5387522859610423,
          0.5311214184901931,
          0.8542591407697975,
          -0.9803545984510883,
          1.3106925029212348,
          -0.19232021685687745,
          -0.14569136160329985,
          -0.7146824851366995,
          -0.4786817591587508,
          0.7235332743737379,
          -0.41712017043221844,
          -1.6019352807092222,
          -0.9343856342604369,
          0.7247039771128864,
          0.7123562356757894,
          0.7120993540271149,
          -0.5936962306733344,
          -1.0826130603973108,
          0.5248478277685283,
          -0.26026561529029024,
          1.9453734300618395,
          1.5188109407529324,
          0.14475730152800026,
          -1.6548732265850479,
          0.6418646400314986,
          -0.7004102844625567,
          0.7719183108008424,
          2.108988390018506,
          0.12790582165533965,
          -0.2526413569711868,
          -1.6127100179913447,
          -0.5658126567820971,
          -0.5211460165079267,
          -0.013759130888993939,
          -0.950487694184885,
          1.4552606561594668,
          0.5982889285689689,
          -0.1538747388728679,
          0.5353219782660327,
          -1.072228923525188,
          0.6752160523044004,
          0.24625540085408443,
          0.6505484803196946,
          0.4229194966060065,
          -1.0724186747068731,
          -0.16874383355845157,
          -0.0940723852561799,
          0.37650510210813215,
          0.767056661576872,
          -0.4656164665448851,
          -1.9626738276966944,
          1.0248645009802317,
          1.379185464478099,
          -0.4591747868219548,
          -1.447144900286262
         ]
        },
        {
         "boxpoints": false,
         "line": {
          "width": 1.3
         },
         "marker": {
          "color": "rgba(55, 128, 191, 1.0)"
         },
         "name": "B",
         "orientation": "v",
         "type": "box",
         "y": [
          -1.699160123201898,
          0.10195242313344324,
          -0.715193282859542,
          -0.05758164445290634,
          -0.7398838201640815,
          -0.9753799755866359,
          0.8183654763925532,
          0.1486272764042706,
          0.6221571419621349,
          -0.37471837838608657,
          1.9241212173882782,
          -1.9260174834904287,
          0.32772542746581956,
          -0.09062108554739637,
          -0.6222192316499369,
          0.4104827707197747,
          -1.4767599860217084,
          0.31680009657810904,
          0.5841423976591886,
          -1.3363186893647179,
          -1.481470205733003,
          1.2913557909132023,
          -0.15965674908185673,
          -0.10885642874825817,
          2.0613253401745855,
          0.038873891107819594,
          -1.5572032020558468,
          -0.5267363266605407,
          1.052086043605771,
          0.4837147591298685,
          -1.4485465294093376,
          -1.1363178025139544,
          0.2901075938884033,
          0.012764228316333356,
          0.02544130910202635,
          -0.15285526945192568,
          -0.8437747538133651,
          -1.1579133835179825,
          0.522936718836919,
          -1.4418531014659357,
          0.7713240245097688,
          1.1488990205107918,
          1.1101684578089406,
          -0.4050508092025551,
          -1.6736673382534208,
          -1.5296412988754375,
          -1.1170745972955312,
          0.13781739088902767,
          1.7624413863232378,
          0.015527063547979406,
          0.15625436224519249,
          -0.04377516577352025,
          0.32170087033653894,
          -1.7352479949718995,
          0.18631362955611921,
          -0.7761396929349504,
          0.4184915730119552,
          0.7679017692501251,
          0.3516066556924101,
          2.5166163139814217,
          -0.19150616919534597,
          -0.34422152499462955,
          -1.1932959160998728,
          -1.8523321507164985,
          -0.27312156355546313,
          -0.22788721727855377,
          0.512958656095611,
          0.23772762819035506,
          0.18044282339924814,
          1.1796934451453305,
          -0.5964857390108925,
          -0.27841196090719744,
          -0.8782503319309752,
          0.2736168298650118,
          -0.086012008879998,
          -0.2697772277356776,
          -0.8559941288110947,
          0.7505650594336027,
          0.5084568806815066,
          -0.20824438201256085,
          -0.16081498584325604,
          -1.1191291600558322,
          -1.9035185519084472,
          -1.8106091203457362,
          0.3006649895466276,
          1.3198926705225342,
          -1.5284218485847,
          -1.4851131995836924,
          0.7097055112534987,
          -0.03900819833655198,
          -1.1649509319624074,
          -0.7128547871284446,
          0.7432408339507162,
          0.22267418896844912,
          0.8093301395612484,
          1.1075428522852886,
          -0.8891409413426854,
          0.7674768130934316,
          0.17700574880002642,
          1.2579022924495926
         ]
        },
        {
         "boxpoints": false,
         "line": {
          "width": 1.3
         },
         "marker": {
          "color": "rgba(50, 171, 96, 1.0)"
         },
         "name": "C",
         "orientation": "v",
         "type": "box",
         "y": [
          1.9018381107211506,
          0.0661887770795712,
          -0.6907923912196057,
          -0.6787021107040709,
          1.6626242744283832,
          0.07911174543452498,
          0.8961493719877067,
          1.6626899962684787,
          -1.039388186859393,
          -1.0165813778214088,
          1.057748496385511,
          -0.09627782791253724,
          1.1699296868199236,
          -0.9403722978654238,
          0.6688891209913608,
          -1.6220758768730354,
          1.4335054635094144,
          -0.15364540567302598,
          -0.24383048606947888,
          -1.003086243171056,
          -1.2529035737657532,
          -0.8622997262061329,
          -0.0205042689814447,
          -0.577432743168765,
          -0.08404721858285126,
          0.17256271371717888,
          -0.6284522868119045,
          0.9053893732895225,
          -0.615368509084066,
          -0.05029608378329362,
          -0.7420781697708273,
          0.02465312848982948,
          -0.11916547751946559,
          -0.2403704203979564,
          1.0422556178264082,
          1.1026273410487104,
          2.14122780521598,
          1.0733128555117888,
          0.27444527249127393,
          0.6563412585849486,
          1.4738489743011085,
          0.8162248511853,
          -0.023639827496879096,
          -1.1524174323765721,
          1.1544843796254285,
          0.6349007148210998,
          -0.42040009512628596,
          0.5332124958532438,
          0.18731084191011768,
          1.7839781287907115,
          -0.8183887113044076,
          -2.125113575006204,
          -0.6623622152349681,
          0.2544601036989139,
          -0.266956137447952,
          -2.276830867929495,
          -1.3730753639964646,
          0.5305412588548238,
          -0.15929777998470598,
          -0.020193204841813105,
          0.7880632917690479,
          -1.03187439972173,
          0.5883059443015611,
          -1.274642879856355,
          -0.1655179971723056,
          0.5300027728492482,
          1.0120393877081773,
          -1.010594656701156,
          1.1840045052728227,
          -0.04320422282512258,
          -0.47343469541255145,
          -0.042216166470314745,
          -0.19751047941944336,
          1.932345240592702,
          0.04890264369823737,
          -1.6825419558962336,
          0.49681338245477213,
          -0.07113030466801781,
          -0.7908288082449095,
          -0.9634210464298072,
          0.9508462986024796,
          -1.6858167419150096,
          -0.883716779881633,
          -1.725182281318085,
          -1.2413407406529693,
          -0.2666167097502255,
          -0.5064374397054949,
          -0.359824866439955,
          -0.7634820300070232,
          0.0779983988924154,
          0.4877975848545077,
          1.4932085199422698,
          -1.780522505067473,
          0.9790035075865777,
          -1.1721292047493173,
          -0.8155284297572379,
          0.6871800721974252,
          0.38965151537552983,
          2.1409590283144837,
          -0.656023588618697
         ]
        },
        {
         "boxpoints": false,
         "line": {
          "width": 1.3
         },
         "marker": {
          "color": "rgba(128, 0, 128, 1.0)"
         },
         "name": "D",
         "orientation": "v",
         "type": "box",
         "y": [
          -0.9750369482571805,
          0.44564483517238895,
          -0.04690236468163629,
          -0.4670170692687393,
          -0.1771939426737461,
          0.28995461269436185,
          -0.6072185391411775,
          -2.0038471872764316,
          -0.3984200485520013,
          0.2530989836036288,
          -0.38738075645647285,
          -0.42470446108817556,
          -0.9334203848128355,
          -0.14675971813447655,
          0.7579723652270303,
          0.1367544916571995,
          -0.9377777223301385,
          -0.4778326723692581,
          -1.12664931780653,
          -0.9619967388777854,
          0.8843338255131576,
          1.8682683644749403,
          0.9755485156936052,
          0.6916841407329196,
          -0.0785267768598687,
          -0.9812008250308394,
          -0.8382223509172964,
          -0.7012489733232544,
          0.603546222544028,
          0.38802526719044583,
          -1.20731830156207,
          -0.030074108263952917,
          -0.15590598924350277,
          0.3937300511303707,
          0.6992571801570834,
          0.27562181548345377,
          0.44021509881888027,
          -1.9442264672488656,
          -1.369989009146285,
          -0.8122354577178308,
          1.9081177845994124,
          -0.26846509724183537,
          0.5125392141962625,
          0.43239837553775085,
          1.0097436496473493,
          0.25039336200695067,
          -0.7604523572732129,
          0.8914736977749184,
          -0.21525067218547833,
          0.5828332215766223,
          -0.7283162787867422,
          1.6920346940264834,
          1.6248413994097453,
          -0.2847748335915226,
          -0.5176913703080036,
          0.7418939567180273,
          1.1135475692923003,
          0.9188923597775859,
          2.3063456376825995,
          -1.6281491014697183,
          0.05050564268896923,
          1.649543240232205,
          1.3204806527197694,
          -0.6460699074991205,
          -2.5614296506896155,
          1.3361610618561828,
          0.4350189125972323,
          -0.37198414042857364,
          -0.03066118450093699,
          -0.6259564066025849,
          0.0779255760166714,
          1.338223093837399,
          -0.8398430223702961,
          -0.10083418068558023,
          0.5178637029677866,
          0.7994749757691799,
          -0.41030577553683223,
          -1.0649799581944792,
          0.31453204785310873,
          0.36918550654368415,
          1.939477114708438,
          0.3975126853418298,
          -0.036380617845962845,
          -0.7049669404699344,
          0.8254017815892944,
          -0.8330042258973517,
          -0.3722881175388645,
          -2.304464011732134,
          1.7234122354590147,
          -1.7260726764377887,
          -1.0661196803995696,
          0.9162617863119996,
          -1.365011494760737,
          0.5702598029292324,
          -1.8267900616514687,
          0.7578403650645467,
          0.8224981451202354,
          0.18645637110353322,
          0.09431976616585055,
          -0.029247149045171603
         ]
        }
       ],
       "layout": {
        "legend": {
         "bgcolor": "#F5F6F9",
         "font": {
          "color": "#4D5663"
         }
        },
        "paper_bgcolor": "#F5F6F9",
        "plot_bgcolor": "#F5F6F9",
        "template": {
         "data": {
          "bar": [
           {
            "error_x": {
             "color": "#2a3f5f"
            },
            "error_y": {
             "color": "#2a3f5f"
            },
            "marker": {
             "line": {
              "color": "#E5ECF6",
              "width": 0.5
             }
            },
            "type": "bar"
           }
          ],
          "barpolar": [
           {
            "marker": {
             "line": {
              "color": "#E5ECF6",
              "width": 0.5
             }
            },
            "type": "barpolar"
           }
          ],
          "carpet": [
           {
            "aaxis": {
             "endlinecolor": "#2a3f5f",
             "gridcolor": "white",
             "linecolor": "white",
             "minorgridcolor": "white",
             "startlinecolor": "#2a3f5f"
            },
            "baxis": {
             "endlinecolor": "#2a3f5f",
             "gridcolor": "white",
             "linecolor": "white",
             "minorgridcolor": "white",
             "startlinecolor": "#2a3f5f"
            },
            "type": "carpet"
           }
          ],
          "choropleth": [
           {
            "colorbar": {
             "outlinewidth": 0,
             "ticks": ""
            },
            "type": "choropleth"
           }
          ],
          "contour": [
           {
            "colorbar": {
             "outlinewidth": 0,
             "ticks": ""
            },
            "colorscale": [
             [
              0,
              "#0d0887"
             ],
             [
              0.1111111111111111,
              "#46039f"
             ],
             [
              0.2222222222222222,
              "#7201a8"
             ],
             [
              0.3333333333333333,
              "#9c179e"
             ],
             [
              0.4444444444444444,
              "#bd3786"
             ],
             [
              0.5555555555555556,
              "#d8576b"
             ],
             [
              0.6666666666666666,
              "#ed7953"
             ],
             [
              0.7777777777777778,
              "#fb9f3a"
             ],
             [
              0.8888888888888888,
              "#fdca26"
             ],
             [
              1,
              "#f0f921"
             ]
            ],
            "type": "contour"
           }
          ],
          "contourcarpet": [
           {
            "colorbar": {
             "outlinewidth": 0,
             "ticks": ""
            },
            "type": "contourcarpet"
           }
          ],
          "heatmap": [
           {
            "colorbar": {
             "outlinewidth": 0,
             "ticks": ""
            },
            "colorscale": [
             [
              0,
              "#0d0887"
             ],
             [
              0.1111111111111111,
              "#46039f"
             ],
             [
              0.2222222222222222,
              "#7201a8"
             ],
             [
              0.3333333333333333,
              "#9c179e"
             ],
             [
              0.4444444444444444,
              "#bd3786"
             ],
             [
              0.5555555555555556,
              "#d8576b"
             ],
             [
              0.6666666666666666,
              "#ed7953"
             ],
             [
              0.7777777777777778,
              "#fb9f3a"
             ],
             [
              0.8888888888888888,
              "#fdca26"
             ],
             [
              1,
              "#f0f921"
             ]
            ],
            "type": "heatmap"
           }
          ],
          "heatmapgl": [
           {
            "colorbar": {
             "outlinewidth": 0,
             "ticks": ""
            },
            "colorscale": [
             [
              0,
              "#0d0887"
             ],
             [
              0.1111111111111111,
              "#46039f"
             ],
             [
              0.2222222222222222,
              "#7201a8"
             ],
             [
              0.3333333333333333,
              "#9c179e"
             ],
             [
              0.4444444444444444,
              "#bd3786"
             ],
             [
              0.5555555555555556,
              "#d8576b"
             ],
             [
              0.6666666666666666,
              "#ed7953"
             ],
             [
              0.7777777777777778,
              "#fb9f3a"
             ],
             [
              0.8888888888888888,
              "#fdca26"
             ],
             [
              1,
              "#f0f921"
             ]
            ],
            "type": "heatmapgl"
           }
          ],
          "histogram": [
           {
            "marker": {
             "colorbar": {
              "outlinewidth": 0,
              "ticks": ""
             }
            },
            "type": "histogram"
           }
          ],
          "histogram2d": [
           {
            "colorbar": {
             "outlinewidth": 0,
             "ticks": ""
            },
            "colorscale": [
             [
              0,
              "#0d0887"
             ],
             [
              0.1111111111111111,
              "#46039f"
             ],
             [
              0.2222222222222222,
              "#7201a8"
             ],
             [
              0.3333333333333333,
              "#9c179e"
             ],
             [
              0.4444444444444444,
              "#bd3786"
             ],
             [
              0.5555555555555556,
              "#d8576b"
             ],
             [
              0.6666666666666666,
              "#ed7953"
             ],
             [
              0.7777777777777778,
              "#fb9f3a"
             ],
             [
              0.8888888888888888,
              "#fdca26"
             ],
             [
              1,
              "#f0f921"
             ]
            ],
            "type": "histogram2d"
           }
          ],
          "histogram2dcontour": [
           {
            "colorbar": {
             "outlinewidth": 0,
             "ticks": ""
            },
            "colorscale": [
             [
              0,
              "#0d0887"
             ],
             [
              0.1111111111111111,
              "#46039f"
             ],
             [
              0.2222222222222222,
              "#7201a8"
             ],
             [
              0.3333333333333333,
              "#9c179e"
             ],
             [
              0.4444444444444444,
              "#bd3786"
             ],
             [
              0.5555555555555556,
              "#d8576b"
             ],
             [
              0.6666666666666666,
              "#ed7953"
             ],
             [
              0.7777777777777778,
              "#fb9f3a"
             ],
             [
              0.8888888888888888,
              "#fdca26"
             ],
             [
              1,
              "#f0f921"
             ]
            ],
            "type": "histogram2dcontour"
           }
          ],
          "mesh3d": [
           {
            "colorbar": {
             "outlinewidth": 0,
             "ticks": ""
            },
            "type": "mesh3d"
           }
          ],
          "parcoords": [
           {
            "line": {
             "colorbar": {
              "outlinewidth": 0,
              "ticks": ""
             }
            },
            "type": "parcoords"
           }
          ],
          "pie": [
           {
            "automargin": true,
            "type": "pie"
           }
          ],
          "scatter": [
           {
            "marker": {
             "colorbar": {
              "outlinewidth": 0,
              "ticks": ""
             }
            },
            "type": "scatter"
           }
          ],
          "scatter3d": [
           {
            "line": {
             "colorbar": {
              "outlinewidth": 0,
              "ticks": ""
             }
            },
            "marker": {
             "colorbar": {
              "outlinewidth": 0,
              "ticks": ""
             }
            },
            "type": "scatter3d"
           }
          ],
          "scattercarpet": [
           {
            "marker": {
             "colorbar": {
              "outlinewidth": 0,
              "ticks": ""
             }
            },
            "type": "scattercarpet"
           }
          ],
          "scattergeo": [
           {
            "marker": {
             "colorbar": {
              "outlinewidth": 0,
              "ticks": ""
             }
            },
            "type": "scattergeo"
           }
          ],
          "scattergl": [
           {
            "marker": {
             "colorbar": {
              "outlinewidth": 0,
              "ticks": ""
             }
            },
            "type": "scattergl"
           }
          ],
          "scattermapbox": [
           {
            "marker": {
             "colorbar": {
              "outlinewidth": 0,
              "ticks": ""
             }
            },
            "type": "scattermapbox"
           }
          ],
          "scatterpolar": [
           {
            "marker": {
             "colorbar": {
              "outlinewidth": 0,
              "ticks": ""
             }
            },
            "type": "scatterpolar"
           }
          ],
          "scatterpolargl": [
           {
            "marker": {
             "colorbar": {
              "outlinewidth": 0,
              "ticks": ""
             }
            },
            "type": "scatterpolargl"
           }
          ],
          "scatterternary": [
           {
            "marker": {
             "colorbar": {
              "outlinewidth": 0,
              "ticks": ""
             }
            },
            "type": "scatterternary"
           }
          ],
          "surface": [
           {
            "colorbar": {
             "outlinewidth": 0,
             "ticks": ""
            },
            "colorscale": [
             [
              0,
              "#0d0887"
             ],
             [
              0.1111111111111111,
              "#46039f"
             ],
             [
              0.2222222222222222,
              "#7201a8"
             ],
             [
              0.3333333333333333,
              "#9c179e"
             ],
             [
              0.4444444444444444,
              "#bd3786"
             ],
             [
              0.5555555555555556,
              "#d8576b"
             ],
             [
              0.6666666666666666,
              "#ed7953"
             ],
             [
              0.7777777777777778,
              "#fb9f3a"
             ],
             [
              0.8888888888888888,
              "#fdca26"
             ],
             [
              1,
              "#f0f921"
             ]
            ],
            "type": "surface"
           }
          ],
          "table": [
           {
            "cells": {
             "fill": {
              "color": "#EBF0F8"
             },
             "line": {
              "color": "white"
             }
            },
            "header": {
             "fill": {
              "color": "#C8D4E3"
             },
             "line": {
              "color": "white"
             }
            },
            "type": "table"
           }
          ]
         },
         "layout": {
          "annotationdefaults": {
           "arrowcolor": "#2a3f5f",
           "arrowhead": 0,
           "arrowwidth": 1
          },
          "coloraxis": {
           "colorbar": {
            "outlinewidth": 0,
            "ticks": ""
           }
          },
          "colorscale": {
           "diverging": [
            [
             0,
             "#8e0152"
            ],
            [
             0.1,
             "#c51b7d"
            ],
            [
             0.2,
             "#de77ae"
            ],
            [
             0.3,
             "#f1b6da"
            ],
            [
             0.4,
             "#fde0ef"
            ],
            [
             0.5,
             "#f7f7f7"
            ],
            [
             0.6,
             "#e6f5d0"
            ],
            [
             0.7,
             "#b8e186"
            ],
            [
             0.8,
             "#7fbc41"
            ],
            [
             0.9,
             "#4d9221"
            ],
            [
             1,
             "#276419"
            ]
           ],
           "sequential": [
            [
             0,
             "#0d0887"
            ],
            [
             0.1111111111111111,
             "#46039f"
            ],
            [
             0.2222222222222222,
             "#7201a8"
            ],
            [
             0.3333333333333333,
             "#9c179e"
            ],
            [
             0.4444444444444444,
             "#bd3786"
            ],
            [
             0.5555555555555556,
             "#d8576b"
            ],
            [
             0.6666666666666666,
             "#ed7953"
            ],
            [
             0.7777777777777778,
             "#fb9f3a"
            ],
            [
             0.8888888888888888,
             "#fdca26"
            ],
            [
             1,
             "#f0f921"
            ]
           ],
           "sequentialminus": [
            [
             0,
             "#0d0887"
            ],
            [
             0.1111111111111111,
             "#46039f"
            ],
            [
             0.2222222222222222,
             "#7201a8"
            ],
            [
             0.3333333333333333,
             "#9c179e"
            ],
            [
             0.4444444444444444,
             "#bd3786"
            ],
            [
             0.5555555555555556,
             "#d8576b"
            ],
            [
             0.6666666666666666,
             "#ed7953"
            ],
            [
             0.7777777777777778,
             "#fb9f3a"
            ],
            [
             0.8888888888888888,
             "#fdca26"
            ],
            [
             1,
             "#f0f921"
            ]
           ]
          },
          "colorway": [
           "#636efa",
           "#EF553B",
           "#00cc96",
           "#ab63fa",
           "#FFA15A",
           "#19d3f3",
           "#FF6692",
           "#B6E880",
           "#FF97FF",
           "#FECB52"
          ],
          "font": {
           "color": "#2a3f5f"
          },
          "geo": {
           "bgcolor": "white",
           "lakecolor": "white",
           "landcolor": "#E5ECF6",
           "showlakes": true,
           "showland": true,
           "subunitcolor": "white"
          },
          "hoverlabel": {
           "align": "left"
          },
          "hovermode": "closest",
          "mapbox": {
           "style": "light"
          },
          "paper_bgcolor": "white",
          "plot_bgcolor": "#E5ECF6",
          "polar": {
           "angularaxis": {
            "gridcolor": "white",
            "linecolor": "white",
            "ticks": ""
           },
           "bgcolor": "#E5ECF6",
           "radialaxis": {
            "gridcolor": "white",
            "linecolor": "white",
            "ticks": ""
           }
          },
          "scene": {
           "xaxis": {
            "backgroundcolor": "#E5ECF6",
            "gridcolor": "white",
            "gridwidth": 2,
            "linecolor": "white",
            "showbackground": true,
            "ticks": "",
            "zerolinecolor": "white"
           },
           "yaxis": {
            "backgroundcolor": "#E5ECF6",
            "gridcolor": "white",
            "gridwidth": 2,
            "linecolor": "white",
            "showbackground": true,
            "ticks": "",
            "zerolinecolor": "white"
           },
           "zaxis": {
            "backgroundcolor": "#E5ECF6",
            "gridcolor": "white",
            "gridwidth": 2,
            "linecolor": "white",
            "showbackground": true,
            "ticks": "",
            "zerolinecolor": "white"
           }
          },
          "shapedefaults": {
           "line": {
            "color": "#2a3f5f"
           }
          },
          "ternary": {
           "aaxis": {
            "gridcolor": "white",
            "linecolor": "white",
            "ticks": ""
           },
           "baxis": {
            "gridcolor": "white",
            "linecolor": "white",
            "ticks": ""
           },
           "bgcolor": "#E5ECF6",
           "caxis": {
            "gridcolor": "white",
            "linecolor": "white",
            "ticks": ""
           }
          },
          "title": {
           "x": 0.05
          },
          "xaxis": {
           "automargin": true,
           "gridcolor": "white",
           "linecolor": "white",
           "ticks": "",
           "title": {
            "standoff": 15
           },
           "zerolinecolor": "white",
           "zerolinewidth": 2
          },
          "yaxis": {
           "automargin": true,
           "gridcolor": "white",
           "linecolor": "white",
           "ticks": "",
           "title": {
            "standoff": 15
           },
           "zerolinecolor": "white",
           "zerolinewidth": 2
          }
         }
        },
        "title": {
         "font": {
          "color": "#4D5663"
         }
        },
        "xaxis": {
         "gridcolor": "#E1E5ED",
         "showgrid": true,
         "tickfont": {
          "color": "#4D5663"
         },
         "title": {
          "font": {
           "color": "#4D5663"
          },
          "text": ""
         },
         "zerolinecolor": "#E1E5ED"
        },
        "yaxis": {
         "gridcolor": "#E1E5ED",
         "showgrid": true,
         "tickfont": {
          "color": "#4D5663"
         },
         "title": {
          "font": {
           "color": "#4D5663"
          },
          "text": ""
         },
         "zerolinecolor": "#E1E5ED"
        }
       }
      },
      "text/html": [
       "<div>\n",
       "        \n",
       "        \n",
       "            <div id=\"831ca83d-5f4b-491d-84f3-578629014771\" class=\"plotly-graph-div\" style=\"height:525px; width:100%;\"></div>\n",
       "            <script type=\"text/javascript\">\n",
       "                require([\"plotly\"], function(Plotly) {\n",
       "                    window.PLOTLYENV=window.PLOTLYENV || {};\n",
       "                    window.PLOTLYENV.BASE_URL='https://plot.ly';\n",
       "                    \n",
       "                if (document.getElementById(\"831ca83d-5f4b-491d-84f3-578629014771\")) {\n",
       "                    Plotly.newPlot(\n",
       "                        '831ca83d-5f4b-491d-84f3-578629014771',\n",
       "                        [{\"boxpoints\": false, \"line\": {\"width\": 1.3}, \"marker\": {\"color\": \"rgba(255, 153, 51, 1.0)\"}, \"name\": \"A\", \"orientation\": \"v\", \"type\": \"box\", \"y\": [0.6365076909941588, -0.4737602015567025, -0.4931937653649986, -1.002162685929863, -1.390694581240618, 0.2624767228460955, 0.06342727286886606, 0.34217472462690585, 2.961132768508034, -0.8620975059326305, 0.4553717205546613, 1.267344265809088, 0.5574464676557171, 1.7650668089058499, -0.6602427071795416, 0.2578219133046646, -0.17263289964841197, -0.11238959064405796, 0.8695860480867245, 0.40840660774229726, -1.0684251725049163, -0.9785793326058884, 0.5931279441105388, -0.5737552603070895, 0.9117283650804772, 0.6474425728966579, -0.5038442677636253, -1.1008455274698403, 0.6251097854408026, 0.9860855829234931, -0.3519782030631685, 0.2043298737212113, -0.6511487116247198, -0.47613929479990535, -1.1726127112294482, 1.5612251685295533, 0.4022976345568017, 1.1566765718193304, 0.031117966223119534, -0.865882402029834, -0.5233903441757728, -1.0054595647259312, -0.11632633713897635, -0.5384467568825115, 0.4677278114296954, 0.5387522859610423, 0.5311214184901931, 0.8542591407697975, -0.9803545984510883, 1.3106925029212348, -0.19232021685687745, -0.14569136160329985, -0.7146824851366995, -0.4786817591587508, 0.7235332743737379, -0.41712017043221844, -1.6019352807092222, -0.9343856342604369, 0.7247039771128864, 0.7123562356757894, 0.7120993540271149, -0.5936962306733344, -1.0826130603973108, 0.5248478277685283, -0.26026561529029024, 1.9453734300618395, 1.5188109407529324, 0.14475730152800026, -1.6548732265850479, 0.6418646400314986, -0.7004102844625567, 0.7719183108008424, 2.108988390018506, 0.12790582165533965, -0.2526413569711868, -1.6127100179913447, -0.5658126567820971, -0.5211460165079267, -0.013759130888993939, -0.950487694184885, 1.4552606561594668, 0.5982889285689689, -0.1538747388728679, 0.5353219782660327, -1.072228923525188, 0.6752160523044004, 0.24625540085408443, 0.6505484803196946, 0.4229194966060065, -1.0724186747068731, -0.16874383355845157, -0.0940723852561799, 0.37650510210813215, 0.767056661576872, -0.4656164665448851, -1.9626738276966944, 1.0248645009802317, 1.379185464478099, -0.4591747868219548, -1.447144900286262]}, {\"boxpoints\": false, \"line\": {\"width\": 1.3}, \"marker\": {\"color\": \"rgba(55, 128, 191, 1.0)\"}, \"name\": \"B\", \"orientation\": \"v\", \"type\": \"box\", \"y\": [-1.699160123201898, 0.10195242313344324, -0.715193282859542, -0.05758164445290634, -0.7398838201640815, -0.9753799755866359, 0.8183654763925532, 0.1486272764042706, 0.6221571419621349, -0.37471837838608657, 1.9241212173882782, -1.9260174834904287, 0.32772542746581956, -0.09062108554739637, -0.6222192316499369, 0.4104827707197747, -1.4767599860217084, 0.31680009657810904, 0.5841423976591886, -1.3363186893647179, -1.481470205733003, 1.2913557909132023, -0.15965674908185673, -0.10885642874825817, 2.0613253401745855, 0.038873891107819594, -1.5572032020558468, -0.5267363266605407, 1.052086043605771, 0.4837147591298685, -1.4485465294093376, -1.1363178025139544, 0.2901075938884033, 0.012764228316333356, 0.02544130910202635, -0.15285526945192568, -0.8437747538133651, -1.1579133835179825, 0.522936718836919, -1.4418531014659357, 0.7713240245097688, 1.1488990205107918, 1.1101684578089406, -0.4050508092025551, -1.6736673382534208, -1.5296412988754375, -1.1170745972955312, 0.13781739088902767, 1.7624413863232378, 0.015527063547979406, 0.15625436224519249, -0.04377516577352025, 0.32170087033653894, -1.7352479949718995, 0.18631362955611921, -0.7761396929349504, 0.4184915730119552, 0.7679017692501251, 0.3516066556924101, 2.5166163139814217, -0.19150616919534597, -0.34422152499462955, -1.1932959160998728, -1.8523321507164985, -0.27312156355546313, -0.22788721727855377, 0.512958656095611, 0.23772762819035506, 0.18044282339924814, 1.1796934451453305, -0.5964857390108925, -0.27841196090719744, -0.8782503319309752, 0.2736168298650118, -0.086012008879998, -0.2697772277356776, -0.8559941288110947, 0.7505650594336027, 0.5084568806815066, -0.20824438201256085, -0.16081498584325604, -1.1191291600558322, -1.9035185519084472, -1.8106091203457362, 0.3006649895466276, 1.3198926705225342, -1.5284218485847, -1.4851131995836924, 0.7097055112534987, -0.03900819833655198, -1.1649509319624074, -0.7128547871284446, 0.7432408339507162, 0.22267418896844912, 0.8093301395612484, 1.1075428522852886, -0.8891409413426854, 0.7674768130934316, 0.17700574880002642, 1.2579022924495926]}, {\"boxpoints\": false, \"line\": {\"width\": 1.3}, \"marker\": {\"color\": \"rgba(50, 171, 96, 1.0)\"}, \"name\": \"C\", \"orientation\": \"v\", \"type\": \"box\", \"y\": [1.9018381107211506, 0.0661887770795712, -0.6907923912196057, -0.6787021107040709, 1.6626242744283832, 0.07911174543452498, 0.8961493719877067, 1.6626899962684787, -1.039388186859393, -1.0165813778214088, 1.057748496385511, -0.09627782791253724, 1.1699296868199236, -0.9403722978654238, 0.6688891209913608, -1.6220758768730354, 1.4335054635094144, -0.15364540567302598, -0.24383048606947888, -1.003086243171056, -1.2529035737657532, -0.8622997262061329, -0.0205042689814447, -0.577432743168765, -0.08404721858285126, 0.17256271371717888, -0.6284522868119045, 0.9053893732895225, -0.615368509084066, -0.05029608378329362, -0.7420781697708273, 0.02465312848982948, -0.11916547751946559, -0.2403704203979564, 1.0422556178264082, 1.1026273410487104, 2.14122780521598, 1.0733128555117888, 0.27444527249127393, 0.6563412585849486, 1.4738489743011085, 0.8162248511853, -0.023639827496879096, -1.1524174323765721, 1.1544843796254285, 0.6349007148210998, -0.42040009512628596, 0.5332124958532438, 0.18731084191011768, 1.7839781287907115, -0.8183887113044076, -2.125113575006204, -0.6623622152349681, 0.2544601036989139, -0.266956137447952, -2.276830867929495, -1.3730753639964646, 0.5305412588548238, -0.15929777998470598, -0.020193204841813105, 0.7880632917690479, -1.03187439972173, 0.5883059443015611, -1.274642879856355, -0.1655179971723056, 0.5300027728492482, 1.0120393877081773, -1.010594656701156, 1.1840045052728227, -0.04320422282512258, -0.47343469541255145, -0.042216166470314745, -0.19751047941944336, 1.932345240592702, 0.04890264369823737, -1.6825419558962336, 0.49681338245477213, -0.07113030466801781, -0.7908288082449095, -0.9634210464298072, 0.9508462986024796, -1.6858167419150096, -0.883716779881633, -1.725182281318085, -1.2413407406529693, -0.2666167097502255, -0.5064374397054949, -0.359824866439955, -0.7634820300070232, 0.0779983988924154, 0.4877975848545077, 1.4932085199422698, -1.780522505067473, 0.9790035075865777, -1.1721292047493173, -0.8155284297572379, 0.6871800721974252, 0.38965151537552983, 2.1409590283144837, -0.656023588618697]}, {\"boxpoints\": false, \"line\": {\"width\": 1.3}, \"marker\": {\"color\": \"rgba(128, 0, 128, 1.0)\"}, \"name\": \"D\", \"orientation\": \"v\", \"type\": \"box\", \"y\": [-0.9750369482571805, 0.44564483517238895, -0.04690236468163629, -0.4670170692687393, -0.1771939426737461, 0.28995461269436185, -0.6072185391411775, -2.0038471872764316, -0.3984200485520013, 0.2530989836036288, -0.38738075645647285, -0.42470446108817556, -0.9334203848128355, -0.14675971813447655, 0.7579723652270303, 0.1367544916571995, -0.9377777223301385, -0.4778326723692581, -1.12664931780653, -0.9619967388777854, 0.8843338255131576, 1.8682683644749403, 0.9755485156936052, 0.6916841407329196, -0.0785267768598687, -0.9812008250308394, -0.8382223509172964, -0.7012489733232544, 0.603546222544028, 0.38802526719044583, -1.20731830156207, -0.030074108263952917, -0.15590598924350277, 0.3937300511303707, 0.6992571801570834, 0.27562181548345377, 0.44021509881888027, -1.9442264672488656, -1.369989009146285, -0.8122354577178308, 1.9081177845994124, -0.26846509724183537, 0.5125392141962625, 0.43239837553775085, 1.0097436496473493, 0.25039336200695067, -0.7604523572732129, 0.8914736977749184, -0.21525067218547833, 0.5828332215766223, -0.7283162787867422, 1.6920346940264834, 1.6248413994097453, -0.2847748335915226, -0.5176913703080036, 0.7418939567180273, 1.1135475692923003, 0.9188923597775859, 2.3063456376825995, -1.6281491014697183, 0.05050564268896923, 1.649543240232205, 1.3204806527197694, -0.6460699074991205, -2.5614296506896155, 1.3361610618561828, 0.4350189125972323, -0.37198414042857364, -0.03066118450093699, -0.6259564066025849, 0.0779255760166714, 1.338223093837399, -0.8398430223702961, -0.10083418068558023, 0.5178637029677866, 0.7994749757691799, -0.41030577553683223, -1.0649799581944792, 0.31453204785310873, 0.36918550654368415, 1.939477114708438, 0.3975126853418298, -0.036380617845962845, -0.7049669404699344, 0.8254017815892944, -0.8330042258973517, -0.3722881175388645, -2.304464011732134, 1.7234122354590147, -1.7260726764377887, -1.0661196803995696, 0.9162617863119996, -1.365011494760737, 0.5702598029292324, -1.8267900616514687, 0.7578403650645467, 0.8224981451202354, 0.18645637110353322, 0.09431976616585055, -0.029247149045171603]}],\n",
       "                        {\"legend\": {\"bgcolor\": \"#F5F6F9\", \"font\": {\"color\": \"#4D5663\"}}, \"paper_bgcolor\": \"#F5F6F9\", \"plot_bgcolor\": \"#F5F6F9\", \"template\": {\"data\": {\"bar\": [{\"error_x\": {\"color\": \"#2a3f5f\"}, \"error_y\": {\"color\": \"#2a3f5f\"}, \"marker\": {\"line\": {\"color\": \"#E5ECF6\", \"width\": 0.5}}, \"type\": \"bar\"}], \"barpolar\": [{\"marker\": {\"line\": {\"color\": \"#E5ECF6\", \"width\": 0.5}}, \"type\": \"barpolar\"}], \"carpet\": [{\"aaxis\": {\"endlinecolor\": \"#2a3f5f\", \"gridcolor\": \"white\", \"linecolor\": \"white\", \"minorgridcolor\": \"white\", \"startlinecolor\": \"#2a3f5f\"}, \"baxis\": {\"endlinecolor\": \"#2a3f5f\", \"gridcolor\": \"white\", \"linecolor\": \"white\", \"minorgridcolor\": \"white\", \"startlinecolor\": \"#2a3f5f\"}, \"type\": \"carpet\"}], \"choropleth\": [{\"colorbar\": {\"outlinewidth\": 0, \"ticks\": \"\"}, \"type\": \"choropleth\"}], \"contour\": [{\"colorbar\": {\"outlinewidth\": 0, \"ticks\": \"\"}, \"colorscale\": [[0.0, \"#0d0887\"], [0.1111111111111111, \"#46039f\"], [0.2222222222222222, \"#7201a8\"], [0.3333333333333333, \"#9c179e\"], [0.4444444444444444, \"#bd3786\"], [0.5555555555555556, \"#d8576b\"], [0.6666666666666666, \"#ed7953\"], [0.7777777777777778, \"#fb9f3a\"], [0.8888888888888888, \"#fdca26\"], [1.0, \"#f0f921\"]], \"type\": \"contour\"}], \"contourcarpet\": [{\"colorbar\": {\"outlinewidth\": 0, \"ticks\": \"\"}, \"type\": \"contourcarpet\"}], \"heatmap\": [{\"colorbar\": {\"outlinewidth\": 0, \"ticks\": \"\"}, \"colorscale\": [[0.0, \"#0d0887\"], [0.1111111111111111, \"#46039f\"], [0.2222222222222222, \"#7201a8\"], [0.3333333333333333, \"#9c179e\"], [0.4444444444444444, \"#bd3786\"], [0.5555555555555556, \"#d8576b\"], [0.6666666666666666, \"#ed7953\"], [0.7777777777777778, \"#fb9f3a\"], [0.8888888888888888, \"#fdca26\"], [1.0, \"#f0f921\"]], \"type\": \"heatmap\"}], \"heatmapgl\": [{\"colorbar\": {\"outlinewidth\": 0, \"ticks\": \"\"}, \"colorscale\": [[0.0, \"#0d0887\"], [0.1111111111111111, \"#46039f\"], [0.2222222222222222, \"#7201a8\"], [0.3333333333333333, \"#9c179e\"], [0.4444444444444444, \"#bd3786\"], [0.5555555555555556, \"#d8576b\"], [0.6666666666666666, \"#ed7953\"], [0.7777777777777778, \"#fb9f3a\"], [0.8888888888888888, \"#fdca26\"], [1.0, \"#f0f921\"]], \"type\": \"heatmapgl\"}], \"histogram\": [{\"marker\": {\"colorbar\": {\"outlinewidth\": 0, \"ticks\": \"\"}}, \"type\": \"histogram\"}], \"histogram2d\": [{\"colorbar\": {\"outlinewidth\": 0, \"ticks\": \"\"}, \"colorscale\": [[0.0, \"#0d0887\"], [0.1111111111111111, \"#46039f\"], [0.2222222222222222, \"#7201a8\"], [0.3333333333333333, \"#9c179e\"], [0.4444444444444444, \"#bd3786\"], [0.5555555555555556, \"#d8576b\"], [0.6666666666666666, \"#ed7953\"], [0.7777777777777778, \"#fb9f3a\"], [0.8888888888888888, \"#fdca26\"], [1.0, \"#f0f921\"]], \"type\": \"histogram2d\"}], \"histogram2dcontour\": [{\"colorbar\": {\"outlinewidth\": 0, \"ticks\": \"\"}, \"colorscale\": [[0.0, \"#0d0887\"], [0.1111111111111111, \"#46039f\"], [0.2222222222222222, \"#7201a8\"], [0.3333333333333333, \"#9c179e\"], [0.4444444444444444, \"#bd3786\"], [0.5555555555555556, \"#d8576b\"], [0.6666666666666666, \"#ed7953\"], [0.7777777777777778, \"#fb9f3a\"], [0.8888888888888888, \"#fdca26\"], [1.0, \"#f0f921\"]], \"type\": \"histogram2dcontour\"}], \"mesh3d\": [{\"colorbar\": {\"outlinewidth\": 0, \"ticks\": \"\"}, \"type\": \"mesh3d\"}], \"parcoords\": [{\"line\": {\"colorbar\": {\"outlinewidth\": 0, \"ticks\": \"\"}}, \"type\": \"parcoords\"}], \"pie\": [{\"automargin\": true, \"type\": \"pie\"}], \"scatter\": [{\"marker\": {\"colorbar\": {\"outlinewidth\": 0, \"ticks\": \"\"}}, \"type\": \"scatter\"}], \"scatter3d\": [{\"line\": {\"colorbar\": {\"outlinewidth\": 0, \"ticks\": \"\"}}, \"marker\": {\"colorbar\": {\"outlinewidth\": 0, \"ticks\": \"\"}}, \"type\": \"scatter3d\"}], \"scattercarpet\": [{\"marker\": {\"colorbar\": {\"outlinewidth\": 0, \"ticks\": \"\"}}, \"type\": \"scattercarpet\"}], \"scattergeo\": [{\"marker\": {\"colorbar\": {\"outlinewidth\": 0, \"ticks\": \"\"}}, \"type\": \"scattergeo\"}], \"scattergl\": [{\"marker\": {\"colorbar\": {\"outlinewidth\": 0, \"ticks\": \"\"}}, \"type\": \"scattergl\"}], \"scattermapbox\": [{\"marker\": {\"colorbar\": {\"outlinewidth\": 0, \"ticks\": \"\"}}, \"type\": \"scattermapbox\"}], \"scatterpolar\": [{\"marker\": {\"colorbar\": {\"outlinewidth\": 0, \"ticks\": \"\"}}, \"type\": \"scatterpolar\"}], \"scatterpolargl\": [{\"marker\": {\"colorbar\": {\"outlinewidth\": 0, \"ticks\": \"\"}}, \"type\": \"scatterpolargl\"}], \"scatterternary\": [{\"marker\": {\"colorbar\": {\"outlinewidth\": 0, \"ticks\": \"\"}}, \"type\": \"scatterternary\"}], \"surface\": [{\"colorbar\": {\"outlinewidth\": 0, \"ticks\": \"\"}, \"colorscale\": [[0.0, \"#0d0887\"], [0.1111111111111111, \"#46039f\"], [0.2222222222222222, \"#7201a8\"], [0.3333333333333333, \"#9c179e\"], [0.4444444444444444, \"#bd3786\"], [0.5555555555555556, \"#d8576b\"], [0.6666666666666666, \"#ed7953\"], [0.7777777777777778, \"#fb9f3a\"], [0.8888888888888888, \"#fdca26\"], [1.0, \"#f0f921\"]], \"type\": \"surface\"}], \"table\": [{\"cells\": {\"fill\": {\"color\": \"#EBF0F8\"}, \"line\": {\"color\": \"white\"}}, \"header\": {\"fill\": {\"color\": \"#C8D4E3\"}, \"line\": {\"color\": \"white\"}}, \"type\": \"table\"}]}, \"layout\": {\"annotationdefaults\": {\"arrowcolor\": \"#2a3f5f\", \"arrowhead\": 0, \"arrowwidth\": 1}, \"coloraxis\": {\"colorbar\": {\"outlinewidth\": 0, \"ticks\": \"\"}}, \"colorscale\": {\"diverging\": [[0, \"#8e0152\"], [0.1, \"#c51b7d\"], [0.2, \"#de77ae\"], [0.3, \"#f1b6da\"], [0.4, \"#fde0ef\"], [0.5, \"#f7f7f7\"], [0.6, \"#e6f5d0\"], [0.7, \"#b8e186\"], [0.8, \"#7fbc41\"], [0.9, \"#4d9221\"], [1, \"#276419\"]], \"sequential\": [[0.0, \"#0d0887\"], [0.1111111111111111, \"#46039f\"], [0.2222222222222222, \"#7201a8\"], [0.3333333333333333, \"#9c179e\"], [0.4444444444444444, \"#bd3786\"], [0.5555555555555556, \"#d8576b\"], [0.6666666666666666, \"#ed7953\"], [0.7777777777777778, \"#fb9f3a\"], [0.8888888888888888, \"#fdca26\"], [1.0, \"#f0f921\"]], \"sequentialminus\": [[0.0, \"#0d0887\"], [0.1111111111111111, \"#46039f\"], [0.2222222222222222, \"#7201a8\"], [0.3333333333333333, \"#9c179e\"], [0.4444444444444444, \"#bd3786\"], [0.5555555555555556, \"#d8576b\"], [0.6666666666666666, \"#ed7953\"], [0.7777777777777778, \"#fb9f3a\"], [0.8888888888888888, \"#fdca26\"], [1.0, \"#f0f921\"]]}, \"colorway\": [\"#636efa\", \"#EF553B\", \"#00cc96\", \"#ab63fa\", \"#FFA15A\", \"#19d3f3\", \"#FF6692\", \"#B6E880\", \"#FF97FF\", \"#FECB52\"], \"font\": {\"color\": \"#2a3f5f\"}, \"geo\": {\"bgcolor\": \"white\", \"lakecolor\": \"white\", \"landcolor\": \"#E5ECF6\", \"showlakes\": true, \"showland\": true, \"subunitcolor\": \"white\"}, \"hoverlabel\": {\"align\": \"left\"}, \"hovermode\": \"closest\", \"mapbox\": {\"style\": \"light\"}, \"paper_bgcolor\": \"white\", \"plot_bgcolor\": \"#E5ECF6\", \"polar\": {\"angularaxis\": {\"gridcolor\": \"white\", \"linecolor\": \"white\", \"ticks\": \"\"}, \"bgcolor\": \"#E5ECF6\", \"radialaxis\": {\"gridcolor\": \"white\", \"linecolor\": \"white\", \"ticks\": \"\"}}, \"scene\": {\"xaxis\": {\"backgroundcolor\": \"#E5ECF6\", \"gridcolor\": \"white\", \"gridwidth\": 2, \"linecolor\": \"white\", \"showbackground\": true, \"ticks\": \"\", \"zerolinecolor\": \"white\"}, \"yaxis\": {\"backgroundcolor\": \"#E5ECF6\", \"gridcolor\": \"white\", \"gridwidth\": 2, \"linecolor\": \"white\", \"showbackground\": true, \"ticks\": \"\", \"zerolinecolor\": \"white\"}, \"zaxis\": {\"backgroundcolor\": \"#E5ECF6\", \"gridcolor\": \"white\", \"gridwidth\": 2, \"linecolor\": \"white\", \"showbackground\": true, \"ticks\": \"\", \"zerolinecolor\": \"white\"}}, \"shapedefaults\": {\"line\": {\"color\": \"#2a3f5f\"}}, \"ternary\": {\"aaxis\": {\"gridcolor\": \"white\", \"linecolor\": \"white\", \"ticks\": \"\"}, \"baxis\": {\"gridcolor\": \"white\", \"linecolor\": \"white\", \"ticks\": \"\"}, \"bgcolor\": \"#E5ECF6\", \"caxis\": {\"gridcolor\": \"white\", \"linecolor\": \"white\", \"ticks\": \"\"}}, \"title\": {\"x\": 0.05}, \"xaxis\": {\"automargin\": true, \"gridcolor\": \"white\", \"linecolor\": \"white\", \"ticks\": \"\", \"title\": {\"standoff\": 15}, \"zerolinecolor\": \"white\", \"zerolinewidth\": 2}, \"yaxis\": {\"automargin\": true, \"gridcolor\": \"white\", \"linecolor\": \"white\", \"ticks\": \"\", \"title\": {\"standoff\": 15}, \"zerolinecolor\": \"white\", \"zerolinewidth\": 2}}}, \"title\": {\"font\": {\"color\": \"#4D5663\"}}, \"xaxis\": {\"gridcolor\": \"#E1E5ED\", \"showgrid\": true, \"tickfont\": {\"color\": \"#4D5663\"}, \"title\": {\"font\": {\"color\": \"#4D5663\"}, \"text\": \"\"}, \"zerolinecolor\": \"#E1E5ED\"}, \"yaxis\": {\"gridcolor\": \"#E1E5ED\", \"showgrid\": true, \"tickfont\": {\"color\": \"#4D5663\"}, \"title\": {\"font\": {\"color\": \"#4D5663\"}, \"text\": \"\"}, \"zerolinecolor\": \"#E1E5ED\"}},\n",
       "                        {\"showLink\": true, \"linkText\": \"Export to plot.ly\", \"plotlyServerURL\": \"https://plot.ly\", \"responsive\": true}\n",
       "                    ).then(function(){\n",
       "                            \n",
       "var gd = document.getElementById('831ca83d-5f4b-491d-84f3-578629014771');\n",
       "var x = new MutationObserver(function (mutations, observer) {{\n",
       "        var display = window.getComputedStyle(gd).display;\n",
       "        if (!display || display === 'none') {{\n",
       "            console.log([gd, 'removed!']);\n",
       "            Plotly.purge(gd);\n",
       "            observer.disconnect();\n",
       "        }}\n",
       "}});\n",
       "\n",
       "// Listen for the removal of the full notebook cells\n",
       "var notebookContainer = gd.closest('#notebook-container');\n",
       "if (notebookContainer) {{\n",
       "    x.observe(notebookContainer, {childList: true});\n",
       "}}\n",
       "\n",
       "// Listen for the clearing of the current output cell\n",
       "var outputEl = gd.closest('.output');\n",
       "if (outputEl) {{\n",
       "    x.observe(outputEl, {childList: true});\n",
       "}}\n",
       "\n",
       "                        })\n",
       "                };\n",
       "                });\n",
       "            </script>\n",
       "        </div>"
      ]
     },
     "metadata": {},
     "output_type": "display_data"
    }
   ],
   "source": [
    "df.iplot(kind='box')"
   ]
  },
  {
   "cell_type": "markdown",
   "metadata": {},
   "source": [
    "## 3d Surface"
   ]
  },
  {
   "cell_type": "code",
   "execution_count": 14,
   "metadata": {},
   "outputs": [
    {
     "data": {
      "application/vnd.plotly.v1+json": {
       "config": {
        "linkText": "Export to plot.ly",
        "plotlyServerURL": "https://plot.ly",
        "showLink": true
       },
       "data": [
        {
         "colorscale": [
          [
           0,
           "rgb(165,0,38)"
          ],
          [
           0.1,
           "rgb(215,48,39)"
          ],
          [
           0.2,
           "rgb(244,109,67)"
          ],
          [
           0.3,
           "rgb(253,174,97)"
          ],
          [
           0.4,
           "rgb(254,224,144)"
          ],
          [
           0.5,
           "rgb(255,255,191)"
          ],
          [
           0.6,
           "rgb(224,243,248)"
          ],
          [
           0.7,
           "rgb(171,217,233)"
          ],
          [
           0.8,
           "rgb(116,173,209)"
          ],
          [
           0.9,
           "rgb(69,117,180)"
          ],
          [
           1,
           "rgb(49,54,149)"
          ]
         ],
         "type": "surface",
         "x": [
          0,
          1,
          2,
          3,
          4
         ],
         "y": [
          "x",
          "y",
          "z"
         ],
         "z": [
          [
           1,
           2,
           3,
           4,
           5
          ],
          [
           10,
           20,
           30,
           20,
           10
          ],
          [
           5,
           4,
           3,
           2,
           1
          ]
         ]
        }
       ],
       "layout": {
        "legend": {
         "bgcolor": "#F5F6F9",
         "font": {
          "color": "#4D5663"
         }
        },
        "paper_bgcolor": "#F5F6F9",
        "plot_bgcolor": "#F5F6F9",
        "template": {
         "data": {
          "bar": [
           {
            "error_x": {
             "color": "#2a3f5f"
            },
            "error_y": {
             "color": "#2a3f5f"
            },
            "marker": {
             "line": {
              "color": "#E5ECF6",
              "width": 0.5
             }
            },
            "type": "bar"
           }
          ],
          "barpolar": [
           {
            "marker": {
             "line": {
              "color": "#E5ECF6",
              "width": 0.5
             }
            },
            "type": "barpolar"
           }
          ],
          "carpet": [
           {
            "aaxis": {
             "endlinecolor": "#2a3f5f",
             "gridcolor": "white",
             "linecolor": "white",
             "minorgridcolor": "white",
             "startlinecolor": "#2a3f5f"
            },
            "baxis": {
             "endlinecolor": "#2a3f5f",
             "gridcolor": "white",
             "linecolor": "white",
             "minorgridcolor": "white",
             "startlinecolor": "#2a3f5f"
            },
            "type": "carpet"
           }
          ],
          "choropleth": [
           {
            "colorbar": {
             "outlinewidth": 0,
             "ticks": ""
            },
            "type": "choropleth"
           }
          ],
          "contour": [
           {
            "colorbar": {
             "outlinewidth": 0,
             "ticks": ""
            },
            "colorscale": [
             [
              0,
              "#0d0887"
             ],
             [
              0.1111111111111111,
              "#46039f"
             ],
             [
              0.2222222222222222,
              "#7201a8"
             ],
             [
              0.3333333333333333,
              "#9c179e"
             ],
             [
              0.4444444444444444,
              "#bd3786"
             ],
             [
              0.5555555555555556,
              "#d8576b"
             ],
             [
              0.6666666666666666,
              "#ed7953"
             ],
             [
              0.7777777777777778,
              "#fb9f3a"
             ],
             [
              0.8888888888888888,
              "#fdca26"
             ],
             [
              1,
              "#f0f921"
             ]
            ],
            "type": "contour"
           }
          ],
          "contourcarpet": [
           {
            "colorbar": {
             "outlinewidth": 0,
             "ticks": ""
            },
            "type": "contourcarpet"
           }
          ],
          "heatmap": [
           {
            "colorbar": {
             "outlinewidth": 0,
             "ticks": ""
            },
            "colorscale": [
             [
              0,
              "#0d0887"
             ],
             [
              0.1111111111111111,
              "#46039f"
             ],
             [
              0.2222222222222222,
              "#7201a8"
             ],
             [
              0.3333333333333333,
              "#9c179e"
             ],
             [
              0.4444444444444444,
              "#bd3786"
             ],
             [
              0.5555555555555556,
              "#d8576b"
             ],
             [
              0.6666666666666666,
              "#ed7953"
             ],
             [
              0.7777777777777778,
              "#fb9f3a"
             ],
             [
              0.8888888888888888,
              "#fdca26"
             ],
             [
              1,
              "#f0f921"
             ]
            ],
            "type": "heatmap"
           }
          ],
          "heatmapgl": [
           {
            "colorbar": {
             "outlinewidth": 0,
             "ticks": ""
            },
            "colorscale": [
             [
              0,
              "#0d0887"
             ],
             [
              0.1111111111111111,
              "#46039f"
             ],
             [
              0.2222222222222222,
              "#7201a8"
             ],
             [
              0.3333333333333333,
              "#9c179e"
             ],
             [
              0.4444444444444444,
              "#bd3786"
             ],
             [
              0.5555555555555556,
              "#d8576b"
             ],
             [
              0.6666666666666666,
              "#ed7953"
             ],
             [
              0.7777777777777778,
              "#fb9f3a"
             ],
             [
              0.8888888888888888,
              "#fdca26"
             ],
             [
              1,
              "#f0f921"
             ]
            ],
            "type": "heatmapgl"
           }
          ],
          "histogram": [
           {
            "marker": {
             "colorbar": {
              "outlinewidth": 0,
              "ticks": ""
             }
            },
            "type": "histogram"
           }
          ],
          "histogram2d": [
           {
            "colorbar": {
             "outlinewidth": 0,
             "ticks": ""
            },
            "colorscale": [
             [
              0,
              "#0d0887"
             ],
             [
              0.1111111111111111,
              "#46039f"
             ],
             [
              0.2222222222222222,
              "#7201a8"
             ],
             [
              0.3333333333333333,
              "#9c179e"
             ],
             [
              0.4444444444444444,
              "#bd3786"
             ],
             [
              0.5555555555555556,
              "#d8576b"
             ],
             [
              0.6666666666666666,
              "#ed7953"
             ],
             [
              0.7777777777777778,
              "#fb9f3a"
             ],
             [
              0.8888888888888888,
              "#fdca26"
             ],
             [
              1,
              "#f0f921"
             ]
            ],
            "type": "histogram2d"
           }
          ],
          "histogram2dcontour": [
           {
            "colorbar": {
             "outlinewidth": 0,
             "ticks": ""
            },
            "colorscale": [
             [
              0,
              "#0d0887"
             ],
             [
              0.1111111111111111,
              "#46039f"
             ],
             [
              0.2222222222222222,
              "#7201a8"
             ],
             [
              0.3333333333333333,
              "#9c179e"
             ],
             [
              0.4444444444444444,
              "#bd3786"
             ],
             [
              0.5555555555555556,
              "#d8576b"
             ],
             [
              0.6666666666666666,
              "#ed7953"
             ],
             [
              0.7777777777777778,
              "#fb9f3a"
             ],
             [
              0.8888888888888888,
              "#fdca26"
             ],
             [
              1,
              "#f0f921"
             ]
            ],
            "type": "histogram2dcontour"
           }
          ],
          "mesh3d": [
           {
            "colorbar": {
             "outlinewidth": 0,
             "ticks": ""
            },
            "type": "mesh3d"
           }
          ],
          "parcoords": [
           {
            "line": {
             "colorbar": {
              "outlinewidth": 0,
              "ticks": ""
             }
            },
            "type": "parcoords"
           }
          ],
          "pie": [
           {
            "automargin": true,
            "type": "pie"
           }
          ],
          "scatter": [
           {
            "marker": {
             "colorbar": {
              "outlinewidth": 0,
              "ticks": ""
             }
            },
            "type": "scatter"
           }
          ],
          "scatter3d": [
           {
            "line": {
             "colorbar": {
              "outlinewidth": 0,
              "ticks": ""
             }
            },
            "marker": {
             "colorbar": {
              "outlinewidth": 0,
              "ticks": ""
             }
            },
            "type": "scatter3d"
           }
          ],
          "scattercarpet": [
           {
            "marker": {
             "colorbar": {
              "outlinewidth": 0,
              "ticks": ""
             }
            },
            "type": "scattercarpet"
           }
          ],
          "scattergeo": [
           {
            "marker": {
             "colorbar": {
              "outlinewidth": 0,
              "ticks": ""
             }
            },
            "type": "scattergeo"
           }
          ],
          "scattergl": [
           {
            "marker": {
             "colorbar": {
              "outlinewidth": 0,
              "ticks": ""
             }
            },
            "type": "scattergl"
           }
          ],
          "scattermapbox": [
           {
            "marker": {
             "colorbar": {
              "outlinewidth": 0,
              "ticks": ""
             }
            },
            "type": "scattermapbox"
           }
          ],
          "scatterpolar": [
           {
            "marker": {
             "colorbar": {
              "outlinewidth": 0,
              "ticks": ""
             }
            },
            "type": "scatterpolar"
           }
          ],
          "scatterpolargl": [
           {
            "marker": {
             "colorbar": {
              "outlinewidth": 0,
              "ticks": ""
             }
            },
            "type": "scatterpolargl"
           }
          ],
          "scatterternary": [
           {
            "marker": {
             "colorbar": {
              "outlinewidth": 0,
              "ticks": ""
             }
            },
            "type": "scatterternary"
           }
          ],
          "surface": [
           {
            "colorbar": {
             "outlinewidth": 0,
             "ticks": ""
            },
            "colorscale": [
             [
              0,
              "#0d0887"
             ],
             [
              0.1111111111111111,
              "#46039f"
             ],
             [
              0.2222222222222222,
              "#7201a8"
             ],
             [
              0.3333333333333333,
              "#9c179e"
             ],
             [
              0.4444444444444444,
              "#bd3786"
             ],
             [
              0.5555555555555556,
              "#d8576b"
             ],
             [
              0.6666666666666666,
              "#ed7953"
             ],
             [
              0.7777777777777778,
              "#fb9f3a"
             ],
             [
              0.8888888888888888,
              "#fdca26"
             ],
             [
              1,
              "#f0f921"
             ]
            ],
            "type": "surface"
           }
          ],
          "table": [
           {
            "cells": {
             "fill": {
              "color": "#EBF0F8"
             },
             "line": {
              "color": "white"
             }
            },
            "header": {
             "fill": {
              "color": "#C8D4E3"
             },
             "line": {
              "color": "white"
             }
            },
            "type": "table"
           }
          ]
         },
         "layout": {
          "annotationdefaults": {
           "arrowcolor": "#2a3f5f",
           "arrowhead": 0,
           "arrowwidth": 1
          },
          "coloraxis": {
           "colorbar": {
            "outlinewidth": 0,
            "ticks": ""
           }
          },
          "colorscale": {
           "diverging": [
            [
             0,
             "#8e0152"
            ],
            [
             0.1,
             "#c51b7d"
            ],
            [
             0.2,
             "#de77ae"
            ],
            [
             0.3,
             "#f1b6da"
            ],
            [
             0.4,
             "#fde0ef"
            ],
            [
             0.5,
             "#f7f7f7"
            ],
            [
             0.6,
             "#e6f5d0"
            ],
            [
             0.7,
             "#b8e186"
            ],
            [
             0.8,
             "#7fbc41"
            ],
            [
             0.9,
             "#4d9221"
            ],
            [
             1,
             "#276419"
            ]
           ],
           "sequential": [
            [
             0,
             "#0d0887"
            ],
            [
             0.1111111111111111,
             "#46039f"
            ],
            [
             0.2222222222222222,
             "#7201a8"
            ],
            [
             0.3333333333333333,
             "#9c179e"
            ],
            [
             0.4444444444444444,
             "#bd3786"
            ],
            [
             0.5555555555555556,
             "#d8576b"
            ],
            [
             0.6666666666666666,
             "#ed7953"
            ],
            [
             0.7777777777777778,
             "#fb9f3a"
            ],
            [
             0.8888888888888888,
             "#fdca26"
            ],
            [
             1,
             "#f0f921"
            ]
           ],
           "sequentialminus": [
            [
             0,
             "#0d0887"
            ],
            [
             0.1111111111111111,
             "#46039f"
            ],
            [
             0.2222222222222222,
             "#7201a8"
            ],
            [
             0.3333333333333333,
             "#9c179e"
            ],
            [
             0.4444444444444444,
             "#bd3786"
            ],
            [
             0.5555555555555556,
             "#d8576b"
            ],
            [
             0.6666666666666666,
             "#ed7953"
            ],
            [
             0.7777777777777778,
             "#fb9f3a"
            ],
            [
             0.8888888888888888,
             "#fdca26"
            ],
            [
             1,
             "#f0f921"
            ]
           ]
          },
          "colorway": [
           "#636efa",
           "#EF553B",
           "#00cc96",
           "#ab63fa",
           "#FFA15A",
           "#19d3f3",
           "#FF6692",
           "#B6E880",
           "#FF97FF",
           "#FECB52"
          ],
          "font": {
           "color": "#2a3f5f"
          },
          "geo": {
           "bgcolor": "white",
           "lakecolor": "white",
           "landcolor": "#E5ECF6",
           "showlakes": true,
           "showland": true,
           "subunitcolor": "white"
          },
          "hoverlabel": {
           "align": "left"
          },
          "hovermode": "closest",
          "mapbox": {
           "style": "light"
          },
          "paper_bgcolor": "white",
          "plot_bgcolor": "#E5ECF6",
          "polar": {
           "angularaxis": {
            "gridcolor": "white",
            "linecolor": "white",
            "ticks": ""
           },
           "bgcolor": "#E5ECF6",
           "radialaxis": {
            "gridcolor": "white",
            "linecolor": "white",
            "ticks": ""
           }
          },
          "scene": {
           "xaxis": {
            "backgroundcolor": "#E5ECF6",
            "gridcolor": "white",
            "gridwidth": 2,
            "linecolor": "white",
            "showbackground": true,
            "ticks": "",
            "zerolinecolor": "white"
           },
           "yaxis": {
            "backgroundcolor": "#E5ECF6",
            "gridcolor": "white",
            "gridwidth": 2,
            "linecolor": "white",
            "showbackground": true,
            "ticks": "",
            "zerolinecolor": "white"
           },
           "zaxis": {
            "backgroundcolor": "#E5ECF6",
            "gridcolor": "white",
            "gridwidth": 2,
            "linecolor": "white",
            "showbackground": true,
            "ticks": "",
            "zerolinecolor": "white"
           }
          },
          "shapedefaults": {
           "line": {
            "color": "#2a3f5f"
           }
          },
          "ternary": {
           "aaxis": {
            "gridcolor": "white",
            "linecolor": "white",
            "ticks": ""
           },
           "baxis": {
            "gridcolor": "white",
            "linecolor": "white",
            "ticks": ""
           },
           "bgcolor": "#E5ECF6",
           "caxis": {
            "gridcolor": "white",
            "linecolor": "white",
            "ticks": ""
           }
          },
          "title": {
           "x": 0.05
          },
          "xaxis": {
           "automargin": true,
           "gridcolor": "white",
           "linecolor": "white",
           "ticks": "",
           "title": {
            "standoff": 15
           },
           "zerolinecolor": "white",
           "zerolinewidth": 2
          },
          "yaxis": {
           "automargin": true,
           "gridcolor": "white",
           "linecolor": "white",
           "ticks": "",
           "title": {
            "standoff": 15
           },
           "zerolinecolor": "white",
           "zerolinewidth": 2
          }
         }
        },
        "title": {
         "font": {
          "color": "#4D5663"
         }
        },
        "xaxis": {
         "gridcolor": "#E1E5ED",
         "showgrid": true,
         "tickfont": {
          "color": "#4D5663"
         },
         "title": {
          "font": {
           "color": "#4D5663"
          },
          "text": ""
         },
         "zerolinecolor": "#E1E5ED"
        },
        "yaxis": {
         "gridcolor": "#E1E5ED",
         "showgrid": true,
         "tickfont": {
          "color": "#4D5663"
         },
         "title": {
          "font": {
           "color": "#4D5663"
          },
          "text": ""
         },
         "zerolinecolor": "#E1E5ED"
        }
       }
      },
      "text/html": [
       "<div>\n",
       "        \n",
       "        \n",
       "            <div id=\"8b400e65-dfb2-46e4-add5-e7eac95b0eea\" class=\"plotly-graph-div\" style=\"height:525px; width:100%;\"></div>\n",
       "            <script type=\"text/javascript\">\n",
       "                require([\"plotly\"], function(Plotly) {\n",
       "                    window.PLOTLYENV=window.PLOTLYENV || {};\n",
       "                    window.PLOTLYENV.BASE_URL='https://plot.ly';\n",
       "                    \n",
       "                if (document.getElementById(\"8b400e65-dfb2-46e4-add5-e7eac95b0eea\")) {\n",
       "                    Plotly.newPlot(\n",
       "                        '8b400e65-dfb2-46e4-add5-e7eac95b0eea',\n",
       "                        [{\"colorscale\": [[0.0, \"rgb(165,0,38)\"], [0.1, \"rgb(215,48,39)\"], [0.2, \"rgb(244,109,67)\"], [0.3, \"rgb(253,174,97)\"], [0.4, \"rgb(254,224,144)\"], [0.5, \"rgb(255,255,191)\"], [0.6, \"rgb(224,243,248)\"], [0.7, \"rgb(171,217,233)\"], [0.8, \"rgb(116,173,209)\"], [0.9, \"rgb(69,117,180)\"], [1.0, \"rgb(49,54,149)\"]], \"type\": \"surface\", \"x\": [0, 1, 2, 3, 4], \"y\": [\"x\", \"y\", \"z\"], \"z\": [[1, 2, 3, 4, 5], [10, 20, 30, 20, 10], [5, 4, 3, 2, 1]]}],\n",
       "                        {\"legend\": {\"bgcolor\": \"#F5F6F9\", \"font\": {\"color\": \"#4D5663\"}}, \"paper_bgcolor\": \"#F5F6F9\", \"plot_bgcolor\": \"#F5F6F9\", \"template\": {\"data\": {\"bar\": [{\"error_x\": {\"color\": \"#2a3f5f\"}, \"error_y\": {\"color\": \"#2a3f5f\"}, \"marker\": {\"line\": {\"color\": \"#E5ECF6\", \"width\": 0.5}}, \"type\": \"bar\"}], \"barpolar\": [{\"marker\": {\"line\": {\"color\": \"#E5ECF6\", \"width\": 0.5}}, \"type\": \"barpolar\"}], \"carpet\": [{\"aaxis\": {\"endlinecolor\": \"#2a3f5f\", \"gridcolor\": \"white\", \"linecolor\": \"white\", \"minorgridcolor\": \"white\", \"startlinecolor\": \"#2a3f5f\"}, \"baxis\": {\"endlinecolor\": \"#2a3f5f\", \"gridcolor\": \"white\", \"linecolor\": \"white\", \"minorgridcolor\": \"white\", \"startlinecolor\": \"#2a3f5f\"}, \"type\": \"carpet\"}], \"choropleth\": [{\"colorbar\": {\"outlinewidth\": 0, \"ticks\": \"\"}, \"type\": \"choropleth\"}], \"contour\": [{\"colorbar\": {\"outlinewidth\": 0, \"ticks\": \"\"}, \"colorscale\": [[0.0, \"#0d0887\"], [0.1111111111111111, \"#46039f\"], [0.2222222222222222, \"#7201a8\"], [0.3333333333333333, \"#9c179e\"], [0.4444444444444444, \"#bd3786\"], [0.5555555555555556, \"#d8576b\"], [0.6666666666666666, \"#ed7953\"], [0.7777777777777778, \"#fb9f3a\"], [0.8888888888888888, \"#fdca26\"], [1.0, \"#f0f921\"]], \"type\": \"contour\"}], \"contourcarpet\": [{\"colorbar\": {\"outlinewidth\": 0, \"ticks\": \"\"}, \"type\": \"contourcarpet\"}], \"heatmap\": [{\"colorbar\": {\"outlinewidth\": 0, \"ticks\": \"\"}, \"colorscale\": [[0.0, \"#0d0887\"], [0.1111111111111111, \"#46039f\"], [0.2222222222222222, \"#7201a8\"], [0.3333333333333333, \"#9c179e\"], [0.4444444444444444, \"#bd3786\"], [0.5555555555555556, \"#d8576b\"], [0.6666666666666666, \"#ed7953\"], [0.7777777777777778, \"#fb9f3a\"], [0.8888888888888888, \"#fdca26\"], [1.0, \"#f0f921\"]], \"type\": \"heatmap\"}], \"heatmapgl\": [{\"colorbar\": {\"outlinewidth\": 0, \"ticks\": \"\"}, \"colorscale\": [[0.0, \"#0d0887\"], [0.1111111111111111, \"#46039f\"], [0.2222222222222222, \"#7201a8\"], [0.3333333333333333, \"#9c179e\"], [0.4444444444444444, \"#bd3786\"], [0.5555555555555556, \"#d8576b\"], [0.6666666666666666, \"#ed7953\"], [0.7777777777777778, \"#fb9f3a\"], [0.8888888888888888, \"#fdca26\"], [1.0, \"#f0f921\"]], \"type\": \"heatmapgl\"}], \"histogram\": [{\"marker\": {\"colorbar\": {\"outlinewidth\": 0, \"ticks\": \"\"}}, \"type\": \"histogram\"}], \"histogram2d\": [{\"colorbar\": {\"outlinewidth\": 0, \"ticks\": \"\"}, \"colorscale\": [[0.0, \"#0d0887\"], [0.1111111111111111, \"#46039f\"], [0.2222222222222222, \"#7201a8\"], [0.3333333333333333, \"#9c179e\"], [0.4444444444444444, \"#bd3786\"], [0.5555555555555556, \"#d8576b\"], [0.6666666666666666, \"#ed7953\"], [0.7777777777777778, \"#fb9f3a\"], [0.8888888888888888, \"#fdca26\"], [1.0, \"#f0f921\"]], \"type\": \"histogram2d\"}], \"histogram2dcontour\": [{\"colorbar\": {\"outlinewidth\": 0, \"ticks\": \"\"}, \"colorscale\": [[0.0, \"#0d0887\"], [0.1111111111111111, \"#46039f\"], [0.2222222222222222, \"#7201a8\"], [0.3333333333333333, \"#9c179e\"], [0.4444444444444444, \"#bd3786\"], [0.5555555555555556, \"#d8576b\"], [0.6666666666666666, \"#ed7953\"], [0.7777777777777778, \"#fb9f3a\"], [0.8888888888888888, \"#fdca26\"], [1.0, \"#f0f921\"]], \"type\": \"histogram2dcontour\"}], \"mesh3d\": [{\"colorbar\": {\"outlinewidth\": 0, \"ticks\": \"\"}, \"type\": \"mesh3d\"}], \"parcoords\": [{\"line\": {\"colorbar\": {\"outlinewidth\": 0, \"ticks\": \"\"}}, \"type\": \"parcoords\"}], \"pie\": [{\"automargin\": true, \"type\": \"pie\"}], \"scatter\": [{\"marker\": {\"colorbar\": {\"outlinewidth\": 0, \"ticks\": \"\"}}, \"type\": \"scatter\"}], \"scatter3d\": [{\"line\": {\"colorbar\": {\"outlinewidth\": 0, \"ticks\": \"\"}}, \"marker\": {\"colorbar\": {\"outlinewidth\": 0, \"ticks\": \"\"}}, \"type\": \"scatter3d\"}], \"scattercarpet\": [{\"marker\": {\"colorbar\": {\"outlinewidth\": 0, \"ticks\": \"\"}}, \"type\": \"scattercarpet\"}], \"scattergeo\": [{\"marker\": {\"colorbar\": {\"outlinewidth\": 0, \"ticks\": \"\"}}, \"type\": \"scattergeo\"}], \"scattergl\": [{\"marker\": {\"colorbar\": {\"outlinewidth\": 0, \"ticks\": \"\"}}, \"type\": \"scattergl\"}], \"scattermapbox\": [{\"marker\": {\"colorbar\": {\"outlinewidth\": 0, \"ticks\": \"\"}}, \"type\": \"scattermapbox\"}], \"scatterpolar\": [{\"marker\": {\"colorbar\": {\"outlinewidth\": 0, \"ticks\": \"\"}}, \"type\": \"scatterpolar\"}], \"scatterpolargl\": [{\"marker\": {\"colorbar\": {\"outlinewidth\": 0, \"ticks\": \"\"}}, \"type\": \"scatterpolargl\"}], \"scatterternary\": [{\"marker\": {\"colorbar\": {\"outlinewidth\": 0, \"ticks\": \"\"}}, \"type\": \"scatterternary\"}], \"surface\": [{\"colorbar\": {\"outlinewidth\": 0, \"ticks\": \"\"}, \"colorscale\": [[0.0, \"#0d0887\"], [0.1111111111111111, \"#46039f\"], [0.2222222222222222, \"#7201a8\"], [0.3333333333333333, \"#9c179e\"], [0.4444444444444444, \"#bd3786\"], [0.5555555555555556, \"#d8576b\"], [0.6666666666666666, \"#ed7953\"], [0.7777777777777778, \"#fb9f3a\"], [0.8888888888888888, \"#fdca26\"], [1.0, \"#f0f921\"]], \"type\": \"surface\"}], \"table\": [{\"cells\": {\"fill\": {\"color\": \"#EBF0F8\"}, \"line\": {\"color\": \"white\"}}, \"header\": {\"fill\": {\"color\": \"#C8D4E3\"}, \"line\": {\"color\": \"white\"}}, \"type\": \"table\"}]}, \"layout\": {\"annotationdefaults\": {\"arrowcolor\": \"#2a3f5f\", \"arrowhead\": 0, \"arrowwidth\": 1}, \"coloraxis\": {\"colorbar\": {\"outlinewidth\": 0, \"ticks\": \"\"}}, \"colorscale\": {\"diverging\": [[0, \"#8e0152\"], [0.1, \"#c51b7d\"], [0.2, \"#de77ae\"], [0.3, \"#f1b6da\"], [0.4, \"#fde0ef\"], [0.5, \"#f7f7f7\"], [0.6, \"#e6f5d0\"], [0.7, \"#b8e186\"], [0.8, \"#7fbc41\"], [0.9, \"#4d9221\"], [1, \"#276419\"]], \"sequential\": [[0.0, \"#0d0887\"], [0.1111111111111111, \"#46039f\"], [0.2222222222222222, \"#7201a8\"], [0.3333333333333333, \"#9c179e\"], [0.4444444444444444, \"#bd3786\"], [0.5555555555555556, \"#d8576b\"], [0.6666666666666666, \"#ed7953\"], [0.7777777777777778, \"#fb9f3a\"], [0.8888888888888888, \"#fdca26\"], [1.0, \"#f0f921\"]], \"sequentialminus\": [[0.0, \"#0d0887\"], [0.1111111111111111, \"#46039f\"], [0.2222222222222222, \"#7201a8\"], [0.3333333333333333, \"#9c179e\"], [0.4444444444444444, \"#bd3786\"], [0.5555555555555556, \"#d8576b\"], [0.6666666666666666, \"#ed7953\"], [0.7777777777777778, \"#fb9f3a\"], [0.8888888888888888, \"#fdca26\"], [1.0, \"#f0f921\"]]}, \"colorway\": [\"#636efa\", \"#EF553B\", \"#00cc96\", \"#ab63fa\", \"#FFA15A\", \"#19d3f3\", \"#FF6692\", \"#B6E880\", \"#FF97FF\", \"#FECB52\"], \"font\": {\"color\": \"#2a3f5f\"}, \"geo\": {\"bgcolor\": \"white\", \"lakecolor\": \"white\", \"landcolor\": \"#E5ECF6\", \"showlakes\": true, \"showland\": true, \"subunitcolor\": \"white\"}, \"hoverlabel\": {\"align\": \"left\"}, \"hovermode\": \"closest\", \"mapbox\": {\"style\": \"light\"}, \"paper_bgcolor\": \"white\", \"plot_bgcolor\": \"#E5ECF6\", \"polar\": {\"angularaxis\": {\"gridcolor\": \"white\", \"linecolor\": \"white\", \"ticks\": \"\"}, \"bgcolor\": \"#E5ECF6\", \"radialaxis\": {\"gridcolor\": \"white\", \"linecolor\": \"white\", \"ticks\": \"\"}}, \"scene\": {\"xaxis\": {\"backgroundcolor\": \"#E5ECF6\", \"gridcolor\": \"white\", \"gridwidth\": 2, \"linecolor\": \"white\", \"showbackground\": true, \"ticks\": \"\", \"zerolinecolor\": \"white\"}, \"yaxis\": {\"backgroundcolor\": \"#E5ECF6\", \"gridcolor\": \"white\", \"gridwidth\": 2, \"linecolor\": \"white\", \"showbackground\": true, \"ticks\": \"\", \"zerolinecolor\": \"white\"}, \"zaxis\": {\"backgroundcolor\": \"#E5ECF6\", \"gridcolor\": \"white\", \"gridwidth\": 2, \"linecolor\": \"white\", \"showbackground\": true, \"ticks\": \"\", \"zerolinecolor\": \"white\"}}, \"shapedefaults\": {\"line\": {\"color\": \"#2a3f5f\"}}, \"ternary\": {\"aaxis\": {\"gridcolor\": \"white\", \"linecolor\": \"white\", \"ticks\": \"\"}, \"baxis\": {\"gridcolor\": \"white\", \"linecolor\": \"white\", \"ticks\": \"\"}, \"bgcolor\": \"#E5ECF6\", \"caxis\": {\"gridcolor\": \"white\", \"linecolor\": \"white\", \"ticks\": \"\"}}, \"title\": {\"x\": 0.05}, \"xaxis\": {\"automargin\": true, \"gridcolor\": \"white\", \"linecolor\": \"white\", \"ticks\": \"\", \"title\": {\"standoff\": 15}, \"zerolinecolor\": \"white\", \"zerolinewidth\": 2}, \"yaxis\": {\"automargin\": true, \"gridcolor\": \"white\", \"linecolor\": \"white\", \"ticks\": \"\", \"title\": {\"standoff\": 15}, \"zerolinecolor\": \"white\", \"zerolinewidth\": 2}}}, \"title\": {\"font\": {\"color\": \"#4D5663\"}}, \"xaxis\": {\"gridcolor\": \"#E1E5ED\", \"showgrid\": true, \"tickfont\": {\"color\": \"#4D5663\"}, \"title\": {\"font\": {\"color\": \"#4D5663\"}, \"text\": \"\"}, \"zerolinecolor\": \"#E1E5ED\"}, \"yaxis\": {\"gridcolor\": \"#E1E5ED\", \"showgrid\": true, \"tickfont\": {\"color\": \"#4D5663\"}, \"title\": {\"font\": {\"color\": \"#4D5663\"}, \"text\": \"\"}, \"zerolinecolor\": \"#E1E5ED\"}},\n",
       "                        {\"showLink\": true, \"linkText\": \"Export to plot.ly\", \"plotlyServerURL\": \"https://plot.ly\", \"responsive\": true}\n",
       "                    ).then(function(){\n",
       "                            \n",
       "var gd = document.getElementById('8b400e65-dfb2-46e4-add5-e7eac95b0eea');\n",
       "var x = new MutationObserver(function (mutations, observer) {{\n",
       "        var display = window.getComputedStyle(gd).display;\n",
       "        if (!display || display === 'none') {{\n",
       "            console.log([gd, 'removed!']);\n",
       "            Plotly.purge(gd);\n",
       "            observer.disconnect();\n",
       "        }}\n",
       "}});\n",
       "\n",
       "// Listen for the removal of the full notebook cells\n",
       "var notebookContainer = gd.closest('#notebook-container');\n",
       "if (notebookContainer) {{\n",
       "    x.observe(notebookContainer, {childList: true});\n",
       "}}\n",
       "\n",
       "// Listen for the clearing of the current output cell\n",
       "var outputEl = gd.closest('.output');\n",
       "if (outputEl) {{\n",
       "    x.observe(outputEl, {childList: true});\n",
       "}}\n",
       "\n",
       "                        })\n",
       "                };\n",
       "                });\n",
       "            </script>\n",
       "        </div>"
      ]
     },
     "metadata": {},
     "output_type": "display_data"
    }
   ],
   "source": [
    "df3 = pd.DataFrame({'x':[1,2,3,4,5],'y':[10,20,30,20,10],'z':[5,4,3,2,1]})\n",
    "df3.iplot(kind='surface',colorscale='rdylbu')"
   ]
  },
  {
   "cell_type": "markdown",
   "metadata": {},
   "source": [
    "## Spread"
   ]
  },
  {
   "cell_type": "code",
   "execution_count": 15,
   "metadata": {},
   "outputs": [
    {
     "data": {
      "application/vnd.plotly.v1+json": {
       "config": {
        "linkText": "Export to plot.ly",
        "plotlyServerURL": "https://plot.ly",
        "showLink": true
       },
       "data": [
        {
         "line": {
          "color": "rgba(255, 153, 51, 1.0)",
          "dash": "solid",
          "shape": "linear",
          "width": 1.3
         },
         "mode": "lines",
         "name": "A",
         "text": "",
         "type": "scatter",
         "x": [
          0,
          1,
          2,
          3,
          4,
          5,
          6,
          7,
          8,
          9,
          10,
          11,
          12,
          13,
          14,
          15,
          16,
          17,
          18,
          19,
          20,
          21,
          22,
          23,
          24,
          25,
          26,
          27,
          28,
          29,
          30,
          31,
          32,
          33,
          34,
          35,
          36,
          37,
          38,
          39,
          40,
          41,
          42,
          43,
          44,
          45,
          46,
          47,
          48,
          49,
          50,
          51,
          52,
          53,
          54,
          55,
          56,
          57,
          58,
          59,
          60,
          61,
          62,
          63,
          64,
          65,
          66,
          67,
          68,
          69,
          70,
          71,
          72,
          73,
          74,
          75,
          76,
          77,
          78,
          79,
          80,
          81,
          82,
          83,
          84,
          85,
          86,
          87,
          88,
          89,
          90,
          91,
          92,
          93,
          94,
          95,
          96,
          97,
          98,
          99
         ],
         "y": [
          0.6365076909941588,
          -0.4737602015567025,
          -0.4931937653649986,
          -1.002162685929863,
          -1.390694581240618,
          0.2624767228460955,
          0.06342727286886606,
          0.34217472462690585,
          2.961132768508034,
          -0.8620975059326305,
          0.4553717205546613,
          1.267344265809088,
          0.5574464676557171,
          1.7650668089058499,
          -0.6602427071795416,
          0.2578219133046646,
          -0.17263289964841197,
          -0.11238959064405796,
          0.8695860480867245,
          0.40840660774229726,
          -1.0684251725049163,
          -0.9785793326058884,
          0.5931279441105388,
          -0.5737552603070895,
          0.9117283650804772,
          0.6474425728966579,
          -0.5038442677636253,
          -1.1008455274698403,
          0.6251097854408026,
          0.9860855829234931,
          -0.3519782030631685,
          0.2043298737212113,
          -0.6511487116247198,
          -0.47613929479990535,
          -1.1726127112294482,
          1.5612251685295533,
          0.4022976345568017,
          1.1566765718193304,
          0.031117966223119534,
          -0.865882402029834,
          -0.5233903441757728,
          -1.0054595647259312,
          -0.11632633713897635,
          -0.5384467568825115,
          0.4677278114296954,
          0.5387522859610423,
          0.5311214184901931,
          0.8542591407697975,
          -0.9803545984510883,
          1.3106925029212348,
          -0.19232021685687745,
          -0.14569136160329985,
          -0.7146824851366995,
          -0.4786817591587508,
          0.7235332743737379,
          -0.41712017043221844,
          -1.6019352807092222,
          -0.9343856342604369,
          0.7247039771128864,
          0.7123562356757894,
          0.7120993540271149,
          -0.5936962306733344,
          -1.0826130603973108,
          0.5248478277685283,
          -0.26026561529029024,
          1.9453734300618395,
          1.5188109407529324,
          0.14475730152800026,
          -1.6548732265850479,
          0.6418646400314986,
          -0.7004102844625567,
          0.7719183108008424,
          2.108988390018506,
          0.12790582165533965,
          -0.2526413569711868,
          -1.6127100179913447,
          -0.5658126567820971,
          -0.5211460165079267,
          -0.013759130888993939,
          -0.950487694184885,
          1.4552606561594668,
          0.5982889285689689,
          -0.1538747388728679,
          0.5353219782660327,
          -1.072228923525188,
          0.6752160523044004,
          0.24625540085408443,
          0.6505484803196946,
          0.4229194966060065,
          -1.0724186747068731,
          -0.16874383355845157,
          -0.0940723852561799,
          0.37650510210813215,
          0.767056661576872,
          -0.4656164665448851,
          -1.9626738276966944,
          1.0248645009802317,
          1.379185464478099,
          -0.4591747868219548,
          -1.447144900286262
         ]
        },
        {
         "line": {
          "color": "rgba(55, 128, 191, 1.0)",
          "dash": "solid",
          "shape": "linear",
          "width": 1.3
         },
         "mode": "lines",
         "name": "B",
         "text": "",
         "type": "scatter",
         "x": [
          0,
          1,
          2,
          3,
          4,
          5,
          6,
          7,
          8,
          9,
          10,
          11,
          12,
          13,
          14,
          15,
          16,
          17,
          18,
          19,
          20,
          21,
          22,
          23,
          24,
          25,
          26,
          27,
          28,
          29,
          30,
          31,
          32,
          33,
          34,
          35,
          36,
          37,
          38,
          39,
          40,
          41,
          42,
          43,
          44,
          45,
          46,
          47,
          48,
          49,
          50,
          51,
          52,
          53,
          54,
          55,
          56,
          57,
          58,
          59,
          60,
          61,
          62,
          63,
          64,
          65,
          66,
          67,
          68,
          69,
          70,
          71,
          72,
          73,
          74,
          75,
          76,
          77,
          78,
          79,
          80,
          81,
          82,
          83,
          84,
          85,
          86,
          87,
          88,
          89,
          90,
          91,
          92,
          93,
          94,
          95,
          96,
          97,
          98,
          99
         ],
         "y": [
          -1.699160123201898,
          0.10195242313344324,
          -0.715193282859542,
          -0.05758164445290634,
          -0.7398838201640815,
          -0.9753799755866359,
          0.8183654763925532,
          0.1486272764042706,
          0.6221571419621349,
          -0.37471837838608657,
          1.9241212173882782,
          -1.9260174834904287,
          0.32772542746581956,
          -0.09062108554739637,
          -0.6222192316499369,
          0.4104827707197747,
          -1.4767599860217084,
          0.31680009657810904,
          0.5841423976591886,
          -1.3363186893647179,
          -1.481470205733003,
          1.2913557909132023,
          -0.15965674908185673,
          -0.10885642874825817,
          2.0613253401745855,
          0.038873891107819594,
          -1.5572032020558468,
          -0.5267363266605407,
          1.052086043605771,
          0.4837147591298685,
          -1.4485465294093376,
          -1.1363178025139544,
          0.2901075938884033,
          0.012764228316333356,
          0.02544130910202635,
          -0.15285526945192568,
          -0.8437747538133651,
          -1.1579133835179825,
          0.522936718836919,
          -1.4418531014659357,
          0.7713240245097688,
          1.1488990205107918,
          1.1101684578089406,
          -0.4050508092025551,
          -1.6736673382534208,
          -1.5296412988754375,
          -1.1170745972955312,
          0.13781739088902767,
          1.7624413863232378,
          0.015527063547979406,
          0.15625436224519249,
          -0.04377516577352025,
          0.32170087033653894,
          -1.7352479949718995,
          0.18631362955611921,
          -0.7761396929349504,
          0.4184915730119552,
          0.7679017692501251,
          0.3516066556924101,
          2.5166163139814217,
          -0.19150616919534597,
          -0.34422152499462955,
          -1.1932959160998728,
          -1.8523321507164985,
          -0.27312156355546313,
          -0.22788721727855377,
          0.512958656095611,
          0.23772762819035506,
          0.18044282339924814,
          1.1796934451453305,
          -0.5964857390108925,
          -0.27841196090719744,
          -0.8782503319309752,
          0.2736168298650118,
          -0.086012008879998,
          -0.2697772277356776,
          -0.8559941288110947,
          0.7505650594336027,
          0.5084568806815066,
          -0.20824438201256085,
          -0.16081498584325604,
          -1.1191291600558322,
          -1.9035185519084472,
          -1.8106091203457362,
          0.3006649895466276,
          1.3198926705225342,
          -1.5284218485847,
          -1.4851131995836924,
          0.7097055112534987,
          -0.03900819833655198,
          -1.1649509319624074,
          -0.7128547871284446,
          0.7432408339507162,
          0.22267418896844912,
          0.8093301395612484,
          1.1075428522852886,
          -0.8891409413426854,
          0.7674768130934316,
          0.17700574880002642,
          1.2579022924495926
         ]
        },
        {
         "connectgaps": false,
         "fill": "tozeroy",
         "line": {
          "color": "green",
          "dash": "solid",
          "shape": "linear",
          "width": 0.5
         },
         "mode": "lines",
         "name": "Spread",
         "showlegend": false,
         "type": "scatter",
         "x": [
          0,
          1,
          2,
          3,
          4,
          5,
          6,
          7,
          8,
          9,
          10,
          11,
          12,
          13,
          14,
          15,
          16,
          17,
          18,
          19,
          20,
          21,
          22,
          23,
          24,
          25,
          26,
          27,
          28,
          29,
          30,
          31,
          32,
          33,
          34,
          35,
          36,
          37,
          38,
          39,
          40,
          41,
          42,
          43,
          44,
          45,
          46,
          47,
          48,
          49,
          50,
          51,
          52,
          53,
          54,
          55,
          56,
          57,
          58,
          59,
          60,
          61,
          62,
          63,
          64,
          65,
          66,
          67,
          68,
          69,
          70,
          71,
          72,
          73,
          74,
          75,
          76,
          77,
          78,
          79,
          80,
          81,
          82,
          83,
          84,
          85,
          86,
          87,
          88,
          89,
          90,
          91,
          92,
          93,
          94,
          95,
          96,
          97,
          98,
          99
         ],
         "xaxis": "x2",
         "y": [
          2.3356678141960567,
          "",
          0.22199951749454339,
          "",
          "",
          1.2378566984327315,
          "",
          0.19354744822263525,
          2.338975626545899,
          "",
          "",
          3.193361749299517,
          0.22972104018989759,
          1.8556878944532462,
          "",
          "",
          1.3041270863732966,
          "",
          0.28544365042753583,
          1.744725297107015,
          0.4130450332280866,
          "",
          0.7527846931923956,
          "",
          "",
          0.6085686817888383,
          1.0533589342922216,
          "",
          "",
          0.5023708237936246,
          1.0965683263461692,
          1.3406476762351658,
          "",
          "",
          "",
          1.714080437981479,
          1.2460723883701668,
          2.314589955337313,
          "",
          0.5759706994361017,
          "",
          "",
          "",
          "",
          2.1413951496831163,
          2.06839358483648,
          1.6481960157857243,
          0.7164417498807698,
          "",
          1.2951654393732555,
          "",
          "",
          "",
          1.2565662358131489,
          0.5372196448176187,
          0.359019522502732,
          "",
          "",
          0.37309732142047625,
          "",
          0.9036055232224609,
          "",
          0.11068285570256209,
          2.3771799784850267,
          0.01285594826517289,
          2.1732606473403933,
          1.0058522846573215,
          "",
          "",
          "",
          "",
          1.0503302717080398,
          2.987238721949481,
          "",
          "",
          "",
          0.2901814720289976,
          "",
          "",
          "",
          1.616075642002723,
          1.7174180886248012,
          1.7496438130355794,
          2.3459310986117687,
          "",
          "",
          1.7746772494387846,
          2.1356616799033867,
          "",
          "",
          0.9962070984039558,
          0.6187824018722647,
          "",
          0.5443824726084229,
          "",
          "",
          1.9140054423229171,
          0.6117086513846673,
          "",
          ""
         ],
         "yaxis": "y2"
        },
        {
         "connectgaps": false,
         "fill": "tozeroy",
         "line": {
          "color": "red",
          "dash": "solid",
          "shape": "linear",
          "width": 0.5
         },
         "mode": "lines",
         "name": "Spread",
         "showlegend": false,
         "type": "scatter",
         "x": [
          0,
          1,
          2,
          3,
          4,
          5,
          6,
          7,
          8,
          9,
          10,
          11,
          12,
          13,
          14,
          15,
          16,
          17,
          18,
          19,
          20,
          21,
          22,
          23,
          24,
          25,
          26,
          27,
          28,
          29,
          30,
          31,
          32,
          33,
          34,
          35,
          36,
          37,
          38,
          39,
          40,
          41,
          42,
          43,
          44,
          45,
          46,
          47,
          48,
          49,
          50,
          51,
          52,
          53,
          54,
          55,
          56,
          57,
          58,
          59,
          60,
          61,
          62,
          63,
          64,
          65,
          66,
          67,
          68,
          69,
          70,
          71,
          72,
          73,
          74,
          75,
          76,
          77,
          78,
          79,
          80,
          81,
          82,
          83,
          84,
          85,
          86,
          87,
          88,
          89,
          90,
          91,
          92,
          93,
          94,
          95,
          96,
          97,
          98,
          99
         ],
         "xaxis": "x2",
         "y": [
          "",
          -0.5757126246901457,
          "",
          -0.9445810414769565,
          -0.6508107610765365,
          "",
          -0.7549382035236871,
          "",
          "",
          -0.4873791275465439,
          -1.468749496833617,
          "",
          "",
          "",
          -0.03802347552960472,
          -0.1526608574151101,
          "",
          -0.429189687222167,
          "",
          "",
          "",
          -2.2699351235190908,
          "",
          -0.46489883155883127,
          -1.1495969750941084,
          "",
          "",
          -0.5741092008092996,
          -0.4269762581649684,
          "",
          "",
          "",
          -0.9412563055131231,
          -0.4889035231162387,
          -1.1980540203314745,
          "",
          "",
          "",
          -0.4918187526137994,
          "",
          -1.2947143686855416,
          -2.1543585852367233,
          -1.226494794947917,
          -0.13339594767995644,
          "",
          "",
          "",
          "",
          -2.742795984774326,
          "",
          -0.3485745791020699,
          -0.1019161958297796,
          -1.0363833554732385,
          "",
          "",
          "",
          -2.0204268537211774,
          -1.702287403510562,
          "",
          -1.8042600783056324,
          "",
          -0.2494747056787049,
          "",
          "",
          "",
          "",
          "",
          -0.0929703266623548,
          -1.835316049984296,
          -0.5378288051138319,
          -0.10392454545166419,
          "",
          "",
          -0.14571100820967214,
          -0.1666293480911888,
          -1.3429327902556671,
          "",
          -1.2717110759415293,
          -0.5222160115705006,
          -0.7422433121723242,
          "",
          "",
          "",
          "",
          -1.3728939130718156,
          -0.6446766182181338,
          "",
          "",
          -0.2867860146474922,
          -1.0334104763703211,
          "",
          "",
          -0.366735731842584,
          "",
          -1.2749466061061336,
          -3.070216679981983,
          "",
          "",
          -0.6361805356219812,
          -2.7050471927358544
         ],
         "yaxis": "y2"
        }
       ],
       "layout": {
        "hovermode": "x",
        "legend": {
         "bgcolor": "#F5F6F9",
         "font": {
          "color": "#4D5663"
         }
        },
        "paper_bgcolor": "#F5F6F9",
        "plot_bgcolor": "#F5F6F9",
        "template": {
         "data": {
          "bar": [
           {
            "error_x": {
             "color": "#2a3f5f"
            },
            "error_y": {
             "color": "#2a3f5f"
            },
            "marker": {
             "line": {
              "color": "#E5ECF6",
              "width": 0.5
             }
            },
            "type": "bar"
           }
          ],
          "barpolar": [
           {
            "marker": {
             "line": {
              "color": "#E5ECF6",
              "width": 0.5
             }
            },
            "type": "barpolar"
           }
          ],
          "carpet": [
           {
            "aaxis": {
             "endlinecolor": "#2a3f5f",
             "gridcolor": "white",
             "linecolor": "white",
             "minorgridcolor": "white",
             "startlinecolor": "#2a3f5f"
            },
            "baxis": {
             "endlinecolor": "#2a3f5f",
             "gridcolor": "white",
             "linecolor": "white",
             "minorgridcolor": "white",
             "startlinecolor": "#2a3f5f"
            },
            "type": "carpet"
           }
          ],
          "choropleth": [
           {
            "colorbar": {
             "outlinewidth": 0,
             "ticks": ""
            },
            "type": "choropleth"
           }
          ],
          "contour": [
           {
            "colorbar": {
             "outlinewidth": 0,
             "ticks": ""
            },
            "colorscale": [
             [
              0,
              "#0d0887"
             ],
             [
              0.1111111111111111,
              "#46039f"
             ],
             [
              0.2222222222222222,
              "#7201a8"
             ],
             [
              0.3333333333333333,
              "#9c179e"
             ],
             [
              0.4444444444444444,
              "#bd3786"
             ],
             [
              0.5555555555555556,
              "#d8576b"
             ],
             [
              0.6666666666666666,
              "#ed7953"
             ],
             [
              0.7777777777777778,
              "#fb9f3a"
             ],
             [
              0.8888888888888888,
              "#fdca26"
             ],
             [
              1,
              "#f0f921"
             ]
            ],
            "type": "contour"
           }
          ],
          "contourcarpet": [
           {
            "colorbar": {
             "outlinewidth": 0,
             "ticks": ""
            },
            "type": "contourcarpet"
           }
          ],
          "heatmap": [
           {
            "colorbar": {
             "outlinewidth": 0,
             "ticks": ""
            },
            "colorscale": [
             [
              0,
              "#0d0887"
             ],
             [
              0.1111111111111111,
              "#46039f"
             ],
             [
              0.2222222222222222,
              "#7201a8"
             ],
             [
              0.3333333333333333,
              "#9c179e"
             ],
             [
              0.4444444444444444,
              "#bd3786"
             ],
             [
              0.5555555555555556,
              "#d8576b"
             ],
             [
              0.6666666666666666,
              "#ed7953"
             ],
             [
              0.7777777777777778,
              "#fb9f3a"
             ],
             [
              0.8888888888888888,
              "#fdca26"
             ],
             [
              1,
              "#f0f921"
             ]
            ],
            "type": "heatmap"
           }
          ],
          "heatmapgl": [
           {
            "colorbar": {
             "outlinewidth": 0,
             "ticks": ""
            },
            "colorscale": [
             [
              0,
              "#0d0887"
             ],
             [
              0.1111111111111111,
              "#46039f"
             ],
             [
              0.2222222222222222,
              "#7201a8"
             ],
             [
              0.3333333333333333,
              "#9c179e"
             ],
             [
              0.4444444444444444,
              "#bd3786"
             ],
             [
              0.5555555555555556,
              "#d8576b"
             ],
             [
              0.6666666666666666,
              "#ed7953"
             ],
             [
              0.7777777777777778,
              "#fb9f3a"
             ],
             [
              0.8888888888888888,
              "#fdca26"
             ],
             [
              1,
              "#f0f921"
             ]
            ],
            "type": "heatmapgl"
           }
          ],
          "histogram": [
           {
            "marker": {
             "colorbar": {
              "outlinewidth": 0,
              "ticks": ""
             }
            },
            "type": "histogram"
           }
          ],
          "histogram2d": [
           {
            "colorbar": {
             "outlinewidth": 0,
             "ticks": ""
            },
            "colorscale": [
             [
              0,
              "#0d0887"
             ],
             [
              0.1111111111111111,
              "#46039f"
             ],
             [
              0.2222222222222222,
              "#7201a8"
             ],
             [
              0.3333333333333333,
              "#9c179e"
             ],
             [
              0.4444444444444444,
              "#bd3786"
             ],
             [
              0.5555555555555556,
              "#d8576b"
             ],
             [
              0.6666666666666666,
              "#ed7953"
             ],
             [
              0.7777777777777778,
              "#fb9f3a"
             ],
             [
              0.8888888888888888,
              "#fdca26"
             ],
             [
              1,
              "#f0f921"
             ]
            ],
            "type": "histogram2d"
           }
          ],
          "histogram2dcontour": [
           {
            "colorbar": {
             "outlinewidth": 0,
             "ticks": ""
            },
            "colorscale": [
             [
              0,
              "#0d0887"
             ],
             [
              0.1111111111111111,
              "#46039f"
             ],
             [
              0.2222222222222222,
              "#7201a8"
             ],
             [
              0.3333333333333333,
              "#9c179e"
             ],
             [
              0.4444444444444444,
              "#bd3786"
             ],
             [
              0.5555555555555556,
              "#d8576b"
             ],
             [
              0.6666666666666666,
              "#ed7953"
             ],
             [
              0.7777777777777778,
              "#fb9f3a"
             ],
             [
              0.8888888888888888,
              "#fdca26"
             ],
             [
              1,
              "#f0f921"
             ]
            ],
            "type": "histogram2dcontour"
           }
          ],
          "mesh3d": [
           {
            "colorbar": {
             "outlinewidth": 0,
             "ticks": ""
            },
            "type": "mesh3d"
           }
          ],
          "parcoords": [
           {
            "line": {
             "colorbar": {
              "outlinewidth": 0,
              "ticks": ""
             }
            },
            "type": "parcoords"
           }
          ],
          "pie": [
           {
            "automargin": true,
            "type": "pie"
           }
          ],
          "scatter": [
           {
            "marker": {
             "colorbar": {
              "outlinewidth": 0,
              "ticks": ""
             }
            },
            "type": "scatter"
           }
          ],
          "scatter3d": [
           {
            "line": {
             "colorbar": {
              "outlinewidth": 0,
              "ticks": ""
             }
            },
            "marker": {
             "colorbar": {
              "outlinewidth": 0,
              "ticks": ""
             }
            },
            "type": "scatter3d"
           }
          ],
          "scattercarpet": [
           {
            "marker": {
             "colorbar": {
              "outlinewidth": 0,
              "ticks": ""
             }
            },
            "type": "scattercarpet"
           }
          ],
          "scattergeo": [
           {
            "marker": {
             "colorbar": {
              "outlinewidth": 0,
              "ticks": ""
             }
            },
            "type": "scattergeo"
           }
          ],
          "scattergl": [
           {
            "marker": {
             "colorbar": {
              "outlinewidth": 0,
              "ticks": ""
             }
            },
            "type": "scattergl"
           }
          ],
          "scattermapbox": [
           {
            "marker": {
             "colorbar": {
              "outlinewidth": 0,
              "ticks": ""
             }
            },
            "type": "scattermapbox"
           }
          ],
          "scatterpolar": [
           {
            "marker": {
             "colorbar": {
              "outlinewidth": 0,
              "ticks": ""
             }
            },
            "type": "scatterpolar"
           }
          ],
          "scatterpolargl": [
           {
            "marker": {
             "colorbar": {
              "outlinewidth": 0,
              "ticks": ""
             }
            },
            "type": "scatterpolargl"
           }
          ],
          "scatterternary": [
           {
            "marker": {
             "colorbar": {
              "outlinewidth": 0,
              "ticks": ""
             }
            },
            "type": "scatterternary"
           }
          ],
          "surface": [
           {
            "colorbar": {
             "outlinewidth": 0,
             "ticks": ""
            },
            "colorscale": [
             [
              0,
              "#0d0887"
             ],
             [
              0.1111111111111111,
              "#46039f"
             ],
             [
              0.2222222222222222,
              "#7201a8"
             ],
             [
              0.3333333333333333,
              "#9c179e"
             ],
             [
              0.4444444444444444,
              "#bd3786"
             ],
             [
              0.5555555555555556,
              "#d8576b"
             ],
             [
              0.6666666666666666,
              "#ed7953"
             ],
             [
              0.7777777777777778,
              "#fb9f3a"
             ],
             [
              0.8888888888888888,
              "#fdca26"
             ],
             [
              1,
              "#f0f921"
             ]
            ],
            "type": "surface"
           }
          ],
          "table": [
           {
            "cells": {
             "fill": {
              "color": "#EBF0F8"
             },
             "line": {
              "color": "white"
             }
            },
            "header": {
             "fill": {
              "color": "#C8D4E3"
             },
             "line": {
              "color": "white"
             }
            },
            "type": "table"
           }
          ]
         },
         "layout": {
          "annotationdefaults": {
           "arrowcolor": "#2a3f5f",
           "arrowhead": 0,
           "arrowwidth": 1
          },
          "coloraxis": {
           "colorbar": {
            "outlinewidth": 0,
            "ticks": ""
           }
          },
          "colorscale": {
           "diverging": [
            [
             0,
             "#8e0152"
            ],
            [
             0.1,
             "#c51b7d"
            ],
            [
             0.2,
             "#de77ae"
            ],
            [
             0.3,
             "#f1b6da"
            ],
            [
             0.4,
             "#fde0ef"
            ],
            [
             0.5,
             "#f7f7f7"
            ],
            [
             0.6,
             "#e6f5d0"
            ],
            [
             0.7,
             "#b8e186"
            ],
            [
             0.8,
             "#7fbc41"
            ],
            [
             0.9,
             "#4d9221"
            ],
            [
             1,
             "#276419"
            ]
           ],
           "sequential": [
            [
             0,
             "#0d0887"
            ],
            [
             0.1111111111111111,
             "#46039f"
            ],
            [
             0.2222222222222222,
             "#7201a8"
            ],
            [
             0.3333333333333333,
             "#9c179e"
            ],
            [
             0.4444444444444444,
             "#bd3786"
            ],
            [
             0.5555555555555556,
             "#d8576b"
            ],
            [
             0.6666666666666666,
             "#ed7953"
            ],
            [
             0.7777777777777778,
             "#fb9f3a"
            ],
            [
             0.8888888888888888,
             "#fdca26"
            ],
            [
             1,
             "#f0f921"
            ]
           ],
           "sequentialminus": [
            [
             0,
             "#0d0887"
            ],
            [
             0.1111111111111111,
             "#46039f"
            ],
            [
             0.2222222222222222,
             "#7201a8"
            ],
            [
             0.3333333333333333,
             "#9c179e"
            ],
            [
             0.4444444444444444,
             "#bd3786"
            ],
            [
             0.5555555555555556,
             "#d8576b"
            ],
            [
             0.6666666666666666,
             "#ed7953"
            ],
            [
             0.7777777777777778,
             "#fb9f3a"
            ],
            [
             0.8888888888888888,
             "#fdca26"
            ],
            [
             1,
             "#f0f921"
            ]
           ]
          },
          "colorway": [
           "#636efa",
           "#EF553B",
           "#00cc96",
           "#ab63fa",
           "#FFA15A",
           "#19d3f3",
           "#FF6692",
           "#B6E880",
           "#FF97FF",
           "#FECB52"
          ],
          "font": {
           "color": "#2a3f5f"
          },
          "geo": {
           "bgcolor": "white",
           "lakecolor": "white",
           "landcolor": "#E5ECF6",
           "showlakes": true,
           "showland": true,
           "subunitcolor": "white"
          },
          "hoverlabel": {
           "align": "left"
          },
          "hovermode": "closest",
          "mapbox": {
           "style": "light"
          },
          "paper_bgcolor": "white",
          "plot_bgcolor": "#E5ECF6",
          "polar": {
           "angularaxis": {
            "gridcolor": "white",
            "linecolor": "white",
            "ticks": ""
           },
           "bgcolor": "#E5ECF6",
           "radialaxis": {
            "gridcolor": "white",
            "linecolor": "white",
            "ticks": ""
           }
          },
          "scene": {
           "xaxis": {
            "backgroundcolor": "#E5ECF6",
            "gridcolor": "white",
            "gridwidth": 2,
            "linecolor": "white",
            "showbackground": true,
            "ticks": "",
            "zerolinecolor": "white"
           },
           "yaxis": {
            "backgroundcolor": "#E5ECF6",
            "gridcolor": "white",
            "gridwidth": 2,
            "linecolor": "white",
            "showbackground": true,
            "ticks": "",
            "zerolinecolor": "white"
           },
           "zaxis": {
            "backgroundcolor": "#E5ECF6",
            "gridcolor": "white",
            "gridwidth": 2,
            "linecolor": "white",
            "showbackground": true,
            "ticks": "",
            "zerolinecolor": "white"
           }
          },
          "shapedefaults": {
           "line": {
            "color": "#2a3f5f"
           }
          },
          "ternary": {
           "aaxis": {
            "gridcolor": "white",
            "linecolor": "white",
            "ticks": ""
           },
           "baxis": {
            "gridcolor": "white",
            "linecolor": "white",
            "ticks": ""
           },
           "bgcolor": "#E5ECF6",
           "caxis": {
            "gridcolor": "white",
            "linecolor": "white",
            "ticks": ""
           }
          },
          "title": {
           "x": 0.05
          },
          "xaxis": {
           "automargin": true,
           "gridcolor": "white",
           "linecolor": "white",
           "ticks": "",
           "title": {
            "standoff": 15
           },
           "zerolinecolor": "white",
           "zerolinewidth": 2
          },
          "yaxis": {
           "automargin": true,
           "gridcolor": "white",
           "linecolor": "white",
           "ticks": "",
           "title": {
            "standoff": 15
           },
           "zerolinecolor": "white",
           "zerolinewidth": 2
          }
         }
        },
        "title": {
         "font": {
          "color": "#4D5663"
         }
        },
        "xaxis": {
         "gridcolor": "#E1E5ED",
         "showgrid": true,
         "tickfont": {
          "color": "#4D5663"
         },
         "title": {
          "font": {
           "color": "#4D5663"
          },
          "text": ""
         },
         "zerolinecolor": "#E1E5ED"
        },
        "xaxis2": {
         "anchor": "y2",
         "gridcolor": "#E1E5ED",
         "showgrid": true,
         "showticklabels": false,
         "tickfont": {
          "color": "#4D5663"
         },
         "title": {
          "font": {
           "color": "#4D5663"
          },
          "text": ""
         },
         "zerolinecolor": "#E1E5ED"
        },
        "yaxis": {
         "domain": [
          0.3,
          1
         ],
         "gridcolor": "#E1E5ED",
         "showgrid": true,
         "tickfont": {
          "color": "#4D5663"
         },
         "title": {
          "font": {
           "color": "#4D5663"
          },
          "text": ""
         },
         "zerolinecolor": "#E1E5ED"
        },
        "yaxis2": {
         "domain": [
          0,
          0.25
         ],
         "gridcolor": "#E1E5ED",
         "showgrid": true,
         "tickfont": {
          "color": "#4D5663"
         },
         "title": {
          "font": {
           "color": "#4D5663"
          },
          "text": "Spread"
         },
         "zerolinecolor": "#E1E5ED"
        }
       }
      },
      "text/html": [
       "<div>\n",
       "        \n",
       "        \n",
       "            <div id=\"bccab981-f051-48bf-8c3e-9fe74c07d033\" class=\"plotly-graph-div\" style=\"height:525px; width:100%;\"></div>\n",
       "            <script type=\"text/javascript\">\n",
       "                require([\"plotly\"], function(Plotly) {\n",
       "                    window.PLOTLYENV=window.PLOTLYENV || {};\n",
       "                    window.PLOTLYENV.BASE_URL='https://plot.ly';\n",
       "                    \n",
       "                if (document.getElementById(\"bccab981-f051-48bf-8c3e-9fe74c07d033\")) {\n",
       "                    Plotly.newPlot(\n",
       "                        'bccab981-f051-48bf-8c3e-9fe74c07d033',\n",
       "                        [{\"line\": {\"color\": \"rgba(255, 153, 51, 1.0)\", \"dash\": \"solid\", \"shape\": \"linear\", \"width\": 1.3}, \"mode\": \"lines\", \"name\": \"A\", \"text\": \"\", \"type\": \"scatter\", \"x\": [0, 1, 2, 3, 4, 5, 6, 7, 8, 9, 10, 11, 12, 13, 14, 15, 16, 17, 18, 19, 20, 21, 22, 23, 24, 25, 26, 27, 28, 29, 30, 31, 32, 33, 34, 35, 36, 37, 38, 39, 40, 41, 42, 43, 44, 45, 46, 47, 48, 49, 50, 51, 52, 53, 54, 55, 56, 57, 58, 59, 60, 61, 62, 63, 64, 65, 66, 67, 68, 69, 70, 71, 72, 73, 74, 75, 76, 77, 78, 79, 80, 81, 82, 83, 84, 85, 86, 87, 88, 89, 90, 91, 92, 93, 94, 95, 96, 97, 98, 99], \"y\": [0.6365076909941588, -0.4737602015567025, -0.4931937653649986, -1.002162685929863, -1.390694581240618, 0.2624767228460955, 0.06342727286886606, 0.34217472462690585, 2.961132768508034, -0.8620975059326305, 0.4553717205546613, 1.267344265809088, 0.5574464676557171, 1.7650668089058499, -0.6602427071795416, 0.2578219133046646, -0.17263289964841197, -0.11238959064405796, 0.8695860480867245, 0.40840660774229726, -1.0684251725049163, -0.9785793326058884, 0.5931279441105388, -0.5737552603070895, 0.9117283650804772, 0.6474425728966579, -0.5038442677636253, -1.1008455274698403, 0.6251097854408026, 0.9860855829234931, -0.3519782030631685, 0.2043298737212113, -0.6511487116247198, -0.47613929479990535, -1.1726127112294482, 1.5612251685295533, 0.4022976345568017, 1.1566765718193304, 0.031117966223119534, -0.865882402029834, -0.5233903441757728, -1.0054595647259312, -0.11632633713897635, -0.5384467568825115, 0.4677278114296954, 0.5387522859610423, 0.5311214184901931, 0.8542591407697975, -0.9803545984510883, 1.3106925029212348, -0.19232021685687745, -0.14569136160329985, -0.7146824851366995, -0.4786817591587508, 0.7235332743737379, -0.41712017043221844, -1.6019352807092222, -0.9343856342604369, 0.7247039771128864, 0.7123562356757894, 0.7120993540271149, -0.5936962306733344, -1.0826130603973108, 0.5248478277685283, -0.26026561529029024, 1.9453734300618395, 1.5188109407529324, 0.14475730152800026, -1.6548732265850479, 0.6418646400314986, -0.7004102844625567, 0.7719183108008424, 2.108988390018506, 0.12790582165533965, -0.2526413569711868, -1.6127100179913447, -0.5658126567820971, -0.5211460165079267, -0.013759130888993939, -0.950487694184885, 1.4552606561594668, 0.5982889285689689, -0.1538747388728679, 0.5353219782660327, -1.072228923525188, 0.6752160523044004, 0.24625540085408443, 0.6505484803196946, 0.4229194966060065, -1.0724186747068731, -0.16874383355845157, -0.0940723852561799, 0.37650510210813215, 0.767056661576872, -0.4656164665448851, -1.9626738276966944, 1.0248645009802317, 1.379185464478099, -0.4591747868219548, -1.447144900286262]}, {\"line\": {\"color\": \"rgba(55, 128, 191, 1.0)\", \"dash\": \"solid\", \"shape\": \"linear\", \"width\": 1.3}, \"mode\": \"lines\", \"name\": \"B\", \"text\": \"\", \"type\": \"scatter\", \"x\": [0, 1, 2, 3, 4, 5, 6, 7, 8, 9, 10, 11, 12, 13, 14, 15, 16, 17, 18, 19, 20, 21, 22, 23, 24, 25, 26, 27, 28, 29, 30, 31, 32, 33, 34, 35, 36, 37, 38, 39, 40, 41, 42, 43, 44, 45, 46, 47, 48, 49, 50, 51, 52, 53, 54, 55, 56, 57, 58, 59, 60, 61, 62, 63, 64, 65, 66, 67, 68, 69, 70, 71, 72, 73, 74, 75, 76, 77, 78, 79, 80, 81, 82, 83, 84, 85, 86, 87, 88, 89, 90, 91, 92, 93, 94, 95, 96, 97, 98, 99], \"y\": [-1.699160123201898, 0.10195242313344324, -0.715193282859542, -0.05758164445290634, -0.7398838201640815, -0.9753799755866359, 0.8183654763925532, 0.1486272764042706, 0.6221571419621349, -0.37471837838608657, 1.9241212173882782, -1.9260174834904287, 0.32772542746581956, -0.09062108554739637, -0.6222192316499369, 0.4104827707197747, -1.4767599860217084, 0.31680009657810904, 0.5841423976591886, -1.3363186893647179, -1.481470205733003, 1.2913557909132023, -0.15965674908185673, -0.10885642874825817, 2.0613253401745855, 0.038873891107819594, -1.5572032020558468, -0.5267363266605407, 1.052086043605771, 0.4837147591298685, -1.4485465294093376, -1.1363178025139544, 0.2901075938884033, 0.012764228316333356, 0.02544130910202635, -0.15285526945192568, -0.8437747538133651, -1.1579133835179825, 0.522936718836919, -1.4418531014659357, 0.7713240245097688, 1.1488990205107918, 1.1101684578089406, -0.4050508092025551, -1.6736673382534208, -1.5296412988754375, -1.1170745972955312, 0.13781739088902767, 1.7624413863232378, 0.015527063547979406, 0.15625436224519249, -0.04377516577352025, 0.32170087033653894, -1.7352479949718995, 0.18631362955611921, -0.7761396929349504, 0.4184915730119552, 0.7679017692501251, 0.3516066556924101, 2.5166163139814217, -0.19150616919534597, -0.34422152499462955, -1.1932959160998728, -1.8523321507164985, -0.27312156355546313, -0.22788721727855377, 0.512958656095611, 0.23772762819035506, 0.18044282339924814, 1.1796934451453305, -0.5964857390108925, -0.27841196090719744, -0.8782503319309752, 0.2736168298650118, -0.086012008879998, -0.2697772277356776, -0.8559941288110947, 0.7505650594336027, 0.5084568806815066, -0.20824438201256085, -0.16081498584325604, -1.1191291600558322, -1.9035185519084472, -1.8106091203457362, 0.3006649895466276, 1.3198926705225342, -1.5284218485847, -1.4851131995836924, 0.7097055112534987, -0.03900819833655198, -1.1649509319624074, -0.7128547871284446, 0.7432408339507162, 0.22267418896844912, 0.8093301395612484, 1.1075428522852886, -0.8891409413426854, 0.7674768130934316, 0.17700574880002642, 1.2579022924495926]}, {\"connectgaps\": false, \"fill\": \"tozeroy\", \"line\": {\"color\": \"green\", \"dash\": \"solid\", \"shape\": \"linear\", \"width\": 0.5}, \"mode\": \"lines\", \"name\": \"Spread\", \"showlegend\": false, \"type\": \"scatter\", \"x\": [0, 1, 2, 3, 4, 5, 6, 7, 8, 9, 10, 11, 12, 13, 14, 15, 16, 17, 18, 19, 20, 21, 22, 23, 24, 25, 26, 27, 28, 29, 30, 31, 32, 33, 34, 35, 36, 37, 38, 39, 40, 41, 42, 43, 44, 45, 46, 47, 48, 49, 50, 51, 52, 53, 54, 55, 56, 57, 58, 59, 60, 61, 62, 63, 64, 65, 66, 67, 68, 69, 70, 71, 72, 73, 74, 75, 76, 77, 78, 79, 80, 81, 82, 83, 84, 85, 86, 87, 88, 89, 90, 91, 92, 93, 94, 95, 96, 97, 98, 99], \"xaxis\": \"x2\", \"y\": [2.3356678141960567, \"\", 0.22199951749454339, \"\", \"\", 1.2378566984327315, \"\", 0.19354744822263525, 2.338975626545899, \"\", \"\", 3.193361749299517, 0.22972104018989759, 1.8556878944532462, \"\", \"\", 1.3041270863732966, \"\", 0.28544365042753583, 1.744725297107015, 0.4130450332280866, \"\", 0.7527846931923956, \"\", \"\", 0.6085686817888383, 1.0533589342922216, \"\", \"\", 0.5023708237936246, 1.0965683263461692, 1.3406476762351658, \"\", \"\", \"\", 1.714080437981479, 1.2460723883701668, 2.314589955337313, \"\", 0.5759706994361017, \"\", \"\", \"\", \"\", 2.1413951496831163, 2.06839358483648, 1.6481960157857243, 0.7164417498807698, \"\", 1.2951654393732555, \"\", \"\", \"\", 1.2565662358131489, 0.5372196448176187, 0.359019522502732, \"\", \"\", 0.37309732142047625, \"\", 0.9036055232224609, \"\", 0.11068285570256209, 2.3771799784850267, 0.01285594826517289, 2.1732606473403933, 1.0058522846573215, \"\", \"\", \"\", \"\", 1.0503302717080398, 2.987238721949481, \"\", \"\", \"\", 0.2901814720289976, \"\", \"\", \"\", 1.616075642002723, 1.7174180886248012, 1.7496438130355794, 2.3459310986117687, \"\", \"\", 1.7746772494387846, 2.1356616799033867, \"\", \"\", 0.9962070984039558, 0.6187824018722647, \"\", 0.5443824726084229, \"\", \"\", 1.9140054423229171, 0.6117086513846673, \"\", \"\"], \"yaxis\": \"y2\"}, {\"connectgaps\": false, \"fill\": \"tozeroy\", \"line\": {\"color\": \"red\", \"dash\": \"solid\", \"shape\": \"linear\", \"width\": 0.5}, \"mode\": \"lines\", \"name\": \"Spread\", \"showlegend\": false, \"type\": \"scatter\", \"x\": [0, 1, 2, 3, 4, 5, 6, 7, 8, 9, 10, 11, 12, 13, 14, 15, 16, 17, 18, 19, 20, 21, 22, 23, 24, 25, 26, 27, 28, 29, 30, 31, 32, 33, 34, 35, 36, 37, 38, 39, 40, 41, 42, 43, 44, 45, 46, 47, 48, 49, 50, 51, 52, 53, 54, 55, 56, 57, 58, 59, 60, 61, 62, 63, 64, 65, 66, 67, 68, 69, 70, 71, 72, 73, 74, 75, 76, 77, 78, 79, 80, 81, 82, 83, 84, 85, 86, 87, 88, 89, 90, 91, 92, 93, 94, 95, 96, 97, 98, 99], \"xaxis\": \"x2\", \"y\": [\"\", -0.5757126246901457, \"\", -0.9445810414769565, -0.6508107610765365, \"\", -0.7549382035236871, \"\", \"\", -0.4873791275465439, -1.468749496833617, \"\", \"\", \"\", -0.03802347552960472, -0.1526608574151101, \"\", -0.429189687222167, \"\", \"\", \"\", -2.2699351235190908, \"\", -0.46489883155883127, -1.1495969750941084, \"\", \"\", -0.5741092008092996, -0.4269762581649684, \"\", \"\", \"\", -0.9412563055131231, -0.4889035231162387, -1.1980540203314745, \"\", \"\", \"\", -0.4918187526137994, \"\", -1.2947143686855416, -2.1543585852367233, -1.226494794947917, -0.13339594767995644, \"\", \"\", \"\", \"\", -2.742795984774326, \"\", -0.3485745791020699, -0.1019161958297796, -1.0363833554732385, \"\", \"\", \"\", -2.0204268537211774, -1.702287403510562, \"\", -1.8042600783056324, \"\", -0.2494747056787049, \"\", \"\", \"\", \"\", \"\", -0.0929703266623548, -1.835316049984296, -0.5378288051138319, -0.10392454545166419, \"\", \"\", -0.14571100820967214, -0.1666293480911888, -1.3429327902556671, \"\", -1.2717110759415293, -0.5222160115705006, -0.7422433121723242, \"\", \"\", \"\", \"\", -1.3728939130718156, -0.6446766182181338, \"\", \"\", -0.2867860146474922, -1.0334104763703211, \"\", \"\", -0.366735731842584, \"\", -1.2749466061061336, -3.070216679981983, \"\", \"\", -0.6361805356219812, -2.7050471927358544], \"yaxis\": \"y2\"}],\n",
       "                        {\"hovermode\": \"x\", \"legend\": {\"bgcolor\": \"#F5F6F9\", \"font\": {\"color\": \"#4D5663\"}}, \"paper_bgcolor\": \"#F5F6F9\", \"plot_bgcolor\": \"#F5F6F9\", \"template\": {\"data\": {\"bar\": [{\"error_x\": {\"color\": \"#2a3f5f\"}, \"error_y\": {\"color\": \"#2a3f5f\"}, \"marker\": {\"line\": {\"color\": \"#E5ECF6\", \"width\": 0.5}}, \"type\": \"bar\"}], \"barpolar\": [{\"marker\": {\"line\": {\"color\": \"#E5ECF6\", \"width\": 0.5}}, \"type\": \"barpolar\"}], \"carpet\": [{\"aaxis\": {\"endlinecolor\": \"#2a3f5f\", \"gridcolor\": \"white\", \"linecolor\": \"white\", \"minorgridcolor\": \"white\", \"startlinecolor\": \"#2a3f5f\"}, \"baxis\": {\"endlinecolor\": \"#2a3f5f\", \"gridcolor\": \"white\", \"linecolor\": \"white\", \"minorgridcolor\": \"white\", \"startlinecolor\": \"#2a3f5f\"}, \"type\": \"carpet\"}], \"choropleth\": [{\"colorbar\": {\"outlinewidth\": 0, \"ticks\": \"\"}, \"type\": \"choropleth\"}], \"contour\": [{\"colorbar\": {\"outlinewidth\": 0, \"ticks\": \"\"}, \"colorscale\": [[0.0, \"#0d0887\"], [0.1111111111111111, \"#46039f\"], [0.2222222222222222, \"#7201a8\"], [0.3333333333333333, \"#9c179e\"], [0.4444444444444444, \"#bd3786\"], [0.5555555555555556, \"#d8576b\"], [0.6666666666666666, \"#ed7953\"], [0.7777777777777778, \"#fb9f3a\"], [0.8888888888888888, \"#fdca26\"], [1.0, \"#f0f921\"]], \"type\": \"contour\"}], \"contourcarpet\": [{\"colorbar\": {\"outlinewidth\": 0, \"ticks\": \"\"}, \"type\": \"contourcarpet\"}], \"heatmap\": [{\"colorbar\": {\"outlinewidth\": 0, \"ticks\": \"\"}, \"colorscale\": [[0.0, \"#0d0887\"], [0.1111111111111111, \"#46039f\"], [0.2222222222222222, \"#7201a8\"], [0.3333333333333333, \"#9c179e\"], [0.4444444444444444, \"#bd3786\"], [0.5555555555555556, \"#d8576b\"], [0.6666666666666666, \"#ed7953\"], [0.7777777777777778, \"#fb9f3a\"], [0.8888888888888888, \"#fdca26\"], [1.0, \"#f0f921\"]], \"type\": \"heatmap\"}], \"heatmapgl\": [{\"colorbar\": {\"outlinewidth\": 0, \"ticks\": \"\"}, \"colorscale\": [[0.0, \"#0d0887\"], [0.1111111111111111, \"#46039f\"], [0.2222222222222222, \"#7201a8\"], [0.3333333333333333, \"#9c179e\"], [0.4444444444444444, \"#bd3786\"], [0.5555555555555556, \"#d8576b\"], [0.6666666666666666, \"#ed7953\"], [0.7777777777777778, \"#fb9f3a\"], [0.8888888888888888, \"#fdca26\"], [1.0, \"#f0f921\"]], \"type\": \"heatmapgl\"}], \"histogram\": [{\"marker\": {\"colorbar\": {\"outlinewidth\": 0, \"ticks\": \"\"}}, \"type\": \"histogram\"}], \"histogram2d\": [{\"colorbar\": {\"outlinewidth\": 0, \"ticks\": \"\"}, \"colorscale\": [[0.0, \"#0d0887\"], [0.1111111111111111, \"#46039f\"], [0.2222222222222222, \"#7201a8\"], [0.3333333333333333, \"#9c179e\"], [0.4444444444444444, \"#bd3786\"], [0.5555555555555556, \"#d8576b\"], [0.6666666666666666, \"#ed7953\"], [0.7777777777777778, \"#fb9f3a\"], [0.8888888888888888, \"#fdca26\"], [1.0, \"#f0f921\"]], \"type\": \"histogram2d\"}], \"histogram2dcontour\": [{\"colorbar\": {\"outlinewidth\": 0, \"ticks\": \"\"}, \"colorscale\": [[0.0, \"#0d0887\"], [0.1111111111111111, \"#46039f\"], [0.2222222222222222, \"#7201a8\"], [0.3333333333333333, \"#9c179e\"], [0.4444444444444444, \"#bd3786\"], [0.5555555555555556, \"#d8576b\"], [0.6666666666666666, \"#ed7953\"], [0.7777777777777778, \"#fb9f3a\"], [0.8888888888888888, \"#fdca26\"], [1.0, \"#f0f921\"]], \"type\": \"histogram2dcontour\"}], \"mesh3d\": [{\"colorbar\": {\"outlinewidth\": 0, \"ticks\": \"\"}, \"type\": \"mesh3d\"}], \"parcoords\": [{\"line\": {\"colorbar\": {\"outlinewidth\": 0, \"ticks\": \"\"}}, \"type\": \"parcoords\"}], \"pie\": [{\"automargin\": true, \"type\": \"pie\"}], \"scatter\": [{\"marker\": {\"colorbar\": {\"outlinewidth\": 0, \"ticks\": \"\"}}, \"type\": \"scatter\"}], \"scatter3d\": [{\"line\": {\"colorbar\": {\"outlinewidth\": 0, \"ticks\": \"\"}}, \"marker\": {\"colorbar\": {\"outlinewidth\": 0, \"ticks\": \"\"}}, \"type\": \"scatter3d\"}], \"scattercarpet\": [{\"marker\": {\"colorbar\": {\"outlinewidth\": 0, \"ticks\": \"\"}}, \"type\": \"scattercarpet\"}], \"scattergeo\": [{\"marker\": {\"colorbar\": {\"outlinewidth\": 0, \"ticks\": \"\"}}, \"type\": \"scattergeo\"}], \"scattergl\": [{\"marker\": {\"colorbar\": {\"outlinewidth\": 0, \"ticks\": \"\"}}, \"type\": \"scattergl\"}], \"scattermapbox\": [{\"marker\": {\"colorbar\": {\"outlinewidth\": 0, \"ticks\": \"\"}}, \"type\": \"scattermapbox\"}], \"scatterpolar\": [{\"marker\": {\"colorbar\": {\"outlinewidth\": 0, \"ticks\": \"\"}}, \"type\": \"scatterpolar\"}], \"scatterpolargl\": [{\"marker\": {\"colorbar\": {\"outlinewidth\": 0, \"ticks\": \"\"}}, \"type\": \"scatterpolargl\"}], \"scatterternary\": [{\"marker\": {\"colorbar\": {\"outlinewidth\": 0, \"ticks\": \"\"}}, \"type\": \"scatterternary\"}], \"surface\": [{\"colorbar\": {\"outlinewidth\": 0, \"ticks\": \"\"}, \"colorscale\": [[0.0, \"#0d0887\"], [0.1111111111111111, \"#46039f\"], [0.2222222222222222, \"#7201a8\"], [0.3333333333333333, \"#9c179e\"], [0.4444444444444444, \"#bd3786\"], [0.5555555555555556, \"#d8576b\"], [0.6666666666666666, \"#ed7953\"], [0.7777777777777778, \"#fb9f3a\"], [0.8888888888888888, \"#fdca26\"], [1.0, \"#f0f921\"]], \"type\": \"surface\"}], \"table\": [{\"cells\": {\"fill\": {\"color\": \"#EBF0F8\"}, \"line\": {\"color\": \"white\"}}, \"header\": {\"fill\": {\"color\": \"#C8D4E3\"}, \"line\": {\"color\": \"white\"}}, \"type\": \"table\"}]}, \"layout\": {\"annotationdefaults\": {\"arrowcolor\": \"#2a3f5f\", \"arrowhead\": 0, \"arrowwidth\": 1}, \"coloraxis\": {\"colorbar\": {\"outlinewidth\": 0, \"ticks\": \"\"}}, \"colorscale\": {\"diverging\": [[0, \"#8e0152\"], [0.1, \"#c51b7d\"], [0.2, \"#de77ae\"], [0.3, \"#f1b6da\"], [0.4, \"#fde0ef\"], [0.5, \"#f7f7f7\"], [0.6, \"#e6f5d0\"], [0.7, \"#b8e186\"], [0.8, \"#7fbc41\"], [0.9, \"#4d9221\"], [1, \"#276419\"]], \"sequential\": [[0.0, \"#0d0887\"], [0.1111111111111111, \"#46039f\"], [0.2222222222222222, \"#7201a8\"], [0.3333333333333333, \"#9c179e\"], [0.4444444444444444, \"#bd3786\"], [0.5555555555555556, \"#d8576b\"], [0.6666666666666666, \"#ed7953\"], [0.7777777777777778, \"#fb9f3a\"], [0.8888888888888888, \"#fdca26\"], [1.0, \"#f0f921\"]], \"sequentialminus\": [[0.0, \"#0d0887\"], [0.1111111111111111, \"#46039f\"], [0.2222222222222222, \"#7201a8\"], [0.3333333333333333, \"#9c179e\"], [0.4444444444444444, \"#bd3786\"], [0.5555555555555556, \"#d8576b\"], [0.6666666666666666, \"#ed7953\"], [0.7777777777777778, \"#fb9f3a\"], [0.8888888888888888, \"#fdca26\"], [1.0, \"#f0f921\"]]}, \"colorway\": [\"#636efa\", \"#EF553B\", \"#00cc96\", \"#ab63fa\", \"#FFA15A\", \"#19d3f3\", \"#FF6692\", \"#B6E880\", \"#FF97FF\", \"#FECB52\"], \"font\": {\"color\": \"#2a3f5f\"}, \"geo\": {\"bgcolor\": \"white\", \"lakecolor\": \"white\", \"landcolor\": \"#E5ECF6\", \"showlakes\": true, \"showland\": true, \"subunitcolor\": \"white\"}, \"hoverlabel\": {\"align\": \"left\"}, \"hovermode\": \"closest\", \"mapbox\": {\"style\": \"light\"}, \"paper_bgcolor\": \"white\", \"plot_bgcolor\": \"#E5ECF6\", \"polar\": {\"angularaxis\": {\"gridcolor\": \"white\", \"linecolor\": \"white\", \"ticks\": \"\"}, \"bgcolor\": \"#E5ECF6\", \"radialaxis\": {\"gridcolor\": \"white\", \"linecolor\": \"white\", \"ticks\": \"\"}}, \"scene\": {\"xaxis\": {\"backgroundcolor\": \"#E5ECF6\", \"gridcolor\": \"white\", \"gridwidth\": 2, \"linecolor\": \"white\", \"showbackground\": true, \"ticks\": \"\", \"zerolinecolor\": \"white\"}, \"yaxis\": {\"backgroundcolor\": \"#E5ECF6\", \"gridcolor\": \"white\", \"gridwidth\": 2, \"linecolor\": \"white\", \"showbackground\": true, \"ticks\": \"\", \"zerolinecolor\": \"white\"}, \"zaxis\": {\"backgroundcolor\": \"#E5ECF6\", \"gridcolor\": \"white\", \"gridwidth\": 2, \"linecolor\": \"white\", \"showbackground\": true, \"ticks\": \"\", \"zerolinecolor\": \"white\"}}, \"shapedefaults\": {\"line\": {\"color\": \"#2a3f5f\"}}, \"ternary\": {\"aaxis\": {\"gridcolor\": \"white\", \"linecolor\": \"white\", \"ticks\": \"\"}, \"baxis\": {\"gridcolor\": \"white\", \"linecolor\": \"white\", \"ticks\": \"\"}, \"bgcolor\": \"#E5ECF6\", \"caxis\": {\"gridcolor\": \"white\", \"linecolor\": \"white\", \"ticks\": \"\"}}, \"title\": {\"x\": 0.05}, \"xaxis\": {\"automargin\": true, \"gridcolor\": \"white\", \"linecolor\": \"white\", \"ticks\": \"\", \"title\": {\"standoff\": 15}, \"zerolinecolor\": \"white\", \"zerolinewidth\": 2}, \"yaxis\": {\"automargin\": true, \"gridcolor\": \"white\", \"linecolor\": \"white\", \"ticks\": \"\", \"title\": {\"standoff\": 15}, \"zerolinecolor\": \"white\", \"zerolinewidth\": 2}}}, \"title\": {\"font\": {\"color\": \"#4D5663\"}}, \"xaxis\": {\"gridcolor\": \"#E1E5ED\", \"showgrid\": true, \"tickfont\": {\"color\": \"#4D5663\"}, \"title\": {\"font\": {\"color\": \"#4D5663\"}, \"text\": \"\"}, \"zerolinecolor\": \"#E1E5ED\"}, \"xaxis2\": {\"anchor\": \"y2\", \"gridcolor\": \"#E1E5ED\", \"showgrid\": true, \"showticklabels\": false, \"tickfont\": {\"color\": \"#4D5663\"}, \"title\": {\"font\": {\"color\": \"#4D5663\"}, \"text\": \"\"}, \"zerolinecolor\": \"#E1E5ED\"}, \"yaxis\": {\"domain\": [0.3, 1], \"gridcolor\": \"#E1E5ED\", \"showgrid\": true, \"tickfont\": {\"color\": \"#4D5663\"}, \"title\": {\"font\": {\"color\": \"#4D5663\"}, \"text\": \"\"}, \"zerolinecolor\": \"#E1E5ED\"}, \"yaxis2\": {\"domain\": [0, 0.25], \"gridcolor\": \"#E1E5ED\", \"showgrid\": true, \"tickfont\": {\"color\": \"#4D5663\"}, \"title\": {\"font\": {\"color\": \"#4D5663\"}, \"text\": \"Spread\"}, \"zerolinecolor\": \"#E1E5ED\"}},\n",
       "                        {\"showLink\": true, \"linkText\": \"Export to plot.ly\", \"plotlyServerURL\": \"https://plot.ly\", \"responsive\": true}\n",
       "                    ).then(function(){\n",
       "                            \n",
       "var gd = document.getElementById('bccab981-f051-48bf-8c3e-9fe74c07d033');\n",
       "var x = new MutationObserver(function (mutations, observer) {{\n",
       "        var display = window.getComputedStyle(gd).display;\n",
       "        if (!display || display === 'none') {{\n",
       "            console.log([gd, 'removed!']);\n",
       "            Plotly.purge(gd);\n",
       "            observer.disconnect();\n",
       "        }}\n",
       "}});\n",
       "\n",
       "// Listen for the removal of the full notebook cells\n",
       "var notebookContainer = gd.closest('#notebook-container');\n",
       "if (notebookContainer) {{\n",
       "    x.observe(notebookContainer, {childList: true});\n",
       "}}\n",
       "\n",
       "// Listen for the clearing of the current output cell\n",
       "var outputEl = gd.closest('.output');\n",
       "if (outputEl) {{\n",
       "    x.observe(outputEl, {childList: true});\n",
       "}}\n",
       "\n",
       "                        })\n",
       "                };\n",
       "                });\n",
       "            </script>\n",
       "        </div>"
      ]
     },
     "metadata": {},
     "output_type": "display_data"
    }
   ],
   "source": [
    "df[['A','B']].iplot(kind='spread')"
   ]
  },
  {
   "cell_type": "markdown",
   "metadata": {},
   "source": [
    "## histogram"
   ]
  },
  {
   "cell_type": "code",
   "execution_count": 16,
   "metadata": {},
   "outputs": [
    {
     "data": {
      "application/vnd.plotly.v1+json": {
       "config": {
        "linkText": "Export to plot.ly",
        "plotlyServerURL": "https://plot.ly",
        "showLink": true
       },
       "data": [
        {
         "histfunc": "count",
         "histnorm": "",
         "marker": {
          "color": "rgba(255, 153, 51, 1.0)",
          "line": {
           "color": "#4D5663",
           "width": 1.3
          }
         },
         "name": "A",
         "nbinsx": 25,
         "opacity": 0.8,
         "orientation": "v",
         "type": "histogram",
         "x": [
          0.6365076909941588,
          -0.4737602015567025,
          -0.4931937653649986,
          -1.002162685929863,
          -1.390694581240618,
          0.2624767228460955,
          0.06342727286886606,
          0.34217472462690585,
          2.961132768508034,
          -0.8620975059326305,
          0.4553717205546613,
          1.267344265809088,
          0.5574464676557171,
          1.7650668089058499,
          -0.6602427071795416,
          0.2578219133046646,
          -0.17263289964841197,
          -0.11238959064405796,
          0.8695860480867245,
          0.40840660774229726,
          -1.0684251725049163,
          -0.9785793326058884,
          0.5931279441105388,
          -0.5737552603070895,
          0.9117283650804772,
          0.6474425728966579,
          -0.5038442677636253,
          -1.1008455274698403,
          0.6251097854408026,
          0.9860855829234931,
          -0.3519782030631685,
          0.2043298737212113,
          -0.6511487116247198,
          -0.47613929479990535,
          -1.1726127112294482,
          1.5612251685295533,
          0.4022976345568017,
          1.1566765718193304,
          0.031117966223119534,
          -0.865882402029834,
          -0.5233903441757728,
          -1.0054595647259312,
          -0.11632633713897635,
          -0.5384467568825115,
          0.4677278114296954,
          0.5387522859610423,
          0.5311214184901931,
          0.8542591407697975,
          -0.9803545984510883,
          1.3106925029212348,
          -0.19232021685687745,
          -0.14569136160329985,
          -0.7146824851366995,
          -0.4786817591587508,
          0.7235332743737379,
          -0.41712017043221844,
          -1.6019352807092222,
          -0.9343856342604369,
          0.7247039771128864,
          0.7123562356757894,
          0.7120993540271149,
          -0.5936962306733344,
          -1.0826130603973108,
          0.5248478277685283,
          -0.26026561529029024,
          1.9453734300618395,
          1.5188109407529324,
          0.14475730152800026,
          -1.6548732265850479,
          0.6418646400314986,
          -0.7004102844625567,
          0.7719183108008424,
          2.108988390018506,
          0.12790582165533965,
          -0.2526413569711868,
          -1.6127100179913447,
          -0.5658126567820971,
          -0.5211460165079267,
          -0.013759130888993939,
          -0.950487694184885,
          1.4552606561594668,
          0.5982889285689689,
          -0.1538747388728679,
          0.5353219782660327,
          -1.072228923525188,
          0.6752160523044004,
          0.24625540085408443,
          0.6505484803196946,
          0.4229194966060065,
          -1.0724186747068731,
          -0.16874383355845157,
          -0.0940723852561799,
          0.37650510210813215,
          0.767056661576872,
          -0.4656164665448851,
          -1.9626738276966944,
          1.0248645009802317,
          1.379185464478099,
          -0.4591747868219548,
          -1.447144900286262
         ]
        }
       ],
       "layout": {
        "barmode": "overlay",
        "legend": {
         "bgcolor": "#F5F6F9",
         "font": {
          "color": "#4D5663"
         }
        },
        "paper_bgcolor": "#F5F6F9",
        "plot_bgcolor": "#F5F6F9",
        "template": {
         "data": {
          "bar": [
           {
            "error_x": {
             "color": "#2a3f5f"
            },
            "error_y": {
             "color": "#2a3f5f"
            },
            "marker": {
             "line": {
              "color": "#E5ECF6",
              "width": 0.5
             }
            },
            "type": "bar"
           }
          ],
          "barpolar": [
           {
            "marker": {
             "line": {
              "color": "#E5ECF6",
              "width": 0.5
             }
            },
            "type": "barpolar"
           }
          ],
          "carpet": [
           {
            "aaxis": {
             "endlinecolor": "#2a3f5f",
             "gridcolor": "white",
             "linecolor": "white",
             "minorgridcolor": "white",
             "startlinecolor": "#2a3f5f"
            },
            "baxis": {
             "endlinecolor": "#2a3f5f",
             "gridcolor": "white",
             "linecolor": "white",
             "minorgridcolor": "white",
             "startlinecolor": "#2a3f5f"
            },
            "type": "carpet"
           }
          ],
          "choropleth": [
           {
            "colorbar": {
             "outlinewidth": 0,
             "ticks": ""
            },
            "type": "choropleth"
           }
          ],
          "contour": [
           {
            "colorbar": {
             "outlinewidth": 0,
             "ticks": ""
            },
            "colorscale": [
             [
              0,
              "#0d0887"
             ],
             [
              0.1111111111111111,
              "#46039f"
             ],
             [
              0.2222222222222222,
              "#7201a8"
             ],
             [
              0.3333333333333333,
              "#9c179e"
             ],
             [
              0.4444444444444444,
              "#bd3786"
             ],
             [
              0.5555555555555556,
              "#d8576b"
             ],
             [
              0.6666666666666666,
              "#ed7953"
             ],
             [
              0.7777777777777778,
              "#fb9f3a"
             ],
             [
              0.8888888888888888,
              "#fdca26"
             ],
             [
              1,
              "#f0f921"
             ]
            ],
            "type": "contour"
           }
          ],
          "contourcarpet": [
           {
            "colorbar": {
             "outlinewidth": 0,
             "ticks": ""
            },
            "type": "contourcarpet"
           }
          ],
          "heatmap": [
           {
            "colorbar": {
             "outlinewidth": 0,
             "ticks": ""
            },
            "colorscale": [
             [
              0,
              "#0d0887"
             ],
             [
              0.1111111111111111,
              "#46039f"
             ],
             [
              0.2222222222222222,
              "#7201a8"
             ],
             [
              0.3333333333333333,
              "#9c179e"
             ],
             [
              0.4444444444444444,
              "#bd3786"
             ],
             [
              0.5555555555555556,
              "#d8576b"
             ],
             [
              0.6666666666666666,
              "#ed7953"
             ],
             [
              0.7777777777777778,
              "#fb9f3a"
             ],
             [
              0.8888888888888888,
              "#fdca26"
             ],
             [
              1,
              "#f0f921"
             ]
            ],
            "type": "heatmap"
           }
          ],
          "heatmapgl": [
           {
            "colorbar": {
             "outlinewidth": 0,
             "ticks": ""
            },
            "colorscale": [
             [
              0,
              "#0d0887"
             ],
             [
              0.1111111111111111,
              "#46039f"
             ],
             [
              0.2222222222222222,
              "#7201a8"
             ],
             [
              0.3333333333333333,
              "#9c179e"
             ],
             [
              0.4444444444444444,
              "#bd3786"
             ],
             [
              0.5555555555555556,
              "#d8576b"
             ],
             [
              0.6666666666666666,
              "#ed7953"
             ],
             [
              0.7777777777777778,
              "#fb9f3a"
             ],
             [
              0.8888888888888888,
              "#fdca26"
             ],
             [
              1,
              "#f0f921"
             ]
            ],
            "type": "heatmapgl"
           }
          ],
          "histogram": [
           {
            "marker": {
             "colorbar": {
              "outlinewidth": 0,
              "ticks": ""
             }
            },
            "type": "histogram"
           }
          ],
          "histogram2d": [
           {
            "colorbar": {
             "outlinewidth": 0,
             "ticks": ""
            },
            "colorscale": [
             [
              0,
              "#0d0887"
             ],
             [
              0.1111111111111111,
              "#46039f"
             ],
             [
              0.2222222222222222,
              "#7201a8"
             ],
             [
              0.3333333333333333,
              "#9c179e"
             ],
             [
              0.4444444444444444,
              "#bd3786"
             ],
             [
              0.5555555555555556,
              "#d8576b"
             ],
             [
              0.6666666666666666,
              "#ed7953"
             ],
             [
              0.7777777777777778,
              "#fb9f3a"
             ],
             [
              0.8888888888888888,
              "#fdca26"
             ],
             [
              1,
              "#f0f921"
             ]
            ],
            "type": "histogram2d"
           }
          ],
          "histogram2dcontour": [
           {
            "colorbar": {
             "outlinewidth": 0,
             "ticks": ""
            },
            "colorscale": [
             [
              0,
              "#0d0887"
             ],
             [
              0.1111111111111111,
              "#46039f"
             ],
             [
              0.2222222222222222,
              "#7201a8"
             ],
             [
              0.3333333333333333,
              "#9c179e"
             ],
             [
              0.4444444444444444,
              "#bd3786"
             ],
             [
              0.5555555555555556,
              "#d8576b"
             ],
             [
              0.6666666666666666,
              "#ed7953"
             ],
             [
              0.7777777777777778,
              "#fb9f3a"
             ],
             [
              0.8888888888888888,
              "#fdca26"
             ],
             [
              1,
              "#f0f921"
             ]
            ],
            "type": "histogram2dcontour"
           }
          ],
          "mesh3d": [
           {
            "colorbar": {
             "outlinewidth": 0,
             "ticks": ""
            },
            "type": "mesh3d"
           }
          ],
          "parcoords": [
           {
            "line": {
             "colorbar": {
              "outlinewidth": 0,
              "ticks": ""
             }
            },
            "type": "parcoords"
           }
          ],
          "pie": [
           {
            "automargin": true,
            "type": "pie"
           }
          ],
          "scatter": [
           {
            "marker": {
             "colorbar": {
              "outlinewidth": 0,
              "ticks": ""
             }
            },
            "type": "scatter"
           }
          ],
          "scatter3d": [
           {
            "line": {
             "colorbar": {
              "outlinewidth": 0,
              "ticks": ""
             }
            },
            "marker": {
             "colorbar": {
              "outlinewidth": 0,
              "ticks": ""
             }
            },
            "type": "scatter3d"
           }
          ],
          "scattercarpet": [
           {
            "marker": {
             "colorbar": {
              "outlinewidth": 0,
              "ticks": ""
             }
            },
            "type": "scattercarpet"
           }
          ],
          "scattergeo": [
           {
            "marker": {
             "colorbar": {
              "outlinewidth": 0,
              "ticks": ""
             }
            },
            "type": "scattergeo"
           }
          ],
          "scattergl": [
           {
            "marker": {
             "colorbar": {
              "outlinewidth": 0,
              "ticks": ""
             }
            },
            "type": "scattergl"
           }
          ],
          "scattermapbox": [
           {
            "marker": {
             "colorbar": {
              "outlinewidth": 0,
              "ticks": ""
             }
            },
            "type": "scattermapbox"
           }
          ],
          "scatterpolar": [
           {
            "marker": {
             "colorbar": {
              "outlinewidth": 0,
              "ticks": ""
             }
            },
            "type": "scatterpolar"
           }
          ],
          "scatterpolargl": [
           {
            "marker": {
             "colorbar": {
              "outlinewidth": 0,
              "ticks": ""
             }
            },
            "type": "scatterpolargl"
           }
          ],
          "scatterternary": [
           {
            "marker": {
             "colorbar": {
              "outlinewidth": 0,
              "ticks": ""
             }
            },
            "type": "scatterternary"
           }
          ],
          "surface": [
           {
            "colorbar": {
             "outlinewidth": 0,
             "ticks": ""
            },
            "colorscale": [
             [
              0,
              "#0d0887"
             ],
             [
              0.1111111111111111,
              "#46039f"
             ],
             [
              0.2222222222222222,
              "#7201a8"
             ],
             [
              0.3333333333333333,
              "#9c179e"
             ],
             [
              0.4444444444444444,
              "#bd3786"
             ],
             [
              0.5555555555555556,
              "#d8576b"
             ],
             [
              0.6666666666666666,
              "#ed7953"
             ],
             [
              0.7777777777777778,
              "#fb9f3a"
             ],
             [
              0.8888888888888888,
              "#fdca26"
             ],
             [
              1,
              "#f0f921"
             ]
            ],
            "type": "surface"
           }
          ],
          "table": [
           {
            "cells": {
             "fill": {
              "color": "#EBF0F8"
             },
             "line": {
              "color": "white"
             }
            },
            "header": {
             "fill": {
              "color": "#C8D4E3"
             },
             "line": {
              "color": "white"
             }
            },
            "type": "table"
           }
          ]
         },
         "layout": {
          "annotationdefaults": {
           "arrowcolor": "#2a3f5f",
           "arrowhead": 0,
           "arrowwidth": 1
          },
          "coloraxis": {
           "colorbar": {
            "outlinewidth": 0,
            "ticks": ""
           }
          },
          "colorscale": {
           "diverging": [
            [
             0,
             "#8e0152"
            ],
            [
             0.1,
             "#c51b7d"
            ],
            [
             0.2,
             "#de77ae"
            ],
            [
             0.3,
             "#f1b6da"
            ],
            [
             0.4,
             "#fde0ef"
            ],
            [
             0.5,
             "#f7f7f7"
            ],
            [
             0.6,
             "#e6f5d0"
            ],
            [
             0.7,
             "#b8e186"
            ],
            [
             0.8,
             "#7fbc41"
            ],
            [
             0.9,
             "#4d9221"
            ],
            [
             1,
             "#276419"
            ]
           ],
           "sequential": [
            [
             0,
             "#0d0887"
            ],
            [
             0.1111111111111111,
             "#46039f"
            ],
            [
             0.2222222222222222,
             "#7201a8"
            ],
            [
             0.3333333333333333,
             "#9c179e"
            ],
            [
             0.4444444444444444,
             "#bd3786"
            ],
            [
             0.5555555555555556,
             "#d8576b"
            ],
            [
             0.6666666666666666,
             "#ed7953"
            ],
            [
             0.7777777777777778,
             "#fb9f3a"
            ],
            [
             0.8888888888888888,
             "#fdca26"
            ],
            [
             1,
             "#f0f921"
            ]
           ],
           "sequentialminus": [
            [
             0,
             "#0d0887"
            ],
            [
             0.1111111111111111,
             "#46039f"
            ],
            [
             0.2222222222222222,
             "#7201a8"
            ],
            [
             0.3333333333333333,
             "#9c179e"
            ],
            [
             0.4444444444444444,
             "#bd3786"
            ],
            [
             0.5555555555555556,
             "#d8576b"
            ],
            [
             0.6666666666666666,
             "#ed7953"
            ],
            [
             0.7777777777777778,
             "#fb9f3a"
            ],
            [
             0.8888888888888888,
             "#fdca26"
            ],
            [
             1,
             "#f0f921"
            ]
           ]
          },
          "colorway": [
           "#636efa",
           "#EF553B",
           "#00cc96",
           "#ab63fa",
           "#FFA15A",
           "#19d3f3",
           "#FF6692",
           "#B6E880",
           "#FF97FF",
           "#FECB52"
          ],
          "font": {
           "color": "#2a3f5f"
          },
          "geo": {
           "bgcolor": "white",
           "lakecolor": "white",
           "landcolor": "#E5ECF6",
           "showlakes": true,
           "showland": true,
           "subunitcolor": "white"
          },
          "hoverlabel": {
           "align": "left"
          },
          "hovermode": "closest",
          "mapbox": {
           "style": "light"
          },
          "paper_bgcolor": "white",
          "plot_bgcolor": "#E5ECF6",
          "polar": {
           "angularaxis": {
            "gridcolor": "white",
            "linecolor": "white",
            "ticks": ""
           },
           "bgcolor": "#E5ECF6",
           "radialaxis": {
            "gridcolor": "white",
            "linecolor": "white",
            "ticks": ""
           }
          },
          "scene": {
           "xaxis": {
            "backgroundcolor": "#E5ECF6",
            "gridcolor": "white",
            "gridwidth": 2,
            "linecolor": "white",
            "showbackground": true,
            "ticks": "",
            "zerolinecolor": "white"
           },
           "yaxis": {
            "backgroundcolor": "#E5ECF6",
            "gridcolor": "white",
            "gridwidth": 2,
            "linecolor": "white",
            "showbackground": true,
            "ticks": "",
            "zerolinecolor": "white"
           },
           "zaxis": {
            "backgroundcolor": "#E5ECF6",
            "gridcolor": "white",
            "gridwidth": 2,
            "linecolor": "white",
            "showbackground": true,
            "ticks": "",
            "zerolinecolor": "white"
           }
          },
          "shapedefaults": {
           "line": {
            "color": "#2a3f5f"
           }
          },
          "ternary": {
           "aaxis": {
            "gridcolor": "white",
            "linecolor": "white",
            "ticks": ""
           },
           "baxis": {
            "gridcolor": "white",
            "linecolor": "white",
            "ticks": ""
           },
           "bgcolor": "#E5ECF6",
           "caxis": {
            "gridcolor": "white",
            "linecolor": "white",
            "ticks": ""
           }
          },
          "title": {
           "x": 0.05
          },
          "xaxis": {
           "automargin": true,
           "gridcolor": "white",
           "linecolor": "white",
           "ticks": "",
           "title": {
            "standoff": 15
           },
           "zerolinecolor": "white",
           "zerolinewidth": 2
          },
          "yaxis": {
           "automargin": true,
           "gridcolor": "white",
           "linecolor": "white",
           "ticks": "",
           "title": {
            "standoff": 15
           },
           "zerolinecolor": "white",
           "zerolinewidth": 2
          }
         }
        },
        "title": {
         "font": {
          "color": "#4D5663"
         }
        },
        "xaxis": {
         "gridcolor": "#E1E5ED",
         "showgrid": true,
         "tickfont": {
          "color": "#4D5663"
         },
         "title": {
          "font": {
           "color": "#4D5663"
          },
          "text": ""
         },
         "zerolinecolor": "#E1E5ED"
        },
        "yaxis": {
         "gridcolor": "#E1E5ED",
         "showgrid": true,
         "tickfont": {
          "color": "#4D5663"
         },
         "title": {
          "font": {
           "color": "#4D5663"
          },
          "text": ""
         },
         "zerolinecolor": "#E1E5ED"
        }
       }
      },
      "text/html": [
       "<div>\n",
       "        \n",
       "        \n",
       "            <div id=\"b41b0bd8-72f6-40fa-9605-ebbb4b80af4e\" class=\"plotly-graph-div\" style=\"height:525px; width:100%;\"></div>\n",
       "            <script type=\"text/javascript\">\n",
       "                require([\"plotly\"], function(Plotly) {\n",
       "                    window.PLOTLYENV=window.PLOTLYENV || {};\n",
       "                    window.PLOTLYENV.BASE_URL='https://plot.ly';\n",
       "                    \n",
       "                if (document.getElementById(\"b41b0bd8-72f6-40fa-9605-ebbb4b80af4e\")) {\n",
       "                    Plotly.newPlot(\n",
       "                        'b41b0bd8-72f6-40fa-9605-ebbb4b80af4e',\n",
       "                        [{\"histfunc\": \"count\", \"histnorm\": \"\", \"marker\": {\"color\": \"rgba(255, 153, 51, 1.0)\", \"line\": {\"color\": \"#4D5663\", \"width\": 1.3}}, \"name\": \"A\", \"nbinsx\": 25, \"opacity\": 0.8, \"orientation\": \"v\", \"type\": \"histogram\", \"x\": [0.6365076909941588, -0.4737602015567025, -0.4931937653649986, -1.002162685929863, -1.390694581240618, 0.2624767228460955, 0.06342727286886606, 0.34217472462690585, 2.961132768508034, -0.8620975059326305, 0.4553717205546613, 1.267344265809088, 0.5574464676557171, 1.7650668089058499, -0.6602427071795416, 0.2578219133046646, -0.17263289964841197, -0.11238959064405796, 0.8695860480867245, 0.40840660774229726, -1.0684251725049163, -0.9785793326058884, 0.5931279441105388, -0.5737552603070895, 0.9117283650804772, 0.6474425728966579, -0.5038442677636253, -1.1008455274698403, 0.6251097854408026, 0.9860855829234931, -0.3519782030631685, 0.2043298737212113, -0.6511487116247198, -0.47613929479990535, -1.1726127112294482, 1.5612251685295533, 0.4022976345568017, 1.1566765718193304, 0.031117966223119534, -0.865882402029834, -0.5233903441757728, -1.0054595647259312, -0.11632633713897635, -0.5384467568825115, 0.4677278114296954, 0.5387522859610423, 0.5311214184901931, 0.8542591407697975, -0.9803545984510883, 1.3106925029212348, -0.19232021685687745, -0.14569136160329985, -0.7146824851366995, -0.4786817591587508, 0.7235332743737379, -0.41712017043221844, -1.6019352807092222, -0.9343856342604369, 0.7247039771128864, 0.7123562356757894, 0.7120993540271149, -0.5936962306733344, -1.0826130603973108, 0.5248478277685283, -0.26026561529029024, 1.9453734300618395, 1.5188109407529324, 0.14475730152800026, -1.6548732265850479, 0.6418646400314986, -0.7004102844625567, 0.7719183108008424, 2.108988390018506, 0.12790582165533965, -0.2526413569711868, -1.6127100179913447, -0.5658126567820971, -0.5211460165079267, -0.013759130888993939, -0.950487694184885, 1.4552606561594668, 0.5982889285689689, -0.1538747388728679, 0.5353219782660327, -1.072228923525188, 0.6752160523044004, 0.24625540085408443, 0.6505484803196946, 0.4229194966060065, -1.0724186747068731, -0.16874383355845157, -0.0940723852561799, 0.37650510210813215, 0.767056661576872, -0.4656164665448851, -1.9626738276966944, 1.0248645009802317, 1.379185464478099, -0.4591747868219548, -1.447144900286262]}],\n",
       "                        {\"barmode\": \"overlay\", \"legend\": {\"bgcolor\": \"#F5F6F9\", \"font\": {\"color\": \"#4D5663\"}}, \"paper_bgcolor\": \"#F5F6F9\", \"plot_bgcolor\": \"#F5F6F9\", \"template\": {\"data\": {\"bar\": [{\"error_x\": {\"color\": \"#2a3f5f\"}, \"error_y\": {\"color\": \"#2a3f5f\"}, \"marker\": {\"line\": {\"color\": \"#E5ECF6\", \"width\": 0.5}}, \"type\": \"bar\"}], \"barpolar\": [{\"marker\": {\"line\": {\"color\": \"#E5ECF6\", \"width\": 0.5}}, \"type\": \"barpolar\"}], \"carpet\": [{\"aaxis\": {\"endlinecolor\": \"#2a3f5f\", \"gridcolor\": \"white\", \"linecolor\": \"white\", \"minorgridcolor\": \"white\", \"startlinecolor\": \"#2a3f5f\"}, \"baxis\": {\"endlinecolor\": \"#2a3f5f\", \"gridcolor\": \"white\", \"linecolor\": \"white\", \"minorgridcolor\": \"white\", \"startlinecolor\": \"#2a3f5f\"}, \"type\": \"carpet\"}], \"choropleth\": [{\"colorbar\": {\"outlinewidth\": 0, \"ticks\": \"\"}, \"type\": \"choropleth\"}], \"contour\": [{\"colorbar\": {\"outlinewidth\": 0, \"ticks\": \"\"}, \"colorscale\": [[0.0, \"#0d0887\"], [0.1111111111111111, \"#46039f\"], [0.2222222222222222, \"#7201a8\"], [0.3333333333333333, \"#9c179e\"], [0.4444444444444444, \"#bd3786\"], [0.5555555555555556, \"#d8576b\"], [0.6666666666666666, \"#ed7953\"], [0.7777777777777778, \"#fb9f3a\"], [0.8888888888888888, \"#fdca26\"], [1.0, \"#f0f921\"]], \"type\": \"contour\"}], \"contourcarpet\": [{\"colorbar\": {\"outlinewidth\": 0, \"ticks\": \"\"}, \"type\": \"contourcarpet\"}], \"heatmap\": [{\"colorbar\": {\"outlinewidth\": 0, \"ticks\": \"\"}, \"colorscale\": [[0.0, \"#0d0887\"], [0.1111111111111111, \"#46039f\"], [0.2222222222222222, \"#7201a8\"], [0.3333333333333333, \"#9c179e\"], [0.4444444444444444, \"#bd3786\"], [0.5555555555555556, \"#d8576b\"], [0.6666666666666666, \"#ed7953\"], [0.7777777777777778, \"#fb9f3a\"], [0.8888888888888888, \"#fdca26\"], [1.0, \"#f0f921\"]], \"type\": \"heatmap\"}], \"heatmapgl\": [{\"colorbar\": {\"outlinewidth\": 0, \"ticks\": \"\"}, \"colorscale\": [[0.0, \"#0d0887\"], [0.1111111111111111, \"#46039f\"], [0.2222222222222222, \"#7201a8\"], [0.3333333333333333, \"#9c179e\"], [0.4444444444444444, \"#bd3786\"], [0.5555555555555556, \"#d8576b\"], [0.6666666666666666, \"#ed7953\"], [0.7777777777777778, \"#fb9f3a\"], [0.8888888888888888, \"#fdca26\"], [1.0, \"#f0f921\"]], \"type\": \"heatmapgl\"}], \"histogram\": [{\"marker\": {\"colorbar\": {\"outlinewidth\": 0, \"ticks\": \"\"}}, \"type\": \"histogram\"}], \"histogram2d\": [{\"colorbar\": {\"outlinewidth\": 0, \"ticks\": \"\"}, \"colorscale\": [[0.0, \"#0d0887\"], [0.1111111111111111, \"#46039f\"], [0.2222222222222222, \"#7201a8\"], [0.3333333333333333, \"#9c179e\"], [0.4444444444444444, \"#bd3786\"], [0.5555555555555556, \"#d8576b\"], [0.6666666666666666, \"#ed7953\"], [0.7777777777777778, \"#fb9f3a\"], [0.8888888888888888, \"#fdca26\"], [1.0, \"#f0f921\"]], \"type\": \"histogram2d\"}], \"histogram2dcontour\": [{\"colorbar\": {\"outlinewidth\": 0, \"ticks\": \"\"}, \"colorscale\": [[0.0, \"#0d0887\"], [0.1111111111111111, \"#46039f\"], [0.2222222222222222, \"#7201a8\"], [0.3333333333333333, \"#9c179e\"], [0.4444444444444444, \"#bd3786\"], [0.5555555555555556, \"#d8576b\"], [0.6666666666666666, \"#ed7953\"], [0.7777777777777778, \"#fb9f3a\"], [0.8888888888888888, \"#fdca26\"], [1.0, \"#f0f921\"]], \"type\": \"histogram2dcontour\"}], \"mesh3d\": [{\"colorbar\": {\"outlinewidth\": 0, \"ticks\": \"\"}, \"type\": \"mesh3d\"}], \"parcoords\": [{\"line\": {\"colorbar\": {\"outlinewidth\": 0, \"ticks\": \"\"}}, \"type\": \"parcoords\"}], \"pie\": [{\"automargin\": true, \"type\": \"pie\"}], \"scatter\": [{\"marker\": {\"colorbar\": {\"outlinewidth\": 0, \"ticks\": \"\"}}, \"type\": \"scatter\"}], \"scatter3d\": [{\"line\": {\"colorbar\": {\"outlinewidth\": 0, \"ticks\": \"\"}}, \"marker\": {\"colorbar\": {\"outlinewidth\": 0, \"ticks\": \"\"}}, \"type\": \"scatter3d\"}], \"scattercarpet\": [{\"marker\": {\"colorbar\": {\"outlinewidth\": 0, \"ticks\": \"\"}}, \"type\": \"scattercarpet\"}], \"scattergeo\": [{\"marker\": {\"colorbar\": {\"outlinewidth\": 0, \"ticks\": \"\"}}, \"type\": \"scattergeo\"}], \"scattergl\": [{\"marker\": {\"colorbar\": {\"outlinewidth\": 0, \"ticks\": \"\"}}, \"type\": \"scattergl\"}], \"scattermapbox\": [{\"marker\": {\"colorbar\": {\"outlinewidth\": 0, \"ticks\": \"\"}}, \"type\": \"scattermapbox\"}], \"scatterpolar\": [{\"marker\": {\"colorbar\": {\"outlinewidth\": 0, \"ticks\": \"\"}}, \"type\": \"scatterpolar\"}], \"scatterpolargl\": [{\"marker\": {\"colorbar\": {\"outlinewidth\": 0, \"ticks\": \"\"}}, \"type\": \"scatterpolargl\"}], \"scatterternary\": [{\"marker\": {\"colorbar\": {\"outlinewidth\": 0, \"ticks\": \"\"}}, \"type\": \"scatterternary\"}], \"surface\": [{\"colorbar\": {\"outlinewidth\": 0, \"ticks\": \"\"}, \"colorscale\": [[0.0, \"#0d0887\"], [0.1111111111111111, \"#46039f\"], [0.2222222222222222, \"#7201a8\"], [0.3333333333333333, \"#9c179e\"], [0.4444444444444444, \"#bd3786\"], [0.5555555555555556, \"#d8576b\"], [0.6666666666666666, \"#ed7953\"], [0.7777777777777778, \"#fb9f3a\"], [0.8888888888888888, \"#fdca26\"], [1.0, \"#f0f921\"]], \"type\": \"surface\"}], \"table\": [{\"cells\": {\"fill\": {\"color\": \"#EBF0F8\"}, \"line\": {\"color\": \"white\"}}, \"header\": {\"fill\": {\"color\": \"#C8D4E3\"}, \"line\": {\"color\": \"white\"}}, \"type\": \"table\"}]}, \"layout\": {\"annotationdefaults\": {\"arrowcolor\": \"#2a3f5f\", \"arrowhead\": 0, \"arrowwidth\": 1}, \"coloraxis\": {\"colorbar\": {\"outlinewidth\": 0, \"ticks\": \"\"}}, \"colorscale\": {\"diverging\": [[0, \"#8e0152\"], [0.1, \"#c51b7d\"], [0.2, \"#de77ae\"], [0.3, \"#f1b6da\"], [0.4, \"#fde0ef\"], [0.5, \"#f7f7f7\"], [0.6, \"#e6f5d0\"], [0.7, \"#b8e186\"], [0.8, \"#7fbc41\"], [0.9, \"#4d9221\"], [1, \"#276419\"]], \"sequential\": [[0.0, \"#0d0887\"], [0.1111111111111111, \"#46039f\"], [0.2222222222222222, \"#7201a8\"], [0.3333333333333333, \"#9c179e\"], [0.4444444444444444, \"#bd3786\"], [0.5555555555555556, \"#d8576b\"], [0.6666666666666666, \"#ed7953\"], [0.7777777777777778, \"#fb9f3a\"], [0.8888888888888888, \"#fdca26\"], [1.0, \"#f0f921\"]], \"sequentialminus\": [[0.0, \"#0d0887\"], [0.1111111111111111, \"#46039f\"], [0.2222222222222222, \"#7201a8\"], [0.3333333333333333, \"#9c179e\"], [0.4444444444444444, \"#bd3786\"], [0.5555555555555556, \"#d8576b\"], [0.6666666666666666, \"#ed7953\"], [0.7777777777777778, \"#fb9f3a\"], [0.8888888888888888, \"#fdca26\"], [1.0, \"#f0f921\"]]}, \"colorway\": [\"#636efa\", \"#EF553B\", \"#00cc96\", \"#ab63fa\", \"#FFA15A\", \"#19d3f3\", \"#FF6692\", \"#B6E880\", \"#FF97FF\", \"#FECB52\"], \"font\": {\"color\": \"#2a3f5f\"}, \"geo\": {\"bgcolor\": \"white\", \"lakecolor\": \"white\", \"landcolor\": \"#E5ECF6\", \"showlakes\": true, \"showland\": true, \"subunitcolor\": \"white\"}, \"hoverlabel\": {\"align\": \"left\"}, \"hovermode\": \"closest\", \"mapbox\": {\"style\": \"light\"}, \"paper_bgcolor\": \"white\", \"plot_bgcolor\": \"#E5ECF6\", \"polar\": {\"angularaxis\": {\"gridcolor\": \"white\", \"linecolor\": \"white\", \"ticks\": \"\"}, \"bgcolor\": \"#E5ECF6\", \"radialaxis\": {\"gridcolor\": \"white\", \"linecolor\": \"white\", \"ticks\": \"\"}}, \"scene\": {\"xaxis\": {\"backgroundcolor\": \"#E5ECF6\", \"gridcolor\": \"white\", \"gridwidth\": 2, \"linecolor\": \"white\", \"showbackground\": true, \"ticks\": \"\", \"zerolinecolor\": \"white\"}, \"yaxis\": {\"backgroundcolor\": \"#E5ECF6\", \"gridcolor\": \"white\", \"gridwidth\": 2, \"linecolor\": \"white\", \"showbackground\": true, \"ticks\": \"\", \"zerolinecolor\": \"white\"}, \"zaxis\": {\"backgroundcolor\": \"#E5ECF6\", \"gridcolor\": \"white\", \"gridwidth\": 2, \"linecolor\": \"white\", \"showbackground\": true, \"ticks\": \"\", \"zerolinecolor\": \"white\"}}, \"shapedefaults\": {\"line\": {\"color\": \"#2a3f5f\"}}, \"ternary\": {\"aaxis\": {\"gridcolor\": \"white\", \"linecolor\": \"white\", \"ticks\": \"\"}, \"baxis\": {\"gridcolor\": \"white\", \"linecolor\": \"white\", \"ticks\": \"\"}, \"bgcolor\": \"#E5ECF6\", \"caxis\": {\"gridcolor\": \"white\", \"linecolor\": \"white\", \"ticks\": \"\"}}, \"title\": {\"x\": 0.05}, \"xaxis\": {\"automargin\": true, \"gridcolor\": \"white\", \"linecolor\": \"white\", \"ticks\": \"\", \"title\": {\"standoff\": 15}, \"zerolinecolor\": \"white\", \"zerolinewidth\": 2}, \"yaxis\": {\"automargin\": true, \"gridcolor\": \"white\", \"linecolor\": \"white\", \"ticks\": \"\", \"title\": {\"standoff\": 15}, \"zerolinecolor\": \"white\", \"zerolinewidth\": 2}}}, \"title\": {\"font\": {\"color\": \"#4D5663\"}}, \"xaxis\": {\"gridcolor\": \"#E1E5ED\", \"showgrid\": true, \"tickfont\": {\"color\": \"#4D5663\"}, \"title\": {\"font\": {\"color\": \"#4D5663\"}, \"text\": \"\"}, \"zerolinecolor\": \"#E1E5ED\"}, \"yaxis\": {\"gridcolor\": \"#E1E5ED\", \"showgrid\": true, \"tickfont\": {\"color\": \"#4D5663\"}, \"title\": {\"font\": {\"color\": \"#4D5663\"}, \"text\": \"\"}, \"zerolinecolor\": \"#E1E5ED\"}},\n",
       "                        {\"showLink\": true, \"linkText\": \"Export to plot.ly\", \"plotlyServerURL\": \"https://plot.ly\", \"responsive\": true}\n",
       "                    ).then(function(){\n",
       "                            \n",
       "var gd = document.getElementById('b41b0bd8-72f6-40fa-9605-ebbb4b80af4e');\n",
       "var x = new MutationObserver(function (mutations, observer) {{\n",
       "        var display = window.getComputedStyle(gd).display;\n",
       "        if (!display || display === 'none') {{\n",
       "            console.log([gd, 'removed!']);\n",
       "            Plotly.purge(gd);\n",
       "            observer.disconnect();\n",
       "        }}\n",
       "}});\n",
       "\n",
       "// Listen for the removal of the full notebook cells\n",
       "var notebookContainer = gd.closest('#notebook-container');\n",
       "if (notebookContainer) {{\n",
       "    x.observe(notebookContainer, {childList: true});\n",
       "}}\n",
       "\n",
       "// Listen for the clearing of the current output cell\n",
       "var outputEl = gd.closest('.output');\n",
       "if (outputEl) {{\n",
       "    x.observe(outputEl, {childList: true});\n",
       "}}\n",
       "\n",
       "                        })\n",
       "                };\n",
       "                });\n",
       "            </script>\n",
       "        </div>"
      ]
     },
     "metadata": {},
     "output_type": "display_data"
    }
   ],
   "source": [
    "df['A'].iplot(kind='hist',bins=25)"
   ]
  },
  {
   "cell_type": "code",
   "execution_count": 17,
   "metadata": {},
   "outputs": [
    {
     "data": {
      "application/vnd.plotly.v1+json": {
       "config": {
        "linkText": "Export to plot.ly",
        "plotlyServerURL": "https://plot.ly",
        "showLink": true
       },
       "data": [
        {
         "marker": {
          "color": [
           "rgb(255, 153, 51)",
           "rgb(55, 128, 191)",
           "rgb(50, 171, 96)",
           "rgb(128, 0, 128)",
           "rgb(219, 64, 82)",
           "rgb(0, 128, 128)",
           "rgb(255, 255, 51)",
           "rgb(128, 128, 0)",
           "rgb(251, 128, 114)",
           "rgb(128, 177, 211)"
          ],
          "line": {
           "width": 1.3
          },
          "size": [
           106,
           65,
           47,
           48,
           101,
           65,
           83,
           101,
           40,
           40,
           87,
           61,
           90,
           42,
           78,
           26,
           95,
           60,
           58,
           40,
           35,
           44,
           63,
           50,
           61,
           67,
           49,
           84,
           49,
           62,
           46,
           64,
           60,
           58,
           87,
           88,
           112,
           87,
           69,
           78,
           96,
           82,
           62,
           37,
           89,
           77,
           54,
           75,
           67,
           103,
           45,
           15,
           48,
           69,
           57,
           12,
           32,
           75,
           59,
           63,
           81,
           40,
           76,
           34,
           59,
           75,
           86,
           40,
           90,
           62,
           52,
           62,
           59,
           107,
           64,
           25,
           74,
           61,
           45,
           41,
           85,
           25,
           43,
           24,
           35,
           57,
           52,
           55,
           46,
           65,
           74,
           97,
           23,
           85,
           37,
           45,
           79,
           72,
           111,
           48
          ],
          "symbol": "circle"
         },
         "mode": "markers",
         "text": "",
         "type": "scatter",
         "x": [
          0.6365076909941588,
          -0.4737602015567025,
          -0.4931937653649986,
          -1.002162685929863,
          -1.390694581240618,
          0.2624767228460955,
          0.06342727286886606,
          0.34217472462690585,
          2.961132768508034,
          -0.8620975059326305,
          0.4553717205546613,
          1.267344265809088,
          0.5574464676557171,
          1.7650668089058499,
          -0.6602427071795416,
          0.2578219133046646,
          -0.17263289964841197,
          -0.11238959064405796,
          0.8695860480867245,
          0.40840660774229726,
          -1.0684251725049163,
          -0.9785793326058884,
          0.5931279441105388,
          -0.5737552603070895,
          0.9117283650804772,
          0.6474425728966579,
          -0.5038442677636253,
          -1.1008455274698403,
          0.6251097854408026,
          0.9860855829234931,
          -0.3519782030631685,
          0.2043298737212113,
          -0.6511487116247198,
          -0.47613929479990535,
          -1.1726127112294482,
          1.5612251685295533,
          0.4022976345568017,
          1.1566765718193304,
          0.031117966223119534,
          -0.865882402029834,
          -0.5233903441757728,
          -1.0054595647259312,
          -0.11632633713897635,
          -0.5384467568825115,
          0.4677278114296954,
          0.5387522859610423,
          0.5311214184901931,
          0.8542591407697975,
          -0.9803545984510883,
          1.3106925029212348,
          -0.19232021685687745,
          -0.14569136160329985,
          -0.7146824851366995,
          -0.4786817591587508,
          0.7235332743737379,
          -0.41712017043221844,
          -1.6019352807092222,
          -0.9343856342604369,
          0.7247039771128864,
          0.7123562356757894,
          0.7120993540271149,
          -0.5936962306733344,
          -1.0826130603973108,
          0.5248478277685283,
          -0.26026561529029024,
          1.9453734300618395,
          1.5188109407529324,
          0.14475730152800026,
          -1.6548732265850479,
          0.6418646400314986,
          -0.7004102844625567,
          0.7719183108008424,
          2.108988390018506,
          0.12790582165533965,
          -0.2526413569711868,
          -1.6127100179913447,
          -0.5658126567820971,
          -0.5211460165079267,
          -0.013759130888993939,
          -0.950487694184885,
          1.4552606561594668,
          0.5982889285689689,
          -0.1538747388728679,
          0.5353219782660327,
          -1.072228923525188,
          0.6752160523044004,
          0.24625540085408443,
          0.6505484803196946,
          0.4229194966060065,
          -1.0724186747068731,
          -0.16874383355845157,
          -0.0940723852561799,
          0.37650510210813215,
          0.767056661576872,
          -0.4656164665448851,
          -1.9626738276966944,
          1.0248645009802317,
          1.379185464478099,
          -0.4591747868219548,
          -1.447144900286262
         ],
         "y": [
          -1.699160123201898,
          0.10195242313344324,
          -0.715193282859542,
          -0.05758164445290634,
          -0.7398838201640815,
          -0.9753799755866359,
          0.8183654763925532,
          0.1486272764042706,
          0.6221571419621349,
          -0.37471837838608657,
          1.9241212173882782,
          -1.9260174834904287,
          0.32772542746581956,
          -0.09062108554739637,
          -0.6222192316499369,
          0.4104827707197747,
          -1.4767599860217084,
          0.31680009657810904,
          0.5841423976591886,
          -1.3363186893647179,
          -1.481470205733003,
          1.2913557909132023,
          -0.15965674908185673,
          -0.10885642874825817,
          2.0613253401745855,
          0.038873891107819594,
          -1.5572032020558468,
          -0.5267363266605407,
          1.052086043605771,
          0.4837147591298685,
          -1.4485465294093376,
          -1.1363178025139544,
          0.2901075938884033,
          0.012764228316333356,
          0.02544130910202635,
          -0.15285526945192568,
          -0.8437747538133651,
          -1.1579133835179825,
          0.522936718836919,
          -1.4418531014659357,
          0.7713240245097688,
          1.1488990205107918,
          1.1101684578089406,
          -0.4050508092025551,
          -1.6736673382534208,
          -1.5296412988754375,
          -1.1170745972955312,
          0.13781739088902767,
          1.7624413863232378,
          0.015527063547979406,
          0.15625436224519249,
          -0.04377516577352025,
          0.32170087033653894,
          -1.7352479949718995,
          0.18631362955611921,
          -0.7761396929349504,
          0.4184915730119552,
          0.7679017692501251,
          0.3516066556924101,
          2.5166163139814217,
          -0.19150616919534597,
          -0.34422152499462955,
          -1.1932959160998728,
          -1.8523321507164985,
          -0.27312156355546313,
          -0.22788721727855377,
          0.512958656095611,
          0.23772762819035506,
          0.18044282339924814,
          1.1796934451453305,
          -0.5964857390108925,
          -0.27841196090719744,
          -0.8782503319309752,
          0.2736168298650118,
          -0.086012008879998,
          -0.2697772277356776,
          -0.8559941288110947,
          0.7505650594336027,
          0.5084568806815066,
          -0.20824438201256085,
          -0.16081498584325604,
          -1.1191291600558322,
          -1.9035185519084472,
          -1.8106091203457362,
          0.3006649895466276,
          1.3198926705225342,
          -1.5284218485847,
          -1.4851131995836924,
          0.7097055112534987,
          -0.03900819833655198,
          -1.1649509319624074,
          -0.7128547871284446,
          0.7432408339507162,
          0.22267418896844912,
          0.8093301395612484,
          1.1075428522852886,
          -0.8891409413426854,
          0.7674768130934316,
          0.17700574880002642,
          1.2579022924495926
         ]
        }
       ],
       "layout": {
        "legend": {
         "bgcolor": "#F5F6F9",
         "font": {
          "color": "#4D5663"
         }
        },
        "paper_bgcolor": "#F5F6F9",
        "plot_bgcolor": "#F5F6F9",
        "template": {
         "data": {
          "bar": [
           {
            "error_x": {
             "color": "#2a3f5f"
            },
            "error_y": {
             "color": "#2a3f5f"
            },
            "marker": {
             "line": {
              "color": "#E5ECF6",
              "width": 0.5
             }
            },
            "type": "bar"
           }
          ],
          "barpolar": [
           {
            "marker": {
             "line": {
              "color": "#E5ECF6",
              "width": 0.5
             }
            },
            "type": "barpolar"
           }
          ],
          "carpet": [
           {
            "aaxis": {
             "endlinecolor": "#2a3f5f",
             "gridcolor": "white",
             "linecolor": "white",
             "minorgridcolor": "white",
             "startlinecolor": "#2a3f5f"
            },
            "baxis": {
             "endlinecolor": "#2a3f5f",
             "gridcolor": "white",
             "linecolor": "white",
             "minorgridcolor": "white",
             "startlinecolor": "#2a3f5f"
            },
            "type": "carpet"
           }
          ],
          "choropleth": [
           {
            "colorbar": {
             "outlinewidth": 0,
             "ticks": ""
            },
            "type": "choropleth"
           }
          ],
          "contour": [
           {
            "colorbar": {
             "outlinewidth": 0,
             "ticks": ""
            },
            "colorscale": [
             [
              0,
              "#0d0887"
             ],
             [
              0.1111111111111111,
              "#46039f"
             ],
             [
              0.2222222222222222,
              "#7201a8"
             ],
             [
              0.3333333333333333,
              "#9c179e"
             ],
             [
              0.4444444444444444,
              "#bd3786"
             ],
             [
              0.5555555555555556,
              "#d8576b"
             ],
             [
              0.6666666666666666,
              "#ed7953"
             ],
             [
              0.7777777777777778,
              "#fb9f3a"
             ],
             [
              0.8888888888888888,
              "#fdca26"
             ],
             [
              1,
              "#f0f921"
             ]
            ],
            "type": "contour"
           }
          ],
          "contourcarpet": [
           {
            "colorbar": {
             "outlinewidth": 0,
             "ticks": ""
            },
            "type": "contourcarpet"
           }
          ],
          "heatmap": [
           {
            "colorbar": {
             "outlinewidth": 0,
             "ticks": ""
            },
            "colorscale": [
             [
              0,
              "#0d0887"
             ],
             [
              0.1111111111111111,
              "#46039f"
             ],
             [
              0.2222222222222222,
              "#7201a8"
             ],
             [
              0.3333333333333333,
              "#9c179e"
             ],
             [
              0.4444444444444444,
              "#bd3786"
             ],
             [
              0.5555555555555556,
              "#d8576b"
             ],
             [
              0.6666666666666666,
              "#ed7953"
             ],
             [
              0.7777777777777778,
              "#fb9f3a"
             ],
             [
              0.8888888888888888,
              "#fdca26"
             ],
             [
              1,
              "#f0f921"
             ]
            ],
            "type": "heatmap"
           }
          ],
          "heatmapgl": [
           {
            "colorbar": {
             "outlinewidth": 0,
             "ticks": ""
            },
            "colorscale": [
             [
              0,
              "#0d0887"
             ],
             [
              0.1111111111111111,
              "#46039f"
             ],
             [
              0.2222222222222222,
              "#7201a8"
             ],
             [
              0.3333333333333333,
              "#9c179e"
             ],
             [
              0.4444444444444444,
              "#bd3786"
             ],
             [
              0.5555555555555556,
              "#d8576b"
             ],
             [
              0.6666666666666666,
              "#ed7953"
             ],
             [
              0.7777777777777778,
              "#fb9f3a"
             ],
             [
              0.8888888888888888,
              "#fdca26"
             ],
             [
              1,
              "#f0f921"
             ]
            ],
            "type": "heatmapgl"
           }
          ],
          "histogram": [
           {
            "marker": {
             "colorbar": {
              "outlinewidth": 0,
              "ticks": ""
             }
            },
            "type": "histogram"
           }
          ],
          "histogram2d": [
           {
            "colorbar": {
             "outlinewidth": 0,
             "ticks": ""
            },
            "colorscale": [
             [
              0,
              "#0d0887"
             ],
             [
              0.1111111111111111,
              "#46039f"
             ],
             [
              0.2222222222222222,
              "#7201a8"
             ],
             [
              0.3333333333333333,
              "#9c179e"
             ],
             [
              0.4444444444444444,
              "#bd3786"
             ],
             [
              0.5555555555555556,
              "#d8576b"
             ],
             [
              0.6666666666666666,
              "#ed7953"
             ],
             [
              0.7777777777777778,
              "#fb9f3a"
             ],
             [
              0.8888888888888888,
              "#fdca26"
             ],
             [
              1,
              "#f0f921"
             ]
            ],
            "type": "histogram2d"
           }
          ],
          "histogram2dcontour": [
           {
            "colorbar": {
             "outlinewidth": 0,
             "ticks": ""
            },
            "colorscale": [
             [
              0,
              "#0d0887"
             ],
             [
              0.1111111111111111,
              "#46039f"
             ],
             [
              0.2222222222222222,
              "#7201a8"
             ],
             [
              0.3333333333333333,
              "#9c179e"
             ],
             [
              0.4444444444444444,
              "#bd3786"
             ],
             [
              0.5555555555555556,
              "#d8576b"
             ],
             [
              0.6666666666666666,
              "#ed7953"
             ],
             [
              0.7777777777777778,
              "#fb9f3a"
             ],
             [
              0.8888888888888888,
              "#fdca26"
             ],
             [
              1,
              "#f0f921"
             ]
            ],
            "type": "histogram2dcontour"
           }
          ],
          "mesh3d": [
           {
            "colorbar": {
             "outlinewidth": 0,
             "ticks": ""
            },
            "type": "mesh3d"
           }
          ],
          "parcoords": [
           {
            "line": {
             "colorbar": {
              "outlinewidth": 0,
              "ticks": ""
             }
            },
            "type": "parcoords"
           }
          ],
          "pie": [
           {
            "automargin": true,
            "type": "pie"
           }
          ],
          "scatter": [
           {
            "marker": {
             "colorbar": {
              "outlinewidth": 0,
              "ticks": ""
             }
            },
            "type": "scatter"
           }
          ],
          "scatter3d": [
           {
            "line": {
             "colorbar": {
              "outlinewidth": 0,
              "ticks": ""
             }
            },
            "marker": {
             "colorbar": {
              "outlinewidth": 0,
              "ticks": ""
             }
            },
            "type": "scatter3d"
           }
          ],
          "scattercarpet": [
           {
            "marker": {
             "colorbar": {
              "outlinewidth": 0,
              "ticks": ""
             }
            },
            "type": "scattercarpet"
           }
          ],
          "scattergeo": [
           {
            "marker": {
             "colorbar": {
              "outlinewidth": 0,
              "ticks": ""
             }
            },
            "type": "scattergeo"
           }
          ],
          "scattergl": [
           {
            "marker": {
             "colorbar": {
              "outlinewidth": 0,
              "ticks": ""
             }
            },
            "type": "scattergl"
           }
          ],
          "scattermapbox": [
           {
            "marker": {
             "colorbar": {
              "outlinewidth": 0,
              "ticks": ""
             }
            },
            "type": "scattermapbox"
           }
          ],
          "scatterpolar": [
           {
            "marker": {
             "colorbar": {
              "outlinewidth": 0,
              "ticks": ""
             }
            },
            "type": "scatterpolar"
           }
          ],
          "scatterpolargl": [
           {
            "marker": {
             "colorbar": {
              "outlinewidth": 0,
              "ticks": ""
             }
            },
            "type": "scatterpolargl"
           }
          ],
          "scatterternary": [
           {
            "marker": {
             "colorbar": {
              "outlinewidth": 0,
              "ticks": ""
             }
            },
            "type": "scatterternary"
           }
          ],
          "surface": [
           {
            "colorbar": {
             "outlinewidth": 0,
             "ticks": ""
            },
            "colorscale": [
             [
              0,
              "#0d0887"
             ],
             [
              0.1111111111111111,
              "#46039f"
             ],
             [
              0.2222222222222222,
              "#7201a8"
             ],
             [
              0.3333333333333333,
              "#9c179e"
             ],
             [
              0.4444444444444444,
              "#bd3786"
             ],
             [
              0.5555555555555556,
              "#d8576b"
             ],
             [
              0.6666666666666666,
              "#ed7953"
             ],
             [
              0.7777777777777778,
              "#fb9f3a"
             ],
             [
              0.8888888888888888,
              "#fdca26"
             ],
             [
              1,
              "#f0f921"
             ]
            ],
            "type": "surface"
           }
          ],
          "table": [
           {
            "cells": {
             "fill": {
              "color": "#EBF0F8"
             },
             "line": {
              "color": "white"
             }
            },
            "header": {
             "fill": {
              "color": "#C8D4E3"
             },
             "line": {
              "color": "white"
             }
            },
            "type": "table"
           }
          ]
         },
         "layout": {
          "annotationdefaults": {
           "arrowcolor": "#2a3f5f",
           "arrowhead": 0,
           "arrowwidth": 1
          },
          "coloraxis": {
           "colorbar": {
            "outlinewidth": 0,
            "ticks": ""
           }
          },
          "colorscale": {
           "diverging": [
            [
             0,
             "#8e0152"
            ],
            [
             0.1,
             "#c51b7d"
            ],
            [
             0.2,
             "#de77ae"
            ],
            [
             0.3,
             "#f1b6da"
            ],
            [
             0.4,
             "#fde0ef"
            ],
            [
             0.5,
             "#f7f7f7"
            ],
            [
             0.6,
             "#e6f5d0"
            ],
            [
             0.7,
             "#b8e186"
            ],
            [
             0.8,
             "#7fbc41"
            ],
            [
             0.9,
             "#4d9221"
            ],
            [
             1,
             "#276419"
            ]
           ],
           "sequential": [
            [
             0,
             "#0d0887"
            ],
            [
             0.1111111111111111,
             "#46039f"
            ],
            [
             0.2222222222222222,
             "#7201a8"
            ],
            [
             0.3333333333333333,
             "#9c179e"
            ],
            [
             0.4444444444444444,
             "#bd3786"
            ],
            [
             0.5555555555555556,
             "#d8576b"
            ],
            [
             0.6666666666666666,
             "#ed7953"
            ],
            [
             0.7777777777777778,
             "#fb9f3a"
            ],
            [
             0.8888888888888888,
             "#fdca26"
            ],
            [
             1,
             "#f0f921"
            ]
           ],
           "sequentialminus": [
            [
             0,
             "#0d0887"
            ],
            [
             0.1111111111111111,
             "#46039f"
            ],
            [
             0.2222222222222222,
             "#7201a8"
            ],
            [
             0.3333333333333333,
             "#9c179e"
            ],
            [
             0.4444444444444444,
             "#bd3786"
            ],
            [
             0.5555555555555556,
             "#d8576b"
            ],
            [
             0.6666666666666666,
             "#ed7953"
            ],
            [
             0.7777777777777778,
             "#fb9f3a"
            ],
            [
             0.8888888888888888,
             "#fdca26"
            ],
            [
             1,
             "#f0f921"
            ]
           ]
          },
          "colorway": [
           "#636efa",
           "#EF553B",
           "#00cc96",
           "#ab63fa",
           "#FFA15A",
           "#19d3f3",
           "#FF6692",
           "#B6E880",
           "#FF97FF",
           "#FECB52"
          ],
          "font": {
           "color": "#2a3f5f"
          },
          "geo": {
           "bgcolor": "white",
           "lakecolor": "white",
           "landcolor": "#E5ECF6",
           "showlakes": true,
           "showland": true,
           "subunitcolor": "white"
          },
          "hoverlabel": {
           "align": "left"
          },
          "hovermode": "closest",
          "mapbox": {
           "style": "light"
          },
          "paper_bgcolor": "white",
          "plot_bgcolor": "#E5ECF6",
          "polar": {
           "angularaxis": {
            "gridcolor": "white",
            "linecolor": "white",
            "ticks": ""
           },
           "bgcolor": "#E5ECF6",
           "radialaxis": {
            "gridcolor": "white",
            "linecolor": "white",
            "ticks": ""
           }
          },
          "scene": {
           "xaxis": {
            "backgroundcolor": "#E5ECF6",
            "gridcolor": "white",
            "gridwidth": 2,
            "linecolor": "white",
            "showbackground": true,
            "ticks": "",
            "zerolinecolor": "white"
           },
           "yaxis": {
            "backgroundcolor": "#E5ECF6",
            "gridcolor": "white",
            "gridwidth": 2,
            "linecolor": "white",
            "showbackground": true,
            "ticks": "",
            "zerolinecolor": "white"
           },
           "zaxis": {
            "backgroundcolor": "#E5ECF6",
            "gridcolor": "white",
            "gridwidth": 2,
            "linecolor": "white",
            "showbackground": true,
            "ticks": "",
            "zerolinecolor": "white"
           }
          },
          "shapedefaults": {
           "line": {
            "color": "#2a3f5f"
           }
          },
          "ternary": {
           "aaxis": {
            "gridcolor": "white",
            "linecolor": "white",
            "ticks": ""
           },
           "baxis": {
            "gridcolor": "white",
            "linecolor": "white",
            "ticks": ""
           },
           "bgcolor": "#E5ECF6",
           "caxis": {
            "gridcolor": "white",
            "linecolor": "white",
            "ticks": ""
           }
          },
          "title": {
           "x": 0.05
          },
          "xaxis": {
           "automargin": true,
           "gridcolor": "white",
           "linecolor": "white",
           "ticks": "",
           "title": {
            "standoff": 15
           },
           "zerolinecolor": "white",
           "zerolinewidth": 2
          },
          "yaxis": {
           "automargin": true,
           "gridcolor": "white",
           "linecolor": "white",
           "ticks": "",
           "title": {
            "standoff": 15
           },
           "zerolinecolor": "white",
           "zerolinewidth": 2
          }
         }
        },
        "title": {
         "font": {
          "color": "#4D5663"
         }
        },
        "xaxis": {
         "gridcolor": "#E1E5ED",
         "showgrid": true,
         "tickfont": {
          "color": "#4D5663"
         },
         "title": {
          "font": {
           "color": "#4D5663"
          },
          "text": ""
         },
         "zerolinecolor": "#E1E5ED"
        },
        "yaxis": {
         "gridcolor": "#E1E5ED",
         "showgrid": true,
         "tickfont": {
          "color": "#4D5663"
         },
         "title": {
          "font": {
           "color": "#4D5663"
          },
          "text": ""
         },
         "zerolinecolor": "#E1E5ED"
        }
       }
      },
      "text/html": [
       "<div>\n",
       "        \n",
       "        \n",
       "            <div id=\"f28a8528-ce44-4306-b193-e4270e5dfd10\" class=\"plotly-graph-div\" style=\"height:525px; width:100%;\"></div>\n",
       "            <script type=\"text/javascript\">\n",
       "                require([\"plotly\"], function(Plotly) {\n",
       "                    window.PLOTLYENV=window.PLOTLYENV || {};\n",
       "                    window.PLOTLYENV.BASE_URL='https://plot.ly';\n",
       "                    \n",
       "                if (document.getElementById(\"f28a8528-ce44-4306-b193-e4270e5dfd10\")) {\n",
       "                    Plotly.newPlot(\n",
       "                        'f28a8528-ce44-4306-b193-e4270e5dfd10',\n",
       "                        [{\"marker\": {\"color\": [\"rgb(255, 153, 51)\", \"rgb(55, 128, 191)\", \"rgb(50, 171, 96)\", \"rgb(128, 0, 128)\", \"rgb(219, 64, 82)\", \"rgb(0, 128, 128)\", \"rgb(255, 255, 51)\", \"rgb(128, 128, 0)\", \"rgb(251, 128, 114)\", \"rgb(128, 177, 211)\"], \"line\": {\"width\": 1.3}, \"size\": [106, 65, 47, 48, 101, 65, 83, 101, 40, 40, 87, 61, 90, 42, 78, 26, 95, 60, 58, 40, 35, 44, 63, 50, 61, 67, 49, 84, 49, 62, 46, 64, 60, 58, 87, 88, 112, 87, 69, 78, 96, 82, 62, 37, 89, 77, 54, 75, 67, 103, 45, 15, 48, 69, 57, 12, 32, 75, 59, 63, 81, 40, 76, 34, 59, 75, 86, 40, 90, 62, 52, 62, 59, 107, 64, 25, 74, 61, 45, 41, 85, 25, 43, 24, 35, 57, 52, 55, 46, 65, 74, 97, 23, 85, 37, 45, 79, 72, 111, 48], \"symbol\": \"circle\"}, \"mode\": \"markers\", \"text\": \"\", \"type\": \"scatter\", \"x\": [0.6365076909941588, -0.4737602015567025, -0.4931937653649986, -1.002162685929863, -1.390694581240618, 0.2624767228460955, 0.06342727286886606, 0.34217472462690585, 2.961132768508034, -0.8620975059326305, 0.4553717205546613, 1.267344265809088, 0.5574464676557171, 1.7650668089058499, -0.6602427071795416, 0.2578219133046646, -0.17263289964841197, -0.11238959064405796, 0.8695860480867245, 0.40840660774229726, -1.0684251725049163, -0.9785793326058884, 0.5931279441105388, -0.5737552603070895, 0.9117283650804772, 0.6474425728966579, -0.5038442677636253, -1.1008455274698403, 0.6251097854408026, 0.9860855829234931, -0.3519782030631685, 0.2043298737212113, -0.6511487116247198, -0.47613929479990535, -1.1726127112294482, 1.5612251685295533, 0.4022976345568017, 1.1566765718193304, 0.031117966223119534, -0.865882402029834, -0.5233903441757728, -1.0054595647259312, -0.11632633713897635, -0.5384467568825115, 0.4677278114296954, 0.5387522859610423, 0.5311214184901931, 0.8542591407697975, -0.9803545984510883, 1.3106925029212348, -0.19232021685687745, -0.14569136160329985, -0.7146824851366995, -0.4786817591587508, 0.7235332743737379, -0.41712017043221844, -1.6019352807092222, -0.9343856342604369, 0.7247039771128864, 0.7123562356757894, 0.7120993540271149, -0.5936962306733344, -1.0826130603973108, 0.5248478277685283, -0.26026561529029024, 1.9453734300618395, 1.5188109407529324, 0.14475730152800026, -1.6548732265850479, 0.6418646400314986, -0.7004102844625567, 0.7719183108008424, 2.108988390018506, 0.12790582165533965, -0.2526413569711868, -1.6127100179913447, -0.5658126567820971, -0.5211460165079267, -0.013759130888993939, -0.950487694184885, 1.4552606561594668, 0.5982889285689689, -0.1538747388728679, 0.5353219782660327, -1.072228923525188, 0.6752160523044004, 0.24625540085408443, 0.6505484803196946, 0.4229194966060065, -1.0724186747068731, -0.16874383355845157, -0.0940723852561799, 0.37650510210813215, 0.767056661576872, -0.4656164665448851, -1.9626738276966944, 1.0248645009802317, 1.379185464478099, -0.4591747868219548, -1.447144900286262], \"y\": [-1.699160123201898, 0.10195242313344324, -0.715193282859542, -0.05758164445290634, -0.7398838201640815, -0.9753799755866359, 0.8183654763925532, 0.1486272764042706, 0.6221571419621349, -0.37471837838608657, 1.9241212173882782, -1.9260174834904287, 0.32772542746581956, -0.09062108554739637, -0.6222192316499369, 0.4104827707197747, -1.4767599860217084, 0.31680009657810904, 0.5841423976591886, -1.3363186893647179, -1.481470205733003, 1.2913557909132023, -0.15965674908185673, -0.10885642874825817, 2.0613253401745855, 0.038873891107819594, -1.5572032020558468, -0.5267363266605407, 1.052086043605771, 0.4837147591298685, -1.4485465294093376, -1.1363178025139544, 0.2901075938884033, 0.012764228316333356, 0.02544130910202635, -0.15285526945192568, -0.8437747538133651, -1.1579133835179825, 0.522936718836919, -1.4418531014659357, 0.7713240245097688, 1.1488990205107918, 1.1101684578089406, -0.4050508092025551, -1.6736673382534208, -1.5296412988754375, -1.1170745972955312, 0.13781739088902767, 1.7624413863232378, 0.015527063547979406, 0.15625436224519249, -0.04377516577352025, 0.32170087033653894, -1.7352479949718995, 0.18631362955611921, -0.7761396929349504, 0.4184915730119552, 0.7679017692501251, 0.3516066556924101, 2.5166163139814217, -0.19150616919534597, -0.34422152499462955, -1.1932959160998728, -1.8523321507164985, -0.27312156355546313, -0.22788721727855377, 0.512958656095611, 0.23772762819035506, 0.18044282339924814, 1.1796934451453305, -0.5964857390108925, -0.27841196090719744, -0.8782503319309752, 0.2736168298650118, -0.086012008879998, -0.2697772277356776, -0.8559941288110947, 0.7505650594336027, 0.5084568806815066, -0.20824438201256085, -0.16081498584325604, -1.1191291600558322, -1.9035185519084472, -1.8106091203457362, 0.3006649895466276, 1.3198926705225342, -1.5284218485847, -1.4851131995836924, 0.7097055112534987, -0.03900819833655198, -1.1649509319624074, -0.7128547871284446, 0.7432408339507162, 0.22267418896844912, 0.8093301395612484, 1.1075428522852886, -0.8891409413426854, 0.7674768130934316, 0.17700574880002642, 1.2579022924495926]}],\n",
       "                        {\"legend\": {\"bgcolor\": \"#F5F6F9\", \"font\": {\"color\": \"#4D5663\"}}, \"paper_bgcolor\": \"#F5F6F9\", \"plot_bgcolor\": \"#F5F6F9\", \"template\": {\"data\": {\"bar\": [{\"error_x\": {\"color\": \"#2a3f5f\"}, \"error_y\": {\"color\": \"#2a3f5f\"}, \"marker\": {\"line\": {\"color\": \"#E5ECF6\", \"width\": 0.5}}, \"type\": \"bar\"}], \"barpolar\": [{\"marker\": {\"line\": {\"color\": \"#E5ECF6\", \"width\": 0.5}}, \"type\": \"barpolar\"}], \"carpet\": [{\"aaxis\": {\"endlinecolor\": \"#2a3f5f\", \"gridcolor\": \"white\", \"linecolor\": \"white\", \"minorgridcolor\": \"white\", \"startlinecolor\": \"#2a3f5f\"}, \"baxis\": {\"endlinecolor\": \"#2a3f5f\", \"gridcolor\": \"white\", \"linecolor\": \"white\", \"minorgridcolor\": \"white\", \"startlinecolor\": \"#2a3f5f\"}, \"type\": \"carpet\"}], \"choropleth\": [{\"colorbar\": {\"outlinewidth\": 0, \"ticks\": \"\"}, \"type\": \"choropleth\"}], \"contour\": [{\"colorbar\": {\"outlinewidth\": 0, \"ticks\": \"\"}, \"colorscale\": [[0.0, \"#0d0887\"], [0.1111111111111111, \"#46039f\"], [0.2222222222222222, \"#7201a8\"], [0.3333333333333333, \"#9c179e\"], [0.4444444444444444, \"#bd3786\"], [0.5555555555555556, \"#d8576b\"], [0.6666666666666666, \"#ed7953\"], [0.7777777777777778, \"#fb9f3a\"], [0.8888888888888888, \"#fdca26\"], [1.0, \"#f0f921\"]], \"type\": \"contour\"}], \"contourcarpet\": [{\"colorbar\": {\"outlinewidth\": 0, \"ticks\": \"\"}, \"type\": \"contourcarpet\"}], \"heatmap\": [{\"colorbar\": {\"outlinewidth\": 0, \"ticks\": \"\"}, \"colorscale\": [[0.0, \"#0d0887\"], [0.1111111111111111, \"#46039f\"], [0.2222222222222222, \"#7201a8\"], [0.3333333333333333, \"#9c179e\"], [0.4444444444444444, \"#bd3786\"], [0.5555555555555556, \"#d8576b\"], [0.6666666666666666, \"#ed7953\"], [0.7777777777777778, \"#fb9f3a\"], [0.8888888888888888, \"#fdca26\"], [1.0, \"#f0f921\"]], \"type\": \"heatmap\"}], \"heatmapgl\": [{\"colorbar\": {\"outlinewidth\": 0, \"ticks\": \"\"}, \"colorscale\": [[0.0, \"#0d0887\"], [0.1111111111111111, \"#46039f\"], [0.2222222222222222, \"#7201a8\"], [0.3333333333333333, \"#9c179e\"], [0.4444444444444444, \"#bd3786\"], [0.5555555555555556, \"#d8576b\"], [0.6666666666666666, \"#ed7953\"], [0.7777777777777778, \"#fb9f3a\"], [0.8888888888888888, \"#fdca26\"], [1.0, \"#f0f921\"]], \"type\": \"heatmapgl\"}], \"histogram\": [{\"marker\": {\"colorbar\": {\"outlinewidth\": 0, \"ticks\": \"\"}}, \"type\": \"histogram\"}], \"histogram2d\": [{\"colorbar\": {\"outlinewidth\": 0, \"ticks\": \"\"}, \"colorscale\": [[0.0, \"#0d0887\"], [0.1111111111111111, \"#46039f\"], [0.2222222222222222, \"#7201a8\"], [0.3333333333333333, \"#9c179e\"], [0.4444444444444444, \"#bd3786\"], [0.5555555555555556, \"#d8576b\"], [0.6666666666666666, \"#ed7953\"], [0.7777777777777778, \"#fb9f3a\"], [0.8888888888888888, \"#fdca26\"], [1.0, \"#f0f921\"]], \"type\": \"histogram2d\"}], \"histogram2dcontour\": [{\"colorbar\": {\"outlinewidth\": 0, \"ticks\": \"\"}, \"colorscale\": [[0.0, \"#0d0887\"], [0.1111111111111111, \"#46039f\"], [0.2222222222222222, \"#7201a8\"], [0.3333333333333333, \"#9c179e\"], [0.4444444444444444, \"#bd3786\"], [0.5555555555555556, \"#d8576b\"], [0.6666666666666666, \"#ed7953\"], [0.7777777777777778, \"#fb9f3a\"], [0.8888888888888888, \"#fdca26\"], [1.0, \"#f0f921\"]], \"type\": \"histogram2dcontour\"}], \"mesh3d\": [{\"colorbar\": {\"outlinewidth\": 0, \"ticks\": \"\"}, \"type\": \"mesh3d\"}], \"parcoords\": [{\"line\": {\"colorbar\": {\"outlinewidth\": 0, \"ticks\": \"\"}}, \"type\": \"parcoords\"}], \"pie\": [{\"automargin\": true, \"type\": \"pie\"}], \"scatter\": [{\"marker\": {\"colorbar\": {\"outlinewidth\": 0, \"ticks\": \"\"}}, \"type\": \"scatter\"}], \"scatter3d\": [{\"line\": {\"colorbar\": {\"outlinewidth\": 0, \"ticks\": \"\"}}, \"marker\": {\"colorbar\": {\"outlinewidth\": 0, \"ticks\": \"\"}}, \"type\": \"scatter3d\"}], \"scattercarpet\": [{\"marker\": {\"colorbar\": {\"outlinewidth\": 0, \"ticks\": \"\"}}, \"type\": \"scattercarpet\"}], \"scattergeo\": [{\"marker\": {\"colorbar\": {\"outlinewidth\": 0, \"ticks\": \"\"}}, \"type\": \"scattergeo\"}], \"scattergl\": [{\"marker\": {\"colorbar\": {\"outlinewidth\": 0, \"ticks\": \"\"}}, \"type\": \"scattergl\"}], \"scattermapbox\": [{\"marker\": {\"colorbar\": {\"outlinewidth\": 0, \"ticks\": \"\"}}, \"type\": \"scattermapbox\"}], \"scatterpolar\": [{\"marker\": {\"colorbar\": {\"outlinewidth\": 0, \"ticks\": \"\"}}, \"type\": \"scatterpolar\"}], \"scatterpolargl\": [{\"marker\": {\"colorbar\": {\"outlinewidth\": 0, \"ticks\": \"\"}}, \"type\": \"scatterpolargl\"}], \"scatterternary\": [{\"marker\": {\"colorbar\": {\"outlinewidth\": 0, \"ticks\": \"\"}}, \"type\": \"scatterternary\"}], \"surface\": [{\"colorbar\": {\"outlinewidth\": 0, \"ticks\": \"\"}, \"colorscale\": [[0.0, \"#0d0887\"], [0.1111111111111111, \"#46039f\"], [0.2222222222222222, \"#7201a8\"], [0.3333333333333333, \"#9c179e\"], [0.4444444444444444, \"#bd3786\"], [0.5555555555555556, \"#d8576b\"], [0.6666666666666666, \"#ed7953\"], [0.7777777777777778, \"#fb9f3a\"], [0.8888888888888888, \"#fdca26\"], [1.0, \"#f0f921\"]], \"type\": \"surface\"}], \"table\": [{\"cells\": {\"fill\": {\"color\": \"#EBF0F8\"}, \"line\": {\"color\": \"white\"}}, \"header\": {\"fill\": {\"color\": \"#C8D4E3\"}, \"line\": {\"color\": \"white\"}}, \"type\": \"table\"}]}, \"layout\": {\"annotationdefaults\": {\"arrowcolor\": \"#2a3f5f\", \"arrowhead\": 0, \"arrowwidth\": 1}, \"coloraxis\": {\"colorbar\": {\"outlinewidth\": 0, \"ticks\": \"\"}}, \"colorscale\": {\"diverging\": [[0, \"#8e0152\"], [0.1, \"#c51b7d\"], [0.2, \"#de77ae\"], [0.3, \"#f1b6da\"], [0.4, \"#fde0ef\"], [0.5, \"#f7f7f7\"], [0.6, \"#e6f5d0\"], [0.7, \"#b8e186\"], [0.8, \"#7fbc41\"], [0.9, \"#4d9221\"], [1, \"#276419\"]], \"sequential\": [[0.0, \"#0d0887\"], [0.1111111111111111, \"#46039f\"], [0.2222222222222222, \"#7201a8\"], [0.3333333333333333, \"#9c179e\"], [0.4444444444444444, \"#bd3786\"], [0.5555555555555556, \"#d8576b\"], [0.6666666666666666, \"#ed7953\"], [0.7777777777777778, \"#fb9f3a\"], [0.8888888888888888, \"#fdca26\"], [1.0, \"#f0f921\"]], \"sequentialminus\": [[0.0, \"#0d0887\"], [0.1111111111111111, \"#46039f\"], [0.2222222222222222, \"#7201a8\"], [0.3333333333333333, \"#9c179e\"], [0.4444444444444444, \"#bd3786\"], [0.5555555555555556, \"#d8576b\"], [0.6666666666666666, \"#ed7953\"], [0.7777777777777778, \"#fb9f3a\"], [0.8888888888888888, \"#fdca26\"], [1.0, \"#f0f921\"]]}, \"colorway\": [\"#636efa\", \"#EF553B\", \"#00cc96\", \"#ab63fa\", \"#FFA15A\", \"#19d3f3\", \"#FF6692\", \"#B6E880\", \"#FF97FF\", \"#FECB52\"], \"font\": {\"color\": \"#2a3f5f\"}, \"geo\": {\"bgcolor\": \"white\", \"lakecolor\": \"white\", \"landcolor\": \"#E5ECF6\", \"showlakes\": true, \"showland\": true, \"subunitcolor\": \"white\"}, \"hoverlabel\": {\"align\": \"left\"}, \"hovermode\": \"closest\", \"mapbox\": {\"style\": \"light\"}, \"paper_bgcolor\": \"white\", \"plot_bgcolor\": \"#E5ECF6\", \"polar\": {\"angularaxis\": {\"gridcolor\": \"white\", \"linecolor\": \"white\", \"ticks\": \"\"}, \"bgcolor\": \"#E5ECF6\", \"radialaxis\": {\"gridcolor\": \"white\", \"linecolor\": \"white\", \"ticks\": \"\"}}, \"scene\": {\"xaxis\": {\"backgroundcolor\": \"#E5ECF6\", \"gridcolor\": \"white\", \"gridwidth\": 2, \"linecolor\": \"white\", \"showbackground\": true, \"ticks\": \"\", \"zerolinecolor\": \"white\"}, \"yaxis\": {\"backgroundcolor\": \"#E5ECF6\", \"gridcolor\": \"white\", \"gridwidth\": 2, \"linecolor\": \"white\", \"showbackground\": true, \"ticks\": \"\", \"zerolinecolor\": \"white\"}, \"zaxis\": {\"backgroundcolor\": \"#E5ECF6\", \"gridcolor\": \"white\", \"gridwidth\": 2, \"linecolor\": \"white\", \"showbackground\": true, \"ticks\": \"\", \"zerolinecolor\": \"white\"}}, \"shapedefaults\": {\"line\": {\"color\": \"#2a3f5f\"}}, \"ternary\": {\"aaxis\": {\"gridcolor\": \"white\", \"linecolor\": \"white\", \"ticks\": \"\"}, \"baxis\": {\"gridcolor\": \"white\", \"linecolor\": \"white\", \"ticks\": \"\"}, \"bgcolor\": \"#E5ECF6\", \"caxis\": {\"gridcolor\": \"white\", \"linecolor\": \"white\", \"ticks\": \"\"}}, \"title\": {\"x\": 0.05}, \"xaxis\": {\"automargin\": true, \"gridcolor\": \"white\", \"linecolor\": \"white\", \"ticks\": \"\", \"title\": {\"standoff\": 15}, \"zerolinecolor\": \"white\", \"zerolinewidth\": 2}, \"yaxis\": {\"automargin\": true, \"gridcolor\": \"white\", \"linecolor\": \"white\", \"ticks\": \"\", \"title\": {\"standoff\": 15}, \"zerolinecolor\": \"white\", \"zerolinewidth\": 2}}}, \"title\": {\"font\": {\"color\": \"#4D5663\"}}, \"xaxis\": {\"gridcolor\": \"#E1E5ED\", \"showgrid\": true, \"tickfont\": {\"color\": \"#4D5663\"}, \"title\": {\"font\": {\"color\": \"#4D5663\"}, \"text\": \"\"}, \"zerolinecolor\": \"#E1E5ED\"}, \"yaxis\": {\"gridcolor\": \"#E1E5ED\", \"showgrid\": true, \"tickfont\": {\"color\": \"#4D5663\"}, \"title\": {\"font\": {\"color\": \"#4D5663\"}, \"text\": \"\"}, \"zerolinecolor\": \"#E1E5ED\"}},\n",
       "                        {\"showLink\": true, \"linkText\": \"Export to plot.ly\", \"plotlyServerURL\": \"https://plot.ly\", \"responsive\": true}\n",
       "                    ).then(function(){\n",
       "                            \n",
       "var gd = document.getElementById('f28a8528-ce44-4306-b193-e4270e5dfd10');\n",
       "var x = new MutationObserver(function (mutations, observer) {{\n",
       "        var display = window.getComputedStyle(gd).display;\n",
       "        if (!display || display === 'none') {{\n",
       "            console.log([gd, 'removed!']);\n",
       "            Plotly.purge(gd);\n",
       "            observer.disconnect();\n",
       "        }}\n",
       "}});\n",
       "\n",
       "// Listen for the removal of the full notebook cells\n",
       "var notebookContainer = gd.closest('#notebook-container');\n",
       "if (notebookContainer) {{\n",
       "    x.observe(notebookContainer, {childList: true});\n",
       "}}\n",
       "\n",
       "// Listen for the clearing of the current output cell\n",
       "var outputEl = gd.closest('.output');\n",
       "if (outputEl) {{\n",
       "    x.observe(outputEl, {childList: true});\n",
       "}}\n",
       "\n",
       "                        })\n",
       "                };\n",
       "                });\n",
       "            </script>\n",
       "        </div>"
      ]
     },
     "metadata": {},
     "output_type": "display_data"
    }
   ],
   "source": [
    "df.iplot(kind='bubble',x='A',y='B',size='C')"
   ]
  },
  {
   "cell_type": "markdown",
   "metadata": {},
   "source": [
    "## scatter_matrix()\n",
    "\n",
    "Similar to sns.pairplot()"
   ]
  },
  {
   "cell_type": "code",
   "execution_count": 18,
   "metadata": {},
   "outputs": [
    {
     "data": {
      "application/vnd.plotly.v1+json": {
       "config": {
        "linkText": "Export to plot.ly",
        "plotlyServerURL": "https://plot.ly",
        "showLink": true
       },
       "data": [
        {
         "histfunc": "count",
         "histnorm": "",
         "marker": {
          "color": "rgba(255, 153, 51, 1.0)",
          "line": {
           "color": "#4D5663",
           "width": 1.3
          }
         },
         "name": "A",
         "nbinsx": 10,
         "opacity": 0.8,
         "orientation": "v",
         "type": "histogram",
         "x": [
          0.6365076909941588,
          -0.4737602015567025,
          -0.4931937653649986,
          -1.002162685929863,
          -1.390694581240618,
          0.2624767228460955,
          0.06342727286886606,
          0.34217472462690585,
          2.961132768508034,
          -0.8620975059326305,
          0.4553717205546613,
          1.267344265809088,
          0.5574464676557171,
          1.7650668089058499,
          -0.6602427071795416,
          0.2578219133046646,
          -0.17263289964841197,
          -0.11238959064405796,
          0.8695860480867245,
          0.40840660774229726,
          -1.0684251725049163,
          -0.9785793326058884,
          0.5931279441105388,
          -0.5737552603070895,
          0.9117283650804772,
          0.6474425728966579,
          -0.5038442677636253,
          -1.1008455274698403,
          0.6251097854408026,
          0.9860855829234931,
          -0.3519782030631685,
          0.2043298737212113,
          -0.6511487116247198,
          -0.47613929479990535,
          -1.1726127112294482,
          1.5612251685295533,
          0.4022976345568017,
          1.1566765718193304,
          0.031117966223119534,
          -0.865882402029834,
          -0.5233903441757728,
          -1.0054595647259312,
          -0.11632633713897635,
          -0.5384467568825115,
          0.4677278114296954,
          0.5387522859610423,
          0.5311214184901931,
          0.8542591407697975,
          -0.9803545984510883,
          1.3106925029212348,
          -0.19232021685687745,
          -0.14569136160329985,
          -0.7146824851366995,
          -0.4786817591587508,
          0.7235332743737379,
          -0.41712017043221844,
          -1.6019352807092222,
          -0.9343856342604369,
          0.7247039771128864,
          0.7123562356757894,
          0.7120993540271149,
          -0.5936962306733344,
          -1.0826130603973108,
          0.5248478277685283,
          -0.26026561529029024,
          1.9453734300618395,
          1.5188109407529324,
          0.14475730152800026,
          -1.6548732265850479,
          0.6418646400314986,
          -0.7004102844625567,
          0.7719183108008424,
          2.108988390018506,
          0.12790582165533965,
          -0.2526413569711868,
          -1.6127100179913447,
          -0.5658126567820971,
          -0.5211460165079267,
          -0.013759130888993939,
          -0.950487694184885,
          1.4552606561594668,
          0.5982889285689689,
          -0.1538747388728679,
          0.5353219782660327,
          -1.072228923525188,
          0.6752160523044004,
          0.24625540085408443,
          0.6505484803196946,
          0.4229194966060065,
          -1.0724186747068731,
          -0.16874383355845157,
          -0.0940723852561799,
          0.37650510210813215,
          0.767056661576872,
          -0.4656164665448851,
          -1.9626738276966944,
          1.0248645009802317,
          1.379185464478099,
          -0.4591747868219548,
          -1.447144900286262
         ],
         "xaxis": "x",
         "yaxis": "y"
        },
        {
         "line": {
          "color": "rgba(128, 128, 128, 1.0)",
          "dash": "solid",
          "shape": "linear",
          "width": 1.3
         },
         "marker": {
          "size": 2,
          "symbol": "circle"
         },
         "mode": "markers",
         "name": "A",
         "text": "",
         "type": "scatter",
         "x": [
          -1.699160123201898,
          0.10195242313344324,
          -0.715193282859542,
          -0.05758164445290634,
          -0.7398838201640815,
          -0.9753799755866359,
          0.8183654763925532,
          0.1486272764042706,
          0.6221571419621349,
          -0.37471837838608657,
          1.9241212173882782,
          -1.9260174834904287,
          0.32772542746581956,
          -0.09062108554739637,
          -0.6222192316499369,
          0.4104827707197747,
          -1.4767599860217084,
          0.31680009657810904,
          0.5841423976591886,
          -1.3363186893647179,
          -1.481470205733003,
          1.2913557909132023,
          -0.15965674908185673,
          -0.10885642874825817,
          2.0613253401745855,
          0.038873891107819594,
          -1.5572032020558468,
          -0.5267363266605407,
          1.052086043605771,
          0.4837147591298685,
          -1.4485465294093376,
          -1.1363178025139544,
          0.2901075938884033,
          0.012764228316333356,
          0.02544130910202635,
          -0.15285526945192568,
          -0.8437747538133651,
          -1.1579133835179825,
          0.522936718836919,
          -1.4418531014659357,
          0.7713240245097688,
          1.1488990205107918,
          1.1101684578089406,
          -0.4050508092025551,
          -1.6736673382534208,
          -1.5296412988754375,
          -1.1170745972955312,
          0.13781739088902767,
          1.7624413863232378,
          0.015527063547979406,
          0.15625436224519249,
          -0.04377516577352025,
          0.32170087033653894,
          -1.7352479949718995,
          0.18631362955611921,
          -0.7761396929349504,
          0.4184915730119552,
          0.7679017692501251,
          0.3516066556924101,
          2.5166163139814217,
          -0.19150616919534597,
          -0.34422152499462955,
          -1.1932959160998728,
          -1.8523321507164985,
          -0.27312156355546313,
          -0.22788721727855377,
          0.512958656095611,
          0.23772762819035506,
          0.18044282339924814,
          1.1796934451453305,
          -0.5964857390108925,
          -0.27841196090719744,
          -0.8782503319309752,
          0.2736168298650118,
          -0.086012008879998,
          -0.2697772277356776,
          -0.8559941288110947,
          0.7505650594336027,
          0.5084568806815066,
          -0.20824438201256085,
          -0.16081498584325604,
          -1.1191291600558322,
          -1.9035185519084472,
          -1.8106091203457362,
          0.3006649895466276,
          1.3198926705225342,
          -1.5284218485847,
          -1.4851131995836924,
          0.7097055112534987,
          -0.03900819833655198,
          -1.1649509319624074,
          -0.7128547871284446,
          0.7432408339507162,
          0.22267418896844912,
          0.8093301395612484,
          1.1075428522852886,
          -0.8891409413426854,
          0.7674768130934316,
          0.17700574880002642,
          1.2579022924495926
         ],
         "xaxis": "x2",
         "y": [
          0.6365076909941588,
          -0.4737602015567025,
          -0.4931937653649986,
          -1.002162685929863,
          -1.390694581240618,
          0.2624767228460955,
          0.06342727286886606,
          0.34217472462690585,
          2.961132768508034,
          -0.8620975059326305,
          0.4553717205546613,
          1.267344265809088,
          0.5574464676557171,
          1.7650668089058499,
          -0.6602427071795416,
          0.2578219133046646,
          -0.17263289964841197,
          -0.11238959064405796,
          0.8695860480867245,
          0.40840660774229726,
          -1.0684251725049163,
          -0.9785793326058884,
          0.5931279441105388,
          -0.5737552603070895,
          0.9117283650804772,
          0.6474425728966579,
          -0.5038442677636253,
          -1.1008455274698403,
          0.6251097854408026,
          0.9860855829234931,
          -0.3519782030631685,
          0.2043298737212113,
          -0.6511487116247198,
          -0.47613929479990535,
          -1.1726127112294482,
          1.5612251685295533,
          0.4022976345568017,
          1.1566765718193304,
          0.031117966223119534,
          -0.865882402029834,
          -0.5233903441757728,
          -1.0054595647259312,
          -0.11632633713897635,
          -0.5384467568825115,
          0.4677278114296954,
          0.5387522859610423,
          0.5311214184901931,
          0.8542591407697975,
          -0.9803545984510883,
          1.3106925029212348,
          -0.19232021685687745,
          -0.14569136160329985,
          -0.7146824851366995,
          -0.4786817591587508,
          0.7235332743737379,
          -0.41712017043221844,
          -1.6019352807092222,
          -0.9343856342604369,
          0.7247039771128864,
          0.7123562356757894,
          0.7120993540271149,
          -0.5936962306733344,
          -1.0826130603973108,
          0.5248478277685283,
          -0.26026561529029024,
          1.9453734300618395,
          1.5188109407529324,
          0.14475730152800026,
          -1.6548732265850479,
          0.6418646400314986,
          -0.7004102844625567,
          0.7719183108008424,
          2.108988390018506,
          0.12790582165533965,
          -0.2526413569711868,
          -1.6127100179913447,
          -0.5658126567820971,
          -0.5211460165079267,
          -0.013759130888993939,
          -0.950487694184885,
          1.4552606561594668,
          0.5982889285689689,
          -0.1538747388728679,
          0.5353219782660327,
          -1.072228923525188,
          0.6752160523044004,
          0.24625540085408443,
          0.6505484803196946,
          0.4229194966060065,
          -1.0724186747068731,
          -0.16874383355845157,
          -0.0940723852561799,
          0.37650510210813215,
          0.767056661576872,
          -0.4656164665448851,
          -1.9626738276966944,
          1.0248645009802317,
          1.379185464478099,
          -0.4591747868219548,
          -1.447144900286262
         ],
         "yaxis": "y2"
        },
        {
         "line": {
          "color": "rgba(128, 128, 128, 1.0)",
          "dash": "solid",
          "shape": "linear",
          "width": 1.3
         },
         "marker": {
          "size": 2,
          "symbol": "circle"
         },
         "mode": "markers",
         "name": "A",
         "text": "",
         "type": "scatter",
         "x": [
          1.9018381107211506,
          0.0661887770795712,
          -0.6907923912196057,
          -0.6787021107040709,
          1.6626242744283832,
          0.07911174543452498,
          0.8961493719877067,
          1.6626899962684787,
          -1.039388186859393,
          -1.0165813778214088,
          1.057748496385511,
          -0.09627782791253724,
          1.1699296868199236,
          -0.9403722978654238,
          0.6688891209913608,
          -1.6220758768730354,
          1.4335054635094144,
          -0.15364540567302598,
          -0.24383048606947888,
          -1.003086243171056,
          -1.2529035737657532,
          -0.8622997262061329,
          -0.0205042689814447,
          -0.577432743168765,
          -0.08404721858285126,
          0.17256271371717888,
          -0.6284522868119045,
          0.9053893732895225,
          -0.615368509084066,
          -0.05029608378329362,
          -0.7420781697708273,
          0.02465312848982948,
          -0.11916547751946559,
          -0.2403704203979564,
          1.0422556178264082,
          1.1026273410487104,
          2.14122780521598,
          1.0733128555117888,
          0.27444527249127393,
          0.6563412585849486,
          1.4738489743011085,
          0.8162248511853,
          -0.023639827496879096,
          -1.1524174323765721,
          1.1544843796254285,
          0.6349007148210998,
          -0.42040009512628596,
          0.5332124958532438,
          0.18731084191011768,
          1.7839781287907115,
          -0.8183887113044076,
          -2.125113575006204,
          -0.6623622152349681,
          0.2544601036989139,
          -0.266956137447952,
          -2.276830867929495,
          -1.3730753639964646,
          0.5305412588548238,
          -0.15929777998470598,
          -0.020193204841813105,
          0.7880632917690479,
          -1.03187439972173,
          0.5883059443015611,
          -1.274642879856355,
          -0.1655179971723056,
          0.5300027728492482,
          1.0120393877081773,
          -1.010594656701156,
          1.1840045052728227,
          -0.04320422282512258,
          -0.47343469541255145,
          -0.042216166470314745,
          -0.19751047941944336,
          1.932345240592702,
          0.04890264369823737,
          -1.6825419558962336,
          0.49681338245477213,
          -0.07113030466801781,
          -0.7908288082449095,
          -0.9634210464298072,
          0.9508462986024796,
          -1.6858167419150096,
          -0.883716779881633,
          -1.725182281318085,
          -1.2413407406529693,
          -0.2666167097502255,
          -0.5064374397054949,
          -0.359824866439955,
          -0.7634820300070232,
          0.0779983988924154,
          0.4877975848545077,
          1.4932085199422698,
          -1.780522505067473,
          0.9790035075865777,
          -1.1721292047493173,
          -0.8155284297572379,
          0.6871800721974252,
          0.38965151537552983,
          2.1409590283144837,
          -0.656023588618697
         ],
         "xaxis": "x3",
         "y": [
          0.6365076909941588,
          -0.4737602015567025,
          -0.4931937653649986,
          -1.002162685929863,
          -1.390694581240618,
          0.2624767228460955,
          0.06342727286886606,
          0.34217472462690585,
          2.961132768508034,
          -0.8620975059326305,
          0.4553717205546613,
          1.267344265809088,
          0.5574464676557171,
          1.7650668089058499,
          -0.6602427071795416,
          0.2578219133046646,
          -0.17263289964841197,
          -0.11238959064405796,
          0.8695860480867245,
          0.40840660774229726,
          -1.0684251725049163,
          -0.9785793326058884,
          0.5931279441105388,
          -0.5737552603070895,
          0.9117283650804772,
          0.6474425728966579,
          -0.5038442677636253,
          -1.1008455274698403,
          0.6251097854408026,
          0.9860855829234931,
          -0.3519782030631685,
          0.2043298737212113,
          -0.6511487116247198,
          -0.47613929479990535,
          -1.1726127112294482,
          1.5612251685295533,
          0.4022976345568017,
          1.1566765718193304,
          0.031117966223119534,
          -0.865882402029834,
          -0.5233903441757728,
          -1.0054595647259312,
          -0.11632633713897635,
          -0.5384467568825115,
          0.4677278114296954,
          0.5387522859610423,
          0.5311214184901931,
          0.8542591407697975,
          -0.9803545984510883,
          1.3106925029212348,
          -0.19232021685687745,
          -0.14569136160329985,
          -0.7146824851366995,
          -0.4786817591587508,
          0.7235332743737379,
          -0.41712017043221844,
          -1.6019352807092222,
          -0.9343856342604369,
          0.7247039771128864,
          0.7123562356757894,
          0.7120993540271149,
          -0.5936962306733344,
          -1.0826130603973108,
          0.5248478277685283,
          -0.26026561529029024,
          1.9453734300618395,
          1.5188109407529324,
          0.14475730152800026,
          -1.6548732265850479,
          0.6418646400314986,
          -0.7004102844625567,
          0.7719183108008424,
          2.108988390018506,
          0.12790582165533965,
          -0.2526413569711868,
          -1.6127100179913447,
          -0.5658126567820971,
          -0.5211460165079267,
          -0.013759130888993939,
          -0.950487694184885,
          1.4552606561594668,
          0.5982889285689689,
          -0.1538747388728679,
          0.5353219782660327,
          -1.072228923525188,
          0.6752160523044004,
          0.24625540085408443,
          0.6505484803196946,
          0.4229194966060065,
          -1.0724186747068731,
          -0.16874383355845157,
          -0.0940723852561799,
          0.37650510210813215,
          0.767056661576872,
          -0.4656164665448851,
          -1.9626738276966944,
          1.0248645009802317,
          1.379185464478099,
          -0.4591747868219548,
          -1.447144900286262
         ],
         "yaxis": "y3"
        },
        {
         "line": {
          "color": "rgba(128, 128, 128, 1.0)",
          "dash": "solid",
          "shape": "linear",
          "width": 1.3
         },
         "marker": {
          "size": 2,
          "symbol": "circle"
         },
         "mode": "markers",
         "name": "A",
         "text": "",
         "type": "scatter",
         "x": [
          -0.9750369482571805,
          0.44564483517238895,
          -0.04690236468163629,
          -0.4670170692687393,
          -0.1771939426737461,
          0.28995461269436185,
          -0.6072185391411775,
          -2.0038471872764316,
          -0.3984200485520013,
          0.2530989836036288,
          -0.38738075645647285,
          -0.42470446108817556,
          -0.9334203848128355,
          -0.14675971813447655,
          0.7579723652270303,
          0.1367544916571995,
          -0.9377777223301385,
          -0.4778326723692581,
          -1.12664931780653,
          -0.9619967388777854,
          0.8843338255131576,
          1.8682683644749403,
          0.9755485156936052,
          0.6916841407329196,
          -0.0785267768598687,
          -0.9812008250308394,
          -0.8382223509172964,
          -0.7012489733232544,
          0.603546222544028,
          0.38802526719044583,
          -1.20731830156207,
          -0.030074108263952917,
          -0.15590598924350277,
          0.3937300511303707,
          0.6992571801570834,
          0.27562181548345377,
          0.44021509881888027,
          -1.9442264672488656,
          -1.369989009146285,
          -0.8122354577178308,
          1.9081177845994124,
          -0.26846509724183537,
          0.5125392141962625,
          0.43239837553775085,
          1.0097436496473493,
          0.25039336200695067,
          -0.7604523572732129,
          0.8914736977749184,
          -0.21525067218547833,
          0.5828332215766223,
          -0.7283162787867422,
          1.6920346940264834,
          1.6248413994097453,
          -0.2847748335915226,
          -0.5176913703080036,
          0.7418939567180273,
          1.1135475692923003,
          0.9188923597775859,
          2.3063456376825995,
          -1.6281491014697183,
          0.05050564268896923,
          1.649543240232205,
          1.3204806527197694,
          -0.6460699074991205,
          -2.5614296506896155,
          1.3361610618561828,
          0.4350189125972323,
          -0.37198414042857364,
          -0.03066118450093699,
          -0.6259564066025849,
          0.0779255760166714,
          1.338223093837399,
          -0.8398430223702961,
          -0.10083418068558023,
          0.5178637029677866,
          0.7994749757691799,
          -0.41030577553683223,
          -1.0649799581944792,
          0.31453204785310873,
          0.36918550654368415,
          1.939477114708438,
          0.3975126853418298,
          -0.036380617845962845,
          -0.7049669404699344,
          0.8254017815892944,
          -0.8330042258973517,
          -0.3722881175388645,
          -2.304464011732134,
          1.7234122354590147,
          -1.7260726764377887,
          -1.0661196803995696,
          0.9162617863119996,
          -1.365011494760737,
          0.5702598029292324,
          -1.8267900616514687,
          0.7578403650645467,
          0.8224981451202354,
          0.18645637110353322,
          0.09431976616585055,
          -0.029247149045171603
         ],
         "xaxis": "x4",
         "y": [
          0.6365076909941588,
          -0.4737602015567025,
          -0.4931937653649986,
          -1.002162685929863,
          -1.390694581240618,
          0.2624767228460955,
          0.06342727286886606,
          0.34217472462690585,
          2.961132768508034,
          -0.8620975059326305,
          0.4553717205546613,
          1.267344265809088,
          0.5574464676557171,
          1.7650668089058499,
          -0.6602427071795416,
          0.2578219133046646,
          -0.17263289964841197,
          -0.11238959064405796,
          0.8695860480867245,
          0.40840660774229726,
          -1.0684251725049163,
          -0.9785793326058884,
          0.5931279441105388,
          -0.5737552603070895,
          0.9117283650804772,
          0.6474425728966579,
          -0.5038442677636253,
          -1.1008455274698403,
          0.6251097854408026,
          0.9860855829234931,
          -0.3519782030631685,
          0.2043298737212113,
          -0.6511487116247198,
          -0.47613929479990535,
          -1.1726127112294482,
          1.5612251685295533,
          0.4022976345568017,
          1.1566765718193304,
          0.031117966223119534,
          -0.865882402029834,
          -0.5233903441757728,
          -1.0054595647259312,
          -0.11632633713897635,
          -0.5384467568825115,
          0.4677278114296954,
          0.5387522859610423,
          0.5311214184901931,
          0.8542591407697975,
          -0.9803545984510883,
          1.3106925029212348,
          -0.19232021685687745,
          -0.14569136160329985,
          -0.7146824851366995,
          -0.4786817591587508,
          0.7235332743737379,
          -0.41712017043221844,
          -1.6019352807092222,
          -0.9343856342604369,
          0.7247039771128864,
          0.7123562356757894,
          0.7120993540271149,
          -0.5936962306733344,
          -1.0826130603973108,
          0.5248478277685283,
          -0.26026561529029024,
          1.9453734300618395,
          1.5188109407529324,
          0.14475730152800026,
          -1.6548732265850479,
          0.6418646400314986,
          -0.7004102844625567,
          0.7719183108008424,
          2.108988390018506,
          0.12790582165533965,
          -0.2526413569711868,
          -1.6127100179913447,
          -0.5658126567820971,
          -0.5211460165079267,
          -0.013759130888993939,
          -0.950487694184885,
          1.4552606561594668,
          0.5982889285689689,
          -0.1538747388728679,
          0.5353219782660327,
          -1.072228923525188,
          0.6752160523044004,
          0.24625540085408443,
          0.6505484803196946,
          0.4229194966060065,
          -1.0724186747068731,
          -0.16874383355845157,
          -0.0940723852561799,
          0.37650510210813215,
          0.767056661576872,
          -0.4656164665448851,
          -1.9626738276966944,
          1.0248645009802317,
          1.379185464478099,
          -0.4591747868219548,
          -1.447144900286262
         ],
         "yaxis": "y4"
        },
        {
         "line": {
          "color": "rgba(128, 128, 128, 1.0)",
          "dash": "solid",
          "shape": "linear",
          "width": 1.3
         },
         "marker": {
          "size": 2,
          "symbol": "circle"
         },
         "mode": "markers",
         "name": "B",
         "text": "",
         "type": "scatter",
         "x": [
          0.6365076909941588,
          -0.4737602015567025,
          -0.4931937653649986,
          -1.002162685929863,
          -1.390694581240618,
          0.2624767228460955,
          0.06342727286886606,
          0.34217472462690585,
          2.961132768508034,
          -0.8620975059326305,
          0.4553717205546613,
          1.267344265809088,
          0.5574464676557171,
          1.7650668089058499,
          -0.6602427071795416,
          0.2578219133046646,
          -0.17263289964841197,
          -0.11238959064405796,
          0.8695860480867245,
          0.40840660774229726,
          -1.0684251725049163,
          -0.9785793326058884,
          0.5931279441105388,
          -0.5737552603070895,
          0.9117283650804772,
          0.6474425728966579,
          -0.5038442677636253,
          -1.1008455274698403,
          0.6251097854408026,
          0.9860855829234931,
          -0.3519782030631685,
          0.2043298737212113,
          -0.6511487116247198,
          -0.47613929479990535,
          -1.1726127112294482,
          1.5612251685295533,
          0.4022976345568017,
          1.1566765718193304,
          0.031117966223119534,
          -0.865882402029834,
          -0.5233903441757728,
          -1.0054595647259312,
          -0.11632633713897635,
          -0.5384467568825115,
          0.4677278114296954,
          0.5387522859610423,
          0.5311214184901931,
          0.8542591407697975,
          -0.9803545984510883,
          1.3106925029212348,
          -0.19232021685687745,
          -0.14569136160329985,
          -0.7146824851366995,
          -0.4786817591587508,
          0.7235332743737379,
          -0.41712017043221844,
          -1.6019352807092222,
          -0.9343856342604369,
          0.7247039771128864,
          0.7123562356757894,
          0.7120993540271149,
          -0.5936962306733344,
          -1.0826130603973108,
          0.5248478277685283,
          -0.26026561529029024,
          1.9453734300618395,
          1.5188109407529324,
          0.14475730152800026,
          -1.6548732265850479,
          0.6418646400314986,
          -0.7004102844625567,
          0.7719183108008424,
          2.108988390018506,
          0.12790582165533965,
          -0.2526413569711868,
          -1.6127100179913447,
          -0.5658126567820971,
          -0.5211460165079267,
          -0.013759130888993939,
          -0.950487694184885,
          1.4552606561594668,
          0.5982889285689689,
          -0.1538747388728679,
          0.5353219782660327,
          -1.072228923525188,
          0.6752160523044004,
          0.24625540085408443,
          0.6505484803196946,
          0.4229194966060065,
          -1.0724186747068731,
          -0.16874383355845157,
          -0.0940723852561799,
          0.37650510210813215,
          0.767056661576872,
          -0.4656164665448851,
          -1.9626738276966944,
          1.0248645009802317,
          1.379185464478099,
          -0.4591747868219548,
          -1.447144900286262
         ],
         "xaxis": "x5",
         "y": [
          -1.699160123201898,
          0.10195242313344324,
          -0.715193282859542,
          -0.05758164445290634,
          -0.7398838201640815,
          -0.9753799755866359,
          0.8183654763925532,
          0.1486272764042706,
          0.6221571419621349,
          -0.37471837838608657,
          1.9241212173882782,
          -1.9260174834904287,
          0.32772542746581956,
          -0.09062108554739637,
          -0.6222192316499369,
          0.4104827707197747,
          -1.4767599860217084,
          0.31680009657810904,
          0.5841423976591886,
          -1.3363186893647179,
          -1.481470205733003,
          1.2913557909132023,
          -0.15965674908185673,
          -0.10885642874825817,
          2.0613253401745855,
          0.038873891107819594,
          -1.5572032020558468,
          -0.5267363266605407,
          1.052086043605771,
          0.4837147591298685,
          -1.4485465294093376,
          -1.1363178025139544,
          0.2901075938884033,
          0.012764228316333356,
          0.02544130910202635,
          -0.15285526945192568,
          -0.8437747538133651,
          -1.1579133835179825,
          0.522936718836919,
          -1.4418531014659357,
          0.7713240245097688,
          1.1488990205107918,
          1.1101684578089406,
          -0.4050508092025551,
          -1.6736673382534208,
          -1.5296412988754375,
          -1.1170745972955312,
          0.13781739088902767,
          1.7624413863232378,
          0.015527063547979406,
          0.15625436224519249,
          -0.04377516577352025,
          0.32170087033653894,
          -1.7352479949718995,
          0.18631362955611921,
          -0.7761396929349504,
          0.4184915730119552,
          0.7679017692501251,
          0.3516066556924101,
          2.5166163139814217,
          -0.19150616919534597,
          -0.34422152499462955,
          -1.1932959160998728,
          -1.8523321507164985,
          -0.27312156355546313,
          -0.22788721727855377,
          0.512958656095611,
          0.23772762819035506,
          0.18044282339924814,
          1.1796934451453305,
          -0.5964857390108925,
          -0.27841196090719744,
          -0.8782503319309752,
          0.2736168298650118,
          -0.086012008879998,
          -0.2697772277356776,
          -0.8559941288110947,
          0.7505650594336027,
          0.5084568806815066,
          -0.20824438201256085,
          -0.16081498584325604,
          -1.1191291600558322,
          -1.9035185519084472,
          -1.8106091203457362,
          0.3006649895466276,
          1.3198926705225342,
          -1.5284218485847,
          -1.4851131995836924,
          0.7097055112534987,
          -0.03900819833655198,
          -1.1649509319624074,
          -0.7128547871284446,
          0.7432408339507162,
          0.22267418896844912,
          0.8093301395612484,
          1.1075428522852886,
          -0.8891409413426854,
          0.7674768130934316,
          0.17700574880002642,
          1.2579022924495926
         ],
         "yaxis": "y5"
        },
        {
         "histfunc": "count",
         "histnorm": "",
         "marker": {
          "color": "rgba(55, 128, 191, 1.0)",
          "line": {
           "color": "#4D5663",
           "width": 1.3
          }
         },
         "name": "B",
         "nbinsx": 10,
         "opacity": 0.8,
         "orientation": "v",
         "type": "histogram",
         "x": [
          -1.699160123201898,
          0.10195242313344324,
          -0.715193282859542,
          -0.05758164445290634,
          -0.7398838201640815,
          -0.9753799755866359,
          0.8183654763925532,
          0.1486272764042706,
          0.6221571419621349,
          -0.37471837838608657,
          1.9241212173882782,
          -1.9260174834904287,
          0.32772542746581956,
          -0.09062108554739637,
          -0.6222192316499369,
          0.4104827707197747,
          -1.4767599860217084,
          0.31680009657810904,
          0.5841423976591886,
          -1.3363186893647179,
          -1.481470205733003,
          1.2913557909132023,
          -0.15965674908185673,
          -0.10885642874825817,
          2.0613253401745855,
          0.038873891107819594,
          -1.5572032020558468,
          -0.5267363266605407,
          1.052086043605771,
          0.4837147591298685,
          -1.4485465294093376,
          -1.1363178025139544,
          0.2901075938884033,
          0.012764228316333356,
          0.02544130910202635,
          -0.15285526945192568,
          -0.8437747538133651,
          -1.1579133835179825,
          0.522936718836919,
          -1.4418531014659357,
          0.7713240245097688,
          1.1488990205107918,
          1.1101684578089406,
          -0.4050508092025551,
          -1.6736673382534208,
          -1.5296412988754375,
          -1.1170745972955312,
          0.13781739088902767,
          1.7624413863232378,
          0.015527063547979406,
          0.15625436224519249,
          -0.04377516577352025,
          0.32170087033653894,
          -1.7352479949718995,
          0.18631362955611921,
          -0.7761396929349504,
          0.4184915730119552,
          0.7679017692501251,
          0.3516066556924101,
          2.5166163139814217,
          -0.19150616919534597,
          -0.34422152499462955,
          -1.1932959160998728,
          -1.8523321507164985,
          -0.27312156355546313,
          -0.22788721727855377,
          0.512958656095611,
          0.23772762819035506,
          0.18044282339924814,
          1.1796934451453305,
          -0.5964857390108925,
          -0.27841196090719744,
          -0.8782503319309752,
          0.2736168298650118,
          -0.086012008879998,
          -0.2697772277356776,
          -0.8559941288110947,
          0.7505650594336027,
          0.5084568806815066,
          -0.20824438201256085,
          -0.16081498584325604,
          -1.1191291600558322,
          -1.9035185519084472,
          -1.8106091203457362,
          0.3006649895466276,
          1.3198926705225342,
          -1.5284218485847,
          -1.4851131995836924,
          0.7097055112534987,
          -0.03900819833655198,
          -1.1649509319624074,
          -0.7128547871284446,
          0.7432408339507162,
          0.22267418896844912,
          0.8093301395612484,
          1.1075428522852886,
          -0.8891409413426854,
          0.7674768130934316,
          0.17700574880002642,
          1.2579022924495926
         ],
         "xaxis": "x6",
         "yaxis": "y6"
        },
        {
         "line": {
          "color": "rgba(128, 128, 128, 1.0)",
          "dash": "solid",
          "shape": "linear",
          "width": 1.3
         },
         "marker": {
          "size": 2,
          "symbol": "circle"
         },
         "mode": "markers",
         "name": "B",
         "text": "",
         "type": "scatter",
         "x": [
          1.9018381107211506,
          0.0661887770795712,
          -0.6907923912196057,
          -0.6787021107040709,
          1.6626242744283832,
          0.07911174543452498,
          0.8961493719877067,
          1.6626899962684787,
          -1.039388186859393,
          -1.0165813778214088,
          1.057748496385511,
          -0.09627782791253724,
          1.1699296868199236,
          -0.9403722978654238,
          0.6688891209913608,
          -1.6220758768730354,
          1.4335054635094144,
          -0.15364540567302598,
          -0.24383048606947888,
          -1.003086243171056,
          -1.2529035737657532,
          -0.8622997262061329,
          -0.0205042689814447,
          -0.577432743168765,
          -0.08404721858285126,
          0.17256271371717888,
          -0.6284522868119045,
          0.9053893732895225,
          -0.615368509084066,
          -0.05029608378329362,
          -0.7420781697708273,
          0.02465312848982948,
          -0.11916547751946559,
          -0.2403704203979564,
          1.0422556178264082,
          1.1026273410487104,
          2.14122780521598,
          1.0733128555117888,
          0.27444527249127393,
          0.6563412585849486,
          1.4738489743011085,
          0.8162248511853,
          -0.023639827496879096,
          -1.1524174323765721,
          1.1544843796254285,
          0.6349007148210998,
          -0.42040009512628596,
          0.5332124958532438,
          0.18731084191011768,
          1.7839781287907115,
          -0.8183887113044076,
          -2.125113575006204,
          -0.6623622152349681,
          0.2544601036989139,
          -0.266956137447952,
          -2.276830867929495,
          -1.3730753639964646,
          0.5305412588548238,
          -0.15929777998470598,
          -0.020193204841813105,
          0.7880632917690479,
          -1.03187439972173,
          0.5883059443015611,
          -1.274642879856355,
          -0.1655179971723056,
          0.5300027728492482,
          1.0120393877081773,
          -1.010594656701156,
          1.1840045052728227,
          -0.04320422282512258,
          -0.47343469541255145,
          -0.042216166470314745,
          -0.19751047941944336,
          1.932345240592702,
          0.04890264369823737,
          -1.6825419558962336,
          0.49681338245477213,
          -0.07113030466801781,
          -0.7908288082449095,
          -0.9634210464298072,
          0.9508462986024796,
          -1.6858167419150096,
          -0.883716779881633,
          -1.725182281318085,
          -1.2413407406529693,
          -0.2666167097502255,
          -0.5064374397054949,
          -0.359824866439955,
          -0.7634820300070232,
          0.0779983988924154,
          0.4877975848545077,
          1.4932085199422698,
          -1.780522505067473,
          0.9790035075865777,
          -1.1721292047493173,
          -0.8155284297572379,
          0.6871800721974252,
          0.38965151537552983,
          2.1409590283144837,
          -0.656023588618697
         ],
         "xaxis": "x7",
         "y": [
          -1.699160123201898,
          0.10195242313344324,
          -0.715193282859542,
          -0.05758164445290634,
          -0.7398838201640815,
          -0.9753799755866359,
          0.8183654763925532,
          0.1486272764042706,
          0.6221571419621349,
          -0.37471837838608657,
          1.9241212173882782,
          -1.9260174834904287,
          0.32772542746581956,
          -0.09062108554739637,
          -0.6222192316499369,
          0.4104827707197747,
          -1.4767599860217084,
          0.31680009657810904,
          0.5841423976591886,
          -1.3363186893647179,
          -1.481470205733003,
          1.2913557909132023,
          -0.15965674908185673,
          -0.10885642874825817,
          2.0613253401745855,
          0.038873891107819594,
          -1.5572032020558468,
          -0.5267363266605407,
          1.052086043605771,
          0.4837147591298685,
          -1.4485465294093376,
          -1.1363178025139544,
          0.2901075938884033,
          0.012764228316333356,
          0.02544130910202635,
          -0.15285526945192568,
          -0.8437747538133651,
          -1.1579133835179825,
          0.522936718836919,
          -1.4418531014659357,
          0.7713240245097688,
          1.1488990205107918,
          1.1101684578089406,
          -0.4050508092025551,
          -1.6736673382534208,
          -1.5296412988754375,
          -1.1170745972955312,
          0.13781739088902767,
          1.7624413863232378,
          0.015527063547979406,
          0.15625436224519249,
          -0.04377516577352025,
          0.32170087033653894,
          -1.7352479949718995,
          0.18631362955611921,
          -0.7761396929349504,
          0.4184915730119552,
          0.7679017692501251,
          0.3516066556924101,
          2.5166163139814217,
          -0.19150616919534597,
          -0.34422152499462955,
          -1.1932959160998728,
          -1.8523321507164985,
          -0.27312156355546313,
          -0.22788721727855377,
          0.512958656095611,
          0.23772762819035506,
          0.18044282339924814,
          1.1796934451453305,
          -0.5964857390108925,
          -0.27841196090719744,
          -0.8782503319309752,
          0.2736168298650118,
          -0.086012008879998,
          -0.2697772277356776,
          -0.8559941288110947,
          0.7505650594336027,
          0.5084568806815066,
          -0.20824438201256085,
          -0.16081498584325604,
          -1.1191291600558322,
          -1.9035185519084472,
          -1.8106091203457362,
          0.3006649895466276,
          1.3198926705225342,
          -1.5284218485847,
          -1.4851131995836924,
          0.7097055112534987,
          -0.03900819833655198,
          -1.1649509319624074,
          -0.7128547871284446,
          0.7432408339507162,
          0.22267418896844912,
          0.8093301395612484,
          1.1075428522852886,
          -0.8891409413426854,
          0.7674768130934316,
          0.17700574880002642,
          1.2579022924495926
         ],
         "yaxis": "y7"
        },
        {
         "line": {
          "color": "rgba(128, 128, 128, 1.0)",
          "dash": "solid",
          "shape": "linear",
          "width": 1.3
         },
         "marker": {
          "size": 2,
          "symbol": "circle"
         },
         "mode": "markers",
         "name": "B",
         "text": "",
         "type": "scatter",
         "x": [
          -0.9750369482571805,
          0.44564483517238895,
          -0.04690236468163629,
          -0.4670170692687393,
          -0.1771939426737461,
          0.28995461269436185,
          -0.6072185391411775,
          -2.0038471872764316,
          -0.3984200485520013,
          0.2530989836036288,
          -0.38738075645647285,
          -0.42470446108817556,
          -0.9334203848128355,
          -0.14675971813447655,
          0.7579723652270303,
          0.1367544916571995,
          -0.9377777223301385,
          -0.4778326723692581,
          -1.12664931780653,
          -0.9619967388777854,
          0.8843338255131576,
          1.8682683644749403,
          0.9755485156936052,
          0.6916841407329196,
          -0.0785267768598687,
          -0.9812008250308394,
          -0.8382223509172964,
          -0.7012489733232544,
          0.603546222544028,
          0.38802526719044583,
          -1.20731830156207,
          -0.030074108263952917,
          -0.15590598924350277,
          0.3937300511303707,
          0.6992571801570834,
          0.27562181548345377,
          0.44021509881888027,
          -1.9442264672488656,
          -1.369989009146285,
          -0.8122354577178308,
          1.9081177845994124,
          -0.26846509724183537,
          0.5125392141962625,
          0.43239837553775085,
          1.0097436496473493,
          0.25039336200695067,
          -0.7604523572732129,
          0.8914736977749184,
          -0.21525067218547833,
          0.5828332215766223,
          -0.7283162787867422,
          1.6920346940264834,
          1.6248413994097453,
          -0.2847748335915226,
          -0.5176913703080036,
          0.7418939567180273,
          1.1135475692923003,
          0.9188923597775859,
          2.3063456376825995,
          -1.6281491014697183,
          0.05050564268896923,
          1.649543240232205,
          1.3204806527197694,
          -0.6460699074991205,
          -2.5614296506896155,
          1.3361610618561828,
          0.4350189125972323,
          -0.37198414042857364,
          -0.03066118450093699,
          -0.6259564066025849,
          0.0779255760166714,
          1.338223093837399,
          -0.8398430223702961,
          -0.10083418068558023,
          0.5178637029677866,
          0.7994749757691799,
          -0.41030577553683223,
          -1.0649799581944792,
          0.31453204785310873,
          0.36918550654368415,
          1.939477114708438,
          0.3975126853418298,
          -0.036380617845962845,
          -0.7049669404699344,
          0.8254017815892944,
          -0.8330042258973517,
          -0.3722881175388645,
          -2.304464011732134,
          1.7234122354590147,
          -1.7260726764377887,
          -1.0661196803995696,
          0.9162617863119996,
          -1.365011494760737,
          0.5702598029292324,
          -1.8267900616514687,
          0.7578403650645467,
          0.8224981451202354,
          0.18645637110353322,
          0.09431976616585055,
          -0.029247149045171603
         ],
         "xaxis": "x8",
         "y": [
          -1.699160123201898,
          0.10195242313344324,
          -0.715193282859542,
          -0.05758164445290634,
          -0.7398838201640815,
          -0.9753799755866359,
          0.8183654763925532,
          0.1486272764042706,
          0.6221571419621349,
          -0.37471837838608657,
          1.9241212173882782,
          -1.9260174834904287,
          0.32772542746581956,
          -0.09062108554739637,
          -0.6222192316499369,
          0.4104827707197747,
          -1.4767599860217084,
          0.31680009657810904,
          0.5841423976591886,
          -1.3363186893647179,
          -1.481470205733003,
          1.2913557909132023,
          -0.15965674908185673,
          -0.10885642874825817,
          2.0613253401745855,
          0.038873891107819594,
          -1.5572032020558468,
          -0.5267363266605407,
          1.052086043605771,
          0.4837147591298685,
          -1.4485465294093376,
          -1.1363178025139544,
          0.2901075938884033,
          0.012764228316333356,
          0.02544130910202635,
          -0.15285526945192568,
          -0.8437747538133651,
          -1.1579133835179825,
          0.522936718836919,
          -1.4418531014659357,
          0.7713240245097688,
          1.1488990205107918,
          1.1101684578089406,
          -0.4050508092025551,
          -1.6736673382534208,
          -1.5296412988754375,
          -1.1170745972955312,
          0.13781739088902767,
          1.7624413863232378,
          0.015527063547979406,
          0.15625436224519249,
          -0.04377516577352025,
          0.32170087033653894,
          -1.7352479949718995,
          0.18631362955611921,
          -0.7761396929349504,
          0.4184915730119552,
          0.7679017692501251,
          0.3516066556924101,
          2.5166163139814217,
          -0.19150616919534597,
          -0.34422152499462955,
          -1.1932959160998728,
          -1.8523321507164985,
          -0.27312156355546313,
          -0.22788721727855377,
          0.512958656095611,
          0.23772762819035506,
          0.18044282339924814,
          1.1796934451453305,
          -0.5964857390108925,
          -0.27841196090719744,
          -0.8782503319309752,
          0.2736168298650118,
          -0.086012008879998,
          -0.2697772277356776,
          -0.8559941288110947,
          0.7505650594336027,
          0.5084568806815066,
          -0.20824438201256085,
          -0.16081498584325604,
          -1.1191291600558322,
          -1.9035185519084472,
          -1.8106091203457362,
          0.3006649895466276,
          1.3198926705225342,
          -1.5284218485847,
          -1.4851131995836924,
          0.7097055112534987,
          -0.03900819833655198,
          -1.1649509319624074,
          -0.7128547871284446,
          0.7432408339507162,
          0.22267418896844912,
          0.8093301395612484,
          1.1075428522852886,
          -0.8891409413426854,
          0.7674768130934316,
          0.17700574880002642,
          1.2579022924495926
         ],
         "yaxis": "y8"
        },
        {
         "line": {
          "color": "rgba(128, 128, 128, 1.0)",
          "dash": "solid",
          "shape": "linear",
          "width": 1.3
         },
         "marker": {
          "size": 2,
          "symbol": "circle"
         },
         "mode": "markers",
         "name": "C",
         "text": "",
         "type": "scatter",
         "x": [
          0.6365076909941588,
          -0.4737602015567025,
          -0.4931937653649986,
          -1.002162685929863,
          -1.390694581240618,
          0.2624767228460955,
          0.06342727286886606,
          0.34217472462690585,
          2.961132768508034,
          -0.8620975059326305,
          0.4553717205546613,
          1.267344265809088,
          0.5574464676557171,
          1.7650668089058499,
          -0.6602427071795416,
          0.2578219133046646,
          -0.17263289964841197,
          -0.11238959064405796,
          0.8695860480867245,
          0.40840660774229726,
          -1.0684251725049163,
          -0.9785793326058884,
          0.5931279441105388,
          -0.5737552603070895,
          0.9117283650804772,
          0.6474425728966579,
          -0.5038442677636253,
          -1.1008455274698403,
          0.6251097854408026,
          0.9860855829234931,
          -0.3519782030631685,
          0.2043298737212113,
          -0.6511487116247198,
          -0.47613929479990535,
          -1.1726127112294482,
          1.5612251685295533,
          0.4022976345568017,
          1.1566765718193304,
          0.031117966223119534,
          -0.865882402029834,
          -0.5233903441757728,
          -1.0054595647259312,
          -0.11632633713897635,
          -0.5384467568825115,
          0.4677278114296954,
          0.5387522859610423,
          0.5311214184901931,
          0.8542591407697975,
          -0.9803545984510883,
          1.3106925029212348,
          -0.19232021685687745,
          -0.14569136160329985,
          -0.7146824851366995,
          -0.4786817591587508,
          0.7235332743737379,
          -0.41712017043221844,
          -1.6019352807092222,
          -0.9343856342604369,
          0.7247039771128864,
          0.7123562356757894,
          0.7120993540271149,
          -0.5936962306733344,
          -1.0826130603973108,
          0.5248478277685283,
          -0.26026561529029024,
          1.9453734300618395,
          1.5188109407529324,
          0.14475730152800026,
          -1.6548732265850479,
          0.6418646400314986,
          -0.7004102844625567,
          0.7719183108008424,
          2.108988390018506,
          0.12790582165533965,
          -0.2526413569711868,
          -1.6127100179913447,
          -0.5658126567820971,
          -0.5211460165079267,
          -0.013759130888993939,
          -0.950487694184885,
          1.4552606561594668,
          0.5982889285689689,
          -0.1538747388728679,
          0.5353219782660327,
          -1.072228923525188,
          0.6752160523044004,
          0.24625540085408443,
          0.6505484803196946,
          0.4229194966060065,
          -1.0724186747068731,
          -0.16874383355845157,
          -0.0940723852561799,
          0.37650510210813215,
          0.767056661576872,
          -0.4656164665448851,
          -1.9626738276966944,
          1.0248645009802317,
          1.379185464478099,
          -0.4591747868219548,
          -1.447144900286262
         ],
         "xaxis": "x9",
         "y": [
          1.9018381107211506,
          0.0661887770795712,
          -0.6907923912196057,
          -0.6787021107040709,
          1.6626242744283832,
          0.07911174543452498,
          0.8961493719877067,
          1.6626899962684787,
          -1.039388186859393,
          -1.0165813778214088,
          1.057748496385511,
          -0.09627782791253724,
          1.1699296868199236,
          -0.9403722978654238,
          0.6688891209913608,
          -1.6220758768730354,
          1.4335054635094144,
          -0.15364540567302598,
          -0.24383048606947888,
          -1.003086243171056,
          -1.2529035737657532,
          -0.8622997262061329,
          -0.0205042689814447,
          -0.577432743168765,
          -0.08404721858285126,
          0.17256271371717888,
          -0.6284522868119045,
          0.9053893732895225,
          -0.615368509084066,
          -0.05029608378329362,
          -0.7420781697708273,
          0.02465312848982948,
          -0.11916547751946559,
          -0.2403704203979564,
          1.0422556178264082,
          1.1026273410487104,
          2.14122780521598,
          1.0733128555117888,
          0.27444527249127393,
          0.6563412585849486,
          1.4738489743011085,
          0.8162248511853,
          -0.023639827496879096,
          -1.1524174323765721,
          1.1544843796254285,
          0.6349007148210998,
          -0.42040009512628596,
          0.5332124958532438,
          0.18731084191011768,
          1.7839781287907115,
          -0.8183887113044076,
          -2.125113575006204,
          -0.6623622152349681,
          0.2544601036989139,
          -0.266956137447952,
          -2.276830867929495,
          -1.3730753639964646,
          0.5305412588548238,
          -0.15929777998470598,
          -0.020193204841813105,
          0.7880632917690479,
          -1.03187439972173,
          0.5883059443015611,
          -1.274642879856355,
          -0.1655179971723056,
          0.5300027728492482,
          1.0120393877081773,
          -1.010594656701156,
          1.1840045052728227,
          -0.04320422282512258,
          -0.47343469541255145,
          -0.042216166470314745,
          -0.19751047941944336,
          1.932345240592702,
          0.04890264369823737,
          -1.6825419558962336,
          0.49681338245477213,
          -0.07113030466801781,
          -0.7908288082449095,
          -0.9634210464298072,
          0.9508462986024796,
          -1.6858167419150096,
          -0.883716779881633,
          -1.725182281318085,
          -1.2413407406529693,
          -0.2666167097502255,
          -0.5064374397054949,
          -0.359824866439955,
          -0.7634820300070232,
          0.0779983988924154,
          0.4877975848545077,
          1.4932085199422698,
          -1.780522505067473,
          0.9790035075865777,
          -1.1721292047493173,
          -0.8155284297572379,
          0.6871800721974252,
          0.38965151537552983,
          2.1409590283144837,
          -0.656023588618697
         ],
         "yaxis": "y9"
        },
        {
         "line": {
          "color": "rgba(128, 128, 128, 1.0)",
          "dash": "solid",
          "shape": "linear",
          "width": 1.3
         },
         "marker": {
          "size": 2,
          "symbol": "circle"
         },
         "mode": "markers",
         "name": "C",
         "text": "",
         "type": "scatter",
         "x": [
          -1.699160123201898,
          0.10195242313344324,
          -0.715193282859542,
          -0.05758164445290634,
          -0.7398838201640815,
          -0.9753799755866359,
          0.8183654763925532,
          0.1486272764042706,
          0.6221571419621349,
          -0.37471837838608657,
          1.9241212173882782,
          -1.9260174834904287,
          0.32772542746581956,
          -0.09062108554739637,
          -0.6222192316499369,
          0.4104827707197747,
          -1.4767599860217084,
          0.31680009657810904,
          0.5841423976591886,
          -1.3363186893647179,
          -1.481470205733003,
          1.2913557909132023,
          -0.15965674908185673,
          -0.10885642874825817,
          2.0613253401745855,
          0.038873891107819594,
          -1.5572032020558468,
          -0.5267363266605407,
          1.052086043605771,
          0.4837147591298685,
          -1.4485465294093376,
          -1.1363178025139544,
          0.2901075938884033,
          0.012764228316333356,
          0.02544130910202635,
          -0.15285526945192568,
          -0.8437747538133651,
          -1.1579133835179825,
          0.522936718836919,
          -1.4418531014659357,
          0.7713240245097688,
          1.1488990205107918,
          1.1101684578089406,
          -0.4050508092025551,
          -1.6736673382534208,
          -1.5296412988754375,
          -1.1170745972955312,
          0.13781739088902767,
          1.7624413863232378,
          0.015527063547979406,
          0.15625436224519249,
          -0.04377516577352025,
          0.32170087033653894,
          -1.7352479949718995,
          0.18631362955611921,
          -0.7761396929349504,
          0.4184915730119552,
          0.7679017692501251,
          0.3516066556924101,
          2.5166163139814217,
          -0.19150616919534597,
          -0.34422152499462955,
          -1.1932959160998728,
          -1.8523321507164985,
          -0.27312156355546313,
          -0.22788721727855377,
          0.512958656095611,
          0.23772762819035506,
          0.18044282339924814,
          1.1796934451453305,
          -0.5964857390108925,
          -0.27841196090719744,
          -0.8782503319309752,
          0.2736168298650118,
          -0.086012008879998,
          -0.2697772277356776,
          -0.8559941288110947,
          0.7505650594336027,
          0.5084568806815066,
          -0.20824438201256085,
          -0.16081498584325604,
          -1.1191291600558322,
          -1.9035185519084472,
          -1.8106091203457362,
          0.3006649895466276,
          1.3198926705225342,
          -1.5284218485847,
          -1.4851131995836924,
          0.7097055112534987,
          -0.03900819833655198,
          -1.1649509319624074,
          -0.7128547871284446,
          0.7432408339507162,
          0.22267418896844912,
          0.8093301395612484,
          1.1075428522852886,
          -0.8891409413426854,
          0.7674768130934316,
          0.17700574880002642,
          1.2579022924495926
         ],
         "xaxis": "x10",
         "y": [
          1.9018381107211506,
          0.0661887770795712,
          -0.6907923912196057,
          -0.6787021107040709,
          1.6626242744283832,
          0.07911174543452498,
          0.8961493719877067,
          1.6626899962684787,
          -1.039388186859393,
          -1.0165813778214088,
          1.057748496385511,
          -0.09627782791253724,
          1.1699296868199236,
          -0.9403722978654238,
          0.6688891209913608,
          -1.6220758768730354,
          1.4335054635094144,
          -0.15364540567302598,
          -0.24383048606947888,
          -1.003086243171056,
          -1.2529035737657532,
          -0.8622997262061329,
          -0.0205042689814447,
          -0.577432743168765,
          -0.08404721858285126,
          0.17256271371717888,
          -0.6284522868119045,
          0.9053893732895225,
          -0.615368509084066,
          -0.05029608378329362,
          -0.7420781697708273,
          0.02465312848982948,
          -0.11916547751946559,
          -0.2403704203979564,
          1.0422556178264082,
          1.1026273410487104,
          2.14122780521598,
          1.0733128555117888,
          0.27444527249127393,
          0.6563412585849486,
          1.4738489743011085,
          0.8162248511853,
          -0.023639827496879096,
          -1.1524174323765721,
          1.1544843796254285,
          0.6349007148210998,
          -0.42040009512628596,
          0.5332124958532438,
          0.18731084191011768,
          1.7839781287907115,
          -0.8183887113044076,
          -2.125113575006204,
          -0.6623622152349681,
          0.2544601036989139,
          -0.266956137447952,
          -2.276830867929495,
          -1.3730753639964646,
          0.5305412588548238,
          -0.15929777998470598,
          -0.020193204841813105,
          0.7880632917690479,
          -1.03187439972173,
          0.5883059443015611,
          -1.274642879856355,
          -0.1655179971723056,
          0.5300027728492482,
          1.0120393877081773,
          -1.010594656701156,
          1.1840045052728227,
          -0.04320422282512258,
          -0.47343469541255145,
          -0.042216166470314745,
          -0.19751047941944336,
          1.932345240592702,
          0.04890264369823737,
          -1.6825419558962336,
          0.49681338245477213,
          -0.07113030466801781,
          -0.7908288082449095,
          -0.9634210464298072,
          0.9508462986024796,
          -1.6858167419150096,
          -0.883716779881633,
          -1.725182281318085,
          -1.2413407406529693,
          -0.2666167097502255,
          -0.5064374397054949,
          -0.359824866439955,
          -0.7634820300070232,
          0.0779983988924154,
          0.4877975848545077,
          1.4932085199422698,
          -1.780522505067473,
          0.9790035075865777,
          -1.1721292047493173,
          -0.8155284297572379,
          0.6871800721974252,
          0.38965151537552983,
          2.1409590283144837,
          -0.656023588618697
         ],
         "yaxis": "y10"
        },
        {
         "histfunc": "count",
         "histnorm": "",
         "marker": {
          "color": "rgba(50, 171, 96, 1.0)",
          "line": {
           "color": "#4D5663",
           "width": 1.3
          }
         },
         "name": "C",
         "nbinsx": 10,
         "opacity": 0.8,
         "orientation": "v",
         "type": "histogram",
         "x": [
          1.9018381107211506,
          0.0661887770795712,
          -0.6907923912196057,
          -0.6787021107040709,
          1.6626242744283832,
          0.07911174543452498,
          0.8961493719877067,
          1.6626899962684787,
          -1.039388186859393,
          -1.0165813778214088,
          1.057748496385511,
          -0.09627782791253724,
          1.1699296868199236,
          -0.9403722978654238,
          0.6688891209913608,
          -1.6220758768730354,
          1.4335054635094144,
          -0.15364540567302598,
          -0.24383048606947888,
          -1.003086243171056,
          -1.2529035737657532,
          -0.8622997262061329,
          -0.0205042689814447,
          -0.577432743168765,
          -0.08404721858285126,
          0.17256271371717888,
          -0.6284522868119045,
          0.9053893732895225,
          -0.615368509084066,
          -0.05029608378329362,
          -0.7420781697708273,
          0.02465312848982948,
          -0.11916547751946559,
          -0.2403704203979564,
          1.0422556178264082,
          1.1026273410487104,
          2.14122780521598,
          1.0733128555117888,
          0.27444527249127393,
          0.6563412585849486,
          1.4738489743011085,
          0.8162248511853,
          -0.023639827496879096,
          -1.1524174323765721,
          1.1544843796254285,
          0.6349007148210998,
          -0.42040009512628596,
          0.5332124958532438,
          0.18731084191011768,
          1.7839781287907115,
          -0.8183887113044076,
          -2.125113575006204,
          -0.6623622152349681,
          0.2544601036989139,
          -0.266956137447952,
          -2.276830867929495,
          -1.3730753639964646,
          0.5305412588548238,
          -0.15929777998470598,
          -0.020193204841813105,
          0.7880632917690479,
          -1.03187439972173,
          0.5883059443015611,
          -1.274642879856355,
          -0.1655179971723056,
          0.5300027728492482,
          1.0120393877081773,
          -1.010594656701156,
          1.1840045052728227,
          -0.04320422282512258,
          -0.47343469541255145,
          -0.042216166470314745,
          -0.19751047941944336,
          1.932345240592702,
          0.04890264369823737,
          -1.6825419558962336,
          0.49681338245477213,
          -0.07113030466801781,
          -0.7908288082449095,
          -0.9634210464298072,
          0.9508462986024796,
          -1.6858167419150096,
          -0.883716779881633,
          -1.725182281318085,
          -1.2413407406529693,
          -0.2666167097502255,
          -0.5064374397054949,
          -0.359824866439955,
          -0.7634820300070232,
          0.0779983988924154,
          0.4877975848545077,
          1.4932085199422698,
          -1.780522505067473,
          0.9790035075865777,
          -1.1721292047493173,
          -0.8155284297572379,
          0.6871800721974252,
          0.38965151537552983,
          2.1409590283144837,
          -0.656023588618697
         ],
         "xaxis": "x11",
         "yaxis": "y11"
        },
        {
         "line": {
          "color": "rgba(128, 128, 128, 1.0)",
          "dash": "solid",
          "shape": "linear",
          "width": 1.3
         },
         "marker": {
          "size": 2,
          "symbol": "circle"
         },
         "mode": "markers",
         "name": "C",
         "text": "",
         "type": "scatter",
         "x": [
          -0.9750369482571805,
          0.44564483517238895,
          -0.04690236468163629,
          -0.4670170692687393,
          -0.1771939426737461,
          0.28995461269436185,
          -0.6072185391411775,
          -2.0038471872764316,
          -0.3984200485520013,
          0.2530989836036288,
          -0.38738075645647285,
          -0.42470446108817556,
          -0.9334203848128355,
          -0.14675971813447655,
          0.7579723652270303,
          0.1367544916571995,
          -0.9377777223301385,
          -0.4778326723692581,
          -1.12664931780653,
          -0.9619967388777854,
          0.8843338255131576,
          1.8682683644749403,
          0.9755485156936052,
          0.6916841407329196,
          -0.0785267768598687,
          -0.9812008250308394,
          -0.8382223509172964,
          -0.7012489733232544,
          0.603546222544028,
          0.38802526719044583,
          -1.20731830156207,
          -0.030074108263952917,
          -0.15590598924350277,
          0.3937300511303707,
          0.6992571801570834,
          0.27562181548345377,
          0.44021509881888027,
          -1.9442264672488656,
          -1.369989009146285,
          -0.8122354577178308,
          1.9081177845994124,
          -0.26846509724183537,
          0.5125392141962625,
          0.43239837553775085,
          1.0097436496473493,
          0.25039336200695067,
          -0.7604523572732129,
          0.8914736977749184,
          -0.21525067218547833,
          0.5828332215766223,
          -0.7283162787867422,
          1.6920346940264834,
          1.6248413994097453,
          -0.2847748335915226,
          -0.5176913703080036,
          0.7418939567180273,
          1.1135475692923003,
          0.9188923597775859,
          2.3063456376825995,
          -1.6281491014697183,
          0.05050564268896923,
          1.649543240232205,
          1.3204806527197694,
          -0.6460699074991205,
          -2.5614296506896155,
          1.3361610618561828,
          0.4350189125972323,
          -0.37198414042857364,
          -0.03066118450093699,
          -0.6259564066025849,
          0.0779255760166714,
          1.338223093837399,
          -0.8398430223702961,
          -0.10083418068558023,
          0.5178637029677866,
          0.7994749757691799,
          -0.41030577553683223,
          -1.0649799581944792,
          0.31453204785310873,
          0.36918550654368415,
          1.939477114708438,
          0.3975126853418298,
          -0.036380617845962845,
          -0.7049669404699344,
          0.8254017815892944,
          -0.8330042258973517,
          -0.3722881175388645,
          -2.304464011732134,
          1.7234122354590147,
          -1.7260726764377887,
          -1.0661196803995696,
          0.9162617863119996,
          -1.365011494760737,
          0.5702598029292324,
          -1.8267900616514687,
          0.7578403650645467,
          0.8224981451202354,
          0.18645637110353322,
          0.09431976616585055,
          -0.029247149045171603
         ],
         "xaxis": "x12",
         "y": [
          1.9018381107211506,
          0.0661887770795712,
          -0.6907923912196057,
          -0.6787021107040709,
          1.6626242744283832,
          0.07911174543452498,
          0.8961493719877067,
          1.6626899962684787,
          -1.039388186859393,
          -1.0165813778214088,
          1.057748496385511,
          -0.09627782791253724,
          1.1699296868199236,
          -0.9403722978654238,
          0.6688891209913608,
          -1.6220758768730354,
          1.4335054635094144,
          -0.15364540567302598,
          -0.24383048606947888,
          -1.003086243171056,
          -1.2529035737657532,
          -0.8622997262061329,
          -0.0205042689814447,
          -0.577432743168765,
          -0.08404721858285126,
          0.17256271371717888,
          -0.6284522868119045,
          0.9053893732895225,
          -0.615368509084066,
          -0.05029608378329362,
          -0.7420781697708273,
          0.02465312848982948,
          -0.11916547751946559,
          -0.2403704203979564,
          1.0422556178264082,
          1.1026273410487104,
          2.14122780521598,
          1.0733128555117888,
          0.27444527249127393,
          0.6563412585849486,
          1.4738489743011085,
          0.8162248511853,
          -0.023639827496879096,
          -1.1524174323765721,
          1.1544843796254285,
          0.6349007148210998,
          -0.42040009512628596,
          0.5332124958532438,
          0.18731084191011768,
          1.7839781287907115,
          -0.8183887113044076,
          -2.125113575006204,
          -0.6623622152349681,
          0.2544601036989139,
          -0.266956137447952,
          -2.276830867929495,
          -1.3730753639964646,
          0.5305412588548238,
          -0.15929777998470598,
          -0.020193204841813105,
          0.7880632917690479,
          -1.03187439972173,
          0.5883059443015611,
          -1.274642879856355,
          -0.1655179971723056,
          0.5300027728492482,
          1.0120393877081773,
          -1.010594656701156,
          1.1840045052728227,
          -0.04320422282512258,
          -0.47343469541255145,
          -0.042216166470314745,
          -0.19751047941944336,
          1.932345240592702,
          0.04890264369823737,
          -1.6825419558962336,
          0.49681338245477213,
          -0.07113030466801781,
          -0.7908288082449095,
          -0.9634210464298072,
          0.9508462986024796,
          -1.6858167419150096,
          -0.883716779881633,
          -1.725182281318085,
          -1.2413407406529693,
          -0.2666167097502255,
          -0.5064374397054949,
          -0.359824866439955,
          -0.7634820300070232,
          0.0779983988924154,
          0.4877975848545077,
          1.4932085199422698,
          -1.780522505067473,
          0.9790035075865777,
          -1.1721292047493173,
          -0.8155284297572379,
          0.6871800721974252,
          0.38965151537552983,
          2.1409590283144837,
          -0.656023588618697
         ],
         "yaxis": "y12"
        },
        {
         "line": {
          "color": "rgba(128, 128, 128, 1.0)",
          "dash": "solid",
          "shape": "linear",
          "width": 1.3
         },
         "marker": {
          "size": 2,
          "symbol": "circle"
         },
         "mode": "markers",
         "name": "D",
         "text": "",
         "type": "scatter",
         "x": [
          0.6365076909941588,
          -0.4737602015567025,
          -0.4931937653649986,
          -1.002162685929863,
          -1.390694581240618,
          0.2624767228460955,
          0.06342727286886606,
          0.34217472462690585,
          2.961132768508034,
          -0.8620975059326305,
          0.4553717205546613,
          1.267344265809088,
          0.5574464676557171,
          1.7650668089058499,
          -0.6602427071795416,
          0.2578219133046646,
          -0.17263289964841197,
          -0.11238959064405796,
          0.8695860480867245,
          0.40840660774229726,
          -1.0684251725049163,
          -0.9785793326058884,
          0.5931279441105388,
          -0.5737552603070895,
          0.9117283650804772,
          0.6474425728966579,
          -0.5038442677636253,
          -1.1008455274698403,
          0.6251097854408026,
          0.9860855829234931,
          -0.3519782030631685,
          0.2043298737212113,
          -0.6511487116247198,
          -0.47613929479990535,
          -1.1726127112294482,
          1.5612251685295533,
          0.4022976345568017,
          1.1566765718193304,
          0.031117966223119534,
          -0.865882402029834,
          -0.5233903441757728,
          -1.0054595647259312,
          -0.11632633713897635,
          -0.5384467568825115,
          0.4677278114296954,
          0.5387522859610423,
          0.5311214184901931,
          0.8542591407697975,
          -0.9803545984510883,
          1.3106925029212348,
          -0.19232021685687745,
          -0.14569136160329985,
          -0.7146824851366995,
          -0.4786817591587508,
          0.7235332743737379,
          -0.41712017043221844,
          -1.6019352807092222,
          -0.9343856342604369,
          0.7247039771128864,
          0.7123562356757894,
          0.7120993540271149,
          -0.5936962306733344,
          -1.0826130603973108,
          0.5248478277685283,
          -0.26026561529029024,
          1.9453734300618395,
          1.5188109407529324,
          0.14475730152800026,
          -1.6548732265850479,
          0.6418646400314986,
          -0.7004102844625567,
          0.7719183108008424,
          2.108988390018506,
          0.12790582165533965,
          -0.2526413569711868,
          -1.6127100179913447,
          -0.5658126567820971,
          -0.5211460165079267,
          -0.013759130888993939,
          -0.950487694184885,
          1.4552606561594668,
          0.5982889285689689,
          -0.1538747388728679,
          0.5353219782660327,
          -1.072228923525188,
          0.6752160523044004,
          0.24625540085408443,
          0.6505484803196946,
          0.4229194966060065,
          -1.0724186747068731,
          -0.16874383355845157,
          -0.0940723852561799,
          0.37650510210813215,
          0.767056661576872,
          -0.4656164665448851,
          -1.9626738276966944,
          1.0248645009802317,
          1.379185464478099,
          -0.4591747868219548,
          -1.447144900286262
         ],
         "xaxis": "x13",
         "y": [
          -0.9750369482571805,
          0.44564483517238895,
          -0.04690236468163629,
          -0.4670170692687393,
          -0.1771939426737461,
          0.28995461269436185,
          -0.6072185391411775,
          -2.0038471872764316,
          -0.3984200485520013,
          0.2530989836036288,
          -0.38738075645647285,
          -0.42470446108817556,
          -0.9334203848128355,
          -0.14675971813447655,
          0.7579723652270303,
          0.1367544916571995,
          -0.9377777223301385,
          -0.4778326723692581,
          -1.12664931780653,
          -0.9619967388777854,
          0.8843338255131576,
          1.8682683644749403,
          0.9755485156936052,
          0.6916841407329196,
          -0.0785267768598687,
          -0.9812008250308394,
          -0.8382223509172964,
          -0.7012489733232544,
          0.603546222544028,
          0.38802526719044583,
          -1.20731830156207,
          -0.030074108263952917,
          -0.15590598924350277,
          0.3937300511303707,
          0.6992571801570834,
          0.27562181548345377,
          0.44021509881888027,
          -1.9442264672488656,
          -1.369989009146285,
          -0.8122354577178308,
          1.9081177845994124,
          -0.26846509724183537,
          0.5125392141962625,
          0.43239837553775085,
          1.0097436496473493,
          0.25039336200695067,
          -0.7604523572732129,
          0.8914736977749184,
          -0.21525067218547833,
          0.5828332215766223,
          -0.7283162787867422,
          1.6920346940264834,
          1.6248413994097453,
          -0.2847748335915226,
          -0.5176913703080036,
          0.7418939567180273,
          1.1135475692923003,
          0.9188923597775859,
          2.3063456376825995,
          -1.6281491014697183,
          0.05050564268896923,
          1.649543240232205,
          1.3204806527197694,
          -0.6460699074991205,
          -2.5614296506896155,
          1.3361610618561828,
          0.4350189125972323,
          -0.37198414042857364,
          -0.03066118450093699,
          -0.6259564066025849,
          0.0779255760166714,
          1.338223093837399,
          -0.8398430223702961,
          -0.10083418068558023,
          0.5178637029677866,
          0.7994749757691799,
          -0.41030577553683223,
          -1.0649799581944792,
          0.31453204785310873,
          0.36918550654368415,
          1.939477114708438,
          0.3975126853418298,
          -0.036380617845962845,
          -0.7049669404699344,
          0.8254017815892944,
          -0.8330042258973517,
          -0.3722881175388645,
          -2.304464011732134,
          1.7234122354590147,
          -1.7260726764377887,
          -1.0661196803995696,
          0.9162617863119996,
          -1.365011494760737,
          0.5702598029292324,
          -1.8267900616514687,
          0.7578403650645467,
          0.8224981451202354,
          0.18645637110353322,
          0.09431976616585055,
          -0.029247149045171603
         ],
         "yaxis": "y13"
        },
        {
         "line": {
          "color": "rgba(128, 128, 128, 1.0)",
          "dash": "solid",
          "shape": "linear",
          "width": 1.3
         },
         "marker": {
          "size": 2,
          "symbol": "circle"
         },
         "mode": "markers",
         "name": "D",
         "text": "",
         "type": "scatter",
         "x": [
          -1.699160123201898,
          0.10195242313344324,
          -0.715193282859542,
          -0.05758164445290634,
          -0.7398838201640815,
          -0.9753799755866359,
          0.8183654763925532,
          0.1486272764042706,
          0.6221571419621349,
          -0.37471837838608657,
          1.9241212173882782,
          -1.9260174834904287,
          0.32772542746581956,
          -0.09062108554739637,
          -0.6222192316499369,
          0.4104827707197747,
          -1.4767599860217084,
          0.31680009657810904,
          0.5841423976591886,
          -1.3363186893647179,
          -1.481470205733003,
          1.2913557909132023,
          -0.15965674908185673,
          -0.10885642874825817,
          2.0613253401745855,
          0.038873891107819594,
          -1.5572032020558468,
          -0.5267363266605407,
          1.052086043605771,
          0.4837147591298685,
          -1.4485465294093376,
          -1.1363178025139544,
          0.2901075938884033,
          0.012764228316333356,
          0.02544130910202635,
          -0.15285526945192568,
          -0.8437747538133651,
          -1.1579133835179825,
          0.522936718836919,
          -1.4418531014659357,
          0.7713240245097688,
          1.1488990205107918,
          1.1101684578089406,
          -0.4050508092025551,
          -1.6736673382534208,
          -1.5296412988754375,
          -1.1170745972955312,
          0.13781739088902767,
          1.7624413863232378,
          0.015527063547979406,
          0.15625436224519249,
          -0.04377516577352025,
          0.32170087033653894,
          -1.7352479949718995,
          0.18631362955611921,
          -0.7761396929349504,
          0.4184915730119552,
          0.7679017692501251,
          0.3516066556924101,
          2.5166163139814217,
          -0.19150616919534597,
          -0.34422152499462955,
          -1.1932959160998728,
          -1.8523321507164985,
          -0.27312156355546313,
          -0.22788721727855377,
          0.512958656095611,
          0.23772762819035506,
          0.18044282339924814,
          1.1796934451453305,
          -0.5964857390108925,
          -0.27841196090719744,
          -0.8782503319309752,
          0.2736168298650118,
          -0.086012008879998,
          -0.2697772277356776,
          -0.8559941288110947,
          0.7505650594336027,
          0.5084568806815066,
          -0.20824438201256085,
          -0.16081498584325604,
          -1.1191291600558322,
          -1.9035185519084472,
          -1.8106091203457362,
          0.3006649895466276,
          1.3198926705225342,
          -1.5284218485847,
          -1.4851131995836924,
          0.7097055112534987,
          -0.03900819833655198,
          -1.1649509319624074,
          -0.7128547871284446,
          0.7432408339507162,
          0.22267418896844912,
          0.8093301395612484,
          1.1075428522852886,
          -0.8891409413426854,
          0.7674768130934316,
          0.17700574880002642,
          1.2579022924495926
         ],
         "xaxis": "x14",
         "y": [
          -0.9750369482571805,
          0.44564483517238895,
          -0.04690236468163629,
          -0.4670170692687393,
          -0.1771939426737461,
          0.28995461269436185,
          -0.6072185391411775,
          -2.0038471872764316,
          -0.3984200485520013,
          0.2530989836036288,
          -0.38738075645647285,
          -0.42470446108817556,
          -0.9334203848128355,
          -0.14675971813447655,
          0.7579723652270303,
          0.1367544916571995,
          -0.9377777223301385,
          -0.4778326723692581,
          -1.12664931780653,
          -0.9619967388777854,
          0.8843338255131576,
          1.8682683644749403,
          0.9755485156936052,
          0.6916841407329196,
          -0.0785267768598687,
          -0.9812008250308394,
          -0.8382223509172964,
          -0.7012489733232544,
          0.603546222544028,
          0.38802526719044583,
          -1.20731830156207,
          -0.030074108263952917,
          -0.15590598924350277,
          0.3937300511303707,
          0.6992571801570834,
          0.27562181548345377,
          0.44021509881888027,
          -1.9442264672488656,
          -1.369989009146285,
          -0.8122354577178308,
          1.9081177845994124,
          -0.26846509724183537,
          0.5125392141962625,
          0.43239837553775085,
          1.0097436496473493,
          0.25039336200695067,
          -0.7604523572732129,
          0.8914736977749184,
          -0.21525067218547833,
          0.5828332215766223,
          -0.7283162787867422,
          1.6920346940264834,
          1.6248413994097453,
          -0.2847748335915226,
          -0.5176913703080036,
          0.7418939567180273,
          1.1135475692923003,
          0.9188923597775859,
          2.3063456376825995,
          -1.6281491014697183,
          0.05050564268896923,
          1.649543240232205,
          1.3204806527197694,
          -0.6460699074991205,
          -2.5614296506896155,
          1.3361610618561828,
          0.4350189125972323,
          -0.37198414042857364,
          -0.03066118450093699,
          -0.6259564066025849,
          0.0779255760166714,
          1.338223093837399,
          -0.8398430223702961,
          -0.10083418068558023,
          0.5178637029677866,
          0.7994749757691799,
          -0.41030577553683223,
          -1.0649799581944792,
          0.31453204785310873,
          0.36918550654368415,
          1.939477114708438,
          0.3975126853418298,
          -0.036380617845962845,
          -0.7049669404699344,
          0.8254017815892944,
          -0.8330042258973517,
          -0.3722881175388645,
          -2.304464011732134,
          1.7234122354590147,
          -1.7260726764377887,
          -1.0661196803995696,
          0.9162617863119996,
          -1.365011494760737,
          0.5702598029292324,
          -1.8267900616514687,
          0.7578403650645467,
          0.8224981451202354,
          0.18645637110353322,
          0.09431976616585055,
          -0.029247149045171603
         ],
         "yaxis": "y14"
        },
        {
         "line": {
          "color": "rgba(128, 128, 128, 1.0)",
          "dash": "solid",
          "shape": "linear",
          "width": 1.3
         },
         "marker": {
          "size": 2,
          "symbol": "circle"
         },
         "mode": "markers",
         "name": "D",
         "text": "",
         "type": "scatter",
         "x": [
          1.9018381107211506,
          0.0661887770795712,
          -0.6907923912196057,
          -0.6787021107040709,
          1.6626242744283832,
          0.07911174543452498,
          0.8961493719877067,
          1.6626899962684787,
          -1.039388186859393,
          -1.0165813778214088,
          1.057748496385511,
          -0.09627782791253724,
          1.1699296868199236,
          -0.9403722978654238,
          0.6688891209913608,
          -1.6220758768730354,
          1.4335054635094144,
          -0.15364540567302598,
          -0.24383048606947888,
          -1.003086243171056,
          -1.2529035737657532,
          -0.8622997262061329,
          -0.0205042689814447,
          -0.577432743168765,
          -0.08404721858285126,
          0.17256271371717888,
          -0.6284522868119045,
          0.9053893732895225,
          -0.615368509084066,
          -0.05029608378329362,
          -0.7420781697708273,
          0.02465312848982948,
          -0.11916547751946559,
          -0.2403704203979564,
          1.0422556178264082,
          1.1026273410487104,
          2.14122780521598,
          1.0733128555117888,
          0.27444527249127393,
          0.6563412585849486,
          1.4738489743011085,
          0.8162248511853,
          -0.023639827496879096,
          -1.1524174323765721,
          1.1544843796254285,
          0.6349007148210998,
          -0.42040009512628596,
          0.5332124958532438,
          0.18731084191011768,
          1.7839781287907115,
          -0.8183887113044076,
          -2.125113575006204,
          -0.6623622152349681,
          0.2544601036989139,
          -0.266956137447952,
          -2.276830867929495,
          -1.3730753639964646,
          0.5305412588548238,
          -0.15929777998470598,
          -0.020193204841813105,
          0.7880632917690479,
          -1.03187439972173,
          0.5883059443015611,
          -1.274642879856355,
          -0.1655179971723056,
          0.5300027728492482,
          1.0120393877081773,
          -1.010594656701156,
          1.1840045052728227,
          -0.04320422282512258,
          -0.47343469541255145,
          -0.042216166470314745,
          -0.19751047941944336,
          1.932345240592702,
          0.04890264369823737,
          -1.6825419558962336,
          0.49681338245477213,
          -0.07113030466801781,
          -0.7908288082449095,
          -0.9634210464298072,
          0.9508462986024796,
          -1.6858167419150096,
          -0.883716779881633,
          -1.725182281318085,
          -1.2413407406529693,
          -0.2666167097502255,
          -0.5064374397054949,
          -0.359824866439955,
          -0.7634820300070232,
          0.0779983988924154,
          0.4877975848545077,
          1.4932085199422698,
          -1.780522505067473,
          0.9790035075865777,
          -1.1721292047493173,
          -0.8155284297572379,
          0.6871800721974252,
          0.38965151537552983,
          2.1409590283144837,
          -0.656023588618697
         ],
         "xaxis": "x15",
         "y": [
          -0.9750369482571805,
          0.44564483517238895,
          -0.04690236468163629,
          -0.4670170692687393,
          -0.1771939426737461,
          0.28995461269436185,
          -0.6072185391411775,
          -2.0038471872764316,
          -0.3984200485520013,
          0.2530989836036288,
          -0.38738075645647285,
          -0.42470446108817556,
          -0.9334203848128355,
          -0.14675971813447655,
          0.7579723652270303,
          0.1367544916571995,
          -0.9377777223301385,
          -0.4778326723692581,
          -1.12664931780653,
          -0.9619967388777854,
          0.8843338255131576,
          1.8682683644749403,
          0.9755485156936052,
          0.6916841407329196,
          -0.0785267768598687,
          -0.9812008250308394,
          -0.8382223509172964,
          -0.7012489733232544,
          0.603546222544028,
          0.38802526719044583,
          -1.20731830156207,
          -0.030074108263952917,
          -0.15590598924350277,
          0.3937300511303707,
          0.6992571801570834,
          0.27562181548345377,
          0.44021509881888027,
          -1.9442264672488656,
          -1.369989009146285,
          -0.8122354577178308,
          1.9081177845994124,
          -0.26846509724183537,
          0.5125392141962625,
          0.43239837553775085,
          1.0097436496473493,
          0.25039336200695067,
          -0.7604523572732129,
          0.8914736977749184,
          -0.21525067218547833,
          0.5828332215766223,
          -0.7283162787867422,
          1.6920346940264834,
          1.6248413994097453,
          -0.2847748335915226,
          -0.5176913703080036,
          0.7418939567180273,
          1.1135475692923003,
          0.9188923597775859,
          2.3063456376825995,
          -1.6281491014697183,
          0.05050564268896923,
          1.649543240232205,
          1.3204806527197694,
          -0.6460699074991205,
          -2.5614296506896155,
          1.3361610618561828,
          0.4350189125972323,
          -0.37198414042857364,
          -0.03066118450093699,
          -0.6259564066025849,
          0.0779255760166714,
          1.338223093837399,
          -0.8398430223702961,
          -0.10083418068558023,
          0.5178637029677866,
          0.7994749757691799,
          -0.41030577553683223,
          -1.0649799581944792,
          0.31453204785310873,
          0.36918550654368415,
          1.939477114708438,
          0.3975126853418298,
          -0.036380617845962845,
          -0.7049669404699344,
          0.8254017815892944,
          -0.8330042258973517,
          -0.3722881175388645,
          -2.304464011732134,
          1.7234122354590147,
          -1.7260726764377887,
          -1.0661196803995696,
          0.9162617863119996,
          -1.365011494760737,
          0.5702598029292324,
          -1.8267900616514687,
          0.7578403650645467,
          0.8224981451202354,
          0.18645637110353322,
          0.09431976616585055,
          -0.029247149045171603
         ],
         "yaxis": "y15"
        },
        {
         "histfunc": "count",
         "histnorm": "",
         "marker": {
          "color": "rgba(128, 0, 128, 1.0)",
          "line": {
           "color": "#4D5663",
           "width": 1.3
          }
         },
         "name": "D",
         "nbinsx": 10,
         "opacity": 0.8,
         "orientation": "v",
         "type": "histogram",
         "x": [
          -0.9750369482571805,
          0.44564483517238895,
          -0.04690236468163629,
          -0.4670170692687393,
          -0.1771939426737461,
          0.28995461269436185,
          -0.6072185391411775,
          -2.0038471872764316,
          -0.3984200485520013,
          0.2530989836036288,
          -0.38738075645647285,
          -0.42470446108817556,
          -0.9334203848128355,
          -0.14675971813447655,
          0.7579723652270303,
          0.1367544916571995,
          -0.9377777223301385,
          -0.4778326723692581,
          -1.12664931780653,
          -0.9619967388777854,
          0.8843338255131576,
          1.8682683644749403,
          0.9755485156936052,
          0.6916841407329196,
          -0.0785267768598687,
          -0.9812008250308394,
          -0.8382223509172964,
          -0.7012489733232544,
          0.603546222544028,
          0.38802526719044583,
          -1.20731830156207,
          -0.030074108263952917,
          -0.15590598924350277,
          0.3937300511303707,
          0.6992571801570834,
          0.27562181548345377,
          0.44021509881888027,
          -1.9442264672488656,
          -1.369989009146285,
          -0.8122354577178308,
          1.9081177845994124,
          -0.26846509724183537,
          0.5125392141962625,
          0.43239837553775085,
          1.0097436496473493,
          0.25039336200695067,
          -0.7604523572732129,
          0.8914736977749184,
          -0.21525067218547833,
          0.5828332215766223,
          -0.7283162787867422,
          1.6920346940264834,
          1.6248413994097453,
          -0.2847748335915226,
          -0.5176913703080036,
          0.7418939567180273,
          1.1135475692923003,
          0.9188923597775859,
          2.3063456376825995,
          -1.6281491014697183,
          0.05050564268896923,
          1.649543240232205,
          1.3204806527197694,
          -0.6460699074991205,
          -2.5614296506896155,
          1.3361610618561828,
          0.4350189125972323,
          -0.37198414042857364,
          -0.03066118450093699,
          -0.6259564066025849,
          0.0779255760166714,
          1.338223093837399,
          -0.8398430223702961,
          -0.10083418068558023,
          0.5178637029677866,
          0.7994749757691799,
          -0.41030577553683223,
          -1.0649799581944792,
          0.31453204785310873,
          0.36918550654368415,
          1.939477114708438,
          0.3975126853418298,
          -0.036380617845962845,
          -0.7049669404699344,
          0.8254017815892944,
          -0.8330042258973517,
          -0.3722881175388645,
          -2.304464011732134,
          1.7234122354590147,
          -1.7260726764377887,
          -1.0661196803995696,
          0.9162617863119996,
          -1.365011494760737,
          0.5702598029292324,
          -1.8267900616514687,
          0.7578403650645467,
          0.8224981451202354,
          0.18645637110353322,
          0.09431976616585055,
          -0.029247149045171603
         ],
         "xaxis": "x16",
         "yaxis": "y16"
        }
       ],
       "layout": {
        "bargap": 0.02,
        "legend": {
         "bgcolor": "#F5F6F9",
         "font": {
          "color": "#4D5663"
         }
        },
        "paper_bgcolor": "#F5F6F9",
        "plot_bgcolor": "#F5F6F9",
        "showlegend": false,
        "template": {
         "data": {
          "bar": [
           {
            "error_x": {
             "color": "#2a3f5f"
            },
            "error_y": {
             "color": "#2a3f5f"
            },
            "marker": {
             "line": {
              "color": "#E5ECF6",
              "width": 0.5
             }
            },
            "type": "bar"
           }
          ],
          "barpolar": [
           {
            "marker": {
             "line": {
              "color": "#E5ECF6",
              "width": 0.5
             }
            },
            "type": "barpolar"
           }
          ],
          "carpet": [
           {
            "aaxis": {
             "endlinecolor": "#2a3f5f",
             "gridcolor": "white",
             "linecolor": "white",
             "minorgridcolor": "white",
             "startlinecolor": "#2a3f5f"
            },
            "baxis": {
             "endlinecolor": "#2a3f5f",
             "gridcolor": "white",
             "linecolor": "white",
             "minorgridcolor": "white",
             "startlinecolor": "#2a3f5f"
            },
            "type": "carpet"
           }
          ],
          "choropleth": [
           {
            "colorbar": {
             "outlinewidth": 0,
             "ticks": ""
            },
            "type": "choropleth"
           }
          ],
          "contour": [
           {
            "colorbar": {
             "outlinewidth": 0,
             "ticks": ""
            },
            "colorscale": [
             [
              0,
              "#0d0887"
             ],
             [
              0.1111111111111111,
              "#46039f"
             ],
             [
              0.2222222222222222,
              "#7201a8"
             ],
             [
              0.3333333333333333,
              "#9c179e"
             ],
             [
              0.4444444444444444,
              "#bd3786"
             ],
             [
              0.5555555555555556,
              "#d8576b"
             ],
             [
              0.6666666666666666,
              "#ed7953"
             ],
             [
              0.7777777777777778,
              "#fb9f3a"
             ],
             [
              0.8888888888888888,
              "#fdca26"
             ],
             [
              1,
              "#f0f921"
             ]
            ],
            "type": "contour"
           }
          ],
          "contourcarpet": [
           {
            "colorbar": {
             "outlinewidth": 0,
             "ticks": ""
            },
            "type": "contourcarpet"
           }
          ],
          "heatmap": [
           {
            "colorbar": {
             "outlinewidth": 0,
             "ticks": ""
            },
            "colorscale": [
             [
              0,
              "#0d0887"
             ],
             [
              0.1111111111111111,
              "#46039f"
             ],
             [
              0.2222222222222222,
              "#7201a8"
             ],
             [
              0.3333333333333333,
              "#9c179e"
             ],
             [
              0.4444444444444444,
              "#bd3786"
             ],
             [
              0.5555555555555556,
              "#d8576b"
             ],
             [
              0.6666666666666666,
              "#ed7953"
             ],
             [
              0.7777777777777778,
              "#fb9f3a"
             ],
             [
              0.8888888888888888,
              "#fdca26"
             ],
             [
              1,
              "#f0f921"
             ]
            ],
            "type": "heatmap"
           }
          ],
          "heatmapgl": [
           {
            "colorbar": {
             "outlinewidth": 0,
             "ticks": ""
            },
            "colorscale": [
             [
              0,
              "#0d0887"
             ],
             [
              0.1111111111111111,
              "#46039f"
             ],
             [
              0.2222222222222222,
              "#7201a8"
             ],
             [
              0.3333333333333333,
              "#9c179e"
             ],
             [
              0.4444444444444444,
              "#bd3786"
             ],
             [
              0.5555555555555556,
              "#d8576b"
             ],
             [
              0.6666666666666666,
              "#ed7953"
             ],
             [
              0.7777777777777778,
              "#fb9f3a"
             ],
             [
              0.8888888888888888,
              "#fdca26"
             ],
             [
              1,
              "#f0f921"
             ]
            ],
            "type": "heatmapgl"
           }
          ],
          "histogram": [
           {
            "marker": {
             "colorbar": {
              "outlinewidth": 0,
              "ticks": ""
             }
            },
            "type": "histogram"
           }
          ],
          "histogram2d": [
           {
            "colorbar": {
             "outlinewidth": 0,
             "ticks": ""
            },
            "colorscale": [
             [
              0,
              "#0d0887"
             ],
             [
              0.1111111111111111,
              "#46039f"
             ],
             [
              0.2222222222222222,
              "#7201a8"
             ],
             [
              0.3333333333333333,
              "#9c179e"
             ],
             [
              0.4444444444444444,
              "#bd3786"
             ],
             [
              0.5555555555555556,
              "#d8576b"
             ],
             [
              0.6666666666666666,
              "#ed7953"
             ],
             [
              0.7777777777777778,
              "#fb9f3a"
             ],
             [
              0.8888888888888888,
              "#fdca26"
             ],
             [
              1,
              "#f0f921"
             ]
            ],
            "type": "histogram2d"
           }
          ],
          "histogram2dcontour": [
           {
            "colorbar": {
             "outlinewidth": 0,
             "ticks": ""
            },
            "colorscale": [
             [
              0,
              "#0d0887"
             ],
             [
              0.1111111111111111,
              "#46039f"
             ],
             [
              0.2222222222222222,
              "#7201a8"
             ],
             [
              0.3333333333333333,
              "#9c179e"
             ],
             [
              0.4444444444444444,
              "#bd3786"
             ],
             [
              0.5555555555555556,
              "#d8576b"
             ],
             [
              0.6666666666666666,
              "#ed7953"
             ],
             [
              0.7777777777777778,
              "#fb9f3a"
             ],
             [
              0.8888888888888888,
              "#fdca26"
             ],
             [
              1,
              "#f0f921"
             ]
            ],
            "type": "histogram2dcontour"
           }
          ],
          "mesh3d": [
           {
            "colorbar": {
             "outlinewidth": 0,
             "ticks": ""
            },
            "type": "mesh3d"
           }
          ],
          "parcoords": [
           {
            "line": {
             "colorbar": {
              "outlinewidth": 0,
              "ticks": ""
             }
            },
            "type": "parcoords"
           }
          ],
          "pie": [
           {
            "automargin": true,
            "type": "pie"
           }
          ],
          "scatter": [
           {
            "marker": {
             "colorbar": {
              "outlinewidth": 0,
              "ticks": ""
             }
            },
            "type": "scatter"
           }
          ],
          "scatter3d": [
           {
            "line": {
             "colorbar": {
              "outlinewidth": 0,
              "ticks": ""
             }
            },
            "marker": {
             "colorbar": {
              "outlinewidth": 0,
              "ticks": ""
             }
            },
            "type": "scatter3d"
           }
          ],
          "scattercarpet": [
           {
            "marker": {
             "colorbar": {
              "outlinewidth": 0,
              "ticks": ""
             }
            },
            "type": "scattercarpet"
           }
          ],
          "scattergeo": [
           {
            "marker": {
             "colorbar": {
              "outlinewidth": 0,
              "ticks": ""
             }
            },
            "type": "scattergeo"
           }
          ],
          "scattergl": [
           {
            "marker": {
             "colorbar": {
              "outlinewidth": 0,
              "ticks": ""
             }
            },
            "type": "scattergl"
           }
          ],
          "scattermapbox": [
           {
            "marker": {
             "colorbar": {
              "outlinewidth": 0,
              "ticks": ""
             }
            },
            "type": "scattermapbox"
           }
          ],
          "scatterpolar": [
           {
            "marker": {
             "colorbar": {
              "outlinewidth": 0,
              "ticks": ""
             }
            },
            "type": "scatterpolar"
           }
          ],
          "scatterpolargl": [
           {
            "marker": {
             "colorbar": {
              "outlinewidth": 0,
              "ticks": ""
             }
            },
            "type": "scatterpolargl"
           }
          ],
          "scatterternary": [
           {
            "marker": {
             "colorbar": {
              "outlinewidth": 0,
              "ticks": ""
             }
            },
            "type": "scatterternary"
           }
          ],
          "surface": [
           {
            "colorbar": {
             "outlinewidth": 0,
             "ticks": ""
            },
            "colorscale": [
             [
              0,
              "#0d0887"
             ],
             [
              0.1111111111111111,
              "#46039f"
             ],
             [
              0.2222222222222222,
              "#7201a8"
             ],
             [
              0.3333333333333333,
              "#9c179e"
             ],
             [
              0.4444444444444444,
              "#bd3786"
             ],
             [
              0.5555555555555556,
              "#d8576b"
             ],
             [
              0.6666666666666666,
              "#ed7953"
             ],
             [
              0.7777777777777778,
              "#fb9f3a"
             ],
             [
              0.8888888888888888,
              "#fdca26"
             ],
             [
              1,
              "#f0f921"
             ]
            ],
            "type": "surface"
           }
          ],
          "table": [
           {
            "cells": {
             "fill": {
              "color": "#EBF0F8"
             },
             "line": {
              "color": "white"
             }
            },
            "header": {
             "fill": {
              "color": "#C8D4E3"
             },
             "line": {
              "color": "white"
             }
            },
            "type": "table"
           }
          ]
         },
         "layout": {
          "annotationdefaults": {
           "arrowcolor": "#2a3f5f",
           "arrowhead": 0,
           "arrowwidth": 1
          },
          "coloraxis": {
           "colorbar": {
            "outlinewidth": 0,
            "ticks": ""
           }
          },
          "colorscale": {
           "diverging": [
            [
             0,
             "#8e0152"
            ],
            [
             0.1,
             "#c51b7d"
            ],
            [
             0.2,
             "#de77ae"
            ],
            [
             0.3,
             "#f1b6da"
            ],
            [
             0.4,
             "#fde0ef"
            ],
            [
             0.5,
             "#f7f7f7"
            ],
            [
             0.6,
             "#e6f5d0"
            ],
            [
             0.7,
             "#b8e186"
            ],
            [
             0.8,
             "#7fbc41"
            ],
            [
             0.9,
             "#4d9221"
            ],
            [
             1,
             "#276419"
            ]
           ],
           "sequential": [
            [
             0,
             "#0d0887"
            ],
            [
             0.1111111111111111,
             "#46039f"
            ],
            [
             0.2222222222222222,
             "#7201a8"
            ],
            [
             0.3333333333333333,
             "#9c179e"
            ],
            [
             0.4444444444444444,
             "#bd3786"
            ],
            [
             0.5555555555555556,
             "#d8576b"
            ],
            [
             0.6666666666666666,
             "#ed7953"
            ],
            [
             0.7777777777777778,
             "#fb9f3a"
            ],
            [
             0.8888888888888888,
             "#fdca26"
            ],
            [
             1,
             "#f0f921"
            ]
           ],
           "sequentialminus": [
            [
             0,
             "#0d0887"
            ],
            [
             0.1111111111111111,
             "#46039f"
            ],
            [
             0.2222222222222222,
             "#7201a8"
            ],
            [
             0.3333333333333333,
             "#9c179e"
            ],
            [
             0.4444444444444444,
             "#bd3786"
            ],
            [
             0.5555555555555556,
             "#d8576b"
            ],
            [
             0.6666666666666666,
             "#ed7953"
            ],
            [
             0.7777777777777778,
             "#fb9f3a"
            ],
            [
             0.8888888888888888,
             "#fdca26"
            ],
            [
             1,
             "#f0f921"
            ]
           ]
          },
          "colorway": [
           "#636efa",
           "#EF553B",
           "#00cc96",
           "#ab63fa",
           "#FFA15A",
           "#19d3f3",
           "#FF6692",
           "#B6E880",
           "#FF97FF",
           "#FECB52"
          ],
          "font": {
           "color": "#2a3f5f"
          },
          "geo": {
           "bgcolor": "white",
           "lakecolor": "white",
           "landcolor": "#E5ECF6",
           "showlakes": true,
           "showland": true,
           "subunitcolor": "white"
          },
          "hoverlabel": {
           "align": "left"
          },
          "hovermode": "closest",
          "mapbox": {
           "style": "light"
          },
          "paper_bgcolor": "white",
          "plot_bgcolor": "#E5ECF6",
          "polar": {
           "angularaxis": {
            "gridcolor": "white",
            "linecolor": "white",
            "ticks": ""
           },
           "bgcolor": "#E5ECF6",
           "radialaxis": {
            "gridcolor": "white",
            "linecolor": "white",
            "ticks": ""
           }
          },
          "scene": {
           "xaxis": {
            "backgroundcolor": "#E5ECF6",
            "gridcolor": "white",
            "gridwidth": 2,
            "linecolor": "white",
            "showbackground": true,
            "ticks": "",
            "zerolinecolor": "white"
           },
           "yaxis": {
            "backgroundcolor": "#E5ECF6",
            "gridcolor": "white",
            "gridwidth": 2,
            "linecolor": "white",
            "showbackground": true,
            "ticks": "",
            "zerolinecolor": "white"
           },
           "zaxis": {
            "backgroundcolor": "#E5ECF6",
            "gridcolor": "white",
            "gridwidth": 2,
            "linecolor": "white",
            "showbackground": true,
            "ticks": "",
            "zerolinecolor": "white"
           }
          },
          "shapedefaults": {
           "line": {
            "color": "#2a3f5f"
           }
          },
          "ternary": {
           "aaxis": {
            "gridcolor": "white",
            "linecolor": "white",
            "ticks": ""
           },
           "baxis": {
            "gridcolor": "white",
            "linecolor": "white",
            "ticks": ""
           },
           "bgcolor": "#E5ECF6",
           "caxis": {
            "gridcolor": "white",
            "linecolor": "white",
            "ticks": ""
           }
          },
          "title": {
           "x": 0.05
          },
          "xaxis": {
           "automargin": true,
           "gridcolor": "white",
           "linecolor": "white",
           "ticks": "",
           "title": {
            "standoff": 15
           },
           "zerolinecolor": "white",
           "zerolinewidth": 2
          },
          "yaxis": {
           "automargin": true,
           "gridcolor": "white",
           "linecolor": "white",
           "ticks": "",
           "title": {
            "standoff": 15
           },
           "zerolinecolor": "white",
           "zerolinewidth": 2
          }
         }
        },
        "title": {
         "font": {
          "color": "#4D5663"
         }
        },
        "xaxis": {
         "anchor": "y",
         "domain": [
          0,
          0.2125
         ],
         "gridcolor": "#E1E5ED",
         "showgrid": false,
         "tickfont": {
          "color": "#4D5663"
         },
         "title": {
          "font": {
           "color": "#4D5663"
          },
          "text": ""
         },
         "zerolinecolor": "#E1E5ED"
        },
        "xaxis10": {
         "anchor": "y10",
         "domain": [
          0.2625,
          0.475
         ],
         "gridcolor": "#E1E5ED",
         "showgrid": false,
         "tickfont": {
          "color": "#4D5663"
         },
         "title": {
          "font": {
           "color": "#4D5663"
          },
          "text": ""
         },
         "zerolinecolor": "#E1E5ED"
        },
        "xaxis11": {
         "anchor": "y11",
         "domain": [
          0.525,
          0.7375
         ],
         "gridcolor": "#E1E5ED",
         "showgrid": false,
         "tickfont": {
          "color": "#4D5663"
         },
         "title": {
          "font": {
           "color": "#4D5663"
          },
          "text": ""
         },
         "zerolinecolor": "#E1E5ED"
        },
        "xaxis12": {
         "anchor": "y12",
         "domain": [
          0.7875,
          1
         ],
         "gridcolor": "#E1E5ED",
         "showgrid": false,
         "tickfont": {
          "color": "#4D5663"
         },
         "title": {
          "font": {
           "color": "#4D5663"
          },
          "text": ""
         },
         "zerolinecolor": "#E1E5ED"
        },
        "xaxis13": {
         "anchor": "y13",
         "domain": [
          0,
          0.2125
         ],
         "gridcolor": "#E1E5ED",
         "showgrid": false,
         "tickfont": {
          "color": "#4D5663"
         },
         "title": {
          "font": {
           "color": "#4D5663"
          },
          "text": ""
         },
         "zerolinecolor": "#E1E5ED"
        },
        "xaxis14": {
         "anchor": "y14",
         "domain": [
          0.2625,
          0.475
         ],
         "gridcolor": "#E1E5ED",
         "showgrid": false,
         "tickfont": {
          "color": "#4D5663"
         },
         "title": {
          "font": {
           "color": "#4D5663"
          },
          "text": ""
         },
         "zerolinecolor": "#E1E5ED"
        },
        "xaxis15": {
         "anchor": "y15",
         "domain": [
          0.525,
          0.7375
         ],
         "gridcolor": "#E1E5ED",
         "showgrid": false,
         "tickfont": {
          "color": "#4D5663"
         },
         "title": {
          "font": {
           "color": "#4D5663"
          },
          "text": ""
         },
         "zerolinecolor": "#E1E5ED"
        },
        "xaxis16": {
         "anchor": "y16",
         "domain": [
          0.7875,
          1
         ],
         "gridcolor": "#E1E5ED",
         "showgrid": false,
         "tickfont": {
          "color": "#4D5663"
         },
         "title": {
          "font": {
           "color": "#4D5663"
          },
          "text": ""
         },
         "zerolinecolor": "#E1E5ED"
        },
        "xaxis2": {
         "anchor": "y2",
         "domain": [
          0.2625,
          0.475
         ],
         "gridcolor": "#E1E5ED",
         "showgrid": false,
         "tickfont": {
          "color": "#4D5663"
         },
         "title": {
          "font": {
           "color": "#4D5663"
          },
          "text": ""
         },
         "zerolinecolor": "#E1E5ED"
        },
        "xaxis3": {
         "anchor": "y3",
         "domain": [
          0.525,
          0.7375
         ],
         "gridcolor": "#E1E5ED",
         "showgrid": false,
         "tickfont": {
          "color": "#4D5663"
         },
         "title": {
          "font": {
           "color": "#4D5663"
          },
          "text": ""
         },
         "zerolinecolor": "#E1E5ED"
        },
        "xaxis4": {
         "anchor": "y4",
         "domain": [
          0.7875,
          1
         ],
         "gridcolor": "#E1E5ED",
         "showgrid": false,
         "tickfont": {
          "color": "#4D5663"
         },
         "title": {
          "font": {
           "color": "#4D5663"
          },
          "text": ""
         },
         "zerolinecolor": "#E1E5ED"
        },
        "xaxis5": {
         "anchor": "y5",
         "domain": [
          0,
          0.2125
         ],
         "gridcolor": "#E1E5ED",
         "showgrid": false,
         "tickfont": {
          "color": "#4D5663"
         },
         "title": {
          "font": {
           "color": "#4D5663"
          },
          "text": ""
         },
         "zerolinecolor": "#E1E5ED"
        },
        "xaxis6": {
         "anchor": "y6",
         "domain": [
          0.2625,
          0.475
         ],
         "gridcolor": "#E1E5ED",
         "showgrid": false,
         "tickfont": {
          "color": "#4D5663"
         },
         "title": {
          "font": {
           "color": "#4D5663"
          },
          "text": ""
         },
         "zerolinecolor": "#E1E5ED"
        },
        "xaxis7": {
         "anchor": "y7",
         "domain": [
          0.525,
          0.7375
         ],
         "gridcolor": "#E1E5ED",
         "showgrid": false,
         "tickfont": {
          "color": "#4D5663"
         },
         "title": {
          "font": {
           "color": "#4D5663"
          },
          "text": ""
         },
         "zerolinecolor": "#E1E5ED"
        },
        "xaxis8": {
         "anchor": "y8",
         "domain": [
          0.7875,
          1
         ],
         "gridcolor": "#E1E5ED",
         "showgrid": false,
         "tickfont": {
          "color": "#4D5663"
         },
         "title": {
          "font": {
           "color": "#4D5663"
          },
          "text": ""
         },
         "zerolinecolor": "#E1E5ED"
        },
        "xaxis9": {
         "anchor": "y9",
         "domain": [
          0,
          0.2125
         ],
         "gridcolor": "#E1E5ED",
         "showgrid": false,
         "tickfont": {
          "color": "#4D5663"
         },
         "title": {
          "font": {
           "color": "#4D5663"
          },
          "text": ""
         },
         "zerolinecolor": "#E1E5ED"
        },
        "yaxis": {
         "anchor": "x",
         "domain": [
          0.8025,
          1
         ],
         "gridcolor": "#E1E5ED",
         "showgrid": false,
         "tickfont": {
          "color": "#4D5663"
         },
         "title": {
          "font": {
           "color": "#4D5663"
          },
          "text": ""
         },
         "zerolinecolor": "#E1E5ED"
        },
        "yaxis10": {
         "anchor": "x10",
         "domain": [
          0.2675,
          0.465
         ],
         "gridcolor": "#E1E5ED",
         "showgrid": false,
         "tickfont": {
          "color": "#4D5663"
         },
         "title": {
          "font": {
           "color": "#4D5663"
          },
          "text": ""
         },
         "zerolinecolor": "#E1E5ED"
        },
        "yaxis11": {
         "anchor": "x11",
         "domain": [
          0.2675,
          0.465
         ],
         "gridcolor": "#E1E5ED",
         "showgrid": false,
         "tickfont": {
          "color": "#4D5663"
         },
         "title": {
          "font": {
           "color": "#4D5663"
          },
          "text": ""
         },
         "zerolinecolor": "#E1E5ED"
        },
        "yaxis12": {
         "anchor": "x12",
         "domain": [
          0.2675,
          0.465
         ],
         "gridcolor": "#E1E5ED",
         "showgrid": false,
         "tickfont": {
          "color": "#4D5663"
         },
         "title": {
          "font": {
           "color": "#4D5663"
          },
          "text": ""
         },
         "zerolinecolor": "#E1E5ED"
        },
        "yaxis13": {
         "anchor": "x13",
         "domain": [
          0,
          0.1975
         ],
         "gridcolor": "#E1E5ED",
         "showgrid": false,
         "tickfont": {
          "color": "#4D5663"
         },
         "title": {
          "font": {
           "color": "#4D5663"
          },
          "text": ""
         },
         "zerolinecolor": "#E1E5ED"
        },
        "yaxis14": {
         "anchor": "x14",
         "domain": [
          0,
          0.1975
         ],
         "gridcolor": "#E1E5ED",
         "showgrid": false,
         "tickfont": {
          "color": "#4D5663"
         },
         "title": {
          "font": {
           "color": "#4D5663"
          },
          "text": ""
         },
         "zerolinecolor": "#E1E5ED"
        },
        "yaxis15": {
         "anchor": "x15",
         "domain": [
          0,
          0.1975
         ],
         "gridcolor": "#E1E5ED",
         "showgrid": false,
         "tickfont": {
          "color": "#4D5663"
         },
         "title": {
          "font": {
           "color": "#4D5663"
          },
          "text": ""
         },
         "zerolinecolor": "#E1E5ED"
        },
        "yaxis16": {
         "anchor": "x16",
         "domain": [
          0,
          0.1975
         ],
         "gridcolor": "#E1E5ED",
         "showgrid": false,
         "tickfont": {
          "color": "#4D5663"
         },
         "title": {
          "font": {
           "color": "#4D5663"
          },
          "text": ""
         },
         "zerolinecolor": "#E1E5ED"
        },
        "yaxis2": {
         "anchor": "x2",
         "domain": [
          0.8025,
          1
         ],
         "gridcolor": "#E1E5ED",
         "showgrid": false,
         "tickfont": {
          "color": "#4D5663"
         },
         "title": {
          "font": {
           "color": "#4D5663"
          },
          "text": ""
         },
         "zerolinecolor": "#E1E5ED"
        },
        "yaxis3": {
         "anchor": "x3",
         "domain": [
          0.8025,
          1
         ],
         "gridcolor": "#E1E5ED",
         "showgrid": false,
         "tickfont": {
          "color": "#4D5663"
         },
         "title": {
          "font": {
           "color": "#4D5663"
          },
          "text": ""
         },
         "zerolinecolor": "#E1E5ED"
        },
        "yaxis4": {
         "anchor": "x4",
         "domain": [
          0.8025,
          1
         ],
         "gridcolor": "#E1E5ED",
         "showgrid": false,
         "tickfont": {
          "color": "#4D5663"
         },
         "title": {
          "font": {
           "color": "#4D5663"
          },
          "text": ""
         },
         "zerolinecolor": "#E1E5ED"
        },
        "yaxis5": {
         "anchor": "x5",
         "domain": [
          0.535,
          0.7325
         ],
         "gridcolor": "#E1E5ED",
         "showgrid": false,
         "tickfont": {
          "color": "#4D5663"
         },
         "title": {
          "font": {
           "color": "#4D5663"
          },
          "text": ""
         },
         "zerolinecolor": "#E1E5ED"
        },
        "yaxis6": {
         "anchor": "x6",
         "domain": [
          0.535,
          0.7325
         ],
         "gridcolor": "#E1E5ED",
         "showgrid": false,
         "tickfont": {
          "color": "#4D5663"
         },
         "title": {
          "font": {
           "color": "#4D5663"
          },
          "text": ""
         },
         "zerolinecolor": "#E1E5ED"
        },
        "yaxis7": {
         "anchor": "x7",
         "domain": [
          0.535,
          0.7325
         ],
         "gridcolor": "#E1E5ED",
         "showgrid": false,
         "tickfont": {
          "color": "#4D5663"
         },
         "title": {
          "font": {
           "color": "#4D5663"
          },
          "text": ""
         },
         "zerolinecolor": "#E1E5ED"
        },
        "yaxis8": {
         "anchor": "x8",
         "domain": [
          0.535,
          0.7325
         ],
         "gridcolor": "#E1E5ED",
         "showgrid": false,
         "tickfont": {
          "color": "#4D5663"
         },
         "title": {
          "font": {
           "color": "#4D5663"
          },
          "text": ""
         },
         "zerolinecolor": "#E1E5ED"
        },
        "yaxis9": {
         "anchor": "x9",
         "domain": [
          0.2675,
          0.465
         ],
         "gridcolor": "#E1E5ED",
         "showgrid": false,
         "tickfont": {
          "color": "#4D5663"
         },
         "title": {
          "font": {
           "color": "#4D5663"
          },
          "text": ""
         },
         "zerolinecolor": "#E1E5ED"
        }
       }
      },
      "text/html": [
       "<div>\n",
       "        \n",
       "        \n",
       "            <div id=\"c2f0e93d-0dcb-4323-8c18-b5bf8b76157f\" class=\"plotly-graph-div\" style=\"height:525px; width:100%;\"></div>\n",
       "            <script type=\"text/javascript\">\n",
       "                require([\"plotly\"], function(Plotly) {\n",
       "                    window.PLOTLYENV=window.PLOTLYENV || {};\n",
       "                    window.PLOTLYENV.BASE_URL='https://plot.ly';\n",
       "                    \n",
       "                if (document.getElementById(\"c2f0e93d-0dcb-4323-8c18-b5bf8b76157f\")) {\n",
       "                    Plotly.newPlot(\n",
       "                        'c2f0e93d-0dcb-4323-8c18-b5bf8b76157f',\n",
       "                        [{\"histfunc\": \"count\", \"histnorm\": \"\", \"marker\": {\"color\": \"rgba(255, 153, 51, 1.0)\", \"line\": {\"color\": \"#4D5663\", \"width\": 1.3}}, \"name\": \"A\", \"nbinsx\": 10, \"opacity\": 0.8, \"orientation\": \"v\", \"type\": \"histogram\", \"x\": [0.6365076909941588, -0.4737602015567025, -0.4931937653649986, -1.002162685929863, -1.390694581240618, 0.2624767228460955, 0.06342727286886606, 0.34217472462690585, 2.961132768508034, -0.8620975059326305, 0.4553717205546613, 1.267344265809088, 0.5574464676557171, 1.7650668089058499, -0.6602427071795416, 0.2578219133046646, -0.17263289964841197, -0.11238959064405796, 0.8695860480867245, 0.40840660774229726, -1.0684251725049163, -0.9785793326058884, 0.5931279441105388, -0.5737552603070895, 0.9117283650804772, 0.6474425728966579, -0.5038442677636253, -1.1008455274698403, 0.6251097854408026, 0.9860855829234931, -0.3519782030631685, 0.2043298737212113, -0.6511487116247198, -0.47613929479990535, -1.1726127112294482, 1.5612251685295533, 0.4022976345568017, 1.1566765718193304, 0.031117966223119534, -0.865882402029834, -0.5233903441757728, -1.0054595647259312, -0.11632633713897635, -0.5384467568825115, 0.4677278114296954, 0.5387522859610423, 0.5311214184901931, 0.8542591407697975, -0.9803545984510883, 1.3106925029212348, -0.19232021685687745, -0.14569136160329985, -0.7146824851366995, -0.4786817591587508, 0.7235332743737379, -0.41712017043221844, -1.6019352807092222, -0.9343856342604369, 0.7247039771128864, 0.7123562356757894, 0.7120993540271149, -0.5936962306733344, -1.0826130603973108, 0.5248478277685283, -0.26026561529029024, 1.9453734300618395, 1.5188109407529324, 0.14475730152800026, -1.6548732265850479, 0.6418646400314986, -0.7004102844625567, 0.7719183108008424, 2.108988390018506, 0.12790582165533965, -0.2526413569711868, -1.6127100179913447, -0.5658126567820971, -0.5211460165079267, -0.013759130888993939, -0.950487694184885, 1.4552606561594668, 0.5982889285689689, -0.1538747388728679, 0.5353219782660327, -1.072228923525188, 0.6752160523044004, 0.24625540085408443, 0.6505484803196946, 0.4229194966060065, -1.0724186747068731, -0.16874383355845157, -0.0940723852561799, 0.37650510210813215, 0.767056661576872, -0.4656164665448851, -1.9626738276966944, 1.0248645009802317, 1.379185464478099, -0.4591747868219548, -1.447144900286262], \"xaxis\": \"x\", \"yaxis\": \"y\"}, {\"line\": {\"color\": \"rgba(128, 128, 128, 1.0)\", \"dash\": \"solid\", \"shape\": \"linear\", \"width\": 1.3}, \"marker\": {\"size\": 2, \"symbol\": \"circle\"}, \"mode\": \"markers\", \"name\": \"A\", \"text\": \"\", \"type\": \"scatter\", \"x\": [-1.699160123201898, 0.10195242313344324, -0.715193282859542, -0.05758164445290634, -0.7398838201640815, -0.9753799755866359, 0.8183654763925532, 0.1486272764042706, 0.6221571419621349, -0.37471837838608657, 1.9241212173882782, -1.9260174834904287, 0.32772542746581956, -0.09062108554739637, -0.6222192316499369, 0.4104827707197747, -1.4767599860217084, 0.31680009657810904, 0.5841423976591886, -1.3363186893647179, -1.481470205733003, 1.2913557909132023, -0.15965674908185673, -0.10885642874825817, 2.0613253401745855, 0.038873891107819594, -1.5572032020558468, -0.5267363266605407, 1.052086043605771, 0.4837147591298685, -1.4485465294093376, -1.1363178025139544, 0.2901075938884033, 0.012764228316333356, 0.02544130910202635, -0.15285526945192568, -0.8437747538133651, -1.1579133835179825, 0.522936718836919, -1.4418531014659357, 0.7713240245097688, 1.1488990205107918, 1.1101684578089406, -0.4050508092025551, -1.6736673382534208, -1.5296412988754375, -1.1170745972955312, 0.13781739088902767, 1.7624413863232378, 0.015527063547979406, 0.15625436224519249, -0.04377516577352025, 0.32170087033653894, -1.7352479949718995, 0.18631362955611921, -0.7761396929349504, 0.4184915730119552, 0.7679017692501251, 0.3516066556924101, 2.5166163139814217, -0.19150616919534597, -0.34422152499462955, -1.1932959160998728, -1.8523321507164985, -0.27312156355546313, -0.22788721727855377, 0.512958656095611, 0.23772762819035506, 0.18044282339924814, 1.1796934451453305, -0.5964857390108925, -0.27841196090719744, -0.8782503319309752, 0.2736168298650118, -0.086012008879998, -0.2697772277356776, -0.8559941288110947, 0.7505650594336027, 0.5084568806815066, -0.20824438201256085, -0.16081498584325604, -1.1191291600558322, -1.9035185519084472, -1.8106091203457362, 0.3006649895466276, 1.3198926705225342, -1.5284218485847, -1.4851131995836924, 0.7097055112534987, -0.03900819833655198, -1.1649509319624074, -0.7128547871284446, 0.7432408339507162, 0.22267418896844912, 0.8093301395612484, 1.1075428522852886, -0.8891409413426854, 0.7674768130934316, 0.17700574880002642, 1.2579022924495926], \"xaxis\": \"x2\", \"y\": [0.6365076909941588, -0.4737602015567025, -0.4931937653649986, -1.002162685929863, -1.390694581240618, 0.2624767228460955, 0.06342727286886606, 0.34217472462690585, 2.961132768508034, -0.8620975059326305, 0.4553717205546613, 1.267344265809088, 0.5574464676557171, 1.7650668089058499, -0.6602427071795416, 0.2578219133046646, -0.17263289964841197, -0.11238959064405796, 0.8695860480867245, 0.40840660774229726, -1.0684251725049163, -0.9785793326058884, 0.5931279441105388, -0.5737552603070895, 0.9117283650804772, 0.6474425728966579, -0.5038442677636253, -1.1008455274698403, 0.6251097854408026, 0.9860855829234931, -0.3519782030631685, 0.2043298737212113, -0.6511487116247198, -0.47613929479990535, -1.1726127112294482, 1.5612251685295533, 0.4022976345568017, 1.1566765718193304, 0.031117966223119534, -0.865882402029834, -0.5233903441757728, -1.0054595647259312, -0.11632633713897635, -0.5384467568825115, 0.4677278114296954, 0.5387522859610423, 0.5311214184901931, 0.8542591407697975, -0.9803545984510883, 1.3106925029212348, -0.19232021685687745, -0.14569136160329985, -0.7146824851366995, -0.4786817591587508, 0.7235332743737379, -0.41712017043221844, -1.6019352807092222, -0.9343856342604369, 0.7247039771128864, 0.7123562356757894, 0.7120993540271149, -0.5936962306733344, -1.0826130603973108, 0.5248478277685283, -0.26026561529029024, 1.9453734300618395, 1.5188109407529324, 0.14475730152800026, -1.6548732265850479, 0.6418646400314986, -0.7004102844625567, 0.7719183108008424, 2.108988390018506, 0.12790582165533965, -0.2526413569711868, -1.6127100179913447, -0.5658126567820971, -0.5211460165079267, -0.013759130888993939, -0.950487694184885, 1.4552606561594668, 0.5982889285689689, -0.1538747388728679, 0.5353219782660327, -1.072228923525188, 0.6752160523044004, 0.24625540085408443, 0.6505484803196946, 0.4229194966060065, -1.0724186747068731, -0.16874383355845157, -0.0940723852561799, 0.37650510210813215, 0.767056661576872, -0.4656164665448851, -1.9626738276966944, 1.0248645009802317, 1.379185464478099, -0.4591747868219548, -1.447144900286262], \"yaxis\": \"y2\"}, {\"line\": {\"color\": \"rgba(128, 128, 128, 1.0)\", \"dash\": \"solid\", \"shape\": \"linear\", \"width\": 1.3}, \"marker\": {\"size\": 2, \"symbol\": \"circle\"}, \"mode\": \"markers\", \"name\": \"A\", \"text\": \"\", \"type\": \"scatter\", \"x\": [1.9018381107211506, 0.0661887770795712, -0.6907923912196057, -0.6787021107040709, 1.6626242744283832, 0.07911174543452498, 0.8961493719877067, 1.6626899962684787, -1.039388186859393, -1.0165813778214088, 1.057748496385511, -0.09627782791253724, 1.1699296868199236, -0.9403722978654238, 0.6688891209913608, -1.6220758768730354, 1.4335054635094144, -0.15364540567302598, -0.24383048606947888, -1.003086243171056, -1.2529035737657532, -0.8622997262061329, -0.0205042689814447, -0.577432743168765, -0.08404721858285126, 0.17256271371717888, -0.6284522868119045, 0.9053893732895225, -0.615368509084066, -0.05029608378329362, -0.7420781697708273, 0.02465312848982948, -0.11916547751946559, -0.2403704203979564, 1.0422556178264082, 1.1026273410487104, 2.14122780521598, 1.0733128555117888, 0.27444527249127393, 0.6563412585849486, 1.4738489743011085, 0.8162248511853, -0.023639827496879096, -1.1524174323765721, 1.1544843796254285, 0.6349007148210998, -0.42040009512628596, 0.5332124958532438, 0.18731084191011768, 1.7839781287907115, -0.8183887113044076, -2.125113575006204, -0.6623622152349681, 0.2544601036989139, -0.266956137447952, -2.276830867929495, -1.3730753639964646, 0.5305412588548238, -0.15929777998470598, -0.020193204841813105, 0.7880632917690479, -1.03187439972173, 0.5883059443015611, -1.274642879856355, -0.1655179971723056, 0.5300027728492482, 1.0120393877081773, -1.010594656701156, 1.1840045052728227, -0.04320422282512258, -0.47343469541255145, -0.042216166470314745, -0.19751047941944336, 1.932345240592702, 0.04890264369823737, -1.6825419558962336, 0.49681338245477213, -0.07113030466801781, -0.7908288082449095, -0.9634210464298072, 0.9508462986024796, -1.6858167419150096, -0.883716779881633, -1.725182281318085, -1.2413407406529693, -0.2666167097502255, -0.5064374397054949, -0.359824866439955, -0.7634820300070232, 0.0779983988924154, 0.4877975848545077, 1.4932085199422698, -1.780522505067473, 0.9790035075865777, -1.1721292047493173, -0.8155284297572379, 0.6871800721974252, 0.38965151537552983, 2.1409590283144837, -0.656023588618697], \"xaxis\": \"x3\", \"y\": [0.6365076909941588, -0.4737602015567025, -0.4931937653649986, -1.002162685929863, -1.390694581240618, 0.2624767228460955, 0.06342727286886606, 0.34217472462690585, 2.961132768508034, -0.8620975059326305, 0.4553717205546613, 1.267344265809088, 0.5574464676557171, 1.7650668089058499, -0.6602427071795416, 0.2578219133046646, -0.17263289964841197, -0.11238959064405796, 0.8695860480867245, 0.40840660774229726, -1.0684251725049163, -0.9785793326058884, 0.5931279441105388, -0.5737552603070895, 0.9117283650804772, 0.6474425728966579, -0.5038442677636253, -1.1008455274698403, 0.6251097854408026, 0.9860855829234931, -0.3519782030631685, 0.2043298737212113, -0.6511487116247198, -0.47613929479990535, -1.1726127112294482, 1.5612251685295533, 0.4022976345568017, 1.1566765718193304, 0.031117966223119534, -0.865882402029834, -0.5233903441757728, -1.0054595647259312, -0.11632633713897635, -0.5384467568825115, 0.4677278114296954, 0.5387522859610423, 0.5311214184901931, 0.8542591407697975, -0.9803545984510883, 1.3106925029212348, -0.19232021685687745, -0.14569136160329985, -0.7146824851366995, -0.4786817591587508, 0.7235332743737379, -0.41712017043221844, -1.6019352807092222, -0.9343856342604369, 0.7247039771128864, 0.7123562356757894, 0.7120993540271149, -0.5936962306733344, -1.0826130603973108, 0.5248478277685283, -0.26026561529029024, 1.9453734300618395, 1.5188109407529324, 0.14475730152800026, -1.6548732265850479, 0.6418646400314986, -0.7004102844625567, 0.7719183108008424, 2.108988390018506, 0.12790582165533965, -0.2526413569711868, -1.6127100179913447, -0.5658126567820971, -0.5211460165079267, -0.013759130888993939, -0.950487694184885, 1.4552606561594668, 0.5982889285689689, -0.1538747388728679, 0.5353219782660327, -1.072228923525188, 0.6752160523044004, 0.24625540085408443, 0.6505484803196946, 0.4229194966060065, -1.0724186747068731, -0.16874383355845157, -0.0940723852561799, 0.37650510210813215, 0.767056661576872, -0.4656164665448851, -1.9626738276966944, 1.0248645009802317, 1.379185464478099, -0.4591747868219548, -1.447144900286262], \"yaxis\": \"y3\"}, {\"line\": {\"color\": \"rgba(128, 128, 128, 1.0)\", \"dash\": \"solid\", \"shape\": \"linear\", \"width\": 1.3}, \"marker\": {\"size\": 2, \"symbol\": \"circle\"}, \"mode\": \"markers\", \"name\": \"A\", \"text\": \"\", \"type\": \"scatter\", \"x\": [-0.9750369482571805, 0.44564483517238895, -0.04690236468163629, -0.4670170692687393, -0.1771939426737461, 0.28995461269436185, -0.6072185391411775, -2.0038471872764316, -0.3984200485520013, 0.2530989836036288, -0.38738075645647285, -0.42470446108817556, -0.9334203848128355, -0.14675971813447655, 0.7579723652270303, 0.1367544916571995, -0.9377777223301385, -0.4778326723692581, -1.12664931780653, -0.9619967388777854, 0.8843338255131576, 1.8682683644749403, 0.9755485156936052, 0.6916841407329196, -0.0785267768598687, -0.9812008250308394, -0.8382223509172964, -0.7012489733232544, 0.603546222544028, 0.38802526719044583, -1.20731830156207, -0.030074108263952917, -0.15590598924350277, 0.3937300511303707, 0.6992571801570834, 0.27562181548345377, 0.44021509881888027, -1.9442264672488656, -1.369989009146285, -0.8122354577178308, 1.9081177845994124, -0.26846509724183537, 0.5125392141962625, 0.43239837553775085, 1.0097436496473493, 0.25039336200695067, -0.7604523572732129, 0.8914736977749184, -0.21525067218547833, 0.5828332215766223, -0.7283162787867422, 1.6920346940264834, 1.6248413994097453, -0.2847748335915226, -0.5176913703080036, 0.7418939567180273, 1.1135475692923003, 0.9188923597775859, 2.3063456376825995, -1.6281491014697183, 0.05050564268896923, 1.649543240232205, 1.3204806527197694, -0.6460699074991205, -2.5614296506896155, 1.3361610618561828, 0.4350189125972323, -0.37198414042857364, -0.03066118450093699, -0.6259564066025849, 0.0779255760166714, 1.338223093837399, -0.8398430223702961, -0.10083418068558023, 0.5178637029677866, 0.7994749757691799, -0.41030577553683223, -1.0649799581944792, 0.31453204785310873, 0.36918550654368415, 1.939477114708438, 0.3975126853418298, -0.036380617845962845, -0.7049669404699344, 0.8254017815892944, -0.8330042258973517, -0.3722881175388645, -2.304464011732134, 1.7234122354590147, -1.7260726764377887, -1.0661196803995696, 0.9162617863119996, -1.365011494760737, 0.5702598029292324, -1.8267900616514687, 0.7578403650645467, 0.8224981451202354, 0.18645637110353322, 0.09431976616585055, -0.029247149045171603], \"xaxis\": \"x4\", \"y\": [0.6365076909941588, -0.4737602015567025, -0.4931937653649986, -1.002162685929863, -1.390694581240618, 0.2624767228460955, 0.06342727286886606, 0.34217472462690585, 2.961132768508034, -0.8620975059326305, 0.4553717205546613, 1.267344265809088, 0.5574464676557171, 1.7650668089058499, -0.6602427071795416, 0.2578219133046646, -0.17263289964841197, -0.11238959064405796, 0.8695860480867245, 0.40840660774229726, -1.0684251725049163, -0.9785793326058884, 0.5931279441105388, -0.5737552603070895, 0.9117283650804772, 0.6474425728966579, -0.5038442677636253, -1.1008455274698403, 0.6251097854408026, 0.9860855829234931, -0.3519782030631685, 0.2043298737212113, -0.6511487116247198, -0.47613929479990535, -1.1726127112294482, 1.5612251685295533, 0.4022976345568017, 1.1566765718193304, 0.031117966223119534, -0.865882402029834, -0.5233903441757728, -1.0054595647259312, -0.11632633713897635, -0.5384467568825115, 0.4677278114296954, 0.5387522859610423, 0.5311214184901931, 0.8542591407697975, -0.9803545984510883, 1.3106925029212348, -0.19232021685687745, -0.14569136160329985, -0.7146824851366995, -0.4786817591587508, 0.7235332743737379, -0.41712017043221844, -1.6019352807092222, -0.9343856342604369, 0.7247039771128864, 0.7123562356757894, 0.7120993540271149, -0.5936962306733344, -1.0826130603973108, 0.5248478277685283, -0.26026561529029024, 1.9453734300618395, 1.5188109407529324, 0.14475730152800026, -1.6548732265850479, 0.6418646400314986, -0.7004102844625567, 0.7719183108008424, 2.108988390018506, 0.12790582165533965, -0.2526413569711868, -1.6127100179913447, -0.5658126567820971, -0.5211460165079267, -0.013759130888993939, -0.950487694184885, 1.4552606561594668, 0.5982889285689689, -0.1538747388728679, 0.5353219782660327, -1.072228923525188, 0.6752160523044004, 0.24625540085408443, 0.6505484803196946, 0.4229194966060065, -1.0724186747068731, -0.16874383355845157, -0.0940723852561799, 0.37650510210813215, 0.767056661576872, -0.4656164665448851, -1.9626738276966944, 1.0248645009802317, 1.379185464478099, -0.4591747868219548, -1.447144900286262], \"yaxis\": \"y4\"}, {\"line\": {\"color\": \"rgba(128, 128, 128, 1.0)\", \"dash\": \"solid\", \"shape\": \"linear\", \"width\": 1.3}, \"marker\": {\"size\": 2, \"symbol\": \"circle\"}, \"mode\": \"markers\", \"name\": \"B\", \"text\": \"\", \"type\": \"scatter\", \"x\": [0.6365076909941588, -0.4737602015567025, -0.4931937653649986, -1.002162685929863, -1.390694581240618, 0.2624767228460955, 0.06342727286886606, 0.34217472462690585, 2.961132768508034, -0.8620975059326305, 0.4553717205546613, 1.267344265809088, 0.5574464676557171, 1.7650668089058499, -0.6602427071795416, 0.2578219133046646, -0.17263289964841197, -0.11238959064405796, 0.8695860480867245, 0.40840660774229726, -1.0684251725049163, -0.9785793326058884, 0.5931279441105388, -0.5737552603070895, 0.9117283650804772, 0.6474425728966579, -0.5038442677636253, -1.1008455274698403, 0.6251097854408026, 0.9860855829234931, -0.3519782030631685, 0.2043298737212113, -0.6511487116247198, -0.47613929479990535, -1.1726127112294482, 1.5612251685295533, 0.4022976345568017, 1.1566765718193304, 0.031117966223119534, -0.865882402029834, -0.5233903441757728, -1.0054595647259312, -0.11632633713897635, -0.5384467568825115, 0.4677278114296954, 0.5387522859610423, 0.5311214184901931, 0.8542591407697975, -0.9803545984510883, 1.3106925029212348, -0.19232021685687745, -0.14569136160329985, -0.7146824851366995, -0.4786817591587508, 0.7235332743737379, -0.41712017043221844, -1.6019352807092222, -0.9343856342604369, 0.7247039771128864, 0.7123562356757894, 0.7120993540271149, -0.5936962306733344, -1.0826130603973108, 0.5248478277685283, -0.26026561529029024, 1.9453734300618395, 1.5188109407529324, 0.14475730152800026, -1.6548732265850479, 0.6418646400314986, -0.7004102844625567, 0.7719183108008424, 2.108988390018506, 0.12790582165533965, -0.2526413569711868, -1.6127100179913447, -0.5658126567820971, -0.5211460165079267, -0.013759130888993939, -0.950487694184885, 1.4552606561594668, 0.5982889285689689, -0.1538747388728679, 0.5353219782660327, -1.072228923525188, 0.6752160523044004, 0.24625540085408443, 0.6505484803196946, 0.4229194966060065, -1.0724186747068731, -0.16874383355845157, -0.0940723852561799, 0.37650510210813215, 0.767056661576872, -0.4656164665448851, -1.9626738276966944, 1.0248645009802317, 1.379185464478099, -0.4591747868219548, -1.447144900286262], \"xaxis\": \"x5\", \"y\": [-1.699160123201898, 0.10195242313344324, -0.715193282859542, -0.05758164445290634, -0.7398838201640815, -0.9753799755866359, 0.8183654763925532, 0.1486272764042706, 0.6221571419621349, -0.37471837838608657, 1.9241212173882782, -1.9260174834904287, 0.32772542746581956, -0.09062108554739637, -0.6222192316499369, 0.4104827707197747, -1.4767599860217084, 0.31680009657810904, 0.5841423976591886, -1.3363186893647179, -1.481470205733003, 1.2913557909132023, -0.15965674908185673, -0.10885642874825817, 2.0613253401745855, 0.038873891107819594, -1.5572032020558468, -0.5267363266605407, 1.052086043605771, 0.4837147591298685, -1.4485465294093376, -1.1363178025139544, 0.2901075938884033, 0.012764228316333356, 0.02544130910202635, -0.15285526945192568, -0.8437747538133651, -1.1579133835179825, 0.522936718836919, -1.4418531014659357, 0.7713240245097688, 1.1488990205107918, 1.1101684578089406, -0.4050508092025551, -1.6736673382534208, -1.5296412988754375, -1.1170745972955312, 0.13781739088902767, 1.7624413863232378, 0.015527063547979406, 0.15625436224519249, -0.04377516577352025, 0.32170087033653894, -1.7352479949718995, 0.18631362955611921, -0.7761396929349504, 0.4184915730119552, 0.7679017692501251, 0.3516066556924101, 2.5166163139814217, -0.19150616919534597, -0.34422152499462955, -1.1932959160998728, -1.8523321507164985, -0.27312156355546313, -0.22788721727855377, 0.512958656095611, 0.23772762819035506, 0.18044282339924814, 1.1796934451453305, -0.5964857390108925, -0.27841196090719744, -0.8782503319309752, 0.2736168298650118, -0.086012008879998, -0.2697772277356776, -0.8559941288110947, 0.7505650594336027, 0.5084568806815066, -0.20824438201256085, -0.16081498584325604, -1.1191291600558322, -1.9035185519084472, -1.8106091203457362, 0.3006649895466276, 1.3198926705225342, -1.5284218485847, -1.4851131995836924, 0.7097055112534987, -0.03900819833655198, -1.1649509319624074, -0.7128547871284446, 0.7432408339507162, 0.22267418896844912, 0.8093301395612484, 1.1075428522852886, -0.8891409413426854, 0.7674768130934316, 0.17700574880002642, 1.2579022924495926], \"yaxis\": \"y5\"}, {\"histfunc\": \"count\", \"histnorm\": \"\", \"marker\": {\"color\": \"rgba(55, 128, 191, 1.0)\", \"line\": {\"color\": \"#4D5663\", \"width\": 1.3}}, \"name\": \"B\", \"nbinsx\": 10, \"opacity\": 0.8, \"orientation\": \"v\", \"type\": \"histogram\", \"x\": [-1.699160123201898, 0.10195242313344324, -0.715193282859542, -0.05758164445290634, -0.7398838201640815, -0.9753799755866359, 0.8183654763925532, 0.1486272764042706, 0.6221571419621349, -0.37471837838608657, 1.9241212173882782, -1.9260174834904287, 0.32772542746581956, -0.09062108554739637, -0.6222192316499369, 0.4104827707197747, -1.4767599860217084, 0.31680009657810904, 0.5841423976591886, -1.3363186893647179, -1.481470205733003, 1.2913557909132023, -0.15965674908185673, -0.10885642874825817, 2.0613253401745855, 0.038873891107819594, -1.5572032020558468, -0.5267363266605407, 1.052086043605771, 0.4837147591298685, -1.4485465294093376, -1.1363178025139544, 0.2901075938884033, 0.012764228316333356, 0.02544130910202635, -0.15285526945192568, -0.8437747538133651, -1.1579133835179825, 0.522936718836919, -1.4418531014659357, 0.7713240245097688, 1.1488990205107918, 1.1101684578089406, -0.4050508092025551, -1.6736673382534208, -1.5296412988754375, -1.1170745972955312, 0.13781739088902767, 1.7624413863232378, 0.015527063547979406, 0.15625436224519249, -0.04377516577352025, 0.32170087033653894, -1.7352479949718995, 0.18631362955611921, -0.7761396929349504, 0.4184915730119552, 0.7679017692501251, 0.3516066556924101, 2.5166163139814217, -0.19150616919534597, -0.34422152499462955, -1.1932959160998728, -1.8523321507164985, -0.27312156355546313, -0.22788721727855377, 0.512958656095611, 0.23772762819035506, 0.18044282339924814, 1.1796934451453305, -0.5964857390108925, -0.27841196090719744, -0.8782503319309752, 0.2736168298650118, -0.086012008879998, -0.2697772277356776, -0.8559941288110947, 0.7505650594336027, 0.5084568806815066, -0.20824438201256085, -0.16081498584325604, -1.1191291600558322, -1.9035185519084472, -1.8106091203457362, 0.3006649895466276, 1.3198926705225342, -1.5284218485847, -1.4851131995836924, 0.7097055112534987, -0.03900819833655198, -1.1649509319624074, -0.7128547871284446, 0.7432408339507162, 0.22267418896844912, 0.8093301395612484, 1.1075428522852886, -0.8891409413426854, 0.7674768130934316, 0.17700574880002642, 1.2579022924495926], \"xaxis\": \"x6\", \"yaxis\": \"y6\"}, {\"line\": {\"color\": \"rgba(128, 128, 128, 1.0)\", \"dash\": \"solid\", \"shape\": \"linear\", \"width\": 1.3}, \"marker\": {\"size\": 2, \"symbol\": \"circle\"}, \"mode\": \"markers\", \"name\": \"B\", \"text\": \"\", \"type\": \"scatter\", \"x\": [1.9018381107211506, 0.0661887770795712, -0.6907923912196057, -0.6787021107040709, 1.6626242744283832, 0.07911174543452498, 0.8961493719877067, 1.6626899962684787, -1.039388186859393, -1.0165813778214088, 1.057748496385511, -0.09627782791253724, 1.1699296868199236, -0.9403722978654238, 0.6688891209913608, -1.6220758768730354, 1.4335054635094144, -0.15364540567302598, -0.24383048606947888, -1.003086243171056, -1.2529035737657532, -0.8622997262061329, -0.0205042689814447, -0.577432743168765, -0.08404721858285126, 0.17256271371717888, -0.6284522868119045, 0.9053893732895225, -0.615368509084066, -0.05029608378329362, -0.7420781697708273, 0.02465312848982948, -0.11916547751946559, -0.2403704203979564, 1.0422556178264082, 1.1026273410487104, 2.14122780521598, 1.0733128555117888, 0.27444527249127393, 0.6563412585849486, 1.4738489743011085, 0.8162248511853, -0.023639827496879096, -1.1524174323765721, 1.1544843796254285, 0.6349007148210998, -0.42040009512628596, 0.5332124958532438, 0.18731084191011768, 1.7839781287907115, -0.8183887113044076, -2.125113575006204, -0.6623622152349681, 0.2544601036989139, -0.266956137447952, -2.276830867929495, -1.3730753639964646, 0.5305412588548238, -0.15929777998470598, -0.020193204841813105, 0.7880632917690479, -1.03187439972173, 0.5883059443015611, -1.274642879856355, -0.1655179971723056, 0.5300027728492482, 1.0120393877081773, -1.010594656701156, 1.1840045052728227, -0.04320422282512258, -0.47343469541255145, -0.042216166470314745, -0.19751047941944336, 1.932345240592702, 0.04890264369823737, -1.6825419558962336, 0.49681338245477213, -0.07113030466801781, -0.7908288082449095, -0.9634210464298072, 0.9508462986024796, -1.6858167419150096, -0.883716779881633, -1.725182281318085, -1.2413407406529693, -0.2666167097502255, -0.5064374397054949, -0.359824866439955, -0.7634820300070232, 0.0779983988924154, 0.4877975848545077, 1.4932085199422698, -1.780522505067473, 0.9790035075865777, -1.1721292047493173, -0.8155284297572379, 0.6871800721974252, 0.38965151537552983, 2.1409590283144837, -0.656023588618697], \"xaxis\": \"x7\", \"y\": [-1.699160123201898, 0.10195242313344324, -0.715193282859542, -0.05758164445290634, -0.7398838201640815, -0.9753799755866359, 0.8183654763925532, 0.1486272764042706, 0.6221571419621349, -0.37471837838608657, 1.9241212173882782, -1.9260174834904287, 0.32772542746581956, -0.09062108554739637, -0.6222192316499369, 0.4104827707197747, -1.4767599860217084, 0.31680009657810904, 0.5841423976591886, -1.3363186893647179, -1.481470205733003, 1.2913557909132023, -0.15965674908185673, -0.10885642874825817, 2.0613253401745855, 0.038873891107819594, -1.5572032020558468, -0.5267363266605407, 1.052086043605771, 0.4837147591298685, -1.4485465294093376, -1.1363178025139544, 0.2901075938884033, 0.012764228316333356, 0.02544130910202635, -0.15285526945192568, -0.8437747538133651, -1.1579133835179825, 0.522936718836919, -1.4418531014659357, 0.7713240245097688, 1.1488990205107918, 1.1101684578089406, -0.4050508092025551, -1.6736673382534208, -1.5296412988754375, -1.1170745972955312, 0.13781739088902767, 1.7624413863232378, 0.015527063547979406, 0.15625436224519249, -0.04377516577352025, 0.32170087033653894, -1.7352479949718995, 0.18631362955611921, -0.7761396929349504, 0.4184915730119552, 0.7679017692501251, 0.3516066556924101, 2.5166163139814217, -0.19150616919534597, -0.34422152499462955, -1.1932959160998728, -1.8523321507164985, -0.27312156355546313, -0.22788721727855377, 0.512958656095611, 0.23772762819035506, 0.18044282339924814, 1.1796934451453305, -0.5964857390108925, -0.27841196090719744, -0.8782503319309752, 0.2736168298650118, -0.086012008879998, -0.2697772277356776, -0.8559941288110947, 0.7505650594336027, 0.5084568806815066, -0.20824438201256085, -0.16081498584325604, -1.1191291600558322, -1.9035185519084472, -1.8106091203457362, 0.3006649895466276, 1.3198926705225342, -1.5284218485847, -1.4851131995836924, 0.7097055112534987, -0.03900819833655198, -1.1649509319624074, -0.7128547871284446, 0.7432408339507162, 0.22267418896844912, 0.8093301395612484, 1.1075428522852886, -0.8891409413426854, 0.7674768130934316, 0.17700574880002642, 1.2579022924495926], \"yaxis\": \"y7\"}, {\"line\": {\"color\": \"rgba(128, 128, 128, 1.0)\", \"dash\": \"solid\", \"shape\": \"linear\", \"width\": 1.3}, \"marker\": {\"size\": 2, \"symbol\": \"circle\"}, \"mode\": \"markers\", \"name\": \"B\", \"text\": \"\", \"type\": \"scatter\", \"x\": [-0.9750369482571805, 0.44564483517238895, -0.04690236468163629, -0.4670170692687393, -0.1771939426737461, 0.28995461269436185, -0.6072185391411775, -2.0038471872764316, -0.3984200485520013, 0.2530989836036288, -0.38738075645647285, -0.42470446108817556, -0.9334203848128355, -0.14675971813447655, 0.7579723652270303, 0.1367544916571995, -0.9377777223301385, -0.4778326723692581, -1.12664931780653, -0.9619967388777854, 0.8843338255131576, 1.8682683644749403, 0.9755485156936052, 0.6916841407329196, -0.0785267768598687, -0.9812008250308394, -0.8382223509172964, -0.7012489733232544, 0.603546222544028, 0.38802526719044583, -1.20731830156207, -0.030074108263952917, -0.15590598924350277, 0.3937300511303707, 0.6992571801570834, 0.27562181548345377, 0.44021509881888027, -1.9442264672488656, -1.369989009146285, -0.8122354577178308, 1.9081177845994124, -0.26846509724183537, 0.5125392141962625, 0.43239837553775085, 1.0097436496473493, 0.25039336200695067, -0.7604523572732129, 0.8914736977749184, -0.21525067218547833, 0.5828332215766223, -0.7283162787867422, 1.6920346940264834, 1.6248413994097453, -0.2847748335915226, -0.5176913703080036, 0.7418939567180273, 1.1135475692923003, 0.9188923597775859, 2.3063456376825995, -1.6281491014697183, 0.05050564268896923, 1.649543240232205, 1.3204806527197694, -0.6460699074991205, -2.5614296506896155, 1.3361610618561828, 0.4350189125972323, -0.37198414042857364, -0.03066118450093699, -0.6259564066025849, 0.0779255760166714, 1.338223093837399, -0.8398430223702961, -0.10083418068558023, 0.5178637029677866, 0.7994749757691799, -0.41030577553683223, -1.0649799581944792, 0.31453204785310873, 0.36918550654368415, 1.939477114708438, 0.3975126853418298, -0.036380617845962845, -0.7049669404699344, 0.8254017815892944, -0.8330042258973517, -0.3722881175388645, -2.304464011732134, 1.7234122354590147, -1.7260726764377887, -1.0661196803995696, 0.9162617863119996, -1.365011494760737, 0.5702598029292324, -1.8267900616514687, 0.7578403650645467, 0.8224981451202354, 0.18645637110353322, 0.09431976616585055, -0.029247149045171603], \"xaxis\": \"x8\", \"y\": [-1.699160123201898, 0.10195242313344324, -0.715193282859542, -0.05758164445290634, -0.7398838201640815, -0.9753799755866359, 0.8183654763925532, 0.1486272764042706, 0.6221571419621349, -0.37471837838608657, 1.9241212173882782, -1.9260174834904287, 0.32772542746581956, -0.09062108554739637, -0.6222192316499369, 0.4104827707197747, -1.4767599860217084, 0.31680009657810904, 0.5841423976591886, -1.3363186893647179, -1.481470205733003, 1.2913557909132023, -0.15965674908185673, -0.10885642874825817, 2.0613253401745855, 0.038873891107819594, -1.5572032020558468, -0.5267363266605407, 1.052086043605771, 0.4837147591298685, -1.4485465294093376, -1.1363178025139544, 0.2901075938884033, 0.012764228316333356, 0.02544130910202635, -0.15285526945192568, -0.8437747538133651, -1.1579133835179825, 0.522936718836919, -1.4418531014659357, 0.7713240245097688, 1.1488990205107918, 1.1101684578089406, -0.4050508092025551, -1.6736673382534208, -1.5296412988754375, -1.1170745972955312, 0.13781739088902767, 1.7624413863232378, 0.015527063547979406, 0.15625436224519249, -0.04377516577352025, 0.32170087033653894, -1.7352479949718995, 0.18631362955611921, -0.7761396929349504, 0.4184915730119552, 0.7679017692501251, 0.3516066556924101, 2.5166163139814217, -0.19150616919534597, -0.34422152499462955, -1.1932959160998728, -1.8523321507164985, -0.27312156355546313, -0.22788721727855377, 0.512958656095611, 0.23772762819035506, 0.18044282339924814, 1.1796934451453305, -0.5964857390108925, -0.27841196090719744, -0.8782503319309752, 0.2736168298650118, -0.086012008879998, -0.2697772277356776, -0.8559941288110947, 0.7505650594336027, 0.5084568806815066, -0.20824438201256085, -0.16081498584325604, -1.1191291600558322, -1.9035185519084472, -1.8106091203457362, 0.3006649895466276, 1.3198926705225342, -1.5284218485847, -1.4851131995836924, 0.7097055112534987, -0.03900819833655198, -1.1649509319624074, -0.7128547871284446, 0.7432408339507162, 0.22267418896844912, 0.8093301395612484, 1.1075428522852886, -0.8891409413426854, 0.7674768130934316, 0.17700574880002642, 1.2579022924495926], \"yaxis\": \"y8\"}, {\"line\": {\"color\": \"rgba(128, 128, 128, 1.0)\", \"dash\": \"solid\", \"shape\": \"linear\", \"width\": 1.3}, \"marker\": {\"size\": 2, \"symbol\": \"circle\"}, \"mode\": \"markers\", \"name\": \"C\", \"text\": \"\", \"type\": \"scatter\", \"x\": [0.6365076909941588, -0.4737602015567025, -0.4931937653649986, -1.002162685929863, -1.390694581240618, 0.2624767228460955, 0.06342727286886606, 0.34217472462690585, 2.961132768508034, -0.8620975059326305, 0.4553717205546613, 1.267344265809088, 0.5574464676557171, 1.7650668089058499, -0.6602427071795416, 0.2578219133046646, -0.17263289964841197, -0.11238959064405796, 0.8695860480867245, 0.40840660774229726, -1.0684251725049163, -0.9785793326058884, 0.5931279441105388, -0.5737552603070895, 0.9117283650804772, 0.6474425728966579, -0.5038442677636253, -1.1008455274698403, 0.6251097854408026, 0.9860855829234931, -0.3519782030631685, 0.2043298737212113, -0.6511487116247198, -0.47613929479990535, -1.1726127112294482, 1.5612251685295533, 0.4022976345568017, 1.1566765718193304, 0.031117966223119534, -0.865882402029834, -0.5233903441757728, -1.0054595647259312, -0.11632633713897635, -0.5384467568825115, 0.4677278114296954, 0.5387522859610423, 0.5311214184901931, 0.8542591407697975, -0.9803545984510883, 1.3106925029212348, -0.19232021685687745, -0.14569136160329985, -0.7146824851366995, -0.4786817591587508, 0.7235332743737379, -0.41712017043221844, -1.6019352807092222, -0.9343856342604369, 0.7247039771128864, 0.7123562356757894, 0.7120993540271149, -0.5936962306733344, -1.0826130603973108, 0.5248478277685283, -0.26026561529029024, 1.9453734300618395, 1.5188109407529324, 0.14475730152800026, -1.6548732265850479, 0.6418646400314986, -0.7004102844625567, 0.7719183108008424, 2.108988390018506, 0.12790582165533965, -0.2526413569711868, -1.6127100179913447, -0.5658126567820971, -0.5211460165079267, -0.013759130888993939, -0.950487694184885, 1.4552606561594668, 0.5982889285689689, -0.1538747388728679, 0.5353219782660327, -1.072228923525188, 0.6752160523044004, 0.24625540085408443, 0.6505484803196946, 0.4229194966060065, -1.0724186747068731, -0.16874383355845157, -0.0940723852561799, 0.37650510210813215, 0.767056661576872, -0.4656164665448851, -1.9626738276966944, 1.0248645009802317, 1.379185464478099, -0.4591747868219548, -1.447144900286262], \"xaxis\": \"x9\", \"y\": [1.9018381107211506, 0.0661887770795712, -0.6907923912196057, -0.6787021107040709, 1.6626242744283832, 0.07911174543452498, 0.8961493719877067, 1.6626899962684787, -1.039388186859393, -1.0165813778214088, 1.057748496385511, -0.09627782791253724, 1.1699296868199236, -0.9403722978654238, 0.6688891209913608, -1.6220758768730354, 1.4335054635094144, -0.15364540567302598, -0.24383048606947888, -1.003086243171056, -1.2529035737657532, -0.8622997262061329, -0.0205042689814447, -0.577432743168765, -0.08404721858285126, 0.17256271371717888, -0.6284522868119045, 0.9053893732895225, -0.615368509084066, -0.05029608378329362, -0.7420781697708273, 0.02465312848982948, -0.11916547751946559, -0.2403704203979564, 1.0422556178264082, 1.1026273410487104, 2.14122780521598, 1.0733128555117888, 0.27444527249127393, 0.6563412585849486, 1.4738489743011085, 0.8162248511853, -0.023639827496879096, -1.1524174323765721, 1.1544843796254285, 0.6349007148210998, -0.42040009512628596, 0.5332124958532438, 0.18731084191011768, 1.7839781287907115, -0.8183887113044076, -2.125113575006204, -0.6623622152349681, 0.2544601036989139, -0.266956137447952, -2.276830867929495, -1.3730753639964646, 0.5305412588548238, -0.15929777998470598, -0.020193204841813105, 0.7880632917690479, -1.03187439972173, 0.5883059443015611, -1.274642879856355, -0.1655179971723056, 0.5300027728492482, 1.0120393877081773, -1.010594656701156, 1.1840045052728227, -0.04320422282512258, -0.47343469541255145, -0.042216166470314745, -0.19751047941944336, 1.932345240592702, 0.04890264369823737, -1.6825419558962336, 0.49681338245477213, -0.07113030466801781, -0.7908288082449095, -0.9634210464298072, 0.9508462986024796, -1.6858167419150096, -0.883716779881633, -1.725182281318085, -1.2413407406529693, -0.2666167097502255, -0.5064374397054949, -0.359824866439955, -0.7634820300070232, 0.0779983988924154, 0.4877975848545077, 1.4932085199422698, -1.780522505067473, 0.9790035075865777, -1.1721292047493173, -0.8155284297572379, 0.6871800721974252, 0.38965151537552983, 2.1409590283144837, -0.656023588618697], \"yaxis\": \"y9\"}, {\"line\": {\"color\": \"rgba(128, 128, 128, 1.0)\", \"dash\": \"solid\", \"shape\": \"linear\", \"width\": 1.3}, \"marker\": {\"size\": 2, \"symbol\": \"circle\"}, \"mode\": \"markers\", \"name\": \"C\", \"text\": \"\", \"type\": \"scatter\", \"x\": [-1.699160123201898, 0.10195242313344324, -0.715193282859542, -0.05758164445290634, -0.7398838201640815, -0.9753799755866359, 0.8183654763925532, 0.1486272764042706, 0.6221571419621349, -0.37471837838608657, 1.9241212173882782, -1.9260174834904287, 0.32772542746581956, -0.09062108554739637, -0.6222192316499369, 0.4104827707197747, -1.4767599860217084, 0.31680009657810904, 0.5841423976591886, -1.3363186893647179, -1.481470205733003, 1.2913557909132023, -0.15965674908185673, -0.10885642874825817, 2.0613253401745855, 0.038873891107819594, -1.5572032020558468, -0.5267363266605407, 1.052086043605771, 0.4837147591298685, -1.4485465294093376, -1.1363178025139544, 0.2901075938884033, 0.012764228316333356, 0.02544130910202635, -0.15285526945192568, -0.8437747538133651, -1.1579133835179825, 0.522936718836919, -1.4418531014659357, 0.7713240245097688, 1.1488990205107918, 1.1101684578089406, -0.4050508092025551, -1.6736673382534208, -1.5296412988754375, -1.1170745972955312, 0.13781739088902767, 1.7624413863232378, 0.015527063547979406, 0.15625436224519249, -0.04377516577352025, 0.32170087033653894, -1.7352479949718995, 0.18631362955611921, -0.7761396929349504, 0.4184915730119552, 0.7679017692501251, 0.3516066556924101, 2.5166163139814217, -0.19150616919534597, -0.34422152499462955, -1.1932959160998728, -1.8523321507164985, -0.27312156355546313, -0.22788721727855377, 0.512958656095611, 0.23772762819035506, 0.18044282339924814, 1.1796934451453305, -0.5964857390108925, -0.27841196090719744, -0.8782503319309752, 0.2736168298650118, -0.086012008879998, -0.2697772277356776, -0.8559941288110947, 0.7505650594336027, 0.5084568806815066, -0.20824438201256085, -0.16081498584325604, -1.1191291600558322, -1.9035185519084472, -1.8106091203457362, 0.3006649895466276, 1.3198926705225342, -1.5284218485847, -1.4851131995836924, 0.7097055112534987, -0.03900819833655198, -1.1649509319624074, -0.7128547871284446, 0.7432408339507162, 0.22267418896844912, 0.8093301395612484, 1.1075428522852886, -0.8891409413426854, 0.7674768130934316, 0.17700574880002642, 1.2579022924495926], \"xaxis\": \"x10\", \"y\": [1.9018381107211506, 0.0661887770795712, -0.6907923912196057, -0.6787021107040709, 1.6626242744283832, 0.07911174543452498, 0.8961493719877067, 1.6626899962684787, -1.039388186859393, -1.0165813778214088, 1.057748496385511, -0.09627782791253724, 1.1699296868199236, -0.9403722978654238, 0.6688891209913608, -1.6220758768730354, 1.4335054635094144, -0.15364540567302598, -0.24383048606947888, -1.003086243171056, -1.2529035737657532, -0.8622997262061329, -0.0205042689814447, -0.577432743168765, -0.08404721858285126, 0.17256271371717888, -0.6284522868119045, 0.9053893732895225, -0.615368509084066, -0.05029608378329362, -0.7420781697708273, 0.02465312848982948, -0.11916547751946559, -0.2403704203979564, 1.0422556178264082, 1.1026273410487104, 2.14122780521598, 1.0733128555117888, 0.27444527249127393, 0.6563412585849486, 1.4738489743011085, 0.8162248511853, -0.023639827496879096, -1.1524174323765721, 1.1544843796254285, 0.6349007148210998, -0.42040009512628596, 0.5332124958532438, 0.18731084191011768, 1.7839781287907115, -0.8183887113044076, -2.125113575006204, -0.6623622152349681, 0.2544601036989139, -0.266956137447952, -2.276830867929495, -1.3730753639964646, 0.5305412588548238, -0.15929777998470598, -0.020193204841813105, 0.7880632917690479, -1.03187439972173, 0.5883059443015611, -1.274642879856355, -0.1655179971723056, 0.5300027728492482, 1.0120393877081773, -1.010594656701156, 1.1840045052728227, -0.04320422282512258, -0.47343469541255145, -0.042216166470314745, -0.19751047941944336, 1.932345240592702, 0.04890264369823737, -1.6825419558962336, 0.49681338245477213, -0.07113030466801781, -0.7908288082449095, -0.9634210464298072, 0.9508462986024796, -1.6858167419150096, -0.883716779881633, -1.725182281318085, -1.2413407406529693, -0.2666167097502255, -0.5064374397054949, -0.359824866439955, -0.7634820300070232, 0.0779983988924154, 0.4877975848545077, 1.4932085199422698, -1.780522505067473, 0.9790035075865777, -1.1721292047493173, -0.8155284297572379, 0.6871800721974252, 0.38965151537552983, 2.1409590283144837, -0.656023588618697], \"yaxis\": \"y10\"}, {\"histfunc\": \"count\", \"histnorm\": \"\", \"marker\": {\"color\": \"rgba(50, 171, 96, 1.0)\", \"line\": {\"color\": \"#4D5663\", \"width\": 1.3}}, \"name\": \"C\", \"nbinsx\": 10, \"opacity\": 0.8, \"orientation\": \"v\", \"type\": \"histogram\", \"x\": [1.9018381107211506, 0.0661887770795712, -0.6907923912196057, -0.6787021107040709, 1.6626242744283832, 0.07911174543452498, 0.8961493719877067, 1.6626899962684787, -1.039388186859393, -1.0165813778214088, 1.057748496385511, -0.09627782791253724, 1.1699296868199236, -0.9403722978654238, 0.6688891209913608, -1.6220758768730354, 1.4335054635094144, -0.15364540567302598, -0.24383048606947888, -1.003086243171056, -1.2529035737657532, -0.8622997262061329, -0.0205042689814447, -0.577432743168765, -0.08404721858285126, 0.17256271371717888, -0.6284522868119045, 0.9053893732895225, -0.615368509084066, -0.05029608378329362, -0.7420781697708273, 0.02465312848982948, -0.11916547751946559, -0.2403704203979564, 1.0422556178264082, 1.1026273410487104, 2.14122780521598, 1.0733128555117888, 0.27444527249127393, 0.6563412585849486, 1.4738489743011085, 0.8162248511853, -0.023639827496879096, -1.1524174323765721, 1.1544843796254285, 0.6349007148210998, -0.42040009512628596, 0.5332124958532438, 0.18731084191011768, 1.7839781287907115, -0.8183887113044076, -2.125113575006204, -0.6623622152349681, 0.2544601036989139, -0.266956137447952, -2.276830867929495, -1.3730753639964646, 0.5305412588548238, -0.15929777998470598, -0.020193204841813105, 0.7880632917690479, -1.03187439972173, 0.5883059443015611, -1.274642879856355, -0.1655179971723056, 0.5300027728492482, 1.0120393877081773, -1.010594656701156, 1.1840045052728227, -0.04320422282512258, -0.47343469541255145, -0.042216166470314745, -0.19751047941944336, 1.932345240592702, 0.04890264369823737, -1.6825419558962336, 0.49681338245477213, -0.07113030466801781, -0.7908288082449095, -0.9634210464298072, 0.9508462986024796, -1.6858167419150096, -0.883716779881633, -1.725182281318085, -1.2413407406529693, -0.2666167097502255, -0.5064374397054949, -0.359824866439955, -0.7634820300070232, 0.0779983988924154, 0.4877975848545077, 1.4932085199422698, -1.780522505067473, 0.9790035075865777, -1.1721292047493173, -0.8155284297572379, 0.6871800721974252, 0.38965151537552983, 2.1409590283144837, -0.656023588618697], \"xaxis\": \"x11\", \"yaxis\": \"y11\"}, {\"line\": {\"color\": \"rgba(128, 128, 128, 1.0)\", \"dash\": \"solid\", \"shape\": \"linear\", \"width\": 1.3}, \"marker\": {\"size\": 2, \"symbol\": \"circle\"}, \"mode\": \"markers\", \"name\": \"C\", \"text\": \"\", \"type\": \"scatter\", \"x\": [-0.9750369482571805, 0.44564483517238895, -0.04690236468163629, -0.4670170692687393, -0.1771939426737461, 0.28995461269436185, -0.6072185391411775, -2.0038471872764316, -0.3984200485520013, 0.2530989836036288, -0.38738075645647285, -0.42470446108817556, -0.9334203848128355, -0.14675971813447655, 0.7579723652270303, 0.1367544916571995, -0.9377777223301385, -0.4778326723692581, -1.12664931780653, -0.9619967388777854, 0.8843338255131576, 1.8682683644749403, 0.9755485156936052, 0.6916841407329196, -0.0785267768598687, -0.9812008250308394, -0.8382223509172964, -0.7012489733232544, 0.603546222544028, 0.38802526719044583, -1.20731830156207, -0.030074108263952917, -0.15590598924350277, 0.3937300511303707, 0.6992571801570834, 0.27562181548345377, 0.44021509881888027, -1.9442264672488656, -1.369989009146285, -0.8122354577178308, 1.9081177845994124, -0.26846509724183537, 0.5125392141962625, 0.43239837553775085, 1.0097436496473493, 0.25039336200695067, -0.7604523572732129, 0.8914736977749184, -0.21525067218547833, 0.5828332215766223, -0.7283162787867422, 1.6920346940264834, 1.6248413994097453, -0.2847748335915226, -0.5176913703080036, 0.7418939567180273, 1.1135475692923003, 0.9188923597775859, 2.3063456376825995, -1.6281491014697183, 0.05050564268896923, 1.649543240232205, 1.3204806527197694, -0.6460699074991205, -2.5614296506896155, 1.3361610618561828, 0.4350189125972323, -0.37198414042857364, -0.03066118450093699, -0.6259564066025849, 0.0779255760166714, 1.338223093837399, -0.8398430223702961, -0.10083418068558023, 0.5178637029677866, 0.7994749757691799, -0.41030577553683223, -1.0649799581944792, 0.31453204785310873, 0.36918550654368415, 1.939477114708438, 0.3975126853418298, -0.036380617845962845, -0.7049669404699344, 0.8254017815892944, -0.8330042258973517, -0.3722881175388645, -2.304464011732134, 1.7234122354590147, -1.7260726764377887, -1.0661196803995696, 0.9162617863119996, -1.365011494760737, 0.5702598029292324, -1.8267900616514687, 0.7578403650645467, 0.8224981451202354, 0.18645637110353322, 0.09431976616585055, -0.029247149045171603], \"xaxis\": \"x12\", \"y\": [1.9018381107211506, 0.0661887770795712, -0.6907923912196057, -0.6787021107040709, 1.6626242744283832, 0.07911174543452498, 0.8961493719877067, 1.6626899962684787, -1.039388186859393, -1.0165813778214088, 1.057748496385511, -0.09627782791253724, 1.1699296868199236, -0.9403722978654238, 0.6688891209913608, -1.6220758768730354, 1.4335054635094144, -0.15364540567302598, -0.24383048606947888, -1.003086243171056, -1.2529035737657532, -0.8622997262061329, -0.0205042689814447, -0.577432743168765, -0.08404721858285126, 0.17256271371717888, -0.6284522868119045, 0.9053893732895225, -0.615368509084066, -0.05029608378329362, -0.7420781697708273, 0.02465312848982948, -0.11916547751946559, -0.2403704203979564, 1.0422556178264082, 1.1026273410487104, 2.14122780521598, 1.0733128555117888, 0.27444527249127393, 0.6563412585849486, 1.4738489743011085, 0.8162248511853, -0.023639827496879096, -1.1524174323765721, 1.1544843796254285, 0.6349007148210998, -0.42040009512628596, 0.5332124958532438, 0.18731084191011768, 1.7839781287907115, -0.8183887113044076, -2.125113575006204, -0.6623622152349681, 0.2544601036989139, -0.266956137447952, -2.276830867929495, -1.3730753639964646, 0.5305412588548238, -0.15929777998470598, -0.020193204841813105, 0.7880632917690479, -1.03187439972173, 0.5883059443015611, -1.274642879856355, -0.1655179971723056, 0.5300027728492482, 1.0120393877081773, -1.010594656701156, 1.1840045052728227, -0.04320422282512258, -0.47343469541255145, -0.042216166470314745, -0.19751047941944336, 1.932345240592702, 0.04890264369823737, -1.6825419558962336, 0.49681338245477213, -0.07113030466801781, -0.7908288082449095, -0.9634210464298072, 0.9508462986024796, -1.6858167419150096, -0.883716779881633, -1.725182281318085, -1.2413407406529693, -0.2666167097502255, -0.5064374397054949, -0.359824866439955, -0.7634820300070232, 0.0779983988924154, 0.4877975848545077, 1.4932085199422698, -1.780522505067473, 0.9790035075865777, -1.1721292047493173, -0.8155284297572379, 0.6871800721974252, 0.38965151537552983, 2.1409590283144837, -0.656023588618697], \"yaxis\": \"y12\"}, {\"line\": {\"color\": \"rgba(128, 128, 128, 1.0)\", \"dash\": \"solid\", \"shape\": \"linear\", \"width\": 1.3}, \"marker\": {\"size\": 2, \"symbol\": \"circle\"}, \"mode\": \"markers\", \"name\": \"D\", \"text\": \"\", \"type\": \"scatter\", \"x\": [0.6365076909941588, -0.4737602015567025, -0.4931937653649986, -1.002162685929863, -1.390694581240618, 0.2624767228460955, 0.06342727286886606, 0.34217472462690585, 2.961132768508034, -0.8620975059326305, 0.4553717205546613, 1.267344265809088, 0.5574464676557171, 1.7650668089058499, -0.6602427071795416, 0.2578219133046646, -0.17263289964841197, -0.11238959064405796, 0.8695860480867245, 0.40840660774229726, -1.0684251725049163, -0.9785793326058884, 0.5931279441105388, -0.5737552603070895, 0.9117283650804772, 0.6474425728966579, -0.5038442677636253, -1.1008455274698403, 0.6251097854408026, 0.9860855829234931, -0.3519782030631685, 0.2043298737212113, -0.6511487116247198, -0.47613929479990535, -1.1726127112294482, 1.5612251685295533, 0.4022976345568017, 1.1566765718193304, 0.031117966223119534, -0.865882402029834, -0.5233903441757728, -1.0054595647259312, -0.11632633713897635, -0.5384467568825115, 0.4677278114296954, 0.5387522859610423, 0.5311214184901931, 0.8542591407697975, -0.9803545984510883, 1.3106925029212348, -0.19232021685687745, -0.14569136160329985, -0.7146824851366995, -0.4786817591587508, 0.7235332743737379, -0.41712017043221844, -1.6019352807092222, -0.9343856342604369, 0.7247039771128864, 0.7123562356757894, 0.7120993540271149, -0.5936962306733344, -1.0826130603973108, 0.5248478277685283, -0.26026561529029024, 1.9453734300618395, 1.5188109407529324, 0.14475730152800026, -1.6548732265850479, 0.6418646400314986, -0.7004102844625567, 0.7719183108008424, 2.108988390018506, 0.12790582165533965, -0.2526413569711868, -1.6127100179913447, -0.5658126567820971, -0.5211460165079267, -0.013759130888993939, -0.950487694184885, 1.4552606561594668, 0.5982889285689689, -0.1538747388728679, 0.5353219782660327, -1.072228923525188, 0.6752160523044004, 0.24625540085408443, 0.6505484803196946, 0.4229194966060065, -1.0724186747068731, -0.16874383355845157, -0.0940723852561799, 0.37650510210813215, 0.767056661576872, -0.4656164665448851, -1.9626738276966944, 1.0248645009802317, 1.379185464478099, -0.4591747868219548, -1.447144900286262], \"xaxis\": \"x13\", \"y\": [-0.9750369482571805, 0.44564483517238895, -0.04690236468163629, -0.4670170692687393, -0.1771939426737461, 0.28995461269436185, -0.6072185391411775, -2.0038471872764316, -0.3984200485520013, 0.2530989836036288, -0.38738075645647285, -0.42470446108817556, -0.9334203848128355, -0.14675971813447655, 0.7579723652270303, 0.1367544916571995, -0.9377777223301385, -0.4778326723692581, -1.12664931780653, -0.9619967388777854, 0.8843338255131576, 1.8682683644749403, 0.9755485156936052, 0.6916841407329196, -0.0785267768598687, -0.9812008250308394, -0.8382223509172964, -0.7012489733232544, 0.603546222544028, 0.38802526719044583, -1.20731830156207, -0.030074108263952917, -0.15590598924350277, 0.3937300511303707, 0.6992571801570834, 0.27562181548345377, 0.44021509881888027, -1.9442264672488656, -1.369989009146285, -0.8122354577178308, 1.9081177845994124, -0.26846509724183537, 0.5125392141962625, 0.43239837553775085, 1.0097436496473493, 0.25039336200695067, -0.7604523572732129, 0.8914736977749184, -0.21525067218547833, 0.5828332215766223, -0.7283162787867422, 1.6920346940264834, 1.6248413994097453, -0.2847748335915226, -0.5176913703080036, 0.7418939567180273, 1.1135475692923003, 0.9188923597775859, 2.3063456376825995, -1.6281491014697183, 0.05050564268896923, 1.649543240232205, 1.3204806527197694, -0.6460699074991205, -2.5614296506896155, 1.3361610618561828, 0.4350189125972323, -0.37198414042857364, -0.03066118450093699, -0.6259564066025849, 0.0779255760166714, 1.338223093837399, -0.8398430223702961, -0.10083418068558023, 0.5178637029677866, 0.7994749757691799, -0.41030577553683223, -1.0649799581944792, 0.31453204785310873, 0.36918550654368415, 1.939477114708438, 0.3975126853418298, -0.036380617845962845, -0.7049669404699344, 0.8254017815892944, -0.8330042258973517, -0.3722881175388645, -2.304464011732134, 1.7234122354590147, -1.7260726764377887, -1.0661196803995696, 0.9162617863119996, -1.365011494760737, 0.5702598029292324, -1.8267900616514687, 0.7578403650645467, 0.8224981451202354, 0.18645637110353322, 0.09431976616585055, -0.029247149045171603], \"yaxis\": \"y13\"}, {\"line\": {\"color\": \"rgba(128, 128, 128, 1.0)\", \"dash\": \"solid\", \"shape\": \"linear\", \"width\": 1.3}, \"marker\": {\"size\": 2, \"symbol\": \"circle\"}, \"mode\": \"markers\", \"name\": \"D\", \"text\": \"\", \"type\": \"scatter\", \"x\": [-1.699160123201898, 0.10195242313344324, -0.715193282859542, -0.05758164445290634, -0.7398838201640815, -0.9753799755866359, 0.8183654763925532, 0.1486272764042706, 0.6221571419621349, -0.37471837838608657, 1.9241212173882782, -1.9260174834904287, 0.32772542746581956, -0.09062108554739637, -0.6222192316499369, 0.4104827707197747, -1.4767599860217084, 0.31680009657810904, 0.5841423976591886, -1.3363186893647179, -1.481470205733003, 1.2913557909132023, -0.15965674908185673, -0.10885642874825817, 2.0613253401745855, 0.038873891107819594, -1.5572032020558468, -0.5267363266605407, 1.052086043605771, 0.4837147591298685, -1.4485465294093376, -1.1363178025139544, 0.2901075938884033, 0.012764228316333356, 0.02544130910202635, -0.15285526945192568, -0.8437747538133651, -1.1579133835179825, 0.522936718836919, -1.4418531014659357, 0.7713240245097688, 1.1488990205107918, 1.1101684578089406, -0.4050508092025551, -1.6736673382534208, -1.5296412988754375, -1.1170745972955312, 0.13781739088902767, 1.7624413863232378, 0.015527063547979406, 0.15625436224519249, -0.04377516577352025, 0.32170087033653894, -1.7352479949718995, 0.18631362955611921, -0.7761396929349504, 0.4184915730119552, 0.7679017692501251, 0.3516066556924101, 2.5166163139814217, -0.19150616919534597, -0.34422152499462955, -1.1932959160998728, -1.8523321507164985, -0.27312156355546313, -0.22788721727855377, 0.512958656095611, 0.23772762819035506, 0.18044282339924814, 1.1796934451453305, -0.5964857390108925, -0.27841196090719744, -0.8782503319309752, 0.2736168298650118, -0.086012008879998, -0.2697772277356776, -0.8559941288110947, 0.7505650594336027, 0.5084568806815066, -0.20824438201256085, -0.16081498584325604, -1.1191291600558322, -1.9035185519084472, -1.8106091203457362, 0.3006649895466276, 1.3198926705225342, -1.5284218485847, -1.4851131995836924, 0.7097055112534987, -0.03900819833655198, -1.1649509319624074, -0.7128547871284446, 0.7432408339507162, 0.22267418896844912, 0.8093301395612484, 1.1075428522852886, -0.8891409413426854, 0.7674768130934316, 0.17700574880002642, 1.2579022924495926], \"xaxis\": \"x14\", \"y\": [-0.9750369482571805, 0.44564483517238895, -0.04690236468163629, -0.4670170692687393, -0.1771939426737461, 0.28995461269436185, -0.6072185391411775, -2.0038471872764316, -0.3984200485520013, 0.2530989836036288, -0.38738075645647285, -0.42470446108817556, -0.9334203848128355, -0.14675971813447655, 0.7579723652270303, 0.1367544916571995, -0.9377777223301385, -0.4778326723692581, -1.12664931780653, -0.9619967388777854, 0.8843338255131576, 1.8682683644749403, 0.9755485156936052, 0.6916841407329196, -0.0785267768598687, -0.9812008250308394, -0.8382223509172964, -0.7012489733232544, 0.603546222544028, 0.38802526719044583, -1.20731830156207, -0.030074108263952917, -0.15590598924350277, 0.3937300511303707, 0.6992571801570834, 0.27562181548345377, 0.44021509881888027, -1.9442264672488656, -1.369989009146285, -0.8122354577178308, 1.9081177845994124, -0.26846509724183537, 0.5125392141962625, 0.43239837553775085, 1.0097436496473493, 0.25039336200695067, -0.7604523572732129, 0.8914736977749184, -0.21525067218547833, 0.5828332215766223, -0.7283162787867422, 1.6920346940264834, 1.6248413994097453, -0.2847748335915226, -0.5176913703080036, 0.7418939567180273, 1.1135475692923003, 0.9188923597775859, 2.3063456376825995, -1.6281491014697183, 0.05050564268896923, 1.649543240232205, 1.3204806527197694, -0.6460699074991205, -2.5614296506896155, 1.3361610618561828, 0.4350189125972323, -0.37198414042857364, -0.03066118450093699, -0.6259564066025849, 0.0779255760166714, 1.338223093837399, -0.8398430223702961, -0.10083418068558023, 0.5178637029677866, 0.7994749757691799, -0.41030577553683223, -1.0649799581944792, 0.31453204785310873, 0.36918550654368415, 1.939477114708438, 0.3975126853418298, -0.036380617845962845, -0.7049669404699344, 0.8254017815892944, -0.8330042258973517, -0.3722881175388645, -2.304464011732134, 1.7234122354590147, -1.7260726764377887, -1.0661196803995696, 0.9162617863119996, -1.365011494760737, 0.5702598029292324, -1.8267900616514687, 0.7578403650645467, 0.8224981451202354, 0.18645637110353322, 0.09431976616585055, -0.029247149045171603], \"yaxis\": \"y14\"}, {\"line\": {\"color\": \"rgba(128, 128, 128, 1.0)\", \"dash\": \"solid\", \"shape\": \"linear\", \"width\": 1.3}, \"marker\": {\"size\": 2, \"symbol\": \"circle\"}, \"mode\": \"markers\", \"name\": \"D\", \"text\": \"\", \"type\": \"scatter\", \"x\": [1.9018381107211506, 0.0661887770795712, -0.6907923912196057, -0.6787021107040709, 1.6626242744283832, 0.07911174543452498, 0.8961493719877067, 1.6626899962684787, -1.039388186859393, -1.0165813778214088, 1.057748496385511, -0.09627782791253724, 1.1699296868199236, -0.9403722978654238, 0.6688891209913608, -1.6220758768730354, 1.4335054635094144, -0.15364540567302598, -0.24383048606947888, -1.003086243171056, -1.2529035737657532, -0.8622997262061329, -0.0205042689814447, -0.577432743168765, -0.08404721858285126, 0.17256271371717888, -0.6284522868119045, 0.9053893732895225, -0.615368509084066, -0.05029608378329362, -0.7420781697708273, 0.02465312848982948, -0.11916547751946559, -0.2403704203979564, 1.0422556178264082, 1.1026273410487104, 2.14122780521598, 1.0733128555117888, 0.27444527249127393, 0.6563412585849486, 1.4738489743011085, 0.8162248511853, -0.023639827496879096, -1.1524174323765721, 1.1544843796254285, 0.6349007148210998, -0.42040009512628596, 0.5332124958532438, 0.18731084191011768, 1.7839781287907115, -0.8183887113044076, -2.125113575006204, -0.6623622152349681, 0.2544601036989139, -0.266956137447952, -2.276830867929495, -1.3730753639964646, 0.5305412588548238, -0.15929777998470598, -0.020193204841813105, 0.7880632917690479, -1.03187439972173, 0.5883059443015611, -1.274642879856355, -0.1655179971723056, 0.5300027728492482, 1.0120393877081773, -1.010594656701156, 1.1840045052728227, -0.04320422282512258, -0.47343469541255145, -0.042216166470314745, -0.19751047941944336, 1.932345240592702, 0.04890264369823737, -1.6825419558962336, 0.49681338245477213, -0.07113030466801781, -0.7908288082449095, -0.9634210464298072, 0.9508462986024796, -1.6858167419150096, -0.883716779881633, -1.725182281318085, -1.2413407406529693, -0.2666167097502255, -0.5064374397054949, -0.359824866439955, -0.7634820300070232, 0.0779983988924154, 0.4877975848545077, 1.4932085199422698, -1.780522505067473, 0.9790035075865777, -1.1721292047493173, -0.8155284297572379, 0.6871800721974252, 0.38965151537552983, 2.1409590283144837, -0.656023588618697], \"xaxis\": \"x15\", \"y\": [-0.9750369482571805, 0.44564483517238895, -0.04690236468163629, -0.4670170692687393, -0.1771939426737461, 0.28995461269436185, -0.6072185391411775, -2.0038471872764316, -0.3984200485520013, 0.2530989836036288, -0.38738075645647285, -0.42470446108817556, -0.9334203848128355, -0.14675971813447655, 0.7579723652270303, 0.1367544916571995, -0.9377777223301385, -0.4778326723692581, -1.12664931780653, -0.9619967388777854, 0.8843338255131576, 1.8682683644749403, 0.9755485156936052, 0.6916841407329196, -0.0785267768598687, -0.9812008250308394, -0.8382223509172964, -0.7012489733232544, 0.603546222544028, 0.38802526719044583, -1.20731830156207, -0.030074108263952917, -0.15590598924350277, 0.3937300511303707, 0.6992571801570834, 0.27562181548345377, 0.44021509881888027, -1.9442264672488656, -1.369989009146285, -0.8122354577178308, 1.9081177845994124, -0.26846509724183537, 0.5125392141962625, 0.43239837553775085, 1.0097436496473493, 0.25039336200695067, -0.7604523572732129, 0.8914736977749184, -0.21525067218547833, 0.5828332215766223, -0.7283162787867422, 1.6920346940264834, 1.6248413994097453, -0.2847748335915226, -0.5176913703080036, 0.7418939567180273, 1.1135475692923003, 0.9188923597775859, 2.3063456376825995, -1.6281491014697183, 0.05050564268896923, 1.649543240232205, 1.3204806527197694, -0.6460699074991205, -2.5614296506896155, 1.3361610618561828, 0.4350189125972323, -0.37198414042857364, -0.03066118450093699, -0.6259564066025849, 0.0779255760166714, 1.338223093837399, -0.8398430223702961, -0.10083418068558023, 0.5178637029677866, 0.7994749757691799, -0.41030577553683223, -1.0649799581944792, 0.31453204785310873, 0.36918550654368415, 1.939477114708438, 0.3975126853418298, -0.036380617845962845, -0.7049669404699344, 0.8254017815892944, -0.8330042258973517, -0.3722881175388645, -2.304464011732134, 1.7234122354590147, -1.7260726764377887, -1.0661196803995696, 0.9162617863119996, -1.365011494760737, 0.5702598029292324, -1.8267900616514687, 0.7578403650645467, 0.8224981451202354, 0.18645637110353322, 0.09431976616585055, -0.029247149045171603], \"yaxis\": \"y15\"}, {\"histfunc\": \"count\", \"histnorm\": \"\", \"marker\": {\"color\": \"rgba(128, 0, 128, 1.0)\", \"line\": {\"color\": \"#4D5663\", \"width\": 1.3}}, \"name\": \"D\", \"nbinsx\": 10, \"opacity\": 0.8, \"orientation\": \"v\", \"type\": \"histogram\", \"x\": [-0.9750369482571805, 0.44564483517238895, -0.04690236468163629, -0.4670170692687393, -0.1771939426737461, 0.28995461269436185, -0.6072185391411775, -2.0038471872764316, -0.3984200485520013, 0.2530989836036288, -0.38738075645647285, -0.42470446108817556, -0.9334203848128355, -0.14675971813447655, 0.7579723652270303, 0.1367544916571995, -0.9377777223301385, -0.4778326723692581, -1.12664931780653, -0.9619967388777854, 0.8843338255131576, 1.8682683644749403, 0.9755485156936052, 0.6916841407329196, -0.0785267768598687, -0.9812008250308394, -0.8382223509172964, -0.7012489733232544, 0.603546222544028, 0.38802526719044583, -1.20731830156207, -0.030074108263952917, -0.15590598924350277, 0.3937300511303707, 0.6992571801570834, 0.27562181548345377, 0.44021509881888027, -1.9442264672488656, -1.369989009146285, -0.8122354577178308, 1.9081177845994124, -0.26846509724183537, 0.5125392141962625, 0.43239837553775085, 1.0097436496473493, 0.25039336200695067, -0.7604523572732129, 0.8914736977749184, -0.21525067218547833, 0.5828332215766223, -0.7283162787867422, 1.6920346940264834, 1.6248413994097453, -0.2847748335915226, -0.5176913703080036, 0.7418939567180273, 1.1135475692923003, 0.9188923597775859, 2.3063456376825995, -1.6281491014697183, 0.05050564268896923, 1.649543240232205, 1.3204806527197694, -0.6460699074991205, -2.5614296506896155, 1.3361610618561828, 0.4350189125972323, -0.37198414042857364, -0.03066118450093699, -0.6259564066025849, 0.0779255760166714, 1.338223093837399, -0.8398430223702961, -0.10083418068558023, 0.5178637029677866, 0.7994749757691799, -0.41030577553683223, -1.0649799581944792, 0.31453204785310873, 0.36918550654368415, 1.939477114708438, 0.3975126853418298, -0.036380617845962845, -0.7049669404699344, 0.8254017815892944, -0.8330042258973517, -0.3722881175388645, -2.304464011732134, 1.7234122354590147, -1.7260726764377887, -1.0661196803995696, 0.9162617863119996, -1.365011494760737, 0.5702598029292324, -1.8267900616514687, 0.7578403650645467, 0.8224981451202354, 0.18645637110353322, 0.09431976616585055, -0.029247149045171603], \"xaxis\": \"x16\", \"yaxis\": \"y16\"}],\n",
       "                        {\"bargap\": 0.02, \"legend\": {\"bgcolor\": \"#F5F6F9\", \"font\": {\"color\": \"#4D5663\"}}, \"paper_bgcolor\": \"#F5F6F9\", \"plot_bgcolor\": \"#F5F6F9\", \"showlegend\": false, \"template\": {\"data\": {\"bar\": [{\"error_x\": {\"color\": \"#2a3f5f\"}, \"error_y\": {\"color\": \"#2a3f5f\"}, \"marker\": {\"line\": {\"color\": \"#E5ECF6\", \"width\": 0.5}}, \"type\": \"bar\"}], \"barpolar\": [{\"marker\": {\"line\": {\"color\": \"#E5ECF6\", \"width\": 0.5}}, \"type\": \"barpolar\"}], \"carpet\": [{\"aaxis\": {\"endlinecolor\": \"#2a3f5f\", \"gridcolor\": \"white\", \"linecolor\": \"white\", \"minorgridcolor\": \"white\", \"startlinecolor\": \"#2a3f5f\"}, \"baxis\": {\"endlinecolor\": \"#2a3f5f\", \"gridcolor\": \"white\", \"linecolor\": \"white\", \"minorgridcolor\": \"white\", \"startlinecolor\": \"#2a3f5f\"}, \"type\": \"carpet\"}], \"choropleth\": [{\"colorbar\": {\"outlinewidth\": 0, \"ticks\": \"\"}, \"type\": \"choropleth\"}], \"contour\": [{\"colorbar\": {\"outlinewidth\": 0, \"ticks\": \"\"}, \"colorscale\": [[0.0, \"#0d0887\"], [0.1111111111111111, \"#46039f\"], [0.2222222222222222, \"#7201a8\"], [0.3333333333333333, \"#9c179e\"], [0.4444444444444444, \"#bd3786\"], [0.5555555555555556, \"#d8576b\"], [0.6666666666666666, \"#ed7953\"], [0.7777777777777778, \"#fb9f3a\"], [0.8888888888888888, \"#fdca26\"], [1.0, \"#f0f921\"]], \"type\": \"contour\"}], \"contourcarpet\": [{\"colorbar\": {\"outlinewidth\": 0, \"ticks\": \"\"}, \"type\": \"contourcarpet\"}], \"heatmap\": [{\"colorbar\": {\"outlinewidth\": 0, \"ticks\": \"\"}, \"colorscale\": [[0.0, \"#0d0887\"], [0.1111111111111111, \"#46039f\"], [0.2222222222222222, \"#7201a8\"], [0.3333333333333333, \"#9c179e\"], [0.4444444444444444, \"#bd3786\"], [0.5555555555555556, \"#d8576b\"], [0.6666666666666666, \"#ed7953\"], [0.7777777777777778, \"#fb9f3a\"], [0.8888888888888888, \"#fdca26\"], [1.0, \"#f0f921\"]], \"type\": \"heatmap\"}], \"heatmapgl\": [{\"colorbar\": {\"outlinewidth\": 0, \"ticks\": \"\"}, \"colorscale\": [[0.0, \"#0d0887\"], [0.1111111111111111, \"#46039f\"], [0.2222222222222222, \"#7201a8\"], [0.3333333333333333, \"#9c179e\"], [0.4444444444444444, \"#bd3786\"], [0.5555555555555556, \"#d8576b\"], [0.6666666666666666, \"#ed7953\"], [0.7777777777777778, \"#fb9f3a\"], [0.8888888888888888, \"#fdca26\"], [1.0, \"#f0f921\"]], \"type\": \"heatmapgl\"}], \"histogram\": [{\"marker\": {\"colorbar\": {\"outlinewidth\": 0, \"ticks\": \"\"}}, \"type\": \"histogram\"}], \"histogram2d\": [{\"colorbar\": {\"outlinewidth\": 0, \"ticks\": \"\"}, \"colorscale\": [[0.0, \"#0d0887\"], [0.1111111111111111, \"#46039f\"], [0.2222222222222222, \"#7201a8\"], [0.3333333333333333, \"#9c179e\"], [0.4444444444444444, \"#bd3786\"], [0.5555555555555556, \"#d8576b\"], [0.6666666666666666, \"#ed7953\"], [0.7777777777777778, \"#fb9f3a\"], [0.8888888888888888, \"#fdca26\"], [1.0, \"#f0f921\"]], \"type\": \"histogram2d\"}], \"histogram2dcontour\": [{\"colorbar\": {\"outlinewidth\": 0, \"ticks\": \"\"}, \"colorscale\": [[0.0, \"#0d0887\"], [0.1111111111111111, \"#46039f\"], [0.2222222222222222, \"#7201a8\"], [0.3333333333333333, \"#9c179e\"], [0.4444444444444444, \"#bd3786\"], [0.5555555555555556, \"#d8576b\"], [0.6666666666666666, \"#ed7953\"], [0.7777777777777778, \"#fb9f3a\"], [0.8888888888888888, \"#fdca26\"], [1.0, \"#f0f921\"]], \"type\": \"histogram2dcontour\"}], \"mesh3d\": [{\"colorbar\": {\"outlinewidth\": 0, \"ticks\": \"\"}, \"type\": \"mesh3d\"}], \"parcoords\": [{\"line\": {\"colorbar\": {\"outlinewidth\": 0, \"ticks\": \"\"}}, \"type\": \"parcoords\"}], \"pie\": [{\"automargin\": true, \"type\": \"pie\"}], \"scatter\": [{\"marker\": {\"colorbar\": {\"outlinewidth\": 0, \"ticks\": \"\"}}, \"type\": \"scatter\"}], \"scatter3d\": [{\"line\": {\"colorbar\": {\"outlinewidth\": 0, \"ticks\": \"\"}}, \"marker\": {\"colorbar\": {\"outlinewidth\": 0, \"ticks\": \"\"}}, \"type\": \"scatter3d\"}], \"scattercarpet\": [{\"marker\": {\"colorbar\": {\"outlinewidth\": 0, \"ticks\": \"\"}}, \"type\": \"scattercarpet\"}], \"scattergeo\": [{\"marker\": {\"colorbar\": {\"outlinewidth\": 0, \"ticks\": \"\"}}, \"type\": \"scattergeo\"}], \"scattergl\": [{\"marker\": {\"colorbar\": {\"outlinewidth\": 0, \"ticks\": \"\"}}, \"type\": \"scattergl\"}], \"scattermapbox\": [{\"marker\": {\"colorbar\": {\"outlinewidth\": 0, \"ticks\": \"\"}}, \"type\": \"scattermapbox\"}], \"scatterpolar\": [{\"marker\": {\"colorbar\": {\"outlinewidth\": 0, \"ticks\": \"\"}}, \"type\": \"scatterpolar\"}], \"scatterpolargl\": [{\"marker\": {\"colorbar\": {\"outlinewidth\": 0, \"ticks\": \"\"}}, \"type\": \"scatterpolargl\"}], \"scatterternary\": [{\"marker\": {\"colorbar\": {\"outlinewidth\": 0, \"ticks\": \"\"}}, \"type\": \"scatterternary\"}], \"surface\": [{\"colorbar\": {\"outlinewidth\": 0, \"ticks\": \"\"}, \"colorscale\": [[0.0, \"#0d0887\"], [0.1111111111111111, \"#46039f\"], [0.2222222222222222, \"#7201a8\"], [0.3333333333333333, \"#9c179e\"], [0.4444444444444444, \"#bd3786\"], [0.5555555555555556, \"#d8576b\"], [0.6666666666666666, \"#ed7953\"], [0.7777777777777778, \"#fb9f3a\"], [0.8888888888888888, \"#fdca26\"], [1.0, \"#f0f921\"]], \"type\": \"surface\"}], \"table\": [{\"cells\": {\"fill\": {\"color\": \"#EBF0F8\"}, \"line\": {\"color\": \"white\"}}, \"header\": {\"fill\": {\"color\": \"#C8D4E3\"}, \"line\": {\"color\": \"white\"}}, \"type\": \"table\"}]}, \"layout\": {\"annotationdefaults\": {\"arrowcolor\": \"#2a3f5f\", \"arrowhead\": 0, \"arrowwidth\": 1}, \"coloraxis\": {\"colorbar\": {\"outlinewidth\": 0, \"ticks\": \"\"}}, \"colorscale\": {\"diverging\": [[0, \"#8e0152\"], [0.1, \"#c51b7d\"], [0.2, \"#de77ae\"], [0.3, \"#f1b6da\"], [0.4, \"#fde0ef\"], [0.5, \"#f7f7f7\"], [0.6, \"#e6f5d0\"], [0.7, \"#b8e186\"], [0.8, \"#7fbc41\"], [0.9, \"#4d9221\"], [1, \"#276419\"]], \"sequential\": [[0.0, \"#0d0887\"], [0.1111111111111111, \"#46039f\"], [0.2222222222222222, \"#7201a8\"], [0.3333333333333333, \"#9c179e\"], [0.4444444444444444, \"#bd3786\"], [0.5555555555555556, \"#d8576b\"], [0.6666666666666666, \"#ed7953\"], [0.7777777777777778, \"#fb9f3a\"], [0.8888888888888888, \"#fdca26\"], [1.0, \"#f0f921\"]], \"sequentialminus\": [[0.0, \"#0d0887\"], [0.1111111111111111, \"#46039f\"], [0.2222222222222222, \"#7201a8\"], [0.3333333333333333, \"#9c179e\"], [0.4444444444444444, \"#bd3786\"], [0.5555555555555556, \"#d8576b\"], [0.6666666666666666, \"#ed7953\"], [0.7777777777777778, \"#fb9f3a\"], [0.8888888888888888, \"#fdca26\"], [1.0, \"#f0f921\"]]}, \"colorway\": [\"#636efa\", \"#EF553B\", \"#00cc96\", \"#ab63fa\", \"#FFA15A\", \"#19d3f3\", \"#FF6692\", \"#B6E880\", \"#FF97FF\", \"#FECB52\"], \"font\": {\"color\": \"#2a3f5f\"}, \"geo\": {\"bgcolor\": \"white\", \"lakecolor\": \"white\", \"landcolor\": \"#E5ECF6\", \"showlakes\": true, \"showland\": true, \"subunitcolor\": \"white\"}, \"hoverlabel\": {\"align\": \"left\"}, \"hovermode\": \"closest\", \"mapbox\": {\"style\": \"light\"}, \"paper_bgcolor\": \"white\", \"plot_bgcolor\": \"#E5ECF6\", \"polar\": {\"angularaxis\": {\"gridcolor\": \"white\", \"linecolor\": \"white\", \"ticks\": \"\"}, \"bgcolor\": \"#E5ECF6\", \"radialaxis\": {\"gridcolor\": \"white\", \"linecolor\": \"white\", \"ticks\": \"\"}}, \"scene\": {\"xaxis\": {\"backgroundcolor\": \"#E5ECF6\", \"gridcolor\": \"white\", \"gridwidth\": 2, \"linecolor\": \"white\", \"showbackground\": true, \"ticks\": \"\", \"zerolinecolor\": \"white\"}, \"yaxis\": {\"backgroundcolor\": \"#E5ECF6\", \"gridcolor\": \"white\", \"gridwidth\": 2, \"linecolor\": \"white\", \"showbackground\": true, \"ticks\": \"\", \"zerolinecolor\": \"white\"}, \"zaxis\": {\"backgroundcolor\": \"#E5ECF6\", \"gridcolor\": \"white\", \"gridwidth\": 2, \"linecolor\": \"white\", \"showbackground\": true, \"ticks\": \"\", \"zerolinecolor\": \"white\"}}, \"shapedefaults\": {\"line\": {\"color\": \"#2a3f5f\"}}, \"ternary\": {\"aaxis\": {\"gridcolor\": \"white\", \"linecolor\": \"white\", \"ticks\": \"\"}, \"baxis\": {\"gridcolor\": \"white\", \"linecolor\": \"white\", \"ticks\": \"\"}, \"bgcolor\": \"#E5ECF6\", \"caxis\": {\"gridcolor\": \"white\", \"linecolor\": \"white\", \"ticks\": \"\"}}, \"title\": {\"x\": 0.05}, \"xaxis\": {\"automargin\": true, \"gridcolor\": \"white\", \"linecolor\": \"white\", \"ticks\": \"\", \"title\": {\"standoff\": 15}, \"zerolinecolor\": \"white\", \"zerolinewidth\": 2}, \"yaxis\": {\"automargin\": true, \"gridcolor\": \"white\", \"linecolor\": \"white\", \"ticks\": \"\", \"title\": {\"standoff\": 15}, \"zerolinecolor\": \"white\", \"zerolinewidth\": 2}}}, \"title\": {\"font\": {\"color\": \"#4D5663\"}}, \"xaxis\": {\"anchor\": \"y\", \"domain\": [0.0, 0.2125], \"gridcolor\": \"#E1E5ED\", \"showgrid\": false, \"tickfont\": {\"color\": \"#4D5663\"}, \"title\": {\"font\": {\"color\": \"#4D5663\"}, \"text\": \"\"}, \"zerolinecolor\": \"#E1E5ED\"}, \"xaxis10\": {\"anchor\": \"y10\", \"domain\": [0.2625, 0.475], \"gridcolor\": \"#E1E5ED\", \"showgrid\": false, \"tickfont\": {\"color\": \"#4D5663\"}, \"title\": {\"font\": {\"color\": \"#4D5663\"}, \"text\": \"\"}, \"zerolinecolor\": \"#E1E5ED\"}, \"xaxis11\": {\"anchor\": \"y11\", \"domain\": [0.525, 0.7375], \"gridcolor\": \"#E1E5ED\", \"showgrid\": false, \"tickfont\": {\"color\": \"#4D5663\"}, \"title\": {\"font\": {\"color\": \"#4D5663\"}, \"text\": \"\"}, \"zerolinecolor\": \"#E1E5ED\"}, \"xaxis12\": {\"anchor\": \"y12\", \"domain\": [0.7875, 1.0], \"gridcolor\": \"#E1E5ED\", \"showgrid\": false, \"tickfont\": {\"color\": \"#4D5663\"}, \"title\": {\"font\": {\"color\": \"#4D5663\"}, \"text\": \"\"}, \"zerolinecolor\": \"#E1E5ED\"}, \"xaxis13\": {\"anchor\": \"y13\", \"domain\": [0.0, 0.2125], \"gridcolor\": \"#E1E5ED\", \"showgrid\": false, \"tickfont\": {\"color\": \"#4D5663\"}, \"title\": {\"font\": {\"color\": \"#4D5663\"}, \"text\": \"\"}, \"zerolinecolor\": \"#E1E5ED\"}, \"xaxis14\": {\"anchor\": \"y14\", \"domain\": [0.2625, 0.475], \"gridcolor\": \"#E1E5ED\", \"showgrid\": false, \"tickfont\": {\"color\": \"#4D5663\"}, \"title\": {\"font\": {\"color\": \"#4D5663\"}, \"text\": \"\"}, \"zerolinecolor\": \"#E1E5ED\"}, \"xaxis15\": {\"anchor\": \"y15\", \"domain\": [0.525, 0.7375], \"gridcolor\": \"#E1E5ED\", \"showgrid\": false, \"tickfont\": {\"color\": \"#4D5663\"}, \"title\": {\"font\": {\"color\": \"#4D5663\"}, \"text\": \"\"}, \"zerolinecolor\": \"#E1E5ED\"}, \"xaxis16\": {\"anchor\": \"y16\", \"domain\": [0.7875, 1.0], \"gridcolor\": \"#E1E5ED\", \"showgrid\": false, \"tickfont\": {\"color\": \"#4D5663\"}, \"title\": {\"font\": {\"color\": \"#4D5663\"}, \"text\": \"\"}, \"zerolinecolor\": \"#E1E5ED\"}, \"xaxis2\": {\"anchor\": \"y2\", \"domain\": [0.2625, 0.475], \"gridcolor\": \"#E1E5ED\", \"showgrid\": false, \"tickfont\": {\"color\": \"#4D5663\"}, \"title\": {\"font\": {\"color\": \"#4D5663\"}, \"text\": \"\"}, \"zerolinecolor\": \"#E1E5ED\"}, \"xaxis3\": {\"anchor\": \"y3\", \"domain\": [0.525, 0.7375], \"gridcolor\": \"#E1E5ED\", \"showgrid\": false, \"tickfont\": {\"color\": \"#4D5663\"}, \"title\": {\"font\": {\"color\": \"#4D5663\"}, \"text\": \"\"}, \"zerolinecolor\": \"#E1E5ED\"}, \"xaxis4\": {\"anchor\": \"y4\", \"domain\": [0.7875, 1.0], \"gridcolor\": \"#E1E5ED\", \"showgrid\": false, \"tickfont\": {\"color\": \"#4D5663\"}, \"title\": {\"font\": {\"color\": \"#4D5663\"}, \"text\": \"\"}, \"zerolinecolor\": \"#E1E5ED\"}, \"xaxis5\": {\"anchor\": \"y5\", \"domain\": [0.0, 0.2125], \"gridcolor\": \"#E1E5ED\", \"showgrid\": false, \"tickfont\": {\"color\": \"#4D5663\"}, \"title\": {\"font\": {\"color\": \"#4D5663\"}, \"text\": \"\"}, \"zerolinecolor\": \"#E1E5ED\"}, \"xaxis6\": {\"anchor\": \"y6\", \"domain\": [0.2625, 0.475], \"gridcolor\": \"#E1E5ED\", \"showgrid\": false, \"tickfont\": {\"color\": \"#4D5663\"}, \"title\": {\"font\": {\"color\": \"#4D5663\"}, \"text\": \"\"}, \"zerolinecolor\": \"#E1E5ED\"}, \"xaxis7\": {\"anchor\": \"y7\", \"domain\": [0.525, 0.7375], \"gridcolor\": \"#E1E5ED\", \"showgrid\": false, \"tickfont\": {\"color\": \"#4D5663\"}, \"title\": {\"font\": {\"color\": \"#4D5663\"}, \"text\": \"\"}, \"zerolinecolor\": \"#E1E5ED\"}, \"xaxis8\": {\"anchor\": \"y8\", \"domain\": [0.7875, 1.0], \"gridcolor\": \"#E1E5ED\", \"showgrid\": false, \"tickfont\": {\"color\": \"#4D5663\"}, \"title\": {\"font\": {\"color\": \"#4D5663\"}, \"text\": \"\"}, \"zerolinecolor\": \"#E1E5ED\"}, \"xaxis9\": {\"anchor\": \"y9\", \"domain\": [0.0, 0.2125], \"gridcolor\": \"#E1E5ED\", \"showgrid\": false, \"tickfont\": {\"color\": \"#4D5663\"}, \"title\": {\"font\": {\"color\": \"#4D5663\"}, \"text\": \"\"}, \"zerolinecolor\": \"#E1E5ED\"}, \"yaxis\": {\"anchor\": \"x\", \"domain\": [0.8025, 1.0], \"gridcolor\": \"#E1E5ED\", \"showgrid\": false, \"tickfont\": {\"color\": \"#4D5663\"}, \"title\": {\"font\": {\"color\": \"#4D5663\"}, \"text\": \"\"}, \"zerolinecolor\": \"#E1E5ED\"}, \"yaxis10\": {\"anchor\": \"x10\", \"domain\": [0.2675, 0.465], \"gridcolor\": \"#E1E5ED\", \"showgrid\": false, \"tickfont\": {\"color\": \"#4D5663\"}, \"title\": {\"font\": {\"color\": \"#4D5663\"}, \"text\": \"\"}, \"zerolinecolor\": \"#E1E5ED\"}, \"yaxis11\": {\"anchor\": \"x11\", \"domain\": [0.2675, 0.465], \"gridcolor\": \"#E1E5ED\", \"showgrid\": false, \"tickfont\": {\"color\": \"#4D5663\"}, \"title\": {\"font\": {\"color\": \"#4D5663\"}, \"text\": \"\"}, \"zerolinecolor\": \"#E1E5ED\"}, \"yaxis12\": {\"anchor\": \"x12\", \"domain\": [0.2675, 0.465], \"gridcolor\": \"#E1E5ED\", \"showgrid\": false, \"tickfont\": {\"color\": \"#4D5663\"}, \"title\": {\"font\": {\"color\": \"#4D5663\"}, \"text\": \"\"}, \"zerolinecolor\": \"#E1E5ED\"}, \"yaxis13\": {\"anchor\": \"x13\", \"domain\": [0.0, 0.1975], \"gridcolor\": \"#E1E5ED\", \"showgrid\": false, \"tickfont\": {\"color\": \"#4D5663\"}, \"title\": {\"font\": {\"color\": \"#4D5663\"}, \"text\": \"\"}, \"zerolinecolor\": \"#E1E5ED\"}, \"yaxis14\": {\"anchor\": \"x14\", \"domain\": [0.0, 0.1975], \"gridcolor\": \"#E1E5ED\", \"showgrid\": false, \"tickfont\": {\"color\": \"#4D5663\"}, \"title\": {\"font\": {\"color\": \"#4D5663\"}, \"text\": \"\"}, \"zerolinecolor\": \"#E1E5ED\"}, \"yaxis15\": {\"anchor\": \"x15\", \"domain\": [0.0, 0.1975], \"gridcolor\": \"#E1E5ED\", \"showgrid\": false, \"tickfont\": {\"color\": \"#4D5663\"}, \"title\": {\"font\": {\"color\": \"#4D5663\"}, \"text\": \"\"}, \"zerolinecolor\": \"#E1E5ED\"}, \"yaxis16\": {\"anchor\": \"x16\", \"domain\": [0.0, 0.1975], \"gridcolor\": \"#E1E5ED\", \"showgrid\": false, \"tickfont\": {\"color\": \"#4D5663\"}, \"title\": {\"font\": {\"color\": \"#4D5663\"}, \"text\": \"\"}, \"zerolinecolor\": \"#E1E5ED\"}, \"yaxis2\": {\"anchor\": \"x2\", \"domain\": [0.8025, 1.0], \"gridcolor\": \"#E1E5ED\", \"showgrid\": false, \"tickfont\": {\"color\": \"#4D5663\"}, \"title\": {\"font\": {\"color\": \"#4D5663\"}, \"text\": \"\"}, \"zerolinecolor\": \"#E1E5ED\"}, \"yaxis3\": {\"anchor\": \"x3\", \"domain\": [0.8025, 1.0], \"gridcolor\": \"#E1E5ED\", \"showgrid\": false, \"tickfont\": {\"color\": \"#4D5663\"}, \"title\": {\"font\": {\"color\": \"#4D5663\"}, \"text\": \"\"}, \"zerolinecolor\": \"#E1E5ED\"}, \"yaxis4\": {\"anchor\": \"x4\", \"domain\": [0.8025, 1.0], \"gridcolor\": \"#E1E5ED\", \"showgrid\": false, \"tickfont\": {\"color\": \"#4D5663\"}, \"title\": {\"font\": {\"color\": \"#4D5663\"}, \"text\": \"\"}, \"zerolinecolor\": \"#E1E5ED\"}, \"yaxis5\": {\"anchor\": \"x5\", \"domain\": [0.535, 0.7325], \"gridcolor\": \"#E1E5ED\", \"showgrid\": false, \"tickfont\": {\"color\": \"#4D5663\"}, \"title\": {\"font\": {\"color\": \"#4D5663\"}, \"text\": \"\"}, \"zerolinecolor\": \"#E1E5ED\"}, \"yaxis6\": {\"anchor\": \"x6\", \"domain\": [0.535, 0.7325], \"gridcolor\": \"#E1E5ED\", \"showgrid\": false, \"tickfont\": {\"color\": \"#4D5663\"}, \"title\": {\"font\": {\"color\": \"#4D5663\"}, \"text\": \"\"}, \"zerolinecolor\": \"#E1E5ED\"}, \"yaxis7\": {\"anchor\": \"x7\", \"domain\": [0.535, 0.7325], \"gridcolor\": \"#E1E5ED\", \"showgrid\": false, \"tickfont\": {\"color\": \"#4D5663\"}, \"title\": {\"font\": {\"color\": \"#4D5663\"}, \"text\": \"\"}, \"zerolinecolor\": \"#E1E5ED\"}, \"yaxis8\": {\"anchor\": \"x8\", \"domain\": [0.535, 0.7325], \"gridcolor\": \"#E1E5ED\", \"showgrid\": false, \"tickfont\": {\"color\": \"#4D5663\"}, \"title\": {\"font\": {\"color\": \"#4D5663\"}, \"text\": \"\"}, \"zerolinecolor\": \"#E1E5ED\"}, \"yaxis9\": {\"anchor\": \"x9\", \"domain\": [0.2675, 0.465], \"gridcolor\": \"#E1E5ED\", \"showgrid\": false, \"tickfont\": {\"color\": \"#4D5663\"}, \"title\": {\"font\": {\"color\": \"#4D5663\"}, \"text\": \"\"}, \"zerolinecolor\": \"#E1E5ED\"}},\n",
       "                        {\"showLink\": true, \"linkText\": \"Export to plot.ly\", \"plotlyServerURL\": \"https://plot.ly\", \"responsive\": true}\n",
       "                    ).then(function(){\n",
       "                            \n",
       "var gd = document.getElementById('c2f0e93d-0dcb-4323-8c18-b5bf8b76157f');\n",
       "var x = new MutationObserver(function (mutations, observer) {{\n",
       "        var display = window.getComputedStyle(gd).display;\n",
       "        if (!display || display === 'none') {{\n",
       "            console.log([gd, 'removed!']);\n",
       "            Plotly.purge(gd);\n",
       "            observer.disconnect();\n",
       "        }}\n",
       "}});\n",
       "\n",
       "// Listen for the removal of the full notebook cells\n",
       "var notebookContainer = gd.closest('#notebook-container');\n",
       "if (notebookContainer) {{\n",
       "    x.observe(notebookContainer, {childList: true});\n",
       "}}\n",
       "\n",
       "// Listen for the clearing of the current output cell\n",
       "var outputEl = gd.closest('.output');\n",
       "if (outputEl) {{\n",
       "    x.observe(outputEl, {childList: true});\n",
       "}}\n",
       "\n",
       "                        })\n",
       "                };\n",
       "                });\n",
       "            </script>\n",
       "        </div>"
      ]
     },
     "metadata": {},
     "output_type": "display_data"
    }
   ],
   "source": [
    "df.scatter_matrix()"
   ]
  },
  {
   "cell_type": "markdown",
   "metadata": {
    "collapsed": true
   },
   "source": [
    "# Great Job!"
   ]
  }
 ],
 "metadata": {
  "kernelspec": {
   "display_name": "Python 3",
   "language": "python",
   "name": "python3"
  },
  "language_info": {
   "codemirror_mode": {
    "name": "ipython",
    "version": 3
   },
   "file_extension": ".py",
   "mimetype": "text/x-python",
   "name": "python",
   "nbconvert_exporter": "python",
   "pygments_lexer": "ipython3",
   "version": "3.6.5"
  }
 },
 "nbformat": 4,
 "nbformat_minor": 1
}
